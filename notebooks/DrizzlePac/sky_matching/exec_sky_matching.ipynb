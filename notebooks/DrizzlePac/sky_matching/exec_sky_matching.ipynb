{
 "cells": [
  {
   "cell_type": "markdown",
   "metadata": {},
   "source": [
    "# Sky Matching "
   ]
  },
  {
   "cell_type": "markdown",
   "metadata": {},
   "source": [
    "<div class=\"alert-danger\">Note: The notebook in this repository 'Initialization.ipynb' goes over many of the basic concepts such as the setup of the environment/package installation and should be read first if you are new to HST images, DrizzlePac, or Astroquery.</div>"
   ]
  },
  {
   "cell_type": "markdown",
   "metadata": {},
   "source": [
    "## Introduction\n",
    "\n",
    "When a user decided to mosaic several images it can be difficult to decide how to relate the background of one image to the others. AstroDrizzle has the ability to compute and then either subtract or equalize the background in input images in order to match the sky between those images. The function allows users to select the algorithm for the sky subtraction using the `skymethod` parameter. \n",
    "\n",
    "There are four methods available in sky matching: 'localmin', 'match', 'globalmin', 'globalmin+match'.\n",
    "\n",
    "By applying `drizzlepac.sky.sky()`, or by applying the `skymethod` parameter in the call to `drizzlepac.astrodrizzle.AstroDrizzle()`, AstroDrizzle will update the keyword `MDRIZSKY` in the headers of the input files. \n",
    "\n",
    "The **recommended** use for images with sparse fields that have few astronomical sources is `skymethod = localmin` and for images with complicated backgrounds, such as nebulae and large host galaxies, `skymethod = match` is recommended.\n",
    "\n",
    "For more information on the specifics of this function please refer to the documentation [here](https://drizzlepac.readthedocs.io/en/deployment/sky.html#drizzlepac.sky.sky).\n",
    "\n",
    "Below, each of the four methods will be demonstrated using a single example dataset, and differences between the methods will be highlighted. "
   ]
  },
  {
   "cell_type": "code",
   "execution_count": 1,
   "metadata": {},
   "outputs": [
    {
     "name": "stderr",
     "output_type": "stream",
     "text": [
      "WARNING: AstropyDeprecationWarning: astropy.extern.six will be removed in 4.0, use the six module directly if it is still needed [astropy.extern.six]\n"
     ]
    },
    {
     "name": "stdout",
     "output_type": "stream",
     "text": [
      "The following task in the stsci.skypac package can be run with TEAL:\n",
      "                                    skymatch                                    \n"
     ]
    },
    {
     "name": "stdout",
     "output_type": "stream",
     "text": [
      "The following tasks in the drizzlepac package can be run with TEAL:\n",
      "    astrodrizzle       config_testbed      imagefindpars           mapreg       \n",
      "       photeq            pixreplace           pixtopix            pixtosky      \n",
      "  refimagefindpars       resetbits          runastrodriz          skytopix      \n",
      "     tweakback            tweakreg           updatenpol\n"
     ]
    }
   ],
   "source": [
    "# All imports needed through out this notebook are included at the beginning. \n",
    "import glob\n",
    "import os\n",
    "import shutil\n",
    "from shutil import copyfile\n",
    "\n",
    "from astropy.io import fits\n",
    "from astropy.visualization import astropy_mpl_style\n",
    "from astroquery.mast import Observations\n",
    "from ccdproc import ImageFileCollection\n",
    "from IPython.display import Image\n",
    "import matplotlib.pyplot as plt\n",
    "import pandas as pd\n",
    "\n",
    "import drizzlepac\n",
    "from drizzlepac import tweakreg\n",
    "from drizzlepac import tweakback\n",
    "from stwcs import updatewcs "
   ]
  },
  {
   "cell_type": "markdown",
   "metadata": {},
   "source": [
    "## 1. Retrieve Observations using Astroquery"
   ]
  },
  {
   "cell_type": "markdown",
   "metadata": {},
   "source": [
    "WFC3/IR observations of the Horsehead Nebula obtained in HST proposal 12812 (PI: Levay) will be used for this demonstration. The images have been processed by the HST WFC3 pipeline (calwf3), which includes bias subtraction, dark current correction, cosmic-ray rejection, and flatfielding.\n",
    "\n",
    "The alignment specifics for this example are based on the example found [here](https://archive.stsci.edu/prepds/heritage/horsehead/readme_HLSP_v3.txt). We will provide explanation about the process as we go. \n",
    "\n",
    "The code used to retrieve the data from astroquery is below."
   ]
  },
  {
   "cell_type": "code",
   "execution_count": 2,
   "metadata": {
    "scrolled": false
   },
   "outputs": [
    {
     "name": "stdout",
     "output_type": "stream",
     "text": [
      "Downloading URL https://mast.stsci.edu/api/v0.1/Download/file?uri=mast:HLA/url/cgi-bin/getdata.cgi?dataset=hst_12812_58_wfc3_ir_f160w_drz.fits to ./mastDownload/HLA/hst_12812_58_wfc3_ir_f160w/hst_12812_58_wfc3_ir_f160w_drz.fits ..."
     ]
    },
    {
     "name": "stdout",
     "output_type": "stream",
     "text": [
      " [Done]\n"
     ]
    },
    {
     "name": "stdout",
     "output_type": "stream",
     "text": [
      "Downloading URL https://mast.stsci.edu/api/v0.1/Download/file?uri=mast:HLA/url/cgi-bin/getdata.cgi?dataset=hst_12812_58_wfc3_ir_f160w_01_drz.fits to ./mastDownload/HLA/hst_12812_58_wfc3_ir_f160w_01/hst_12812_58_wfc3_ir_f160w_01_drz.fits ..."
     ]
    },
    {
     "name": "stdout",
     "output_type": "stream",
     "text": [
      " [Done]\n"
     ]
    },
    {
     "name": "stdout",
     "output_type": "stream",
     "text": [
      "Downloading URL https://mast.stsci.edu/api/v0.1/Download/file?uri=mast:HLA/url/cgi-bin/getdata.cgi?dataset=hst_12812_58_wfc3_ir_f160w_02_drz.fits to ./mastDownload/HLA/hst_12812_58_wfc3_ir_f160w_02/hst_12812_58_wfc3_ir_f160w_02_drz.fits ..."
     ]
    },
    {
     "name": "stdout",
     "output_type": "stream",
     "text": [
      " [Done]\n"
     ]
    },
    {
     "name": "stdout",
     "output_type": "stream",
     "text": [
      "Downloading URL https://mast.stsci.edu/api/v0.1/Download/file?uri=mast:HST/product/ibxl58030_drz.fits to ./mastDownload/HST/ibxl58030/ibxl58030_drz.fits ..."
     ]
    },
    {
     "name": "stdout",
     "output_type": "stream",
     "text": [
      " [Done]\n"
     ]
    },
    {
     "name": "stdout",
     "output_type": "stream",
     "text": [
      "Downloading URL https://mast.stsci.edu/api/v0.1/Download/file?uri=mast:HST/product/ibxl58sqq_flt.fits to ./mastDownload/HST/ibxl58sqq/ibxl58sqq_flt.fits ..."
     ]
    },
    {
     "name": "stdout",
     "output_type": "stream",
     "text": [
      " [Done]\n"
     ]
    },
    {
     "name": "stdout",
     "output_type": "stream",
     "text": [
      "Downloading URL https://mast.stsci.edu/api/v0.1/Download/file?uri=mast:HST/product/ibxl58svq_flt.fits to ./mastDownload/HST/ibxl58svq/ibxl58svq_flt.fits ..."
     ]
    },
    {
     "name": "stdout",
     "output_type": "stream",
     "text": [
      " [Done]\n"
     ]
    },
    {
     "name": "stdout",
     "output_type": "stream",
     "text": [
      "Downloading URL https://mast.stsci.edu/api/v0.1/Download/file?uri=mast:HLA/url/cgi-bin/getdata.cgi?dataset=hst_12812_51_wfc3_ir_f160w_drz.fits to ./mastDownload/HLA/hst_12812_51_wfc3_ir_f160w/hst_12812_51_wfc3_ir_f160w_drz.fits ..."
     ]
    },
    {
     "name": "stdout",
     "output_type": "stream",
     "text": [
      " [Done]\n"
     ]
    },
    {
     "name": "stdout",
     "output_type": "stream",
     "text": [
      "Downloading URL https://mast.stsci.edu/api/v0.1/Download/file?uri=mast:HLA/url/cgi-bin/getdata.cgi?dataset=hst_12812_51_wfc3_ir_f160w_01_drz.fits to ./mastDownload/HLA/hst_12812_51_wfc3_ir_f160w_01/hst_12812_51_wfc3_ir_f160w_01_drz.fits ..."
     ]
    },
    {
     "name": "stdout",
     "output_type": "stream",
     "text": [
      " [Done]\n"
     ]
    },
    {
     "name": "stdout",
     "output_type": "stream",
     "text": [
      "Downloading URL https://mast.stsci.edu/api/v0.1/Download/file?uri=mast:HLA/url/cgi-bin/getdata.cgi?dataset=hst_12812_51_wfc3_ir_f160w_02_drz.fits to ./mastDownload/HLA/hst_12812_51_wfc3_ir_f160w_02/hst_12812_51_wfc3_ir_f160w_02_drz.fits ..."
     ]
    },
    {
     "name": "stdout",
     "output_type": "stream",
     "text": [
      " [Done]\n"
     ]
    },
    {
     "name": "stdout",
     "output_type": "stream",
     "text": [
      "Downloading URL https://mast.stsci.edu/api/v0.1/Download/file?uri=mast:HST/product/ibxl51030_drz.fits to ./mastDownload/HST/ibxl51030/ibxl51030_drz.fits ..."
     ]
    },
    {
     "name": "stdout",
     "output_type": "stream",
     "text": [
      " [Done]\n"
     ]
    },
    {
     "name": "stdout",
     "output_type": "stream",
     "text": [
      "Downloading URL https://mast.stsci.edu/api/v0.1/Download/file?uri=mast:HST/product/ibxl51eoq_flt.fits to ./mastDownload/HST/ibxl51eoq/ibxl51eoq_flt.fits ..."
     ]
    },
    {
     "name": "stdout",
     "output_type": "stream",
     "text": [
      " [Done]\n"
     ]
    },
    {
     "name": "stdout",
     "output_type": "stream",
     "text": [
      "Downloading URL https://mast.stsci.edu/api/v0.1/Download/file?uri=mast:HST/product/ibxl51etq_flt.fits to ./mastDownload/HST/ibxl51etq/ibxl51etq_flt.fits ..."
     ]
    },
    {
     "name": "stdout",
     "output_type": "stream",
     "text": [
      " [Done]\n"
     ]
    },
    {
     "name": "stdout",
     "output_type": "stream",
     "text": [
      "Downloading URL https://mast.stsci.edu/api/v0.1/Download/file?uri=mast:HLA/url/cgi-bin/getdata.cgi?dataset=hst_12812_55_wfc3_ir_f160w_drz.fits to ./mastDownload/HLA/hst_12812_55_wfc3_ir_f160w/hst_12812_55_wfc3_ir_f160w_drz.fits ..."
     ]
    },
    {
     "name": "stdout",
     "output_type": "stream",
     "text": [
      " [Done]\n"
     ]
    },
    {
     "name": "stdout",
     "output_type": "stream",
     "text": [
      "Downloading URL https://mast.stsci.edu/api/v0.1/Download/file?uri=mast:HLA/url/cgi-bin/getdata.cgi?dataset=hst_12812_55_wfc3_ir_f160w_01_drz.fits to ./mastDownload/HLA/hst_12812_55_wfc3_ir_f160w_01/hst_12812_55_wfc3_ir_f160w_01_drz.fits ..."
     ]
    },
    {
     "name": "stdout",
     "output_type": "stream",
     "text": [
      " [Done]\n"
     ]
    },
    {
     "name": "stdout",
     "output_type": "stream",
     "text": [
      "Downloading URL https://mast.stsci.edu/api/v0.1/Download/file?uri=mast:HLA/url/cgi-bin/getdata.cgi?dataset=hst_12812_55_wfc3_ir_f160w_02_drz.fits to ./mastDownload/HLA/hst_12812_55_wfc3_ir_f160w_02/hst_12812_55_wfc3_ir_f160w_02_drz.fits ..."
     ]
    },
    {
     "name": "stdout",
     "output_type": "stream",
     "text": [
      " [Done]\n"
     ]
    },
    {
     "name": "stdout",
     "output_type": "stream",
     "text": [
      "Downloading URL https://mast.stsci.edu/api/v0.1/Download/file?uri=mast:HST/product/ibxl55030_drz.fits to ./mastDownload/HST/ibxl55030/ibxl55030_drz.fits ..."
     ]
    },
    {
     "name": "stdout",
     "output_type": "stream",
     "text": [
      " [Done]\n"
     ]
    },
    {
     "name": "stdout",
     "output_type": "stream",
     "text": [
      "Downloading URL https://mast.stsci.edu/api/v0.1/Download/file?uri=mast:HST/product/ibxl55f0q_flt.fits to ./mastDownload/HST/ibxl55f0q/ibxl55f0q_flt.fits ..."
     ]
    },
    {
     "name": "stdout",
     "output_type": "stream",
     "text": [
      " [Done]\n"
     ]
    },
    {
     "name": "stdout",
     "output_type": "stream",
     "text": [
      "Downloading URL https://mast.stsci.edu/api/v0.1/Download/file?uri=mast:HST/product/ibxl55f5q_flt.fits to ./mastDownload/HST/ibxl55f5q/ibxl55f5q_flt.fits ..."
     ]
    },
    {
     "name": "stdout",
     "output_type": "stream",
     "text": [
      " [Done]\n"
     ]
    },
    {
     "name": "stdout",
     "output_type": "stream",
     "text": [
      "Downloading URL https://mast.stsci.edu/api/v0.1/Download/file?uri=mast:HLA/url/cgi-bin/getdata.cgi?dataset=hst_12812_53_wfc3_ir_f160w_drz.fits to ./mastDownload/HLA/hst_12812_53_wfc3_ir_f160w/hst_12812_53_wfc3_ir_f160w_drz.fits ..."
     ]
    },
    {
     "name": "stdout",
     "output_type": "stream",
     "text": [
      " [Done]\n"
     ]
    },
    {
     "name": "stdout",
     "output_type": "stream",
     "text": [
      "Downloading URL https://mast.stsci.edu/api/v0.1/Download/file?uri=mast:HLA/url/cgi-bin/getdata.cgi?dataset=hst_12812_53_wfc3_ir_f160w_01_drz.fits to ./mastDownload/HLA/hst_12812_53_wfc3_ir_f160w_01/hst_12812_53_wfc3_ir_f160w_01_drz.fits ..."
     ]
    },
    {
     "name": "stdout",
     "output_type": "stream",
     "text": [
      " [Done]\n"
     ]
    },
    {
     "name": "stdout",
     "output_type": "stream",
     "text": [
      "Downloading URL https://mast.stsci.edu/api/v0.1/Download/file?uri=mast:HLA/url/cgi-bin/getdata.cgi?dataset=hst_12812_53_wfc3_ir_f160w_02_drz.fits to ./mastDownload/HLA/hst_12812_53_wfc3_ir_f160w_02/hst_12812_53_wfc3_ir_f160w_02_drz.fits ..."
     ]
    },
    {
     "name": "stdout",
     "output_type": "stream",
     "text": [
      " [Done]\n"
     ]
    },
    {
     "name": "stdout",
     "output_type": "stream",
     "text": [
      "Downloading URL https://mast.stsci.edu/api/v0.1/Download/file?uri=mast:HST/product/ibxl53030_drz.fits to ./mastDownload/HST/ibxl53030/ibxl53030_drz.fits ..."
     ]
    },
    {
     "name": "stdout",
     "output_type": "stream",
     "text": [
      " [Done]\n"
     ]
    },
    {
     "name": "stdout",
     "output_type": "stream",
     "text": [
      "Downloading URL https://mast.stsci.edu/api/v0.1/Download/file?uri=mast:HST/product/ibxl53kxq_flt.fits to ./mastDownload/HST/ibxl53kxq/ibxl53kxq_flt.fits ..."
     ]
    },
    {
     "name": "stdout",
     "output_type": "stream",
     "text": [
      " [Done]\n"
     ]
    },
    {
     "name": "stdout",
     "output_type": "stream",
     "text": [
      "Downloading URL https://mast.stsci.edu/api/v0.1/Download/file?uri=mast:HST/product/ibxl53l9q_flt.fits to ./mastDownload/HST/ibxl53l9q/ibxl53l9q_flt.fits ..."
     ]
    },
    {
     "name": "stdout",
     "output_type": "stream",
     "text": [
      " [Done]\n"
     ]
    },
    {
     "name": "stdout",
     "output_type": "stream",
     "text": [
      "Downloading URL https://mast.stsci.edu/api/v0.1/Download/file?uri=mast:HLA/url/cgi-bin/getdata.cgi?dataset=hst_12812_50_wfc3_ir_f160w_drz.fits to ./mastDownload/HLA/hst_12812_50_wfc3_ir_f160w/hst_12812_50_wfc3_ir_f160w_drz.fits ..."
     ]
    },
    {
     "name": "stdout",
     "output_type": "stream",
     "text": [
      " [Done]\n"
     ]
    },
    {
     "name": "stdout",
     "output_type": "stream",
     "text": [
      "Downloading URL https://mast.stsci.edu/api/v0.1/Download/file?uri=mast:HLA/url/cgi-bin/getdata.cgi?dataset=hst_12812_50_wfc3_ir_f160w_01_drz.fits to ./mastDownload/HLA/hst_12812_50_wfc3_ir_f160w_01/hst_12812_50_wfc3_ir_f160w_01_drz.fits ..."
     ]
    },
    {
     "name": "stdout",
     "output_type": "stream",
     "text": [
      " [Done]\n"
     ]
    },
    {
     "name": "stdout",
     "output_type": "stream",
     "text": [
      "Downloading URL https://mast.stsci.edu/api/v0.1/Download/file?uri=mast:HLA/url/cgi-bin/getdata.cgi?dataset=hst_12812_50_wfc3_ir_f160w_02_drz.fits to ./mastDownload/HLA/hst_12812_50_wfc3_ir_f160w_02/hst_12812_50_wfc3_ir_f160w_02_drz.fits ..."
     ]
    },
    {
     "name": "stdout",
     "output_type": "stream",
     "text": [
      " [Done]\n"
     ]
    },
    {
     "name": "stdout",
     "output_type": "stream",
     "text": [
      "Downloading URL https://mast.stsci.edu/api/v0.1/Download/file?uri=mast:HST/product/ibxl50030_drz.fits to ./mastDownload/HST/ibxl50030/ibxl50030_drz.fits ..."
     ]
    },
    {
     "name": "stdout",
     "output_type": "stream",
     "text": [
      " [Done]\n"
     ]
    },
    {
     "name": "stdout",
     "output_type": "stream",
     "text": [
      "Downloading URL https://mast.stsci.edu/api/v0.1/Download/file?uri=mast:HST/product/ibxl50clq_flt.fits to ./mastDownload/HST/ibxl50clq/ibxl50clq_flt.fits ..."
     ]
    },
    {
     "name": "stdout",
     "output_type": "stream",
     "text": [
      " [Done]\n"
     ]
    },
    {
     "name": "stdout",
     "output_type": "stream",
     "text": [
      "Downloading URL https://mast.stsci.edu/api/v0.1/Download/file?uri=mast:HST/product/ibxl50cqq_flt.fits to ./mastDownload/HST/ibxl50cqq/ibxl50cqq_flt.fits ..."
     ]
    },
    {
     "name": "stdout",
     "output_type": "stream",
     "text": [
      " [Done]\n"
     ]
    },
    {
     "name": "stdout",
     "output_type": "stream",
     "text": [
      "Downloading URL https://mast.stsci.edu/api/v0.1/Download/file?uri=mast:HLA/url/cgi-bin/getdata.cgi?dataset=hst_12812_56_wfc3_ir_f160w_drz.fits to ./mastDownload/HLA/hst_12812_56_wfc3_ir_f160w/hst_12812_56_wfc3_ir_f160w_drz.fits ..."
     ]
    },
    {
     "name": "stdout",
     "output_type": "stream",
     "text": [
      " [Done]\n"
     ]
    },
    {
     "name": "stdout",
     "output_type": "stream",
     "text": [
      "Downloading URL https://mast.stsci.edu/api/v0.1/Download/file?uri=mast:HLA/url/cgi-bin/getdata.cgi?dataset=hst_12812_56_wfc3_ir_f160w_01_drz.fits to ./mastDownload/HLA/hst_12812_56_wfc3_ir_f160w_01/hst_12812_56_wfc3_ir_f160w_01_drz.fits ..."
     ]
    },
    {
     "name": "stdout",
     "output_type": "stream",
     "text": [
      " [Done]\n"
     ]
    },
    {
     "name": "stdout",
     "output_type": "stream",
     "text": [
      "Downloading URL https://mast.stsci.edu/api/v0.1/Download/file?uri=mast:HLA/url/cgi-bin/getdata.cgi?dataset=hst_12812_56_wfc3_ir_f160w_02_drz.fits to ./mastDownload/HLA/hst_12812_56_wfc3_ir_f160w_02/hst_12812_56_wfc3_ir_f160w_02_drz.fits ..."
     ]
    },
    {
     "name": "stdout",
     "output_type": "stream",
     "text": [
      " [Done]\n"
     ]
    },
    {
     "name": "stdout",
     "output_type": "stream",
     "text": [
      "Downloading URL https://mast.stsci.edu/api/v0.1/Download/file?uri=mast:HST/product/ibxl56030_drz.fits to ./mastDownload/HST/ibxl56030/ibxl56030_drz.fits ..."
     ]
    },
    {
     "name": "stdout",
     "output_type": "stream",
     "text": [
      " [Done]\n"
     ]
    },
    {
     "name": "stdout",
     "output_type": "stream",
     "text": [
      "Downloading URL https://mast.stsci.edu/api/v0.1/Download/file?uri=mast:HST/product/ibxl56huq_flt.fits to ./mastDownload/HST/ibxl56huq/ibxl56huq_flt.fits ..."
     ]
    },
    {
     "name": "stdout",
     "output_type": "stream",
     "text": [
      " [Done]\n"
     ]
    },
    {
     "name": "stdout",
     "output_type": "stream",
     "text": [
      "Downloading URL https://mast.stsci.edu/api/v0.1/Download/file?uri=mast:HST/product/ibxl56i2q_flt.fits to ./mastDownload/HST/ibxl56i2q/ibxl56i2q_flt.fits ..."
     ]
    },
    {
     "name": "stdout",
     "output_type": "stream",
     "text": [
      " [Done]\n"
     ]
    },
    {
     "name": "stdout",
     "output_type": "stream",
     "text": [
      "Downloading URL https://mast.stsci.edu/api/v0.1/Download/file?uri=mast:HLA/url/cgi-bin/getdata.cgi?dataset=hst_12812_54_wfc3_ir_f160w_drz.fits to ./mastDownload/HLA/hst_12812_54_wfc3_ir_f160w/hst_12812_54_wfc3_ir_f160w_drz.fits ..."
     ]
    },
    {
     "name": "stdout",
     "output_type": "stream",
     "text": [
      " [Done]\n"
     ]
    },
    {
     "name": "stdout",
     "output_type": "stream",
     "text": [
      "Downloading URL https://mast.stsci.edu/api/v0.1/Download/file?uri=mast:HLA/url/cgi-bin/getdata.cgi?dataset=hst_12812_54_wfc3_ir_f160w_01_drz.fits to ./mastDownload/HLA/hst_12812_54_wfc3_ir_f160w_01/hst_12812_54_wfc3_ir_f160w_01_drz.fits ..."
     ]
    },
    {
     "name": "stdout",
     "output_type": "stream",
     "text": [
      " [Done]\n"
     ]
    },
    {
     "name": "stdout",
     "output_type": "stream",
     "text": [
      "Downloading URL https://mast.stsci.edu/api/v0.1/Download/file?uri=mast:HLA/url/cgi-bin/getdata.cgi?dataset=hst_12812_54_wfc3_ir_f160w_02_drz.fits to ./mastDownload/HLA/hst_12812_54_wfc3_ir_f160w_02/hst_12812_54_wfc3_ir_f160w_02_drz.fits ..."
     ]
    },
    {
     "name": "stdout",
     "output_type": "stream",
     "text": [
      " [Done]\n"
     ]
    },
    {
     "name": "stdout",
     "output_type": "stream",
     "text": [
      "Downloading URL https://mast.stsci.edu/api/v0.1/Download/file?uri=mast:HST/product/ibxl54030_drz.fits to ./mastDownload/HST/ibxl54030/ibxl54030_drz.fits ..."
     ]
    },
    {
     "name": "stdout",
     "output_type": "stream",
     "text": [
      " [Done]\n"
     ]
    },
    {
     "name": "stdout",
     "output_type": "stream",
     "text": [
      "Downloading URL https://mast.stsci.edu/api/v0.1/Download/file?uri=mast:HST/product/ibxl54bgq_flt.fits to ./mastDownload/HST/ibxl54bgq/ibxl54bgq_flt.fits ..."
     ]
    },
    {
     "name": "stdout",
     "output_type": "stream",
     "text": [
      " [Done]\n"
     ]
    },
    {
     "name": "stdout",
     "output_type": "stream",
     "text": [
      "Downloading URL https://mast.stsci.edu/api/v0.1/Download/file?uri=mast:HST/product/ibxl54blq_flt.fits to ./mastDownload/HST/ibxl54blq/ibxl54blq_flt.fits ..."
     ]
    },
    {
     "name": "stdout",
     "output_type": "stream",
     "text": [
      " [Done]\n"
     ]
    },
    {
     "name": "stdout",
     "output_type": "stream",
     "text": [
      "Downloading URL https://mast.stsci.edu/api/v0.1/Download/file?uri=mast:HLA/url/cgi-bin/getdata.cgi?dataset=hst_12812_57_wfc3_ir_f160w_drz.fits to ./mastDownload/HLA/hst_12812_57_wfc3_ir_f160w/hst_12812_57_wfc3_ir_f160w_drz.fits ..."
     ]
    },
    {
     "name": "stdout",
     "output_type": "stream",
     "text": [
      " [Done]\n"
     ]
    },
    {
     "name": "stdout",
     "output_type": "stream",
     "text": [
      "Downloading URL https://mast.stsci.edu/api/v0.1/Download/file?uri=mast:HLA/url/cgi-bin/getdata.cgi?dataset=hst_12812_57_wfc3_ir_f160w_01_drz.fits to ./mastDownload/HLA/hst_12812_57_wfc3_ir_f160w_01/hst_12812_57_wfc3_ir_f160w_01_drz.fits ..."
     ]
    },
    {
     "name": "stdout",
     "output_type": "stream",
     "text": [
      " [Done]\n"
     ]
    },
    {
     "name": "stdout",
     "output_type": "stream",
     "text": [
      "Downloading URL https://mast.stsci.edu/api/v0.1/Download/file?uri=mast:HLA/url/cgi-bin/getdata.cgi?dataset=hst_12812_57_wfc3_ir_f160w_02_drz.fits to ./mastDownload/HLA/hst_12812_57_wfc3_ir_f160w_02/hst_12812_57_wfc3_ir_f160w_02_drz.fits ..."
     ]
    },
    {
     "name": "stdout",
     "output_type": "stream",
     "text": [
      " [Done]\n"
     ]
    },
    {
     "name": "stdout",
     "output_type": "stream",
     "text": [
      "Downloading URL https://mast.stsci.edu/api/v0.1/Download/file?uri=mast:HST/product/ibxl57030_drz.fits to ./mastDownload/HST/ibxl57030/ibxl57030_drz.fits ..."
     ]
    },
    {
     "name": "stdout",
     "output_type": "stream",
     "text": [
      " [Done]\n"
     ]
    },
    {
     "name": "stdout",
     "output_type": "stream",
     "text": [
      "Downloading URL https://mast.stsci.edu/api/v0.1/Download/file?uri=mast:HST/product/ibxl57adq_flt.fits to ./mastDownload/HST/ibxl57adq/ibxl57adq_flt.fits ..."
     ]
    },
    {
     "name": "stdout",
     "output_type": "stream",
     "text": [
      " [Done]\n"
     ]
    },
    {
     "name": "stdout",
     "output_type": "stream",
     "text": [
      "Downloading URL https://mast.stsci.edu/api/v0.1/Download/file?uri=mast:HST/product/ibxl57aiq_flt.fits to ./mastDownload/HST/ibxl57aiq/ibxl57aiq_flt.fits ..."
     ]
    },
    {
     "name": "stdout",
     "output_type": "stream",
     "text": [
      " [Done]\n"
     ]
    },
    {
     "name": "stdout",
     "output_type": "stream",
     "text": [
      "Downloading URL https://mast.stsci.edu/api/v0.1/Download/file?uri=mast:HLA/url/cgi-bin/getdata.cgi?dataset=hst_12812_52_wfc3_ir_f160w_drz.fits to ./mastDownload/HLA/hst_12812_52_wfc3_ir_f160w/hst_12812_52_wfc3_ir_f160w_drz.fits ..."
     ]
    },
    {
     "name": "stdout",
     "output_type": "stream",
     "text": [
      " [Done]\n"
     ]
    },
    {
     "name": "stdout",
     "output_type": "stream",
     "text": [
      "Downloading URL https://mast.stsci.edu/api/v0.1/Download/file?uri=mast:HLA/url/cgi-bin/getdata.cgi?dataset=hst_12812_52_wfc3_ir_f160w_01_drz.fits to ./mastDownload/HLA/hst_12812_52_wfc3_ir_f160w_01/hst_12812_52_wfc3_ir_f160w_01_drz.fits ..."
     ]
    },
    {
     "name": "stdout",
     "output_type": "stream",
     "text": [
      " [Done]\n"
     ]
    },
    {
     "name": "stdout",
     "output_type": "stream",
     "text": [
      "Downloading URL https://mast.stsci.edu/api/v0.1/Download/file?uri=mast:HLA/url/cgi-bin/getdata.cgi?dataset=hst_12812_52_wfc3_ir_f160w_02_drz.fits to ./mastDownload/HLA/hst_12812_52_wfc3_ir_f160w_02/hst_12812_52_wfc3_ir_f160w_02_drz.fits ..."
     ]
    },
    {
     "name": "stdout",
     "output_type": "stream",
     "text": [
      " [Done]\n"
     ]
    },
    {
     "name": "stdout",
     "output_type": "stream",
     "text": [
      "Downloading URL https://mast.stsci.edu/api/v0.1/Download/file?uri=mast:HST/product/ibxl52030_drz.fits to ./mastDownload/HST/ibxl52030/ibxl52030_drz.fits ..."
     ]
    },
    {
     "name": "stdout",
     "output_type": "stream",
     "text": [
      " [Done]\n"
     ]
    },
    {
     "name": "stdout",
     "output_type": "stream",
     "text": [
      "Downloading URL https://mast.stsci.edu/api/v0.1/Download/file?uri=mast:HST/product/ibxl52k0q_flt.fits to ./mastDownload/HST/ibxl52k0q/ibxl52k0q_flt.fits ..."
     ]
    },
    {
     "name": "stdout",
     "output_type": "stream",
     "text": [
      " [Done]\n"
     ]
    },
    {
     "name": "stdout",
     "output_type": "stream",
     "text": [
      "Downloading URL https://mast.stsci.edu/api/v0.1/Download/file?uri=mast:HST/product/ibxl52k5q_flt.fits to ./mastDownload/HST/ibxl52k5q/ibxl52k5q_flt.fits ..."
     ]
    },
    {
     "name": "stdout",
     "output_type": "stream",
     "text": [
      " [Done]\n"
     ]
    },
    {
     "data": {
      "text/html": [
       "<i>Table length=54</i>\n",
       "<table id=\"table140406155249616\" class=\"table-striped table-bordered table-condensed\">\n",
       "<thead><tr><th>Local Path</th><th>Status</th><th>Message</th><th>URL</th></tr></thead>\n",
       "<thead><tr><th>str87</th><th>str8</th><th>object</th><th>object</th></tr></thead>\n",
       "<tr><td>./mastDownload/HLA/hst_12812_58_wfc3_ir_f160w/hst_12812_58_wfc3_ir_f160w_drz.fits</td><td>COMPLETE</td><td>None</td><td>None</td></tr>\n",
       "<tr><td>./mastDownload/HLA/hst_12812_58_wfc3_ir_f160w_01/hst_12812_58_wfc3_ir_f160w_01_drz.fits</td><td>COMPLETE</td><td>None</td><td>None</td></tr>\n",
       "<tr><td>./mastDownload/HLA/hst_12812_58_wfc3_ir_f160w_02/hst_12812_58_wfc3_ir_f160w_02_drz.fits</td><td>COMPLETE</td><td>None</td><td>None</td></tr>\n",
       "<tr><td>./mastDownload/HST/ibxl58030/ibxl58030_drz.fits</td><td>COMPLETE</td><td>None</td><td>None</td></tr>\n",
       "<tr><td>./mastDownload/HST/ibxl58sqq/ibxl58sqq_flt.fits</td><td>COMPLETE</td><td>None</td><td>None</td></tr>\n",
       "<tr><td>./mastDownload/HST/ibxl58svq/ibxl58svq_flt.fits</td><td>COMPLETE</td><td>None</td><td>None</td></tr>\n",
       "<tr><td>./mastDownload/HLA/hst_12812_51_wfc3_ir_f160w/hst_12812_51_wfc3_ir_f160w_drz.fits</td><td>COMPLETE</td><td>None</td><td>None</td></tr>\n",
       "<tr><td>./mastDownload/HLA/hst_12812_51_wfc3_ir_f160w_01/hst_12812_51_wfc3_ir_f160w_01_drz.fits</td><td>COMPLETE</td><td>None</td><td>None</td></tr>\n",
       "<tr><td>./mastDownload/HLA/hst_12812_51_wfc3_ir_f160w_02/hst_12812_51_wfc3_ir_f160w_02_drz.fits</td><td>COMPLETE</td><td>None</td><td>None</td></tr>\n",
       "<tr><td>./mastDownload/HST/ibxl51030/ibxl51030_drz.fits</td><td>COMPLETE</td><td>None</td><td>None</td></tr>\n",
       "<tr><td>...</td><td>...</td><td>...</td><td>...</td></tr>\n",
       "<tr><td>./mastDownload/HLA/hst_12812_57_wfc3_ir_f160w_02/hst_12812_57_wfc3_ir_f160w_02_drz.fits</td><td>COMPLETE</td><td>None</td><td>None</td></tr>\n",
       "<tr><td>./mastDownload/HST/ibxl57030/ibxl57030_drz.fits</td><td>COMPLETE</td><td>None</td><td>None</td></tr>\n",
       "<tr><td>./mastDownload/HST/ibxl57adq/ibxl57adq_flt.fits</td><td>COMPLETE</td><td>None</td><td>None</td></tr>\n",
       "<tr><td>./mastDownload/HST/ibxl57aiq/ibxl57aiq_flt.fits</td><td>COMPLETE</td><td>None</td><td>None</td></tr>\n",
       "<tr><td>./mastDownload/HLA/hst_12812_52_wfc3_ir_f160w/hst_12812_52_wfc3_ir_f160w_drz.fits</td><td>COMPLETE</td><td>None</td><td>None</td></tr>\n",
       "<tr><td>./mastDownload/HLA/hst_12812_52_wfc3_ir_f160w_01/hst_12812_52_wfc3_ir_f160w_01_drz.fits</td><td>COMPLETE</td><td>None</td><td>None</td></tr>\n",
       "<tr><td>./mastDownload/HLA/hst_12812_52_wfc3_ir_f160w_02/hst_12812_52_wfc3_ir_f160w_02_drz.fits</td><td>COMPLETE</td><td>None</td><td>None</td></tr>\n",
       "<tr><td>./mastDownload/HST/ibxl52030/ibxl52030_drz.fits</td><td>COMPLETE</td><td>None</td><td>None</td></tr>\n",
       "<tr><td>./mastDownload/HST/ibxl52k0q/ibxl52k0q_flt.fits</td><td>COMPLETE</td><td>None</td><td>None</td></tr>\n",
       "<tr><td>./mastDownload/HST/ibxl52k5q/ibxl52k5q_flt.fits</td><td>COMPLETE</td><td>None</td><td>None</td></tr>\n",
       "</table>"
      ],
      "text/plain": [
       "<Table length=54>\n",
       "                                       Local Path                                       ...\n",
       "                                         str87                                          ...\n",
       "--------------------------------------------------------------------------------------- ...\n",
       "      ./mastDownload/HLA/hst_12812_58_wfc3_ir_f160w/hst_12812_58_wfc3_ir_f160w_drz.fits ...\n",
       "./mastDownload/HLA/hst_12812_58_wfc3_ir_f160w_01/hst_12812_58_wfc3_ir_f160w_01_drz.fits ...\n",
       "./mastDownload/HLA/hst_12812_58_wfc3_ir_f160w_02/hst_12812_58_wfc3_ir_f160w_02_drz.fits ...\n",
       "                                        ./mastDownload/HST/ibxl58030/ibxl58030_drz.fits ...\n",
       "                                        ./mastDownload/HST/ibxl58sqq/ibxl58sqq_flt.fits ...\n",
       "                                        ./mastDownload/HST/ibxl58svq/ibxl58svq_flt.fits ...\n",
       "      ./mastDownload/HLA/hst_12812_51_wfc3_ir_f160w/hst_12812_51_wfc3_ir_f160w_drz.fits ...\n",
       "./mastDownload/HLA/hst_12812_51_wfc3_ir_f160w_01/hst_12812_51_wfc3_ir_f160w_01_drz.fits ...\n",
       "./mastDownload/HLA/hst_12812_51_wfc3_ir_f160w_02/hst_12812_51_wfc3_ir_f160w_02_drz.fits ...\n",
       "                                        ./mastDownload/HST/ibxl51030/ibxl51030_drz.fits ...\n",
       "                                                                                    ... ...\n",
       "./mastDownload/HLA/hst_12812_57_wfc3_ir_f160w_02/hst_12812_57_wfc3_ir_f160w_02_drz.fits ...\n",
       "                                        ./mastDownload/HST/ibxl57030/ibxl57030_drz.fits ...\n",
       "                                        ./mastDownload/HST/ibxl57adq/ibxl57adq_flt.fits ...\n",
       "                                        ./mastDownload/HST/ibxl57aiq/ibxl57aiq_flt.fits ...\n",
       "      ./mastDownload/HLA/hst_12812_52_wfc3_ir_f160w/hst_12812_52_wfc3_ir_f160w_drz.fits ...\n",
       "./mastDownload/HLA/hst_12812_52_wfc3_ir_f160w_01/hst_12812_52_wfc3_ir_f160w_01_drz.fits ...\n",
       "./mastDownload/HLA/hst_12812_52_wfc3_ir_f160w_02/hst_12812_52_wfc3_ir_f160w_02_drz.fits ...\n",
       "                                        ./mastDownload/HST/ibxl52030/ibxl52030_drz.fits ...\n",
       "                                        ./mastDownload/HST/ibxl52k0q/ibxl52k0q_flt.fits ...\n",
       "                                        ./mastDownload/HST/ibxl52k5q/ibxl52k5q_flt.fits ..."
      ]
     },
     "execution_count": 2,
     "metadata": {},
     "output_type": "execute_result"
    }
   ],
   "source": [
    "# Retrieve the observation information.\n",
    "obs_table = Observations.query_criteria(proposal_id='12812', filters=[\"F160W\"], project='HST')\n",
    "obs_table.show_in_notebook()\n",
    "\n",
    "# Figure out the downloadable products:\n",
    "dataProductsByObservation = Observations.get_product_list(obs_table)\n",
    "dataProductsByObservation.show_in_notebook()\n",
    "\n",
    "# Download the flc.fits files: \n",
    "obsids = obs_table['obsid']\n",
    "\n",
    "# Download the data - uncomment to download: \n",
    "Observations.download_products(obsids, mrp_only=False, productSubGroupDescription=['FLT', 'DRZ'])"
   ]
  },
  {
   "cell_type": "markdown",
   "metadata": {},
   "source": [
    "### Move files to the local directory "
   ]
  },
  {
   "cell_type": "code",
   "execution_count": 3,
   "metadata": {},
   "outputs": [],
   "source": [
    "flt_files = glob.glob('mastDownload/*/*/*flt.fits')\n",
    "\n",
    "for file in flt_files:\n",
    "    im = fits.open(file)\n",
    "    rootname = im[0].header['ROOTNAME']\n",
    "    im.close()\n",
    "    dst = rootname + \"_flt.fits\"\n",
    "    copyfile(file, dst)\n",
    "\n",
    "drz_files = glob.glob('mastDownload/*/*/*drz.fits')\n",
    "\n",
    "for file in drz_files:\n",
    "    im = fits.open(file)\n",
    "    rootname = im[0].header['ROOTNAME']\n",
    "    im.close()\n",
    "    dst = rootname + \"_drz.fits\"\n",
    "    copyfile(file, dst)"
   ]
  },
  {
   "cell_type": "markdown",
   "metadata": {},
   "source": [
    "### Inspect the image headers"
   ]
  },
  {
   "cell_type": "code",
   "execution_count": 4,
   "metadata": {},
   "outputs": [
    {
     "data": {
      "text/html": [
       "<i>Table masked=True length=18</i>\n",
       "<table id=\"table140406156122128\" class=\"table-striped table-bordered table-condensed\">\n",
       "<thead><tr><th>file</th><th>asn_id</th><th>detector</th><th>filter</th><th>exptime</th><th>postarg1</th><th>postarg2</th></tr></thead>\n",
       "<thead><tr><th>str18</th><th>str9</th><th>str2</th><th>str5</th><th>float64</th><th>float64</th><th>float64</th></tr></thead>\n",
       "<tr><td>ibxl50clq_flt.fits</td><td>IBXL50030</td><td>IR</td><td>F160W</td><td>702.9</td><td>-123.74</td><td>-113.11</td></tr>\n",
       "<tr><td>ibxl50cqq_flt.fits</td><td>IBXL50030</td><td>IR</td><td>F160W</td><td>702.9</td><td>-123.74</td><td>-105.91</td></tr>\n",
       "<tr><td>ibxl51eoq_flt.fits</td><td>IBXL51030</td><td>IR</td><td>F160W</td><td>702.9</td><td>0.00</td><td>-113.11</td></tr>\n",
       "<tr><td>ibxl51etq_flt.fits</td><td>IBXL51030</td><td>IR</td><td>F160W</td><td>702.9</td><td>0.00</td><td>-105.91</td></tr>\n",
       "<tr><td>ibxl52k0q_flt.fits</td><td>IBXL52030</td><td>IR</td><td>F160W</td><td>702.9</td><td>123.74</td><td>-113.11</td></tr>\n",
       "<tr><td>ibxl52k5q_flt.fits</td><td>IBXL52030</td><td>IR</td><td>F160W</td><td>702.9</td><td>123.74</td><td>-105.91</td></tr>\n",
       "<tr><td>ibxl53kxq_flt.fits</td><td>IBXL53030</td><td>IR</td><td>F160W</td><td>702.9</td><td>-123.74</td><td>-3.60</td></tr>\n",
       "<tr><td>ibxl53l9q_flt.fits</td><td>IBXL53030</td><td>IR</td><td>F160W</td><td>702.9</td><td>-123.74</td><td>3.60</td></tr>\n",
       "<tr><td>ibxl54bgq_flt.fits</td><td>IBXL54030</td><td>IR</td><td>F160W</td><td>702.9</td><td>0.00</td><td>-3.60</td></tr>\n",
       "<tr><td>ibxl54blq_flt.fits</td><td>IBXL54030</td><td>IR</td><td>F160W</td><td>702.9</td><td>0.00</td><td>3.60</td></tr>\n",
       "<tr><td>ibxl55f0q_flt.fits</td><td>IBXL55030</td><td>IR</td><td>F160W</td><td>702.9</td><td>123.74</td><td>-3.60</td></tr>\n",
       "<tr><td>ibxl55f5q_flt.fits</td><td>IBXL55030</td><td>IR</td><td>F160W</td><td>702.9</td><td>123.74</td><td>3.60</td></tr>\n",
       "<tr><td>ibxl56huq_flt.fits</td><td>IBXL56030</td><td>IR</td><td>F160W</td><td>702.9</td><td>-123.74</td><td>105.91</td></tr>\n",
       "<tr><td>ibxl56i2q_flt.fits</td><td>IBXL56030</td><td>IR</td><td>F160W</td><td>702.9</td><td>-123.74</td><td>113.11</td></tr>\n",
       "<tr><td>ibxl57adq_flt.fits</td><td>IBXL57030</td><td>IR</td><td>F160W</td><td>702.9</td><td>0.00</td><td>105.91</td></tr>\n",
       "<tr><td>ibxl57aiq_flt.fits</td><td>IBXL57030</td><td>IR</td><td>F160W</td><td>702.9</td><td>0.00</td><td>113.11</td></tr>\n",
       "<tr><td>ibxl58sqq_flt.fits</td><td>IBXL58030</td><td>IR</td><td>F160W</td><td>702.9</td><td>123.74</td><td>105.91</td></tr>\n",
       "<tr><td>ibxl58svq_flt.fits</td><td>IBXL58030</td><td>IR</td><td>F160W</td><td>702.9</td><td>123.74</td><td>113.11</td></tr>\n",
       "</table>"
      ],
      "text/plain": [
       "<Table masked=True length=18>\n",
       "       file          asn_id  detector filter exptime postarg1 postarg2\n",
       "      str18           str9     str2    str5  float64 float64  float64 \n",
       "------------------ --------- -------- ------ ------- -------- --------\n",
       "ibxl50clq_flt.fits IBXL50030       IR  F160W   702.9  -123.74  -113.11\n",
       "ibxl50cqq_flt.fits IBXL50030       IR  F160W   702.9  -123.74  -105.91\n",
       "ibxl51eoq_flt.fits IBXL51030       IR  F160W   702.9     0.00  -113.11\n",
       "ibxl51etq_flt.fits IBXL51030       IR  F160W   702.9     0.00  -105.91\n",
       "ibxl52k0q_flt.fits IBXL52030       IR  F160W   702.9   123.74  -113.11\n",
       "ibxl52k5q_flt.fits IBXL52030       IR  F160W   702.9   123.74  -105.91\n",
       "ibxl53kxq_flt.fits IBXL53030       IR  F160W   702.9  -123.74    -3.60\n",
       "ibxl53l9q_flt.fits IBXL53030       IR  F160W   702.9  -123.74     3.60\n",
       "ibxl54bgq_flt.fits IBXL54030       IR  F160W   702.9     0.00    -3.60\n",
       "ibxl54blq_flt.fits IBXL54030       IR  F160W   702.9     0.00     3.60\n",
       "ibxl55f0q_flt.fits IBXL55030       IR  F160W   702.9   123.74    -3.60\n",
       "ibxl55f5q_flt.fits IBXL55030       IR  F160W   702.9   123.74     3.60\n",
       "ibxl56huq_flt.fits IBXL56030       IR  F160W   702.9  -123.74   105.91\n",
       "ibxl56i2q_flt.fits IBXL56030       IR  F160W   702.9  -123.74   113.11\n",
       "ibxl57adq_flt.fits IBXL57030       IR  F160W   702.9     0.00   105.91\n",
       "ibxl57aiq_flt.fits IBXL57030       IR  F160W   702.9     0.00   113.11\n",
       "ibxl58sqq_flt.fits IBXL58030       IR  F160W   702.9   123.74   105.91\n",
       "ibxl58svq_flt.fits IBXL58030       IR  F160W   702.9   123.74   113.11"
      ]
     },
     "execution_count": 4,
     "metadata": {},
     "output_type": "execute_result"
    }
   ],
   "source": [
    "collect_flt = ImageFileCollection('./', glob_include=\"*flt.fits\", ext=0,\n",
    "                                  keywords=[\"asn_id\", \"detector\", \"filter\", \"exptime\", \"postarg1\", \"postarg2\"])\n",
    "    \n",
    "flt_table = collect_flt.summary\n",
    "flt_table['exptime'].format = '7.1f'\n",
    "flt_table['postarg1'].format = '7.2f'\n",
    "flt_table['postarg2'].format = '7.2f'\n",
    "flt_table"
   ]
  },
  {
   "cell_type": "code",
   "execution_count": 5,
   "metadata": {},
   "outputs": [
    {
     "data": {
      "text/html": [
       "<i>Table masked=True length=36</i>\n",
       "<table id=\"table140406417798544\" class=\"table-striped table-bordered table-condensed\">\n",
       "<thead><tr><th>file</th><th>asn_id</th><th>detector</th><th>filter</th><th>exptime</th></tr></thead>\n",
       "<thead><tr><th>str41</th><th>str9</th><th>str2</th><th>str5</th><th>float64</th></tr></thead>\n",
       "<tr><td>hst_12812_50_wfc3_ir_f160w_run_1_drz.fits</td><td>IBXL50030</td><td>IR</td><td>F160W</td><td>1405.9</td></tr>\n",
       "<tr><td>hst_12812_51_wfc3_ir_f160w_run_1_drz.fits</td><td>IBXL51030</td><td>IR</td><td>F160W</td><td>1405.9</td></tr>\n",
       "<tr><td>hst_12812_52_wfc3_ir_f160w_run_1_drz.fits</td><td>IBXL52030</td><td>IR</td><td>F160W</td><td>1405.9</td></tr>\n",
       "<tr><td>hst_12812_53_wfc3_ir_f160w_run_1_drz.fits</td><td>IBXL53030</td><td>IR</td><td>F160W</td><td>1405.9</td></tr>\n",
       "<tr><td>hst_12812_54_wfc3_ir_f160w_run_1_drz.fits</td><td>IBXL54030</td><td>IR</td><td>F160W</td><td>1405.9</td></tr>\n",
       "<tr><td>hst_12812_55_wfc3_ir_f160w_run_1_drz.fits</td><td>IBXL55030</td><td>IR</td><td>F160W</td><td>1405.9</td></tr>\n",
       "<tr><td>hst_12812_56_wfc3_ir_f160w_run_1_drz.fits</td><td>IBXL56030</td><td>IR</td><td>F160W</td><td>1405.9</td></tr>\n",
       "<tr><td>hst_12812_57_wfc3_ir_f160w_run_1_drz.fits</td><td>IBXL57030</td><td>IR</td><td>F160W</td><td>1405.9</td></tr>\n",
       "<tr><td>hst_12812_58_wfc3_ir_f160w_run_1_drz.fits</td><td>IBXL58030</td><td>IR</td><td>F160W</td><td>1405.9</td></tr>\n",
       "<tr><td>ibxl50030_drz.fits</td><td>IBXL50030</td><td>IR</td><td>F160W</td><td>1405.9</td></tr>\n",
       "<tr><td>...</td><td>...</td><td>...</td><td>...</td><td>...</td></tr>\n",
       "<tr><td>ibxl55f5q_single_sci.fits_drz.fits</td><td>IBXL55030</td><td>IR</td><td>F160W</td><td>1.0</td></tr>\n",
       "<tr><td>ibxl56030_drz.fits</td><td>IBXL56030</td><td>IR</td><td>F160W</td><td>1405.9</td></tr>\n",
       "<tr><td>ibxl56huq_single_sci.fits_drz.fits</td><td>IBXL56030</td><td>IR</td><td>F160W</td><td>1.0</td></tr>\n",
       "<tr><td>ibxl56i2q_single_sci.fits_drz.fits</td><td>IBXL56030</td><td>IR</td><td>F160W</td><td>1.0</td></tr>\n",
       "<tr><td>ibxl57030_drz.fits</td><td>IBXL57030</td><td>IR</td><td>F160W</td><td>1405.9</td></tr>\n",
       "<tr><td>ibxl57adq_single_sci.fits_drz.fits</td><td>IBXL57030</td><td>IR</td><td>F160W</td><td>1.0</td></tr>\n",
       "<tr><td>ibxl57aiq_single_sci.fits_drz.fits</td><td>IBXL57030</td><td>IR</td><td>F160W</td><td>1.0</td></tr>\n",
       "<tr><td>ibxl58030_drz.fits</td><td>IBXL58030</td><td>IR</td><td>F160W</td><td>1405.9</td></tr>\n",
       "<tr><td>ibxl58sqq_single_sci.fits_drz.fits</td><td>IBXL58030</td><td>IR</td><td>F160W</td><td>1.0</td></tr>\n",
       "<tr><td>ibxl58svq_single_sci.fits_drz.fits</td><td>IBXL58030</td><td>IR</td><td>F160W</td><td>1.0</td></tr>\n",
       "</table>"
      ],
      "text/plain": [
       "<Table masked=True length=36>\n",
       "                   file                     asn_id  detector filter exptime\n",
       "                  str41                      str9     str2    str5  float64\n",
       "----------------------------------------- --------- -------- ------ -------\n",
       "hst_12812_50_wfc3_ir_f160w_run_1_drz.fits IBXL50030       IR  F160W  1405.9\n",
       "hst_12812_51_wfc3_ir_f160w_run_1_drz.fits IBXL51030       IR  F160W  1405.9\n",
       "hst_12812_52_wfc3_ir_f160w_run_1_drz.fits IBXL52030       IR  F160W  1405.9\n",
       "hst_12812_53_wfc3_ir_f160w_run_1_drz.fits IBXL53030       IR  F160W  1405.9\n",
       "hst_12812_54_wfc3_ir_f160w_run_1_drz.fits IBXL54030       IR  F160W  1405.9\n",
       "hst_12812_55_wfc3_ir_f160w_run_1_drz.fits IBXL55030       IR  F160W  1405.9\n",
       "hst_12812_56_wfc3_ir_f160w_run_1_drz.fits IBXL56030       IR  F160W  1405.9\n",
       "hst_12812_57_wfc3_ir_f160w_run_1_drz.fits IBXL57030       IR  F160W  1405.9\n",
       "hst_12812_58_wfc3_ir_f160w_run_1_drz.fits IBXL58030       IR  F160W  1405.9\n",
       "                       ibxl50030_drz.fits IBXL50030       IR  F160W  1405.9\n",
       "                                      ...       ...      ...    ...     ...\n",
       "       ibxl55f5q_single_sci.fits_drz.fits IBXL55030       IR  F160W     1.0\n",
       "                       ibxl56030_drz.fits IBXL56030       IR  F160W  1405.9\n",
       "       ibxl56huq_single_sci.fits_drz.fits IBXL56030       IR  F160W     1.0\n",
       "       ibxl56i2q_single_sci.fits_drz.fits IBXL56030       IR  F160W     1.0\n",
       "                       ibxl57030_drz.fits IBXL57030       IR  F160W  1405.9\n",
       "       ibxl57adq_single_sci.fits_drz.fits IBXL57030       IR  F160W     1.0\n",
       "       ibxl57aiq_single_sci.fits_drz.fits IBXL57030       IR  F160W     1.0\n",
       "                       ibxl58030_drz.fits IBXL58030       IR  F160W  1405.9\n",
       "       ibxl58sqq_single_sci.fits_drz.fits IBXL58030       IR  F160W     1.0\n",
       "       ibxl58svq_single_sci.fits_drz.fits IBXL58030       IR  F160W     1.0"
      ]
     },
     "execution_count": 5,
     "metadata": {},
     "output_type": "execute_result"
    }
   ],
   "source": [
    "collect_drz = ImageFileCollection('./', glob_include=\"*drz.fits\", ext=0,\n",
    "                                  keywords=[\"asn_id\", \"detector\", \"filter\", \"exptime\"])\n",
    "    \n",
    "drz_table = collect_drz.summary\n",
    "drz_table['exptime'].format = '7.1f'\n",
    "drz_table"
   ]
  },
  {
   "cell_type": "markdown",
   "metadata": {},
   "source": [
    "## 2. Align the visit-level drizzled data"
   ]
  },
  {
   "cell_type": "markdown",
   "metadata": {},
   "source": [
    "Exposures obtained within a single HST visit tend to be aligned very well since they use the same guide stars. Thus, we will use TweakReg to align the DRZ files and then use TweakBack to propagate those solutions back to the FLT image headers prior to combining with AstroDrizzle. Making use of the parameter `expand_refcat`, TweakReg will build up an expanded reference catalog on the sky to be used for alignment. For this dataset, we obtain the best results when we tell TweakReg to align the DRZ files in a specific order, and this is achieved by giving a list of files as input. More details on alignment of HST mosaics can be found in the notebook 'mosaics.ipynb' in this repository.\n",
    "    \n",
    "    drz.list\n",
    "    ibxl54030_drz.fits\t<-- Note that tile 54 is the reference and is listed first\n",
    "    ibxl51030_drz.fits  \n",
    "    ibxl53030_drz.fits\n",
    "    ibxl55030_drz.fits\n",
    "    ibxl57030_drz.fits\n",
    "    ibxl50030_drz.fits\n",
    "    ibxl52030_drz.fits\n",
    "    ibxl56030_drz.fits\n",
    "    ibxl58030_drz.fits\n",
    "      ____ ____ ____\n",
    "     |    |    |    |    <-- The 4 tiles with the most overlap are aligned first\n",
    "     |    | 55 |    |\n",
    "     |____|____|____|\n",
    "     |    |    |    |\n",
    "     | 57 | 54 | 51 |\n",
    "     |____|____|____|\n",
    "     |    |    |    |\n",
    "     |    | 53 |    |\n",
    "     |____|____|____|\n",
    "   \n",
    "      ____ ____ ____\n",
    "     |    |    |    |    <-- Then the corner tiles are added \n",
    "     | 58 |    | 52 |\n",
    "     |____|____|____|\n",
    "     |    |    |    |\n",
    "     |    |    |    |\n",
    "     |____|____|____|\n",
    "     |    |    |    |\n",
    "     | 56 |    | 50 |\n",
    "     |____|____|____|\n",
    "\n",
    "This allows TweakReg to start with the tiles with the most overlap first and then build upon that, expanding the reference catalog as each new tile is aligned. "
   ]
  },
  {
   "cell_type": "code",
   "execution_count": 6,
   "metadata": {},
   "outputs": [
    {
     "name": "stderr",
     "output_type": "stream",
     "text": [
      "INFO:drizzlepac.util:Setting up logfile :  tweakreg.log\n"
     ]
    },
    {
     "name": "stdout",
     "output_type": "stream",
     "text": [
      "Setting up logfile :  tweakreg.log\n"
     ]
    },
    {
     "name": "stderr",
     "output_type": "stream",
     "text": [
      "INFO:drizzlepac.tweakreg:TweakReg Version 1.4.7(18-April-2018) started at: 01:19:38.560 (18/12/2019) \n"
     ]
    },
    {
     "name": "stdout",
     "output_type": "stream",
     "text": [
      "TweakReg Version 1.4.7(18-April-2018) started at: 01:19:38.560 (18/12/2019) \n"
     ]
    },
    {
     "name": "stderr",
     "output_type": "stream",
     "text": [
      "INFO:drizzlepac.tweakreg:\n"
     ]
    },
    {
     "name": "stdout",
     "output_type": "stream",
     "text": [
      "\n"
     ]
    },
    {
     "name": "stderr",
     "output_type": "stream",
     "text": [
      "INFO:drizzlepac.util:Version Information\n"
     ]
    },
    {
     "name": "stdout",
     "output_type": "stream",
     "text": [
      "Version Information\n"
     ]
    },
    {
     "name": "stderr",
     "output_type": "stream",
     "text": [
      "INFO:drizzlepac.util:--------------------\n"
     ]
    },
    {
     "name": "stdout",
     "output_type": "stream",
     "text": [
      "--------------------\n"
     ]
    },
    {
     "name": "stderr",
     "output_type": "stream",
     "text": [
      "INFO:drizzlepac.util:Python Version [Clang 4.0.1 (tags/RELEASE_401/final)]\n"
     ]
    },
    {
     "name": "stdout",
     "output_type": "stream",
     "text": [
      "Python Version [Clang 4.0.1 (tags/RELEASE_401/final)]\n"
     ]
    },
    {
     "name": "stderr",
     "output_type": "stream",
     "text": [
      "INFO:drizzlepac.util:3.7.5 (default, Oct 25 2019, 10:52:18) \n"
     ]
    },
    {
     "name": "stdout",
     "output_type": "stream",
     "text": [
      "3.7.5 (default, Oct 25 2019, 10:52:18) \n"
     ]
    },
    {
     "name": "stderr",
     "output_type": "stream",
     "text": [
      "INFO:drizzlepac.util:numpy Version -> 1.17.4 \n"
     ]
    },
    {
     "name": "stdout",
     "output_type": "stream",
     "text": [
      "numpy Version -> 1.17.4 \n"
     ]
    },
    {
     "name": "stderr",
     "output_type": "stream",
     "text": [
      "INFO:drizzlepac.util:astropy Version -> 3.2.3 \n"
     ]
    },
    {
     "name": "stdout",
     "output_type": "stream",
     "text": [
      "astropy Version -> 3.2.3 \n"
     ]
    },
    {
     "name": "stderr",
     "output_type": "stream",
     "text": [
      "INFO:drizzlepac.util:stwcs Version -> 1.5.3 \n"
     ]
    },
    {
     "name": "stdout",
     "output_type": "stream",
     "text": [
      "stwcs Version -> 1.5.3 \n"
     ]
    },
    {
     "name": "stderr",
     "output_type": "stream",
     "text": [
      "INFO:drizzlepac.tweakreg:\n"
     ]
    },
    {
     "name": "stderr",
     "output_type": "stream",
     "text": [
      "INFO:drizzlepac.tweakreg:USER INPUT PARAMETERS common to all Processing Steps:\n"
     ]
    },
    {
     "name": "stderr",
     "output_type": "stream",
     "text": [
      "INFO:drizzlepac.tweakreg:\tclean :\tFalse\n"
     ]
    },
    {
     "name": "stderr",
     "output_type": "stream",
     "text": [
      "INFO:drizzlepac.tweakreg:\tenforce_user_order :\tTrue\n"
     ]
    },
    {
     "name": "stderr",
     "output_type": "stream",
     "text": [
      "INFO:drizzlepac.tweakreg:\texclusions :\t\n"
     ]
    },
    {
     "name": "stderr",
     "output_type": "stream",
     "text": [
      "INFO:drizzlepac.tweakreg:\texpand_refcat :\tTrue\n"
     ]
    },
    {
     "name": "stderr",
     "output_type": "stream",
     "text": [
      "INFO:drizzlepac.tweakreg:\tinput :\t@drz.list\n"
     ]
    },
    {
     "name": "stderr",
     "output_type": "stream",
     "text": [
      "INFO:drizzlepac.tweakreg:\tinteractive :\tFalse\n"
     ]
    },
    {
     "name": "stderr",
     "output_type": "stream",
     "text": [
      "INFO:drizzlepac.tweakreg:\trefimage :\t\n"
     ]
    },
    {
     "name": "stderr",
     "output_type": "stream",
     "text": [
      "INFO:drizzlepac.tweakreg:\trunfile :\ttweakreg.log\n"
     ]
    },
    {
     "name": "stderr",
     "output_type": "stream",
     "text": [
      "INFO:drizzlepac.tweakreg:\tupdatewcs :\tFalse\n"
     ]
    },
    {
     "name": "stderr",
     "output_type": "stream",
     "text": [
      "INFO:drizzlepac.tweakreg:\tverbose :\tFalse\n"
     ]
    },
    {
     "name": "stderr",
     "output_type": "stream",
     "text": [
      "INFO:drizzlepac.tweakreg:\twritecat :\tTrue\n"
     ]
    },
    {
     "name": "stderr",
     "output_type": "stream",
     "text": [
      "INFO:drizzlepac.tweakutils:ibxl54030_drz.fits\n"
     ]
    },
    {
     "name": "stdout",
     "output_type": "stream",
     "text": [
      "ibxl54030_drz.fits\n"
     ]
    },
    {
     "name": "stderr",
     "output_type": "stream",
     "text": [
      "INFO:drizzlepac.tweakutils:\n"
     ]
    },
    {
     "name": "stdout",
     "output_type": "stream",
     "text": [
      "\n"
     ]
    },
    {
     "name": "stderr",
     "output_type": "stream",
     "text": [
      "INFO:drizzlepac.tweakreg:\n"
     ]
    },
    {
     "name": "stdout",
     "output_type": "stream",
     "text": [
      "\n"
     ]
    },
    {
     "name": "stderr",
     "output_type": "stream",
     "text": [
      "INFO:drizzlepac.tweakreg:Finding shifts for: \n"
     ]
    },
    {
     "name": "stdout",
     "output_type": "stream",
     "text": [
      "Finding shifts for: \n"
     ]
    },
    {
     "name": "stderr",
     "output_type": "stream",
     "text": [
      "INFO:drizzlepac.tweakreg:    ibxl54030_drz.fits\n"
     ]
    },
    {
     "name": "stdout",
     "output_type": "stream",
     "text": [
      "    ibxl54030_drz.fits\n"
     ]
    },
    {
     "name": "stderr",
     "output_type": "stream",
     "text": [
      "INFO:drizzlepac.tweakreg:    ibxl51030_drz.fits\n"
     ]
    },
    {
     "name": "stdout",
     "output_type": "stream",
     "text": [
      "    ibxl51030_drz.fits\n"
     ]
    },
    {
     "name": "stderr",
     "output_type": "stream",
     "text": [
      "INFO:drizzlepac.tweakreg:    ibxl53030_drz.fits\n"
     ]
    },
    {
     "name": "stdout",
     "output_type": "stream",
     "text": [
      "    ibxl53030_drz.fits\n"
     ]
    },
    {
     "name": "stderr",
     "output_type": "stream",
     "text": [
      "INFO:drizzlepac.tweakreg:    ibxl55030_drz.fits\n"
     ]
    },
    {
     "name": "stdout",
     "output_type": "stream",
     "text": [
      "    ibxl55030_drz.fits\n"
     ]
    },
    {
     "name": "stderr",
     "output_type": "stream",
     "text": [
      "INFO:drizzlepac.tweakreg:    ibxl57030_drz.fits\n"
     ]
    },
    {
     "name": "stdout",
     "output_type": "stream",
     "text": [
      "    ibxl57030_drz.fits\n"
     ]
    },
    {
     "name": "stderr",
     "output_type": "stream",
     "text": [
      "INFO:drizzlepac.tweakreg:    ibxl50030_drz.fits\n"
     ]
    },
    {
     "name": "stdout",
     "output_type": "stream",
     "text": [
      "    ibxl50030_drz.fits\n"
     ]
    },
    {
     "name": "stderr",
     "output_type": "stream",
     "text": [
      "INFO:drizzlepac.tweakreg:    ibxl52030_drz.fits\n"
     ]
    },
    {
     "name": "stdout",
     "output_type": "stream",
     "text": [
      "    ibxl52030_drz.fits\n"
     ]
    },
    {
     "name": "stderr",
     "output_type": "stream",
     "text": [
      "INFO:drizzlepac.tweakreg:    ibxl56030_drz.fits\n"
     ]
    },
    {
     "name": "stdout",
     "output_type": "stream",
     "text": [
      "    ibxl56030_drz.fits\n"
     ]
    },
    {
     "name": "stderr",
     "output_type": "stream",
     "text": [
      "INFO:drizzlepac.tweakreg:    ibxl58030_drz.fits\n"
     ]
    },
    {
     "name": "stdout",
     "output_type": "stream",
     "text": [
      "    ibxl58030_drz.fits\n"
     ]
    },
    {
     "name": "stderr",
     "output_type": "stream",
     "text": [
      "INFO:drizzlepac.tweakreg:\n"
     ]
    },
    {
     "name": "stdout",
     "output_type": "stream",
     "text": [
      "\n"
     ]
    },
    {
     "name": "stderr",
     "output_type": "stream",
     "text": [
      "INFO:drizzlepac.tweakreg:USER INPUT PARAMETERS for finding sources for each input image:\n"
     ]
    },
    {
     "name": "stderr",
     "output_type": "stream",
     "text": [
      "INFO:drizzlepac.tweakreg:\tclean :\tFalse\n"
     ]
    },
    {
     "name": "stderr",
     "output_type": "stream",
     "text": [
      "INFO:drizzlepac.tweakreg:\tcomputesig :\tTrue\n"
     ]
    },
    {
     "name": "stderr",
     "output_type": "stream",
     "text": [
      "INFO:drizzlepac.tweakreg:\tconv_width :\t4.5\n"
     ]
    },
    {
     "name": "stderr",
     "output_type": "stream",
     "text": [
      "INFO:drizzlepac.tweakreg:\tdqbits :\t\n"
     ]
    },
    {
     "name": "stderr",
     "output_type": "stream",
     "text": [
      "INFO:drizzlepac.tweakreg:\tenforce_user_order :\tTrue\n"
     ]
    },
    {
     "name": "stderr",
     "output_type": "stream",
     "text": [
      "INFO:drizzlepac.tweakreg:\texpand_refcat :\tTrue\n"
     ]
    },
    {
     "name": "stderr",
     "output_type": "stream",
     "text": [
      "INFO:drizzlepac.tweakreg:\tfluxmax :\tNone\n"
     ]
    },
    {
     "name": "stderr",
     "output_type": "stream",
     "text": [
      "INFO:drizzlepac.tweakreg:\tfluxmin :\tNone\n"
     ]
    },
    {
     "name": "stderr",
     "output_type": "stream",
     "text": [
      "INFO:drizzlepac.tweakreg:\tinput :\t@drz.list\n"
     ]
    },
    {
     "name": "stderr",
     "output_type": "stream",
     "text": [
      "INFO:drizzlepac.tweakreg:\tinteractive :\tFalse\n"
     ]
    },
    {
     "name": "stderr",
     "output_type": "stream",
     "text": [
      "INFO:drizzlepac.tweakreg:\tnsigma :\t1.5\n"
     ]
    },
    {
     "name": "stderr",
     "output_type": "stream",
     "text": [
      "INFO:drizzlepac.tweakreg:\tpeakmax :\tNone\n"
     ]
    },
    {
     "name": "stderr",
     "output_type": "stream",
     "text": [
      "INFO:drizzlepac.tweakreg:\tpeakmin :\t1\n"
     ]
    },
    {
     "name": "stderr",
     "output_type": "stream",
     "text": [
      "INFO:drizzlepac.tweakreg:\tratio :\t1.0\n"
     ]
    },
    {
     "name": "stderr",
     "output_type": "stream",
     "text": [
      "INFO:drizzlepac.tweakreg:\trefimage :\t\n"
     ]
    },
    {
     "name": "stderr",
     "output_type": "stream",
     "text": [
      "INFO:drizzlepac.tweakreg:\troundhi :\t1.0\n"
     ]
    },
    {
     "name": "stderr",
     "output_type": "stream",
     "text": [
      "INFO:drizzlepac.tweakreg:\troundlo :\t-1.0\n"
     ]
    },
    {
     "name": "stderr",
     "output_type": "stream",
     "text": [
      "INFO:drizzlepac.tweakreg:\trunfile :\ttweakreg.log\n"
     ]
    },
    {
     "name": "stderr",
     "output_type": "stream",
     "text": [
      "INFO:drizzlepac.tweakreg:\tsharphi :\t1.0\n"
     ]
    },
    {
     "name": "stderr",
     "output_type": "stream",
     "text": [
      "INFO:drizzlepac.tweakreg:\tsharplo :\t0.2\n"
     ]
    },
    {
     "name": "stderr",
     "output_type": "stream",
     "text": [
      "INFO:drizzlepac.tweakreg:\tskysigma :\t0.0\n"
     ]
    },
    {
     "name": "stderr",
     "output_type": "stream",
     "text": [
      "INFO:drizzlepac.tweakreg:\ttheta :\t0.0\n"
     ]
    },
    {
     "name": "stderr",
     "output_type": "stream",
     "text": [
      "INFO:drizzlepac.tweakreg:\tthreshold :\t10\n"
     ]
    },
    {
     "name": "stderr",
     "output_type": "stream",
     "text": [
      "INFO:drizzlepac.tweakreg:\tupdatehdr :\tTrue\n"
     ]
    },
    {
     "name": "stderr",
     "output_type": "stream",
     "text": [
      "INFO:drizzlepac.tweakreg:\tupdatewcs :\tFalse\n"
     ]
    },
    {
     "name": "stderr",
     "output_type": "stream",
     "text": [
      "INFO:drizzlepac.tweakreg:\tuse_sharp_round :\tFalse\n"
     ]
    },
    {
     "name": "stderr",
     "output_type": "stream",
     "text": [
      "INFO:drizzlepac.tweakreg:\tverbose :\tFalse\n"
     ]
    },
    {
     "name": "stderr",
     "output_type": "stream",
     "text": [
      "INFO:drizzlepac.tweakreg:\twritecat :\tTrue\n"
     ]
    },
    {
     "name": "stderr",
     "output_type": "stream",
     "text": [
      "INFO:drizzlepac.tweakreg:\txyunits :\tpixels\n"
     ]
    },
    {
     "name": "stderr",
     "output_type": "stream",
     "text": [
      "INFO:drizzlepac.tweakreg:\n"
     ]
    },
    {
     "name": "stderr",
     "output_type": "stream",
     "text": [
      "INFO:drizzlepac.imgclasses:===  Source finding for image 'ibxl54030_drz.fits':\n"
     ]
    },
    {
     "name": "stdout",
     "output_type": "stream",
     "text": [
      "===  Source finding for image 'ibxl54030_drz.fits':\n"
     ]
    },
    {
     "name": "stderr",
     "output_type": "stream",
     "text": [
      "INFO:drizzlepac.catalogs:  #  Source finding for 'ibxl54030_drz.fits', EXT=('SCI', 1) started at: 01:19:38.907 (18/12/2019)\n"
     ]
    },
    {
     "name": "stdout",
     "output_type": "stream",
     "text": [
      "  #  Source finding for 'ibxl54030_drz.fits', EXT=('SCI', 1) started at: 01:19:38.907 (18/12/2019)\n"
     ]
    },
    {
     "name": "stderr",
     "output_type": "stream",
     "text": [
      "INFO:drizzlepac.catalogs:   Finding sources using sky sigma = 1.543311\n"
     ]
    },
    {
     "name": "stderr",
     "output_type": "stream",
     "text": [
      "WARNING:py.warnings:/Users/etollerud/miniconda3/envs/nb-build/lib/python3.7/site-packages/drizzlepac/findobj.py:187: RuntimeWarning: invalid value encountered in greater\n",
      "  tdata=np.where(convdata > threshold, convdata, 0)\n",
      "\n"
     ]
    },
    {
     "name": "stderr",
     "output_type": "stream",
     "text": [
      "INFO:drizzlepac.catalogs:###Source finding finished at: 01:19:39.0 (18/12/2019)\n"
     ]
    },
    {
     "name": "stderr",
     "output_type": "stream",
     "text": [
      "INFO:drizzlepac.catalogs:     Found 38 objects.\n"
     ]
    },
    {
     "name": "stdout",
     "output_type": "stream",
     "text": [
      "     Found 38 objects.\n"
     ]
    },
    {
     "name": "stderr",
     "output_type": "stream",
     "text": [
      "INFO:drizzlepac.imgclasses:===  FINAL number of objects in image 'ibxl54030_drz.fits': 38\n"
     ]
    },
    {
     "name": "stdout",
     "output_type": "stream",
     "text": [
      "===  FINAL number of objects in image 'ibxl54030_drz.fits': 38\n"
     ]
    },
    {
     "name": "stderr",
     "output_type": "stream",
     "text": [
      "INFO:drizzlepac.imgclasses:\n"
     ]
    },
    {
     "name": "stdout",
     "output_type": "stream",
     "text": [
      "\n"
     ]
    },
    {
     "name": "stderr",
     "output_type": "stream",
     "text": [
      "INFO:drizzlepac.imgclasses:===  Source finding for image 'ibxl51030_drz.fits':\n"
     ]
    },
    {
     "name": "stdout",
     "output_type": "stream",
     "text": [
      "===  Source finding for image 'ibxl51030_drz.fits':\n"
     ]
    },
    {
     "name": "stderr",
     "output_type": "stream",
     "text": [
      "INFO:drizzlepac.catalogs:  #  Source finding for 'ibxl51030_drz.fits', EXT=('SCI', 1) started at: 01:19:39.138 (18/12/2019)\n"
     ]
    },
    {
     "name": "stdout",
     "output_type": "stream",
     "text": [
      "  #  Source finding for 'ibxl51030_drz.fits', EXT=('SCI', 1) started at: 01:19:39.138 (18/12/2019)\n"
     ]
    },
    {
     "name": "stderr",
     "output_type": "stream",
     "text": [
      "INFO:drizzlepac.catalogs:   Finding sources using sky sigma = 1.553781\n"
     ]
    },
    {
     "name": "stderr",
     "output_type": "stream",
     "text": [
      "INFO:drizzlepac.catalogs:###Source finding finished at: 01:19:39.260 (18/12/2019)\n"
     ]
    },
    {
     "name": "stderr",
     "output_type": "stream",
     "text": [
      "INFO:drizzlepac.catalogs:     Found 52 objects.\n"
     ]
    },
    {
     "name": "stdout",
     "output_type": "stream",
     "text": [
      "     Found 52 objects.\n"
     ]
    },
    {
     "name": "stderr",
     "output_type": "stream",
     "text": [
      "INFO:drizzlepac.imgclasses:===  FINAL number of objects in image 'ibxl51030_drz.fits': 52\n"
     ]
    },
    {
     "name": "stdout",
     "output_type": "stream",
     "text": [
      "===  FINAL number of objects in image 'ibxl51030_drz.fits': 52\n"
     ]
    },
    {
     "name": "stderr",
     "output_type": "stream",
     "text": [
      "INFO:drizzlepac.imgclasses:\n"
     ]
    },
    {
     "name": "stdout",
     "output_type": "stream",
     "text": [
      "\n"
     ]
    },
    {
     "name": "stderr",
     "output_type": "stream",
     "text": [
      "INFO:drizzlepac.imgclasses:===  Source finding for image 'ibxl53030_drz.fits':\n"
     ]
    },
    {
     "name": "stdout",
     "output_type": "stream",
     "text": [
      "===  Source finding for image 'ibxl53030_drz.fits':\n"
     ]
    },
    {
     "name": "stderr",
     "output_type": "stream",
     "text": [
      "INFO:drizzlepac.catalogs:  #  Source finding for 'ibxl53030_drz.fits', EXT=('SCI', 1) started at: 01:19:39.350 (18/12/2019)\n"
     ]
    },
    {
     "name": "stdout",
     "output_type": "stream",
     "text": [
      "  #  Source finding for 'ibxl53030_drz.fits', EXT=('SCI', 1) started at: 01:19:39.350 (18/12/2019)\n"
     ]
    },
    {
     "name": "stderr",
     "output_type": "stream",
     "text": [
      "INFO:drizzlepac.catalogs:   Finding sources using sky sigma = 1.527635\n"
     ]
    },
    {
     "name": "stderr",
     "output_type": "stream",
     "text": [
      "INFO:drizzlepac.catalogs:###Source finding finished at: 01:19:39.481 (18/12/2019)\n"
     ]
    },
    {
     "name": "stderr",
     "output_type": "stream",
     "text": [
      "INFO:drizzlepac.catalogs:     Found 36 objects.\n"
     ]
    },
    {
     "name": "stdout",
     "output_type": "stream",
     "text": [
      "     Found 36 objects.\n"
     ]
    },
    {
     "name": "stderr",
     "output_type": "stream",
     "text": [
      "INFO:drizzlepac.imgclasses:===  FINAL number of objects in image 'ibxl53030_drz.fits': 36\n"
     ]
    },
    {
     "name": "stdout",
     "output_type": "stream",
     "text": [
      "===  FINAL number of objects in image 'ibxl53030_drz.fits': 36\n"
     ]
    },
    {
     "name": "stderr",
     "output_type": "stream",
     "text": [
      "INFO:drizzlepac.imgclasses:\n"
     ]
    },
    {
     "name": "stdout",
     "output_type": "stream",
     "text": [
      "\n"
     ]
    },
    {
     "name": "stderr",
     "output_type": "stream",
     "text": [
      "INFO:drizzlepac.imgclasses:===  Source finding for image 'ibxl55030_drz.fits':\n"
     ]
    },
    {
     "name": "stdout",
     "output_type": "stream",
     "text": [
      "===  Source finding for image 'ibxl55030_drz.fits':\n"
     ]
    },
    {
     "name": "stderr",
     "output_type": "stream",
     "text": [
      "INFO:drizzlepac.catalogs:  #  Source finding for 'ibxl55030_drz.fits', EXT=('SCI', 1) started at: 01:19:39.568 (18/12/2019)\n"
     ]
    },
    {
     "name": "stdout",
     "output_type": "stream",
     "text": [
      "  #  Source finding for 'ibxl55030_drz.fits', EXT=('SCI', 1) started at: 01:19:39.568 (18/12/2019)\n"
     ]
    },
    {
     "name": "stderr",
     "output_type": "stream",
     "text": [
      "INFO:drizzlepac.catalogs:   Finding sources using sky sigma = 1.259246\n"
     ]
    },
    {
     "name": "stderr",
     "output_type": "stream",
     "text": [
      "INFO:drizzlepac.catalogs:###Source finding finished at: 01:19:39.689 (18/12/2019)\n"
     ]
    },
    {
     "name": "stderr",
     "output_type": "stream",
     "text": [
      "INFO:drizzlepac.catalogs:     Found 55 objects.\n"
     ]
    },
    {
     "name": "stdout",
     "output_type": "stream",
     "text": [
      "     Found 55 objects.\n"
     ]
    },
    {
     "name": "stderr",
     "output_type": "stream",
     "text": [
      "INFO:drizzlepac.imgclasses:===  FINAL number of objects in image 'ibxl55030_drz.fits': 55\n"
     ]
    },
    {
     "name": "stdout",
     "output_type": "stream",
     "text": [
      "===  FINAL number of objects in image 'ibxl55030_drz.fits': 55\n"
     ]
    },
    {
     "name": "stderr",
     "output_type": "stream",
     "text": [
      "INFO:drizzlepac.imgclasses:\n"
     ]
    },
    {
     "name": "stdout",
     "output_type": "stream",
     "text": [
      "\n"
     ]
    },
    {
     "name": "stderr",
     "output_type": "stream",
     "text": [
      "INFO:drizzlepac.imgclasses:===  Source finding for image 'ibxl57030_drz.fits':\n"
     ]
    },
    {
     "name": "stdout",
     "output_type": "stream",
     "text": [
      "===  Source finding for image 'ibxl57030_drz.fits':\n"
     ]
    },
    {
     "name": "stderr",
     "output_type": "stream",
     "text": [
      "INFO:drizzlepac.catalogs:  #  Source finding for 'ibxl57030_drz.fits', EXT=('SCI', 1) started at: 01:19:39.77 (18/12/2019)\n"
     ]
    },
    {
     "name": "stdout",
     "output_type": "stream",
     "text": [
      "  #  Source finding for 'ibxl57030_drz.fits', EXT=('SCI', 1) started at: 01:19:39.77 (18/12/2019)\n"
     ]
    },
    {
     "name": "stderr",
     "output_type": "stream",
     "text": [
      "INFO:drizzlepac.catalogs:   Finding sources using sky sigma = 1.505249\n"
     ]
    },
    {
     "name": "stderr",
     "output_type": "stream",
     "text": [
      "INFO:drizzlepac.catalogs:###Source finding finished at: 01:19:39.900 (18/12/2019)\n"
     ]
    },
    {
     "name": "stderr",
     "output_type": "stream",
     "text": [
      "INFO:drizzlepac.catalogs:     Found 65 objects.\n"
     ]
    },
    {
     "name": "stdout",
     "output_type": "stream",
     "text": [
      "     Found 65 objects.\n"
     ]
    },
    {
     "name": "stderr",
     "output_type": "stream",
     "text": [
      "INFO:drizzlepac.imgclasses:===  FINAL number of objects in image 'ibxl57030_drz.fits': 65\n"
     ]
    },
    {
     "name": "stdout",
     "output_type": "stream",
     "text": [
      "===  FINAL number of objects in image 'ibxl57030_drz.fits': 65\n"
     ]
    },
    {
     "name": "stderr",
     "output_type": "stream",
     "text": [
      "INFO:drizzlepac.imgclasses:\n"
     ]
    },
    {
     "name": "stdout",
     "output_type": "stream",
     "text": [
      "\n"
     ]
    },
    {
     "name": "stderr",
     "output_type": "stream",
     "text": [
      "INFO:drizzlepac.imgclasses:===  Source finding for image 'ibxl50030_drz.fits':\n"
     ]
    },
    {
     "name": "stdout",
     "output_type": "stream",
     "text": [
      "===  Source finding for image 'ibxl50030_drz.fits':\n"
     ]
    },
    {
     "name": "stderr",
     "output_type": "stream",
     "text": [
      "INFO:drizzlepac.catalogs:  #  Source finding for 'ibxl50030_drz.fits', EXT=('SCI', 1) started at: 01:19:39.999 (18/12/2019)\n"
     ]
    },
    {
     "name": "stdout",
     "output_type": "stream",
     "text": [
      "  #  Source finding for 'ibxl50030_drz.fits', EXT=('SCI', 1) started at: 01:19:39.999 (18/12/2019)\n"
     ]
    },
    {
     "name": "stderr",
     "output_type": "stream",
     "text": [
      "INFO:drizzlepac.catalogs:   Finding sources using sky sigma = 1.553639\n"
     ]
    },
    {
     "name": "stderr",
     "output_type": "stream",
     "text": [
      "INFO:drizzlepac.catalogs:###Source finding finished at: 01:19:40.12 (18/12/2019)\n"
     ]
    },
    {
     "name": "stderr",
     "output_type": "stream",
     "text": [
      "INFO:drizzlepac.catalogs:     Found 57 objects.\n"
     ]
    },
    {
     "name": "stdout",
     "output_type": "stream",
     "text": [
      "     Found 57 objects.\n"
     ]
    },
    {
     "name": "stderr",
     "output_type": "stream",
     "text": [
      "INFO:drizzlepac.imgclasses:===  FINAL number of objects in image 'ibxl50030_drz.fits': 57\n"
     ]
    },
    {
     "name": "stdout",
     "output_type": "stream",
     "text": [
      "===  FINAL number of objects in image 'ibxl50030_drz.fits': 57\n"
     ]
    },
    {
     "name": "stderr",
     "output_type": "stream",
     "text": [
      "INFO:drizzlepac.imgclasses:\n"
     ]
    },
    {
     "name": "stdout",
     "output_type": "stream",
     "text": [
      "\n"
     ]
    },
    {
     "name": "stderr",
     "output_type": "stream",
     "text": [
      "INFO:drizzlepac.imgclasses:===  Source finding for image 'ibxl52030_drz.fits':\n"
     ]
    },
    {
     "name": "stdout",
     "output_type": "stream",
     "text": [
      "===  Source finding for image 'ibxl52030_drz.fits':\n"
     ]
    },
    {
     "name": "stderr",
     "output_type": "stream",
     "text": [
      "INFO:drizzlepac.catalogs:  #  Source finding for 'ibxl52030_drz.fits', EXT=('SCI', 1) started at: 01:19:40.278 (18/12/2019)\n"
     ]
    },
    {
     "name": "stdout",
     "output_type": "stream",
     "text": [
      "  #  Source finding for 'ibxl52030_drz.fits', EXT=('SCI', 1) started at: 01:19:40.278 (18/12/2019)\n"
     ]
    },
    {
     "name": "stderr",
     "output_type": "stream",
     "text": [
      "INFO:drizzlepac.catalogs:   Finding sources using sky sigma = 1.240202\n"
     ]
    },
    {
     "name": "stderr",
     "output_type": "stream",
     "text": [
      "INFO:drizzlepac.catalogs:###Source finding finished at: 01:19:40.395 (18/12/2019)\n"
     ]
    },
    {
     "name": "stderr",
     "output_type": "stream",
     "text": [
      "INFO:drizzlepac.catalogs:     Found 59 objects.\n"
     ]
    },
    {
     "name": "stdout",
     "output_type": "stream",
     "text": [
      "     Found 59 objects.\n"
     ]
    },
    {
     "name": "stderr",
     "output_type": "stream",
     "text": [
      "INFO:drizzlepac.imgclasses:===  FINAL number of objects in image 'ibxl52030_drz.fits': 59\n"
     ]
    },
    {
     "name": "stdout",
     "output_type": "stream",
     "text": [
      "===  FINAL number of objects in image 'ibxl52030_drz.fits': 59\n"
     ]
    },
    {
     "name": "stderr",
     "output_type": "stream",
     "text": [
      "INFO:drizzlepac.imgclasses:\n"
     ]
    },
    {
     "name": "stdout",
     "output_type": "stream",
     "text": [
      "\n"
     ]
    },
    {
     "name": "stderr",
     "output_type": "stream",
     "text": [
      "INFO:drizzlepac.imgclasses:===  Source finding for image 'ibxl56030_drz.fits':\n"
     ]
    },
    {
     "name": "stdout",
     "output_type": "stream",
     "text": [
      "===  Source finding for image 'ibxl56030_drz.fits':\n"
     ]
    },
    {
     "name": "stderr",
     "output_type": "stream",
     "text": [
      "INFO:drizzlepac.catalogs:  #  Source finding for 'ibxl56030_drz.fits', EXT=('SCI', 1) started at: 01:19:40.493 (18/12/2019)\n"
     ]
    },
    {
     "name": "stdout",
     "output_type": "stream",
     "text": [
      "  #  Source finding for 'ibxl56030_drz.fits', EXT=('SCI', 1) started at: 01:19:40.493 (18/12/2019)\n"
     ]
    },
    {
     "name": "stderr",
     "output_type": "stream",
     "text": [
      "INFO:drizzlepac.catalogs:   Finding sources using sky sigma = 1.619044\n"
     ]
    },
    {
     "name": "stderr",
     "output_type": "stream",
     "text": [
      "INFO:drizzlepac.catalogs:###Source finding finished at: 01:19:40.612 (18/12/2019)\n"
     ]
    },
    {
     "name": "stderr",
     "output_type": "stream",
     "text": [
      "INFO:drizzlepac.catalogs:     Found 47 objects.\n"
     ]
    },
    {
     "name": "stdout",
     "output_type": "stream",
     "text": [
      "     Found 47 objects.\n"
     ]
    },
    {
     "name": "stderr",
     "output_type": "stream",
     "text": [
      "INFO:drizzlepac.imgclasses:===  FINAL number of objects in image 'ibxl56030_drz.fits': 47\n"
     ]
    },
    {
     "name": "stdout",
     "output_type": "stream",
     "text": [
      "===  FINAL number of objects in image 'ibxl56030_drz.fits': 47\n"
     ]
    },
    {
     "name": "stderr",
     "output_type": "stream",
     "text": [
      "INFO:drizzlepac.imgclasses:\n"
     ]
    },
    {
     "name": "stdout",
     "output_type": "stream",
     "text": [
      "\n"
     ]
    },
    {
     "name": "stderr",
     "output_type": "stream",
     "text": [
      "INFO:drizzlepac.imgclasses:===  Source finding for image 'ibxl58030_drz.fits':\n"
     ]
    },
    {
     "name": "stdout",
     "output_type": "stream",
     "text": [
      "===  Source finding for image 'ibxl58030_drz.fits':\n"
     ]
    },
    {
     "name": "stderr",
     "output_type": "stream",
     "text": [
      "INFO:drizzlepac.catalogs:  #  Source finding for 'ibxl58030_drz.fits', EXT=('SCI', 1) started at: 01:19:40.705 (18/12/2019)\n"
     ]
    },
    {
     "name": "stdout",
     "output_type": "stream",
     "text": [
      "  #  Source finding for 'ibxl58030_drz.fits', EXT=('SCI', 1) started at: 01:19:40.705 (18/12/2019)\n"
     ]
    },
    {
     "name": "stderr",
     "output_type": "stream",
     "text": [
      "INFO:drizzlepac.catalogs:   Finding sources using sky sigma = 1.247739\n"
     ]
    },
    {
     "name": "stderr",
     "output_type": "stream",
     "text": [
      "INFO:drizzlepac.catalogs:###Source finding finished at: 01:19:40.824 (18/12/2019)\n"
     ]
    },
    {
     "name": "stderr",
     "output_type": "stream",
     "text": [
      "INFO:drizzlepac.catalogs:     Found 65 objects.\n"
     ]
    },
    {
     "name": "stdout",
     "output_type": "stream",
     "text": [
      "     Found 65 objects.\n"
     ]
    },
    {
     "name": "stderr",
     "output_type": "stream",
     "text": [
      "INFO:drizzlepac.imgclasses:===  FINAL number of objects in image 'ibxl58030_drz.fits': 65\n"
     ]
    },
    {
     "name": "stdout",
     "output_type": "stream",
     "text": [
      "===  FINAL number of objects in image 'ibxl58030_drz.fits': 65\n"
     ]
    },
    {
     "name": "stderr",
     "output_type": "stream",
     "text": [
      "INFO:drizzlepac.imgclasses:\n"
     ]
    },
    {
     "name": "stdout",
     "output_type": "stream",
     "text": [
      "\n"
     ]
    },
    {
     "name": "stderr",
     "output_type": "stream",
     "text": [
      "INFO:drizzlepac.imgclasses:Converting RA/Dec positions of reference sources from \"ibxl54030_drz.fits\" to X,Y positions in reference WCS...\n"
     ]
    },
    {
     "name": "stderr",
     "output_type": "stream",
     "text": [
      "INFO:drizzlepac.tweakreg:\n"
     ]
    },
    {
     "name": "stdout",
     "output_type": "stream",
     "text": [
      "\n"
     ]
    },
    {
     "name": "stderr",
     "output_type": "stream",
     "text": [
      "INFO:drizzlepac.tweakreg:===============================================================\n"
     ]
    },
    {
     "name": "stdout",
     "output_type": "stream",
     "text": [
      "===============================================================\n"
     ]
    },
    {
     "name": "stderr",
     "output_type": "stream",
     "text": [
      "INFO:drizzlepac.tweakreg:Performing alignment in the projection plane defined by the WCS\n"
     ]
    },
    {
     "name": "stdout",
     "output_type": "stream",
     "text": [
      "Performing alignment in the projection plane defined by the WCS\n"
     ]
    },
    {
     "name": "stderr",
     "output_type": "stream",
     "text": [
      "INFO:drizzlepac.tweakreg:derived from 'ibxl54030_drz.fits'\n"
     ]
    },
    {
     "name": "stdout",
     "output_type": "stream",
     "text": [
      "derived from 'ibxl54030_drz.fits'\n"
     ]
    },
    {
     "name": "stderr",
     "output_type": "stream",
     "text": [
      "INFO:drizzlepac.tweakreg:===============================================================\n"
     ]
    },
    {
     "name": "stdout",
     "output_type": "stream",
     "text": [
      "===============================================================\n"
     ]
    },
    {
     "name": "stderr",
     "output_type": "stream",
     "text": [
      "INFO:drizzlepac.tweakreg:\n"
     ]
    },
    {
     "name": "stdout",
     "output_type": "stream",
     "text": [
      "\n"
     ]
    },
    {
     "name": "stderr",
     "output_type": "stream",
     "text": [
      "INFO:drizzlepac.tweakreg:USER INPUT PARAMETERS for matching sources:\n"
     ]
    },
    {
     "name": "stderr",
     "output_type": "stream",
     "text": [
      "INFO:drizzlepac.tweakreg:\tminobj :\t5\n"
     ]
    },
    {
     "name": "stderr",
     "output_type": "stream",
     "text": [
      "INFO:drizzlepac.tweakreg:\tresidplot :\tboth\n"
     ]
    },
    {
     "name": "stderr",
     "output_type": "stream",
     "text": [
      "INFO:drizzlepac.tweakreg:\tsearchrad :\t3.0\n"
     ]
    },
    {
     "name": "stderr",
     "output_type": "stream",
     "text": [
      "INFO:drizzlepac.tweakreg:\tsearchunits :\tarcseconds\n"
     ]
    },
    {
     "name": "stderr",
     "output_type": "stream",
     "text": [
      "INFO:drizzlepac.tweakreg:\tsee2dplot :\tTrue\n"
     ]
    },
    {
     "name": "stderr",
     "output_type": "stream",
     "text": [
      "INFO:drizzlepac.tweakreg:\tseparation :\t0.5\n"
     ]
    },
    {
     "name": "stderr",
     "output_type": "stream",
     "text": [
      "INFO:drizzlepac.tweakreg:\ttolerance :\t1.0\n"
     ]
    },
    {
     "name": "stderr",
     "output_type": "stream",
     "text": [
      "INFO:drizzlepac.tweakreg:\tuse2dhist :\tTrue\n"
     ]
    },
    {
     "name": "stderr",
     "output_type": "stream",
     "text": [
      "INFO:drizzlepac.tweakreg:\txoffset :\t0.0\n"
     ]
    },
    {
     "name": "stderr",
     "output_type": "stream",
     "text": [
      "INFO:drizzlepac.tweakreg:\tyoffset :\t0.0\n"
     ]
    },
    {
     "name": "stderr",
     "output_type": "stream",
     "text": [
      "INFO:drizzlepac.tweakreg:\n"
     ]
    },
    {
     "name": "stderr",
     "output_type": "stream",
     "text": [
      "INFO:drizzlepac.tweakreg:USER INPUT PARAMETERS for fitting source lists:\n"
     ]
    },
    {
     "name": "stderr",
     "output_type": "stream",
     "text": [
      "INFO:drizzlepac.tweakreg:\tfitgeometry :\trscale\n"
     ]
    },
    {
     "name": "stderr",
     "output_type": "stream",
     "text": [
      "INFO:drizzlepac.tweakreg:\tlabelsize :\t8\n"
     ]
    },
    {
     "name": "stderr",
     "output_type": "stream",
     "text": [
      "INFO:drizzlepac.tweakreg:\tminobj :\t5\n"
     ]
    },
    {
     "name": "stderr",
     "output_type": "stream",
     "text": [
      "INFO:drizzlepac.tweakreg:\tnclip :\t3\n"
     ]
    },
    {
     "name": "stderr",
     "output_type": "stream",
     "text": [
      "INFO:drizzlepac.tweakreg:\tresidplot :\tboth\n"
     ]
    },
    {
     "name": "stderr",
     "output_type": "stream",
     "text": [
      "INFO:drizzlepac.tweakreg:\tsigma :\t3.0\n"
     ]
    },
    {
     "name": "stderr",
     "output_type": "stream",
     "text": [
      "INFO:drizzlepac.tweakreg:\tylimit :\t0.5\n"
     ]
    },
    {
     "name": "stderr",
     "output_type": "stream",
     "text": [
      "INFO:drizzlepac.tweakreg:\n"
     ]
    },
    {
     "name": "stderr",
     "output_type": "stream",
     "text": [
      "INFO:drizzlepac.tweakreg:USER INPUT PARAMETERS for creating a shiftfile:\n"
     ]
    },
    {
     "name": "stderr",
     "output_type": "stream",
     "text": [
      "INFO:drizzlepac.tweakreg:\toutshifts :\tshift4_drc.txt\n"
     ]
    },
    {
     "name": "stderr",
     "output_type": "stream",
     "text": [
      "INFO:drizzlepac.tweakreg:\toutwcs :\tshifts_wcs.fits\n"
     ]
    },
    {
     "name": "stderr",
     "output_type": "stream",
     "text": [
      "INFO:drizzlepac.tweakreg:\tshiftfile :\tTrue\n"
     ]
    },
    {
     "name": "stderr",
     "output_type": "stream",
     "text": [
      "INFO:drizzlepac.tweakreg:\n"
     ]
    },
    {
     "name": "stdout",
     "output_type": "stream",
     "text": [
      "\n"
     ]
    },
    {
     "name": "stderr",
     "output_type": "stream",
     "text": [
      "INFO:drizzlepac.tweakreg:====================\n"
     ]
    },
    {
     "name": "stdout",
     "output_type": "stream",
     "text": [
      "====================\n"
     ]
    },
    {
     "name": "stderr",
     "output_type": "stream",
     "text": [
      "INFO:drizzlepac.tweakreg:Performing fit for: ibxl51030_drz.fits\n"
     ]
    },
    {
     "name": "stdout",
     "output_type": "stream",
     "text": [
      "Performing fit for: ibxl51030_drz.fits\n"
     ]
    },
    {
     "name": "stderr",
     "output_type": "stream",
     "text": [
      "INFO:drizzlepac.tweakreg:\n"
     ]
    },
    {
     "name": "stdout",
     "output_type": "stream",
     "text": [
      "\n"
     ]
    },
    {
     "name": "stderr",
     "output_type": "stream",
     "text": [
      "INFO:drizzlepac.imgclasses:Matching sources from 'ibxl51030_drz.fits' with sources from reference image 'ibxl54030_drz.fits'\n"
     ]
    },
    {
     "name": "stdout",
     "output_type": "stream",
     "text": [
      "Matching sources from 'ibxl51030_drz.fits' with sources from reference image 'ibxl54030_drz.fits'\n"
     ]
    },
    {
     "name": "stderr",
     "output_type": "stream",
     "text": [
      "INFO:drizzlepac.imgclasses:Computing initial guess for X and Y shifts...\n"
     ]
    },
    {
     "name": "stdout",
     "output_type": "stream",
     "text": [
      "Computing initial guess for X and Y shifts...\n"
     ]
    },
    {
     "name": "stderr",
     "output_type": "stream",
     "text": [
      "INFO:drizzlepac.imgclasses:Found initial X and Y shifts of -0.3918, -0.3918 with significance of 4 and 4 matches\n"
     ]
    },
    {
     "name": "stdout",
     "output_type": "stream",
     "text": [
      "Found initial X and Y shifts of -0.3918, -0.3918 with significance of 4 and 4 matches\n"
     ]
    },
    {
     "name": "stderr",
     "output_type": "stream",
     "text": [
      "WARNING:drizzlepac.imgclasses:##############################################################################\n"
     ]
    },
    {
     "name": "stderr",
     "output_type": "stream",
     "text": [
      "WARNING:drizzlepac.imgclasses:#                                                                            #\n"
     ]
    },
    {
     "name": "stderr",
     "output_type": "stream",
     "text": [
      "WARNING:drizzlepac.imgclasses:# WARNING:                                                                   #\n"
     ]
    },
    {
     "name": "stderr",
     "output_type": "stream",
     "text": [
      "WARNING:drizzlepac.imgclasses:# Not enough matches (< 5) found for input image: ibxl51030_drz.fits         #\n"
     ]
    },
    {
     "name": "stderr",
     "output_type": "stream",
     "text": [
      "WARNING:drizzlepac.imgclasses:#                                                                            #\n"
     ]
    },
    {
     "name": "stderr",
     "output_type": "stream",
     "text": [
      "WARNING:drizzlepac.imgclasses:##############################################################################\n"
     ]
    },
    {
     "name": "stderr",
     "output_type": "stream",
     "text": [
      "INFO:drizzlepac.imgclasses:##############################################################################\n"
     ]
    },
    {
     "name": "stdout",
     "output_type": "stream",
     "text": [
      "##############################################################################\n"
     ]
    },
    {
     "name": "stderr",
     "output_type": "stream",
     "text": [
      "INFO:drizzlepac.imgclasses:#                                                                            #\n"
     ]
    },
    {
     "name": "stdout",
     "output_type": "stream",
     "text": [
      "#                                                                            #\n"
     ]
    },
    {
     "name": "stderr",
     "output_type": "stream",
     "text": [
      "INFO:drizzlepac.imgclasses:# WARNING:                                                                   #\n"
     ]
    },
    {
     "name": "stdout",
     "output_type": "stream",
     "text": [
      "# WARNING:                                                                   #\n"
     ]
    },
    {
     "name": "stderr",
     "output_type": "stream",
     "text": [
      "INFO:drizzlepac.imgclasses:# Not enough matches (< 5) found for input image: ibxl51030_drz.fits         #\n"
     ]
    },
    {
     "name": "stdout",
     "output_type": "stream",
     "text": [
      "# Not enough matches (< 5) found for input image: ibxl51030_drz.fits         #\n"
     ]
    },
    {
     "name": "stderr",
     "output_type": "stream",
     "text": [
      "INFO:drizzlepac.imgclasses:#                                                                            #\n"
     ]
    },
    {
     "name": "stdout",
     "output_type": "stream",
     "text": [
      "#                                                                            #\n"
     ]
    },
    {
     "name": "stderr",
     "output_type": "stream",
     "text": [
      "INFO:drizzlepac.imgclasses:##############################################################################\n"
     ]
    },
    {
     "name": "stdout",
     "output_type": "stream",
     "text": [
      "##############################################################################\n"
     ]
    },
    {
     "name": "stderr",
     "output_type": "stream",
     "text": [
      "INFO:drizzlepac.tweakreg:\n"
     ]
    },
    {
     "name": "stdout",
     "output_type": "stream",
     "text": [
      "\n"
     ]
    },
    {
     "name": "stderr",
     "output_type": "stream",
     "text": [
      "INFO:drizzlepac.tweakreg:====================\n"
     ]
    },
    {
     "name": "stdout",
     "output_type": "stream",
     "text": [
      "====================\n"
     ]
    },
    {
     "name": "stderr",
     "output_type": "stream",
     "text": [
      "INFO:drizzlepac.tweakreg:Performing fit for: ibxl53030_drz.fits\n"
     ]
    },
    {
     "name": "stdout",
     "output_type": "stream",
     "text": [
      "Performing fit for: ibxl53030_drz.fits\n"
     ]
    },
    {
     "name": "stderr",
     "output_type": "stream",
     "text": [
      "INFO:drizzlepac.tweakreg:\n"
     ]
    },
    {
     "name": "stdout",
     "output_type": "stream",
     "text": [
      "\n"
     ]
    },
    {
     "name": "stderr",
     "output_type": "stream",
     "text": [
      "INFO:drizzlepac.imgclasses:Matching sources from 'ibxl53030_drz.fits' with sources from reference image 'ibxl54030_drz.fits'\n"
     ]
    },
    {
     "name": "stdout",
     "output_type": "stream",
     "text": [
      "Matching sources from 'ibxl53030_drz.fits' with sources from reference image 'ibxl54030_drz.fits'\n"
     ]
    },
    {
     "name": "stderr",
     "output_type": "stream",
     "text": [
      "INFO:drizzlepac.imgclasses:Computing initial guess for X and Y shifts...\n"
     ]
    },
    {
     "name": "stdout",
     "output_type": "stream",
     "text": [
      "Computing initial guess for X and Y shifts...\n"
     ]
    },
    {
     "name": "stderr",
     "output_type": "stream",
     "text": [
      "INFO:drizzlepac.imgclasses:Found initial X and Y shifts of -4.392, -0.3918 based on a single non-zero bin and 3 matches\n"
     ]
    },
    {
     "name": "stdout",
     "output_type": "stream",
     "text": [
      "Found initial X and Y shifts of -4.392, -0.3918 based on a single non-zero bin and 3 matches\n"
     ]
    },
    {
     "name": "stderr",
     "output_type": "stream",
     "text": [
      "WARNING:drizzlepac.imgclasses:##############################################################################\n"
     ]
    },
    {
     "name": "stderr",
     "output_type": "stream",
     "text": [
      "WARNING:drizzlepac.imgclasses:#                                                                            #\n"
     ]
    },
    {
     "name": "stderr",
     "output_type": "stream",
     "text": [
      "WARNING:drizzlepac.imgclasses:# WARNING:                                                                   #\n"
     ]
    },
    {
     "name": "stderr",
     "output_type": "stream",
     "text": [
      "WARNING:drizzlepac.imgclasses:# Not enough matches (< 5) found for input image: ibxl53030_drz.fits         #\n"
     ]
    },
    {
     "name": "stderr",
     "output_type": "stream",
     "text": [
      "WARNING:drizzlepac.imgclasses:#                                                                            #\n"
     ]
    },
    {
     "name": "stderr",
     "output_type": "stream",
     "text": [
      "WARNING:drizzlepac.imgclasses:##############################################################################\n"
     ]
    },
    {
     "name": "stderr",
     "output_type": "stream",
     "text": [
      "INFO:drizzlepac.imgclasses:##############################################################################\n"
     ]
    },
    {
     "name": "stdout",
     "output_type": "stream",
     "text": [
      "##############################################################################\n"
     ]
    },
    {
     "name": "stderr",
     "output_type": "stream",
     "text": [
      "INFO:drizzlepac.imgclasses:#                                                                            #\n"
     ]
    },
    {
     "name": "stdout",
     "output_type": "stream",
     "text": [
      "#                                                                            #\n"
     ]
    },
    {
     "name": "stderr",
     "output_type": "stream",
     "text": [
      "INFO:drizzlepac.imgclasses:# WARNING:                                                                   #\n"
     ]
    },
    {
     "name": "stdout",
     "output_type": "stream",
     "text": [
      "# WARNING:                                                                   #\n"
     ]
    },
    {
     "name": "stderr",
     "output_type": "stream",
     "text": [
      "INFO:drizzlepac.imgclasses:# Not enough matches (< 5) found for input image: ibxl53030_drz.fits         #\n"
     ]
    },
    {
     "name": "stdout",
     "output_type": "stream",
     "text": [
      "# Not enough matches (< 5) found for input image: ibxl53030_drz.fits         #\n"
     ]
    },
    {
     "name": "stderr",
     "output_type": "stream",
     "text": [
      "INFO:drizzlepac.imgclasses:#                                                                            #\n"
     ]
    },
    {
     "name": "stdout",
     "output_type": "stream",
     "text": [
      "#                                                                            #\n"
     ]
    },
    {
     "name": "stderr",
     "output_type": "stream",
     "text": [
      "INFO:drizzlepac.imgclasses:##############################################################################\n"
     ]
    },
    {
     "name": "stdout",
     "output_type": "stream",
     "text": [
      "##############################################################################\n"
     ]
    },
    {
     "name": "stderr",
     "output_type": "stream",
     "text": [
      "INFO:drizzlepac.tweakreg:\n"
     ]
    },
    {
     "name": "stdout",
     "output_type": "stream",
     "text": [
      "\n"
     ]
    },
    {
     "name": "stderr",
     "output_type": "stream",
     "text": [
      "INFO:drizzlepac.tweakreg:====================\n"
     ]
    },
    {
     "name": "stdout",
     "output_type": "stream",
     "text": [
      "====================\n"
     ]
    },
    {
     "name": "stderr",
     "output_type": "stream",
     "text": [
      "INFO:drizzlepac.tweakreg:Performing fit for: ibxl55030_drz.fits\n"
     ]
    },
    {
     "name": "stdout",
     "output_type": "stream",
     "text": [
      "Performing fit for: ibxl55030_drz.fits\n"
     ]
    },
    {
     "name": "stderr",
     "output_type": "stream",
     "text": [
      "INFO:drizzlepac.tweakreg:\n"
     ]
    },
    {
     "name": "stdout",
     "output_type": "stream",
     "text": [
      "\n"
     ]
    },
    {
     "name": "stderr",
     "output_type": "stream",
     "text": [
      "INFO:drizzlepac.imgclasses:Matching sources from 'ibxl55030_drz.fits' with sources from reference image 'ibxl54030_drz.fits'\n"
     ]
    },
    {
     "name": "stdout",
     "output_type": "stream",
     "text": [
      "Matching sources from 'ibxl55030_drz.fits' with sources from reference image 'ibxl54030_drz.fits'\n"
     ]
    },
    {
     "name": "stderr",
     "output_type": "stream",
     "text": [
      "INFO:drizzlepac.imgclasses:Computing initial guess for X and Y shifts...\n"
     ]
    },
    {
     "name": "stdout",
     "output_type": "stream",
     "text": [
      "Computing initial guess for X and Y shifts...\n"
     ]
    },
    {
     "name": "stderr",
     "output_type": "stream",
     "text": [
      "INFO:drizzlepac.imgclasses:Found initial X and Y shifts of -0.3918, -0.3918 based on a single non-zero bin and 4 matches\n"
     ]
    },
    {
     "name": "stdout",
     "output_type": "stream",
     "text": [
      "Found initial X and Y shifts of -0.3918, -0.3918 based on a single non-zero bin and 4 matches\n"
     ]
    },
    {
     "name": "stderr",
     "output_type": "stream",
     "text": [
      "WARNING:drizzlepac.imgclasses:##############################################################################\n"
     ]
    },
    {
     "name": "stderr",
     "output_type": "stream",
     "text": [
      "WARNING:drizzlepac.imgclasses:#                                                                            #\n"
     ]
    },
    {
     "name": "stderr",
     "output_type": "stream",
     "text": [
      "WARNING:drizzlepac.imgclasses:# WARNING:                                                                   #\n"
     ]
    },
    {
     "name": "stderr",
     "output_type": "stream",
     "text": [
      "WARNING:drizzlepac.imgclasses:# Not enough matches (< 5) found for input image: ibxl55030_drz.fits         #\n"
     ]
    },
    {
     "name": "stderr",
     "output_type": "stream",
     "text": [
      "WARNING:drizzlepac.imgclasses:#                                                                            #\n"
     ]
    },
    {
     "name": "stderr",
     "output_type": "stream",
     "text": [
      "WARNING:drizzlepac.imgclasses:##############################################################################\n"
     ]
    },
    {
     "name": "stderr",
     "output_type": "stream",
     "text": [
      "INFO:drizzlepac.imgclasses:##############################################################################\n"
     ]
    },
    {
     "name": "stdout",
     "output_type": "stream",
     "text": [
      "##############################################################################\n"
     ]
    },
    {
     "name": "stderr",
     "output_type": "stream",
     "text": [
      "INFO:drizzlepac.imgclasses:#                                                                            #\n"
     ]
    },
    {
     "name": "stdout",
     "output_type": "stream",
     "text": [
      "#                                                                            #\n"
     ]
    },
    {
     "name": "stderr",
     "output_type": "stream",
     "text": [
      "INFO:drizzlepac.imgclasses:# WARNING:                                                                   #\n"
     ]
    },
    {
     "name": "stdout",
     "output_type": "stream",
     "text": [
      "# WARNING:                                                                   #\n"
     ]
    },
    {
     "name": "stderr",
     "output_type": "stream",
     "text": [
      "INFO:drizzlepac.imgclasses:# Not enough matches (< 5) found for input image: ibxl55030_drz.fits         #\n"
     ]
    },
    {
     "name": "stdout",
     "output_type": "stream",
     "text": [
      "# Not enough matches (< 5) found for input image: ibxl55030_drz.fits         #\n"
     ]
    },
    {
     "name": "stderr",
     "output_type": "stream",
     "text": [
      "INFO:drizzlepac.imgclasses:#                                                                            #\n"
     ]
    },
    {
     "name": "stdout",
     "output_type": "stream",
     "text": [
      "#                                                                            #\n"
     ]
    },
    {
     "name": "stderr",
     "output_type": "stream",
     "text": [
      "INFO:drizzlepac.imgclasses:##############################################################################\n"
     ]
    },
    {
     "name": "stdout",
     "output_type": "stream",
     "text": [
      "##############################################################################\n"
     ]
    },
    {
     "name": "stderr",
     "output_type": "stream",
     "text": [
      "INFO:drizzlepac.tweakreg:\n"
     ]
    },
    {
     "name": "stdout",
     "output_type": "stream",
     "text": [
      "\n"
     ]
    },
    {
     "name": "stderr",
     "output_type": "stream",
     "text": [
      "INFO:drizzlepac.tweakreg:====================\n"
     ]
    },
    {
     "name": "stdout",
     "output_type": "stream",
     "text": [
      "====================\n"
     ]
    },
    {
     "name": "stderr",
     "output_type": "stream",
     "text": [
      "INFO:drizzlepac.tweakreg:Performing fit for: ibxl57030_drz.fits\n"
     ]
    },
    {
     "name": "stdout",
     "output_type": "stream",
     "text": [
      "Performing fit for: ibxl57030_drz.fits\n"
     ]
    },
    {
     "name": "stderr",
     "output_type": "stream",
     "text": [
      "INFO:drizzlepac.tweakreg:\n"
     ]
    },
    {
     "name": "stdout",
     "output_type": "stream",
     "text": [
      "\n"
     ]
    },
    {
     "name": "stderr",
     "output_type": "stream",
     "text": [
      "INFO:drizzlepac.imgclasses:Matching sources from 'ibxl57030_drz.fits' with sources from reference image 'ibxl54030_drz.fits'\n"
     ]
    },
    {
     "name": "stdout",
     "output_type": "stream",
     "text": [
      "Matching sources from 'ibxl57030_drz.fits' with sources from reference image 'ibxl54030_drz.fits'\n"
     ]
    },
    {
     "name": "stderr",
     "output_type": "stream",
     "text": [
      "INFO:drizzlepac.imgclasses:Computing initial guess for X and Y shifts...\n"
     ]
    },
    {
     "name": "stdout",
     "output_type": "stream",
     "text": [
      "Computing initial guess for X and Y shifts...\n"
     ]
    },
    {
     "name": "stderr",
     "output_type": "stream",
     "text": [
      "INFO:drizzlepac.util:Trailer file written to:  tweakreg.log\n"
     ]
    },
    {
     "name": "stdout",
     "output_type": "stream",
     "text": [
      "Trailer file written to:  tweakreg.log\n"
     ]
    },
    {
     "name": "stderr",
     "output_type": "stream",
     "text": [
      "ERROR:stsci.tools.logutil.exc:An unhandled exception ocurred:\n",
      "Traceback (most recent call last):\n",
      "  File \"/Users/etollerud/miniconda3/envs/nb-build/lib/python3.7/site-packages/drizzlepac/util.py\", line 225, in wrapper\n",
      "    result = func(*args, **kwargs)\n",
      "  File \"/Users/etollerud/miniconda3/envs/nb-build/lib/python3.7/site-packages/drizzlepac/tweakreg.py\", line 551, in run\n",
      "    image.match(refimage, quiet_identity=False, **objmatch_par)\n",
      "  File \"/Users/etollerud/miniconda3/envs/nb-build/lib/python3.7/site-packages/drizzlepac/imgclasses.py\", line 521, in match\n",
      "    searchrad=radius\n",
      "  File \"/Users/etollerud/miniconda3/envs/nb-build/lib/python3.7/site-packages/drizzlepac/imgclasses.py\", line 1670, in _estimate_2dhist_shift\n",
      "    .format(xp, yp, sig, flux))\n",
      "UnboundLocalError: local variable 'sig' referenced before assignment\n"
     ]
    },
    {
     "ename": "UnboundLocalError",
     "evalue": "local variable 'sig' referenced before assignment",
     "output_type": "error",
     "traceback": [
      "\u001b[0;31m---------------------------------------------------------------------------\u001b[0m",
      "\u001b[0;31mUnboundLocalError\u001b[0m                         Traceback (most recent call last)",
      "\u001b[0;32m~/miniconda3/envs/nb-build/lib/python3.7/site-packages/drizzlepac/util.py\u001b[0m in \u001b[0;36mwrapper\u001b[0;34m(*args, **kwargs)\u001b[0m\n\u001b[1;32m    223\u001b[0m             \u001b[0;31m# finally clause is reached.\u001b[0m\u001b[0;34m\u001b[0m\u001b[0;34m\u001b[0m\u001b[0;34m\u001b[0m\u001b[0m\n\u001b[1;32m    224\u001b[0m             \u001b[0;32mtry\u001b[0m\u001b[0;34m:\u001b[0m\u001b[0;34m\u001b[0m\u001b[0;34m\u001b[0m\u001b[0m\n\u001b[0;32m--> 225\u001b[0;31m                 \u001b[0mresult\u001b[0m \u001b[0;34m=\u001b[0m \u001b[0mfunc\u001b[0m\u001b[0;34m(\u001b[0m\u001b[0;34m*\u001b[0m\u001b[0margs\u001b[0m\u001b[0;34m,\u001b[0m \u001b[0;34m**\u001b[0m\u001b[0mkwargs\u001b[0m\u001b[0;34m)\u001b[0m\u001b[0;34m\u001b[0m\u001b[0;34m\u001b[0m\u001b[0m\n\u001b[0m\u001b[1;32m    226\u001b[0m             \u001b[0;32mexcept\u001b[0m \u001b[0mException\u001b[0m \u001b[0;32mas\u001b[0m \u001b[0me\u001b[0m\u001b[0;34m:\u001b[0m\u001b[0;34m\u001b[0m\u001b[0;34m\u001b[0m\u001b[0m\n\u001b[1;32m    227\u001b[0m                 \u001b[0merrorobj\u001b[0m \u001b[0;34m=\u001b[0m \u001b[0me\u001b[0m\u001b[0;34m\u001b[0m\u001b[0;34m\u001b[0m\u001b[0m\n",
      "\u001b[0;32m~/miniconda3/envs/nb-build/lib/python3.7/site-packages/drizzlepac/tweakreg.py\u001b[0m in \u001b[0;36mrun\u001b[0;34m(configobj)\u001b[0m\n\u001b[1;32m    549\u001b[0m                 \u001b[0mprint\u001b[0m \u001b[0;34m(\u001b[0m\u001b[0;34m'\\n'\u001b[0m\u001b[0;34m+\u001b[0m\u001b[0;34m'='\u001b[0m\u001b[0;34m*\u001b[0m\u001b[0;36m20\u001b[0m\u001b[0;34m)\u001b[0m\u001b[0;34m\u001b[0m\u001b[0;34m\u001b[0m\u001b[0m\n\u001b[1;32m    550\u001b[0m                 \u001b[0mprint\u001b[0m \u001b[0;34m(\u001b[0m\u001b[0;34m'Performing fit for: {}\\n'\u001b[0m\u001b[0;34m.\u001b[0m\u001b[0mformat\u001b[0m\u001b[0;34m(\u001b[0m\u001b[0mimage\u001b[0m\u001b[0;34m.\u001b[0m\u001b[0mname\u001b[0m\u001b[0;34m)\u001b[0m\u001b[0;34m)\u001b[0m\u001b[0;34m\u001b[0m\u001b[0;34m\u001b[0m\u001b[0m\n\u001b[0;32m--> 551\u001b[0;31m                 \u001b[0mimage\u001b[0m\u001b[0;34m.\u001b[0m\u001b[0mmatch\u001b[0m\u001b[0;34m(\u001b[0m\u001b[0mrefimage\u001b[0m\u001b[0;34m,\u001b[0m \u001b[0mquiet_identity\u001b[0m\u001b[0;34m=\u001b[0m\u001b[0;32mFalse\u001b[0m\u001b[0;34m,\u001b[0m \u001b[0;34m**\u001b[0m\u001b[0mobjmatch_par\u001b[0m\u001b[0;34m)\u001b[0m\u001b[0;34m\u001b[0m\u001b[0;34m\u001b[0m\u001b[0m\n\u001b[0m\u001b[1;32m    552\u001b[0m                 \u001b[0;32massert\u001b[0m\u001b[0;34m(\u001b[0m\u001b[0mlen\u001b[0m\u001b[0;34m(\u001b[0m\u001b[0mretry_flags\u001b[0m\u001b[0;34m)\u001b[0m \u001b[0;34m==\u001b[0m \u001b[0mlen\u001b[0m\u001b[0;34m(\u001b[0m\u001b[0minput_images\u001b[0m\u001b[0;34m)\u001b[0m\u001b[0;34m)\u001b[0m\u001b[0;34m\u001b[0m\u001b[0;34m\u001b[0m\u001b[0m\n\u001b[1;32m    553\u001b[0m \u001b[0;34m\u001b[0m\u001b[0m\n",
      "\u001b[0;32m~/miniconda3/envs/nb-build/lib/python3.7/site-packages/drizzlepac/imgclasses.py\u001b[0m in \u001b[0;36mmatch\u001b[0;34m(self, refimage, quiet_identity, **kwargs)\u001b[0m\n\u001b[1;32m    519\u001b[0m                     \u001b[0mself\u001b[0m\u001b[0;34m.\u001b[0m\u001b[0moutxy\u001b[0m\u001b[0;34m,\u001b[0m\u001b[0;34m\u001b[0m\u001b[0;34m\u001b[0m\u001b[0m\n\u001b[1;32m    520\u001b[0m                     \u001b[0mref_outxy\u001b[0m\u001b[0;34m,\u001b[0m\u001b[0;34m\u001b[0m\u001b[0;34m\u001b[0m\u001b[0m\n\u001b[0;32m--> 521\u001b[0;31m                     \u001b[0msearchrad\u001b[0m\u001b[0;34m=\u001b[0m\u001b[0mradius\u001b[0m\u001b[0;34m\u001b[0m\u001b[0;34m\u001b[0m\u001b[0m\n\u001b[0m\u001b[1;32m    522\u001b[0m                 )\n\u001b[1;32m    523\u001b[0m                 \u001b[0mxyoff\u001b[0m \u001b[0;34m=\u001b[0m \u001b[0;34m(\u001b[0m\u001b[0mxsh\u001b[0m\u001b[0;34m,\u001b[0m \u001b[0mysh\u001b[0m\u001b[0;34m)\u001b[0m\u001b[0;34m\u001b[0m\u001b[0;34m\u001b[0m\u001b[0m\n",
      "\u001b[0;32m~/miniconda3/envs/nb-build/lib/python3.7/site-packages/drizzlepac/imgclasses.py\u001b[0m in \u001b[0;36m_estimate_2dhist_shift\u001b[0;34m(imgxy, refxy, searchrad)\u001b[0m\n\u001b[1;32m   1668\u001b[0m     print(\"Found initial X and Y shifts of {:.4g}, {:.4g} \"\n\u001b[1;32m   1669\u001b[0m           \u001b[0;34m\"with significance of {:.4g} and {:d} matches\"\u001b[0m\u001b[0;34m\u001b[0m\u001b[0;34m\u001b[0m\u001b[0m\n\u001b[0;32m-> 1670\u001b[0;31m           .format(xp, yp, sig, flux))\n\u001b[0m\u001b[1;32m   1671\u001b[0m \u001b[0;34m\u001b[0m\u001b[0m\n\u001b[1;32m   1672\u001b[0m     \u001b[0;32mreturn\u001b[0m \u001b[0mxp\u001b[0m\u001b[0;34m,\u001b[0m \u001b[0myp\u001b[0m\u001b[0;34m,\u001b[0m \u001b[0mint\u001b[0m\u001b[0;34m(\u001b[0m\u001b[0mnp\u001b[0m\u001b[0;34m.\u001b[0m\u001b[0mceil\u001b[0m\u001b[0;34m(\u001b[0m\u001b[0mmaxval\u001b[0m\u001b[0;34m)\u001b[0m\u001b[0;34m)\u001b[0m\u001b[0;34m,\u001b[0m \u001b[0mflux\u001b[0m\u001b[0;34m,\u001b[0m \u001b[0mzpmat\u001b[0m\u001b[0;34m,\u001b[0m \u001b[0;32mTrue\u001b[0m\u001b[0;34m\u001b[0m\u001b[0;34m\u001b[0m\u001b[0m\n",
      "\u001b[0;31mUnboundLocalError\u001b[0m: local variable 'sig' referenced before assignment"
     ]
    },
    {
     "ename": "UnboundLocalError",
     "evalue": "local variable 'sig' referenced before assignment",
     "output_type": "error",
     "traceback": [
      "\u001b[0;31m---------------------------------------------------------------------------\u001b[0m",
      "\u001b[0;31mUnboundLocalError\u001b[0m                         Traceback (most recent call last)",
      "\u001b[0;32m<ipython-input-6-d333e03d0377>\u001b[0m in \u001b[0;36m<module>\u001b[0;34m\u001b[0m\n\u001b[1;32m      9\u001b[0m                   \u001b[0mylimit\u001b[0m\u001b[0;34m=\u001b[0m\u001b[0;36m0.5\u001b[0m\u001b[0;34m,\u001b[0m\u001b[0;34m\u001b[0m\u001b[0;34m\u001b[0m\u001b[0m\n\u001b[1;32m     10\u001b[0m                   \u001b[0mupdatehdr\u001b[0m\u001b[0;34m=\u001b[0m\u001b[0;32mTrue\u001b[0m\u001b[0;34m,\u001b[0m\u001b[0;34m\u001b[0m\u001b[0;34m\u001b[0m\u001b[0m\n\u001b[0;32m---> 11\u001b[0;31m                   interactive=False)\n\u001b[0m",
      "\u001b[0;32m~/miniconda3/envs/nb-build/lib/python3.7/site-packages/drizzlepac/tweakreg.py\u001b[0m in \u001b[0;36mTweakReg\u001b[0;34m(files, editpars, configobj, imagefindcfg, refimagefindcfg, **input_dict)\u001b[0m\n\u001b[1;32m    838\u001b[0m     \u001b[0;32mif\u001b[0m \u001b[0;32mnot\u001b[0m \u001b[0meditpars\u001b[0m\u001b[0;34m:\u001b[0m\u001b[0;34m\u001b[0m\u001b[0;34m\u001b[0m\u001b[0m\n\u001b[1;32m    839\u001b[0m         \u001b[0;31m# Pass full set of parameters on to the task\u001b[0m\u001b[0;34m\u001b[0m\u001b[0;34m\u001b[0m\u001b[0;34m\u001b[0m\u001b[0m\n\u001b[0;32m--> 840\u001b[0;31m         \u001b[0mrun\u001b[0m\u001b[0;34m(\u001b[0m\u001b[0mconfigObj\u001b[0m\u001b[0;34m)\u001b[0m\u001b[0;34m\u001b[0m\u001b[0;34m\u001b[0m\u001b[0m\n\u001b[0m\u001b[1;32m    841\u001b[0m \u001b[0;34m\u001b[0m\u001b[0m\n\u001b[1;32m    842\u001b[0m \u001b[0;34m\u001b[0m\u001b[0m\n",
      "\u001b[0;32m~/miniconda3/envs/nb-build/lib/python3.7/site-packages/drizzlepac/util.py\u001b[0m in \u001b[0;36mwrapper\u001b[0;34m(*args, **kwargs)\u001b[0m\n\u001b[1;32m    237\u001b[0m                     \u001b[0;31m# exception raised)\u001b[0m\u001b[0;34m\u001b[0m\u001b[0;34m\u001b[0m\u001b[0;34m\u001b[0m\u001b[0m\n\u001b[1;32m    238\u001b[0m                     \u001b[0;32mif\u001b[0m \u001b[0merrorobj\u001b[0m\u001b[0;34m:\u001b[0m\u001b[0;34m\u001b[0m\u001b[0;34m\u001b[0m\u001b[0m\n\u001b[0;32m--> 239\u001b[0;31m                         \u001b[0;32mraise\u001b[0m \u001b[0merrorobj\u001b[0m\u001b[0;34m\u001b[0m\u001b[0;34m\u001b[0m\u001b[0m\n\u001b[0m\u001b[1;32m    240\u001b[0m             \u001b[0;32mreturn\u001b[0m \u001b[0mresult\u001b[0m\u001b[0;34m\u001b[0m\u001b[0;34m\u001b[0m\u001b[0m\n\u001b[1;32m    241\u001b[0m \u001b[0;34m\u001b[0m\u001b[0m\n",
      "\u001b[0;32m~/miniconda3/envs/nb-build/lib/python3.7/site-packages/drizzlepac/util.py\u001b[0m in \u001b[0;36mwrapper\u001b[0;34m(*args, **kwargs)\u001b[0m\n\u001b[1;32m    223\u001b[0m             \u001b[0;31m# finally clause is reached.\u001b[0m\u001b[0;34m\u001b[0m\u001b[0;34m\u001b[0m\u001b[0;34m\u001b[0m\u001b[0m\n\u001b[1;32m    224\u001b[0m             \u001b[0;32mtry\u001b[0m\u001b[0;34m:\u001b[0m\u001b[0;34m\u001b[0m\u001b[0;34m\u001b[0m\u001b[0m\n\u001b[0;32m--> 225\u001b[0;31m                 \u001b[0mresult\u001b[0m \u001b[0;34m=\u001b[0m \u001b[0mfunc\u001b[0m\u001b[0;34m(\u001b[0m\u001b[0;34m*\u001b[0m\u001b[0margs\u001b[0m\u001b[0;34m,\u001b[0m \u001b[0;34m**\u001b[0m\u001b[0mkwargs\u001b[0m\u001b[0;34m)\u001b[0m\u001b[0;34m\u001b[0m\u001b[0;34m\u001b[0m\u001b[0m\n\u001b[0m\u001b[1;32m    226\u001b[0m             \u001b[0;32mexcept\u001b[0m \u001b[0mException\u001b[0m \u001b[0;32mas\u001b[0m \u001b[0me\u001b[0m\u001b[0;34m:\u001b[0m\u001b[0;34m\u001b[0m\u001b[0;34m\u001b[0m\u001b[0m\n\u001b[1;32m    227\u001b[0m                 \u001b[0merrorobj\u001b[0m \u001b[0;34m=\u001b[0m \u001b[0me\u001b[0m\u001b[0;34m\u001b[0m\u001b[0;34m\u001b[0m\u001b[0m\n",
      "\u001b[0;32m~/miniconda3/envs/nb-build/lib/python3.7/site-packages/drizzlepac/tweakreg.py\u001b[0m in \u001b[0;36mrun\u001b[0;34m(configobj)\u001b[0m\n\u001b[1;32m    549\u001b[0m                 \u001b[0mprint\u001b[0m \u001b[0;34m(\u001b[0m\u001b[0;34m'\\n'\u001b[0m\u001b[0;34m+\u001b[0m\u001b[0;34m'='\u001b[0m\u001b[0;34m*\u001b[0m\u001b[0;36m20\u001b[0m\u001b[0;34m)\u001b[0m\u001b[0;34m\u001b[0m\u001b[0;34m\u001b[0m\u001b[0m\n\u001b[1;32m    550\u001b[0m                 \u001b[0mprint\u001b[0m \u001b[0;34m(\u001b[0m\u001b[0;34m'Performing fit for: {}\\n'\u001b[0m\u001b[0;34m.\u001b[0m\u001b[0mformat\u001b[0m\u001b[0;34m(\u001b[0m\u001b[0mimage\u001b[0m\u001b[0;34m.\u001b[0m\u001b[0mname\u001b[0m\u001b[0;34m)\u001b[0m\u001b[0;34m)\u001b[0m\u001b[0;34m\u001b[0m\u001b[0;34m\u001b[0m\u001b[0m\n\u001b[0;32m--> 551\u001b[0;31m                 \u001b[0mimage\u001b[0m\u001b[0;34m.\u001b[0m\u001b[0mmatch\u001b[0m\u001b[0;34m(\u001b[0m\u001b[0mrefimage\u001b[0m\u001b[0;34m,\u001b[0m \u001b[0mquiet_identity\u001b[0m\u001b[0;34m=\u001b[0m\u001b[0;32mFalse\u001b[0m\u001b[0;34m,\u001b[0m \u001b[0;34m**\u001b[0m\u001b[0mobjmatch_par\u001b[0m\u001b[0;34m)\u001b[0m\u001b[0;34m\u001b[0m\u001b[0;34m\u001b[0m\u001b[0m\n\u001b[0m\u001b[1;32m    552\u001b[0m                 \u001b[0;32massert\u001b[0m\u001b[0;34m(\u001b[0m\u001b[0mlen\u001b[0m\u001b[0;34m(\u001b[0m\u001b[0mretry_flags\u001b[0m\u001b[0;34m)\u001b[0m \u001b[0;34m==\u001b[0m \u001b[0mlen\u001b[0m\u001b[0;34m(\u001b[0m\u001b[0minput_images\u001b[0m\u001b[0;34m)\u001b[0m\u001b[0;34m)\u001b[0m\u001b[0;34m\u001b[0m\u001b[0;34m\u001b[0m\u001b[0m\n\u001b[1;32m    553\u001b[0m \u001b[0;34m\u001b[0m\u001b[0m\n",
      "\u001b[0;32m~/miniconda3/envs/nb-build/lib/python3.7/site-packages/drizzlepac/imgclasses.py\u001b[0m in \u001b[0;36mmatch\u001b[0;34m(self, refimage, quiet_identity, **kwargs)\u001b[0m\n\u001b[1;32m    519\u001b[0m                     \u001b[0mself\u001b[0m\u001b[0;34m.\u001b[0m\u001b[0moutxy\u001b[0m\u001b[0;34m,\u001b[0m\u001b[0;34m\u001b[0m\u001b[0;34m\u001b[0m\u001b[0m\n\u001b[1;32m    520\u001b[0m                     \u001b[0mref_outxy\u001b[0m\u001b[0;34m,\u001b[0m\u001b[0;34m\u001b[0m\u001b[0;34m\u001b[0m\u001b[0m\n\u001b[0;32m--> 521\u001b[0;31m                     \u001b[0msearchrad\u001b[0m\u001b[0;34m=\u001b[0m\u001b[0mradius\u001b[0m\u001b[0;34m\u001b[0m\u001b[0;34m\u001b[0m\u001b[0m\n\u001b[0m\u001b[1;32m    522\u001b[0m                 )\n\u001b[1;32m    523\u001b[0m                 \u001b[0mxyoff\u001b[0m \u001b[0;34m=\u001b[0m \u001b[0;34m(\u001b[0m\u001b[0mxsh\u001b[0m\u001b[0;34m,\u001b[0m \u001b[0mysh\u001b[0m\u001b[0;34m)\u001b[0m\u001b[0;34m\u001b[0m\u001b[0;34m\u001b[0m\u001b[0m\n",
      "\u001b[0;32m~/miniconda3/envs/nb-build/lib/python3.7/site-packages/drizzlepac/imgclasses.py\u001b[0m in \u001b[0;36m_estimate_2dhist_shift\u001b[0;34m(imgxy, refxy, searchrad)\u001b[0m\n\u001b[1;32m   1668\u001b[0m     print(\"Found initial X and Y shifts of {:.4g}, {:.4g} \"\n\u001b[1;32m   1669\u001b[0m           \u001b[0;34m\"with significance of {:.4g} and {:d} matches\"\u001b[0m\u001b[0;34m\u001b[0m\u001b[0;34m\u001b[0m\u001b[0m\n\u001b[0;32m-> 1670\u001b[0;31m           .format(xp, yp, sig, flux))\n\u001b[0m\u001b[1;32m   1671\u001b[0m \u001b[0;34m\u001b[0m\u001b[0m\n\u001b[1;32m   1672\u001b[0m     \u001b[0;32mreturn\u001b[0m \u001b[0mxp\u001b[0m\u001b[0;34m,\u001b[0m \u001b[0myp\u001b[0m\u001b[0;34m,\u001b[0m \u001b[0mint\u001b[0m\u001b[0;34m(\u001b[0m\u001b[0mnp\u001b[0m\u001b[0;34m.\u001b[0m\u001b[0mceil\u001b[0m\u001b[0;34m(\u001b[0m\u001b[0mmaxval\u001b[0m\u001b[0;34m)\u001b[0m\u001b[0;34m)\u001b[0m\u001b[0;34m,\u001b[0m \u001b[0mflux\u001b[0m\u001b[0;34m,\u001b[0m \u001b[0mzpmat\u001b[0m\u001b[0;34m,\u001b[0m \u001b[0;32mTrue\u001b[0m\u001b[0;34m\u001b[0m\u001b[0;34m\u001b[0m\u001b[0m\n",
      "\u001b[0;31mUnboundLocalError\u001b[0m: local variable 'sig' referenced before assignment"
     ]
    },
    {
     "data": {
      "image/png": "[encoded data removed]",
      "text/plain": [
       "<Figure size 432x288 with 2 Axes>"
      ]
     },
     "metadata": {
      "needs_background": "light"
     },
     "output_type": "display_data"
    }
   ],
   "source": [
    "tweakreg.TweakReg('@drz.list', \n",
    "                  imagefindcfg={'threshold': 10, 'conv_width': 4.5, 'peakmin': 1}, \n",
    "                  minobj=5, \n",
    "                  shiftfile=True, \n",
    "                  expand_refcat=True, \n",
    "                  enforce_user_order=True, \n",
    "                  outshifts='shift4_drc.txt',\n",
    "                  searchrad=3.0,\n",
    "                  ylimit=0.5, \n",
    "                  updatehdr=True, \n",
    "                  interactive=False)"
   ]
  },
  {
   "cell_type": "markdown",
   "metadata": {},
   "source": [
    "Tweakback is then run on the aligned DRZ files to propogate the updated WCS information back to the FLT files."
   ]
  },
  {
   "cell_type": "code",
   "execution_count": null,
   "metadata": {},
   "outputs": [],
   "source": [
    "drz_files = glob.glob('i*_drz.fits')\n",
    "\n",
    "for f in drz_files:\n",
    "    tweakback.tweakback(f, verbose=True)"
   ]
  },
  {
   "cell_type": "markdown",
   "metadata": {},
   "source": [
    "## 3. Compare  `skymethod` options in AstroDrizzle"
   ]
  },
  {
   "cell_type": "markdown",
   "metadata": {},
   "source": [
    "### `skymethod = 'localmin'`"
   ]
  },
  {
   "cell_type": "markdown",
   "metadata": {},
   "source": [
    "When using AstroDrizzle to compute the sky in each frame, 'localmin' will compute a common sky for all members of an exposure, as described [here](https://drizzlepac.readthedocs.io/en/deployment/sky.html#drizzlepac.sky.sky). This algorithm is recommended when images are dominated by blank sky instead of extended, diffuse sources.\n",
    "\n",
    "For a typical use, it will compute sky values for each chip/image extension (marked for sky subtraction in the input parameter) in an input image, and it will subtract the previously found minimum sky value from all chips in that image. This process is repeated for each input image.\n",
    "\n",
    "In the command below, the aligned FLT frames are sky subtracted and drizzled together. Because the WFC3/IR data products are already cleaned of cosmic rays during calwf3 processing, cosmic-ray rejection is turned off in AstroDrizzle by setting the parameters `driz_separate`, `median`, `blot`, and `driz_cr` to 'False'."
   ]
  },
  {
   "cell_type": "code",
   "execution_count": null,
   "metadata": {},
   "outputs": [],
   "source": [
    "drizzlepac.astrodrizzle.AstroDrizzle('*flt.fits', \n",
    "                                     output='f160w_localmin',\n",
    "                                     preserve=False, \n",
    "                                     skymethod='localmin', \n",
    "                                     driz_separate=False, \n",
    "                                     median=False, \n",
    "                                     blot=False, \n",
    "                                     driz_cr=False, \n",
    "                                     final_bits='64',\n",
    "                                     final_wcs=True, \n",
    "                                     final_rot=257.)"
   ]
  },
  {
   "cell_type": "markdown",
   "metadata": {},
   "source": [
    "### `skymethod = 'match'`"
   ]
  },
  {
   "cell_type": "markdown",
   "metadata": {},
   "source": [
    "When `skymethod` is set to ‘match’, differences in sky values between images in common sky regions will be computed. Thus, sky values will be relative (delta) to the sky computed in one of the input images whose sky value will be set to and reported as 0. This setting “equalizes” sky values between the images in large mosaics. \n",
    "\n",
    "This is the **recommended** setting for images containing diffuse sources (e.g., galaxies, nebulae) covering significant parts of the image."
   ]
  },
  {
   "cell_type": "code",
   "execution_count": null,
   "metadata": {},
   "outputs": [],
   "source": [
    "drizzlepac.astrodrizzle.AstroDrizzle('*flt.fits', \n",
    "                                     output='f160w_match',\n",
    "                                     preserve=False, \n",
    "                                     skymethod='match',\n",
    "                                     driz_separate=False, \n",
    "                                     median=False, \n",
    "                                     blot=False, \n",
    "                                     driz_cr=False, \n",
    "                                     final_bits='64',\n",
    "                                     final_wcs=True, \n",
    "                                     final_rot=257.)"
   ]
  },
  {
   "cell_type": "markdown",
   "metadata": {},
   "source": [
    "### `skymethod = 'globalmin+match'`"
   ]
  },
  {
   "cell_type": "markdown",
   "metadata": {},
   "source": [
    "When `skymethod` is set to ‘globalmin+match', AstroDrizzle will first find a minimum “global” sky value in all input images and then use the ‘match’ method to equalize sky values between images."
   ]
  },
  {
   "cell_type": "code",
   "execution_count": null,
   "metadata": {},
   "outputs": [],
   "source": [
    "drizzlepac.astrodrizzle.AstroDrizzle('*flt.fits', \n",
    "                                     output='f160w_globalmin_match',\n",
    "                                     preserve=False, \n",
    "                                     skymethod='globalmin+match',\n",
    "                                     driz_separate=False, \n",
    "                                     median=False, \n",
    "                                     blot=False, \n",
    "                                     driz_cr=False, \n",
    "                                     final_bits='64',\n",
    "                                     final_wcs=True, \n",
    "                                     final_rot=257.)"
   ]
  },
  {
   "cell_type": "markdown",
   "metadata": {},
   "source": [
    "### `skymethod = 'globalmin'`"
   ]
  },
  {
   "cell_type": "markdown",
   "metadata": {},
   "source": [
    "When `skymethod` is set to ‘globalmin’, a common sky value will be computed for all exposures. AstroDrizzle will compute sky values for each chip/image extension, find the minimum sky value from all the exposures, and then subtract that minimum sky value from all chips in all images. \n",
    "\n",
    "This method may be useful when input images already have matched background values."
   ]
  },
  {
   "cell_type": "code",
   "execution_count": null,
   "metadata": {},
   "outputs": [],
   "source": [
    "drizzlepac.astrodrizzle.AstroDrizzle('*flt.fits', \n",
    "                                     output='f160w_globalmin',     \n",
    "                                     preserve=False,\n",
    "                                     skymethod='globalmin',     \n",
    "                                     driz_separate=False, \n",
    "                                     median=False, \n",
    "                                     blot=False, \n",
    "                                     driz_cr=False, \n",
    "                                     final_bits='64',\n",
    "                                     final_wcs=True, \n",
    "                                     final_rot=257.)"
   ]
  },
  {
   "cell_type": "markdown",
   "metadata": {},
   "source": [
    "## 4. Compare the MDRIZSKY values for each method"
   ]
  },
  {
   "cell_type": "markdown",
   "metadata": {},
   "source": [
    "Below we provide a gif comparing the upper portion of the final drizzled image. We cycle through three of the versions that use different `skymethod` algorithms:  \n",
    "\n",
    "![SegmentLocal](labeled_local_globalmatch_match.gif)"
   ]
  },
  {
   "cell_type": "markdown",
   "metadata": {},
   "source": [
    "Below is the code used to compare results from the various skymatching methods. It's best practice to use more compact for loops when possible in situations like this, but we wanted to write out each file to ensure we are gathering the proper `MDRIZSKY` values for each `skymethod` run. We also display a table (Pandas DataFrame) of the different sky matching `MDRIZSKY` values for comparison."
   ]
  },
  {
   "cell_type": "code",
   "execution_count": null,
   "metadata": {},
   "outputs": [],
   "source": [
    "# This is a quick method of opening our different results and gathering the `MDRIZSKY` values: \n",
    "im = fits.open(\"f160w_globalmin_drz_sci.fits\")\n",
    "rootname = im[1].data['ROOTNAME']\n",
    "asn_id = im[1].data['ASN_ID']\n",
    "orientat = im[1].data['ORIENTAT']\n",
    "mdrizsky = im[1].data['MDRIZSKY']\n",
    "im.close()\n",
    "\n",
    "im = fits.open(\"f160w_globalmin_match_drz_sci.fits\")\n",
    "globalmatchrootname = im[1].data['ROOTNAME']\n",
    "asn_id = im[1].data['ASN_ID']\n",
    "orientat = im[1].data['ORIENTAT']\n",
    "globalmatchmdrizsky = im[1].data['MDRIZSKY']\n",
    "im.close()\n",
    "\n",
    "im = fits.open(\"f160w_match_drz_sci.fits\")\n",
    "matchrootname = im[1].data['ROOTNAME']\n",
    "asn_id = im[1].data['ASN_ID']\n",
    "orientat = im[1].data['ORIENTAT']\n",
    "matchmdrizsky = im[1].data['MDRIZSKY']\n",
    "im.close()\n",
    "\n",
    "im = fits.open(\"f160w_localmin_drz_sci.fits\")\n",
    "localrootname = im[1].data['ROOTNAME']\n",
    "asn_id = im[1].data['ASN_ID']\n",
    "orientat = im[1].data['ORIENTAT']\n",
    "localmdrizsky = im[1].data['MDRIZSKY']\n",
    "im.close()\n",
    "\n",
    "mdrizsky_val = pd.DataFrame(\n",
    "    {'Rootname': rootname,\n",
    "     'globalmin': mdrizsky,\n",
    "     'globalmin_match': globalmatchmdrizsky,\n",
    "     'match': matchmdrizsky,\n",
    "     'local': localmdrizsky})\n",
    "\n",
    "mdrizsky_val"
   ]
  },
  {
   "cell_type": "markdown",
   "metadata": {},
   "source": [
    "These computed sky values can be visualized in the plot below. To reiterate, the MDRIZSKY keyword reports the value subtracted from each image, and not the sky level itself. Thus the values for `skymethod='match'` are close to zero. We also note that varying background levels across the individual tiles result in inaccurate sky background determination when `skymethod='match'` and thus a mismatched sky in the final mosaic."
   ]
  },
  {
   "cell_type": "code",
   "execution_count": null,
   "metadata": {},
   "outputs": [],
   "source": [
    "index = mdrizsky_val.index.tolist()\n",
    "globalmin = list(mdrizsky_val['globalmin'])\n",
    "globalmin_match = list(mdrizsky_val['globalmin_match'])\n",
    "match = list(mdrizsky_val['match'])\n",
    "local = list(mdrizsky_val['local'])\n",
    "\n",
    "#Plotting code: \n",
    "fig = plt.figure(figsize=[10,10])\n",
    "plt.scatter(index, globalmin_match, color='magenta', label='Globalmin + Match')\n",
    "plt.scatter(index, match, color='navy', label='Match')\n",
    "plt.scatter(index, local, color='olive', label='Local')\n",
    "plt.scatter(index, globalmin, color = 'orange', label='Globalmin')\n",
    "plt.xlabel('Individual Images')\n",
    "plt.ylabel('MDRIZSKY Value')\n",
    "plt.legend(loc=\"center left\")\n",
    "plt.xticks(index)\n",
    "plt.tight_layout()"
   ]
  },
  {
   "cell_type": "markdown",
   "metadata": {},
   "source": [
    "## 5. Display the full 'matched' mosaic "
   ]
  },
  {
   "cell_type": "code",
   "execution_count": null,
   "metadata": {},
   "outputs": [],
   "source": [
    "sci = fits.getdata('f160w_match_drz_sci.fits')\n",
    "fig = plt.figure(figsize=(14, 14))\n",
    "plt.imshow(sci, vmin=-0.4, vmax=3, cmap='Greys_r', origin='lower')"
   ]
  },
  {
   "cell_type": "markdown",
   "metadata": {},
   "source": [
    "# About this Notebook\n",
    "\n",
    "    Author: C. Martlin, STScI WFC3 Team  \n",
    "    Updated: December, 14 2018"
   ]
  }
 ],
 "metadata": {
  "kernelspec": {
   "display_name": "Python 3",
   "language": "python",
   "name": "python3"
  },
  "language_info": {
   "codemirror_mode": {
    "name": "ipython",
    "version": 3
   },
   "file_extension": ".py",
   "mimetype": "text/x-python",
   "name": "python",
   "nbconvert_exporter": "python",
   "pygments_lexer": "ipython3",
   "version": "3.5.6"
  }
 },
 "nbformat": 4,
 "nbformat_minor": 2
}
