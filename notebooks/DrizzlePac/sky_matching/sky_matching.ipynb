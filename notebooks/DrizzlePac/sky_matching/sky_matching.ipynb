{
 "cells": [
  {
   "cell_type": "markdown",
   "metadata": {},
   "source": [
    "# Sky Matching "
   ]
  },
  {
   "cell_type": "markdown",
   "metadata": {},
   "source": [
    "<div class=\"alert-danger\">Note: The notebook in this repository 'Initialization.ipynb' goes over many of the basic concepts such as the setup of the environment/package installation and should be read first if you are new to HST images, DrizzlePac, or Astroquery.</div>"
   ]
  },
  {
   "cell_type": "markdown",
   "metadata": {},
   "source": [
    "## Introduction\n",
    "\n",
    "AstroDrizzle has the ability to compute and then either subtract or equalize the background in input images in order to match the sky between images. The function allows users to select the algorithm for the sky subtraction using the `skymethod` parameter. \n",
    "\n",
    "There are four methods available in sky matching: 'localmin', 'match', 'globalmin', 'globalmin+match'.\n",
    "\n",
    "By applying `drizzlepac.sky.sky()`, AstroDrizzle will update the keyword `MDRIZSKY` in the headers of the input files. \n",
    "\n",
    "The **recommended** use for images with sparse fields that have few astronomical sources is `skymethod = localmin` and for images with complicated backgrounds, such as nebulae and large host galaxies, `skymethod = match` is recommended.\n",
    "\n",
    "For more information on the specifics of this function please refer to the documentation [here](https://drizzlepac.readthedocs.io/en/deployment/sky.html#drizzlepac.sky.sky).\n",
    "\n",
    "Below, each of the four methods will be demonstrated using a single example dataset, and differences between the methods will be highlighted. "
   ]
  },
  {
   "cell_type": "code",
   "execution_count": null,
   "metadata": {},
   "outputs": [],
   "source": [
    "# All imports needed through out this notebook are included at the beginning. \n",
    "import glob\n",
    "import os\n",
    "import shutil\n",
    "from shutil import copyfile\n",
    "\n",
    "from astropy.io import fits\n",
    "from astroquery.mast import Observations\n",
    "import bokeh.plotting as bpl\n",
    "import bokeh.models as bmo\n",
    "import pandas as pd\n",
    "\n",
    "from ccdproc import ImageFileCollection\n",
    "\n",
    "import drizzlepac\n",
    "from drizzlepac import tweakreg\n",
    "from drizzlepac import tweakback\n",
    "from stwcs import updatewcs \n",
    "\n",
    "import matplotlib.pyplot as plt\n",
    "from astropy.visualization import astropy_mpl_style\n",
    "from IPython.display import Image\n",
    "\n",
    "bpl.output_notebook()"
   ]
  },
  {
   "cell_type": "markdown",
   "metadata": {},
   "source": [
    "## 1. Retrieve Observations using Astroquery"
   ]
  },
  {
   "cell_type": "markdown",
   "metadata": {},
   "source": [
    "WFC3/IR observations of the Horsehead Nebula obtained in HST proposal 12812 (PI: Levay) will be used for this demonstration. The images have been processed by the HST WFC3 pipeline (calwf3), which includes bias subtraction, dark current correction, cosmic-ray rejection, and flatfielding.\n",
    "\n",
    "The alignment specifics for this example are based on the example found [here](https://archive.stsci.edu/prepds/heritage/horsehead/readme_HLSP_v3.txt). We will provide explanation about the process as we go. \n",
    "\n",
    "The code used to retrieve the data from astroquery is below."
   ]
  },
  {
   "cell_type": "code",
   "execution_count": null,
   "metadata": {
    "scrolled": false
   },
   "outputs": [],
   "source": [
    "# Retrieve the observation information.\n",
    "obs_table = Observations.query_criteria(proposal_id='12812',filters=[\"F160W\"],project='HST')\n",
    "obs_table.show_in_notebook()\n",
    "\n",
    "# Figure out the downloadable products:\n",
    "dataProductsByObservation = Observations.get_product_list(obs_table)\n",
    "dataProductsByObservation.show_in_notebook()\n",
    "\n",
    "# Download the flc.fits files: \n",
    "obsids = obs_table['obsid']\n",
    "\n",
    "# Download the data - uncomment to download: \n",
    "Observations.download_products(obsids,mrp_only=False,\n",
    "                               productSubGroupDescription=['FLT','DRZ'])"
   ]
  },
  {
   "cell_type": "markdown",
   "metadata": {},
   "source": [
    "### Move files to the local directory "
   ]
  },
  {
   "cell_type": "code",
   "execution_count": null,
   "metadata": {},
   "outputs": [],
   "source": [
    "flt_files = glob.glob('mastDownload/*/*/*flt.fits')\n",
    "\n",
    "for file in flt_files:\n",
    "    im = fits.open(file)\n",
    "    rootname = im[0].header['ROOTNAME']\n",
    "    im.close()\n",
    "    dst = rootname + \"_flt.fits\"\n",
    "    copyfile(file, dst)\n",
    "\n",
    "drz_files = glob.glob('mastDownload/*/*/*drz.fits')\n",
    "\n",
    "for file in drz_files:\n",
    "    im = fits.open(file)\n",
    "    rootname = im[0].header['ROOTNAME']\n",
    "    im.close()\n",
    "    dst = rootname + \"_drz.fits\"\n",
    "    copyfile(file, dst)"
   ]
  },
  {
   "cell_type": "markdown",
   "metadata": {},
   "source": [
    "### Inspect the image headers"
   ]
  },
  {
   "cell_type": "code",
   "execution_count": null,
   "metadata": {},
   "outputs": [],
   "source": [
    "collect_flt = ImageFileCollection('./', glob_include=\"*flt.fits\", ext=0,\n",
    "                                  keywords=[\"asn_id\",\"detector\",\"filter\",\"exptime\",\"postarg1\",\"postarg2\"])\n",
    "    \n",
    "flt_table = collect_flt.summary\n",
    "flt_table['exptime'].format='7.1f'\n",
    "flt_table['postarg1'].format='7.2f'\n",
    "flt_table['postarg2'].format='7.2f'\n",
    "flt_table"
   ]
  },
  {
   "cell_type": "code",
   "execution_count": null,
   "metadata": {},
   "outputs": [],
   "source": [
    "collect_drz = ImageFileCollection('./', glob_include=\"*drz.fits\", ext=0,\n",
    "                                  keywords=[\"asn_id\",\"detector\",\"filter\",\"exptime\"])\n",
    "    \n",
    "drz_table = collect_drz.summary\n",
    "drz_table['exptime'].format='7.1f'\n",
    "drz_table"
   ]
  },
  {
   "cell_type": "markdown",
   "metadata": {},
   "source": [
    "## 2. Align the visit-level drizzled data"
   ]
  },
  {
   "cell_type": "markdown",
   "metadata": {},
   "source": [
    "Exposures obtained within a single HST visit tend to be aligned very well since they use the same guide stars. Thus, we will use TweakReg to align the DRZ files and then use TweakBack to propagate those solutions back to the FLT image headers prior to combining with AstroDrizzle. Making use of the parameter `expand_refcat`, TweakReg will build up an expanded reference catalog on the sky to be used for alignment. For this dataset, we obtain the best results when we tell TweakReg to align the DRZ files in a specific order, and this is achieved by giving a list of files as input. More details on alignment of HST mosaics can be found in the notebook 'mosaics.ipynb' in this repository.\n",
    "    \n",
    "    drz.list\n",
    "    ibxl54030_drz.fits\t<-- Note that tile 54 is the reference and is listed first\n",
    "    ibxl51030_drz.fits  \n",
    "    ibxl53030_drz.fits\n",
    "    ibxl55030_drz.fits\n",
    "    ibxl57030_drz.fits\n",
    "    ibxl50030_drz.fits\n",
    "    ibxl52030_drz.fits\n",
    "    ibxl56030_drz.fits\n",
    "    ibxl58030_drz.fits\n",
    "      ____ ____ ____\n",
    "     |    |    |    |    <-- The 4 tiles with the most overlap are aligned first\n",
    "     |    | 55 |    |\n",
    "     |____|____|____|\n",
    "     |    |    |    |\n",
    "     | 57 | 54 | 51 |\n",
    "     |____|____|____|\n",
    "     |    |    |    |\n",
    "     |    | 53 |    |\n",
    "     |____|____|____|\n",
    "   \n",
    "      ____ ____ ____\n",
    "     |    |    |    |    <-- Then the corner tiles are added \n",
    "     | 58 |    | 52 |\n",
    "     |____|____|____|\n",
    "     |    |    |    |\n",
    "     |    |    |    |\n",
    "     |____|____|____|\n",
    "     |    |    |    |\n",
    "     | 56 |    | 50 |\n",
    "     |____|____|____|\n",
    "\n",
    "This allows TweakReg to start with the tiles with the most overlap first and then build upon that, expanding the reference catalog as each new tile is aligned. "
   ]
  },
  {
   "cell_type": "code",
   "execution_count": null,
   "metadata": {},
   "outputs": [],
   "source": [
    "tweakreg.TweakReg('@drz.list', \n",
    "                  imagefindcfg={'threshold':10,'conv_width':4.5,'peakmin':1}, \n",
    "                  minobj=5, \n",
    "                  shiftfile=True, \n",
    "                  expand_refcat=True, \n",
    "                  enforce_user_order=True, \n",
    "                  outshifts='shift4_drc.txt',\n",
    "                  searchrad=3.0,ylimit=0.5, \n",
    "                  updatehdr=True, \n",
    "                  interactive=False)"
   ]
  },
  {
   "cell_type": "markdown",
   "metadata": {},
   "source": [
    "Tweakback is then run on the aligned DRZ files to propogate the updated WCS information back to the FLT files."
   ]
  },
  {
   "cell_type": "code",
   "execution_count": null,
   "metadata": {},
   "outputs": [],
   "source": [
    "tweakback.tweakback('ibxl50030_drz.fits', verbose=True)\n",
    "tweakback.tweakback('ibxl51030_drz.fits', verbose=True)\n",
    "tweakback.tweakback('ibxl52030_drz.fits', verbose=True)\n",
    "tweakback.tweakback('ibxl53030_drz.fits', verbose=True)\n",
    "tweakback.tweakback('ibxl54030_drz.fits', verbose=True)\n",
    "tweakback.tweakback('ibxl55030_drz.fits', verbose=True)\n",
    "tweakback.tweakback('ibxl56030_drz.fits', verbose=True)\n",
    "tweakback.tweakback('ibxl57030_drz.fits', verbose=True)\n",
    "tweakback.tweakback('ibxl58030_drz.fits', verbose=True)"
   ]
  },
  {
   "cell_type": "markdown",
   "metadata": {},
   "source": [
    "## 3. Compare  `skymethod` options in AstroDrizzle"
   ]
  },
  {
   "cell_type": "markdown",
   "metadata": {},
   "source": [
    "### `skymethod = 'localmin'`"
   ]
  },
  {
   "cell_type": "markdown",
   "metadata": {},
   "source": [
    "When using AstroDrizzle to compute the sky in each frame, 'localmin' will compute a common sky for all members of an exposure, as described [here](https://drizzlepac.readthedocs.io/en/deployment/sky.html#drizzlepac.sky.sky). This algorithm is recommended when images are dominated by blank sky instead of extended, diffuse sources.\n",
    "\n",
    "For a typical use, it will compute sky values for each chip/image extension (marked for sky subtraction in the input parameter) in an input image, and it will subtract the previously found minimum sky value from all chips in that image. This process is repeated for each input image.\n",
    "\n",
    "In the command below, the aligned FLT frames are sky subtracted and drizzled together. Because the WFC3/IR data products are already cleaned of cosmic rays during calwf3 processing, cosmic-ray rejection is turned off in AstroDrizzle by setting the parameters `driz_separate`, `median`, `blot`, and `driz_cr` to 'False'."
   ]
  },
  {
   "cell_type": "code",
   "execution_count": null,
   "metadata": {},
   "outputs": [],
   "source": [
    "drizzlepac.astrodrizzle.AstroDrizzle('*flt.fits', \n",
    "                                     output='f160w_localmin',\n",
    "                                     preserve=False, \n",
    "                                     skymethod='localmin', \n",
    "                                     driz_separate=False, \n",
    "                                     median=False, \n",
    "                                     blot=False, \n",
    "                                     driz_cr=False, \n",
    "                                     final_bits='64',\n",
    "                                     final_wcs=True, \n",
    "                                     final_rot=257.)"
   ]
  },
  {
   "cell_type": "markdown",
   "metadata": {},
   "source": [
    "### `skymethod = 'match'`"
   ]
  },
  {
   "cell_type": "markdown",
   "metadata": {},
   "source": [
    "When `skymethod` is set to ‘match’, differences in sky values between images in common sky regions will be computed. Thus, sky values will be relative (delta) to the sky computed in one of the input images whose sky value will be set to and reported as 0. This setting “equalizes” sky values between the images in large mosaics. \n",
    "\n",
    "This is the **recommended** setting for images containing diffuse sources (e.g., galaxies, nebulae) covering significant parts of the image."
   ]
  },
  {
   "cell_type": "code",
   "execution_count": null,
   "metadata": {},
   "outputs": [],
   "source": [
    "drizzlepac.astrodrizzle.AstroDrizzle('*flt.fits', \n",
    "                                     output='f160w_match',\n",
    "                                     preserve=False, \n",
    "                                     skymethod='match',\n",
    "                                     driz_separate=False, \n",
    "                                     median=False, \n",
    "                                     blot=False, \n",
    "                                     driz_cr=False, \n",
    "                                     final_bits='64',\n",
    "                                     final_wcs=True, \n",
    "                                     final_rot=257.)"
   ]
  },
  {
   "cell_type": "markdown",
   "metadata": {},
   "source": [
    "### `skymethod = 'globalmin+match'`"
   ]
  },
  {
   "cell_type": "markdown",
   "metadata": {},
   "source": [
    "When `skymethod` is set to ‘globalmin+match', AstroDrizzle will first find a minimum “global” sky value in all input images and then use the ‘match’ method to equalize sky values between images."
   ]
  },
  {
   "cell_type": "code",
   "execution_count": null,
   "metadata": {},
   "outputs": [],
   "source": [
    "drizzlepac.astrodrizzle.AstroDrizzle('*flt.fits', \n",
    "                                     output='f160w_globalmin_match',\n",
    "                                     preserve=False, \n",
    "                                     skymethod='globalmin+match',\n",
    "                                     driz_separate=False, \n",
    "                                     median=False, \n",
    "                                     blot=False, \n",
    "                                     driz_cr=False, \n",
    "                                     final_bits='64',\n",
    "                                     final_wcs=True, \n",
    "                                     final_rot=257.)"
   ]
  },
  {
   "cell_type": "markdown",
   "metadata": {},
   "source": [
    "### `skymethod = 'globalmin'`"
   ]
  },
  {
   "cell_type": "markdown",
   "metadata": {},
   "source": [
    "When `skymethod` is set to ‘globalmin’, a common sky value will be computed for all exposures. AstroDrizzle will compute sky values for each chip/image extension, find the minimum sky value from all the exposures, and then subtract that minimum sky value from all chips in all images. \n",
    "\n",
    "This method may be useful when input images already have matched background values."
   ]
  },
  {
   "cell_type": "code",
   "execution_count": null,
   "metadata": {},
   "outputs": [],
   "source": [
    "drizzlepac.astrodrizzle.AstroDrizzle('*flt.fits', \n",
    "                                     output='f160w_globalmin',     \n",
    "                                     preserve=False, skymethod='globalmin',     \n",
    "                                     driz_separate=False, \n",
    "                                     median=False, \n",
    "                                     blot=False, \n",
    "                                     driz_cr=False, \n",
    "                                     final_bits='64',\n",
    "                                     final_wcs=True, \n",
    "                                     final_rot=257.)"
   ]
  },
  {
   "cell_type": "markdown",
   "metadata": {},
   "source": [
    "## 4. Compare the MDRIZSKY values for each method"
   ]
  },
  {
   "cell_type": "markdown",
   "metadata": {},
   "source": [
    "The following MDRISKY values were derived for each of the four test cases: \n",
    "\n",
    "Rootname |  ASN ID |   Orientat   | MDRIZSKY localmin  |MDRIZSKY - Match|MDRIZSKY - Globalmin|MDRIZSKY - Globalmin_Match\n",
    "---------|---------|--------------|--------------------|----------------|--------------------|---------------\n",
    "ibxl50clq|IBXL50030| 170.6670349  |     1.15010715     |   0.02348762   |     0.79616243     |    0.79161596\n",
    "ibxl50cqq|IBXL50030| 170.66703485 |     1.16239488     |   0.01991268   |     0.79616243     |    0.78804102\n",
    "ibxl51eoq|IBXL51030| 166.65263374 |     1.17368317     |   0.03672888   |     0.79616243     |    0.80485721 \n",
    "ibxl51etq|IBXL51030| 166.65263371 |     1.17073488     |   0.02612076   |     0.79616243     |    0.79424910\n",
    "ibxl52k0q|IBXL52030| 166.66514055 |     0.80133963     |   0.03321128   |     0.79616243     |    0.80133962\n",
    "ibxl52k5q|IBXL52030| 166.66514048 |     0.79616243     |   0.02150525   |     0.79616243     |    0.78963359\n",
    "ibxl53kxq|IBXL53030| 165.60829152 |     1.20236218     |   0.04025653   |     0.79616243     |    0.80838487\n",
    "ibxl53l9q|IBXL53030| 165.60829155 |     1.1834859      |   0.01995461   |     0.79616243     |    0.78808295\n",
    "ibxl54bgq|IBXL54030| 166.63124069 |     1.16979861     |   0.02172938   |     0.79616243     |    0.78985772\n",
    "ibxl54blq|IBXL54030| 166.63124069 |     1.1632545      |   0.01651723   |     0.79616243     |    0.78464557\n",
    "ibxl55f0q|IBXL55030| 166.62229657 |     1.00639629     |   0.01668276   |     0.79616243     |    0.78481110\n",
    "ibxl55f5q|IBXL55030| 166.62229656 |     1.00930452     |   0.01690617   |     0.79616243     |    0.78503450 \n",
    "ibxl56huq|IBXL56030| 162.58958453 |     1.3632288      |   0.02503881   |     0.79616243     |    0.79316715\n",
    "ibxl56i2q|IBXL56030| 162.58958458 |     1.3619746      |   0.02014752   |     0.79616243     |    0.78827586\n",
    "ibxl57adq|IBXL57030| 166.60915246 |     1.13295722     |   0.00687557   |     0.79616243     |    0.77500390\n",
    "ibxl57aiq|IBXL57030| 166.60915247 |     1.11978412     |   0.00589288   |     0.79616243     |    0.77402122 \n",
    "ibxl58sqq|IBXL58030| 166.61403565 |     0.80498779     |   0.00166623   |     0.79616243     |    0.76979457\n",
    "ibxl58svq|IBXL58030| 166.61403566 |     0.79938716     |   0.0          |     0.79616243     |    0.76812834\n"
   ]
  },
  {
   "cell_type": "markdown",
   "metadata": {},
   "source": [
    "These computed sky values can be visualized in the plot below. To reiterate, the MDRIZSKY keyword reports the value subtracted from each image, and not the sky level itself. Thus the values for `skymethod='match'` are close to zero. We also note that varying background levels across the individual tiles result in inaccurate sky background determination when `skymethod='match'` and thus a mismatched sky in the final mosaic.\n",
    "\n",
    "<img src=\"MDRIZSKY_Values.png\" width=\"600\">"
   ]
  },
  {
   "cell_type": "markdown",
   "metadata": {},
   "source": [
    "Below we provide a gif comparing the upper portion of the final drizzled image. We cycle through three of the versions that use different skymethod algorithms:  \n",
    "\n",
    "![SegmentLocal](labeled_local_globalmatch_match.gif)"
   ]
  },
  {
   "cell_type": "markdown",
   "metadata": {},
   "source": [
    "Below is the code used to compare results from the various skymatching methods. This creates an output csv file that allows the user create a plot like the one above to compare the `MDRIZSKY` values. "
   ]
  },
  {
   "cell_type": "code",
   "execution_count": null,
   "metadata": {},
   "outputs": [],
   "source": [
    "im = fits.open(\"f160w_globalmin_drz_sci.fits\")\n",
    "rootname = im[1].data['ROOTNAME']\n",
    "asn_id = im[1].data['ASN_ID']\n",
    "orientat = im[1].data['ORIENTAT']\n",
    "mdrizsky = im[1].data['MDRIZSKY']\n",
    "im.close()\n",
    "\n",
    "im = fits.open(\"f160w_globalmin_match_drz_sci.fits\")\n",
    "globalmatchrootname = im[1].data['ROOTNAME']\n",
    "asn_id = im[1].data['ASN_ID']\n",
    "orientat = im[1].data['ORIENTAT']\n",
    "globalmatchmdrizsky = im[1].data['MDRIZSKY']\n",
    "im.close()\n",
    "\n",
    "im = fits.open(\"f160w_match_drz_sci.fits\")\n",
    "matchrootname = im[1].data['ROOTNAME']\n",
    "asn_id = im[1].data['ASN_ID']\n",
    "orientat = im[1].data['ORIENTAT']\n",
    "matchmdrizsky = im[1].data['MDRIZSKY']\n",
    "im.close()\n",
    "\n",
    "im = fits.open(\"f160w_localmin_drz_sci.fits\")\n",
    "localrootname = im[1].data['ROOTNAME']\n",
    "asn_id = im[1].data['ASN_ID']\n",
    "orientat = im[1].data['ORIENTAT']\n",
    "localmdrizsky = im[1].data['MDRIZSKY']\n",
    "im.close()\n",
    "\n",
    "mkdrisky_val = pd.DataFrame(\n",
    "    {'Rootname': rootname,\n",
    "     'globalmin': mdrizsky,\n",
    "     'globalmin_match': globalmatchmdrizsky,\n",
    "     'match': matchmdrizsky,\n",
    "     'local': localmdrizsky})\n",
    "\n",
    "mkdrisky_val['norm_local'] = mkdrisky_val['local']\n",
    "mkdrisky_val['norm_match'] = mkdrisky_val['match']\n",
    "mkdrisky_val['norm_global'] = mkdrisky_val['globalmin']\n",
    "mkdrisky_val['norm_globalminmatch'] = mkdrisky_val['globalmin_match']\n",
    "\n",
    "mkdrisky_val.to_csv(\"example_mkdrisky_results.csv\")"
   ]
  },
  {
   "cell_type": "code",
   "execution_count": null,
   "metadata": {},
   "outputs": [],
   "source": [
    "mkdrisky_val = pd.read_csv(\"example_mkdrisky_results.csv\")\n",
    "source = bpl.ColumnDataSource(mkdrisky_val)\n",
    "\n",
    "# create figure and plot\n",
    "p = bpl.figure(title=\"MDRIZSKY Values of Different Sky Matching Techniques\", y_range=(-0.1, 1.25))\n",
    "p.xaxis.axis_label = \"Individual Images\"\n",
    "p.yaxis.axis_label = \"MDRIZSKY Value\"\n",
    "p.scatter(x='index', y='globalmin_match', legend=\"Globalmin + Match\", size=7, color=\"magenta\", source=source)\n",
    "p.scatter(x='index', y='match', legend=\"Match\", size=7, color=\"navy\", source=source)\n",
    "p.scatter(x='index', y='local', legend=\"Localmin\", size=7, color=\"olive\", source=source)\n",
    "p.scatter(x='index', y='globalmin', legend=\"Globalmin\", size=7,  color=\"orange\", source=source)\n",
    "\n",
    "p.legend.location = \"center_left\"\n",
    "\n",
    "bpl.show(p)"
   ]
  },
  {
   "cell_type": "markdown",
   "metadata": {},
   "source": [
    "## 5. Display the full 'matched' mosaic "
   ]
  },
  {
   "cell_type": "code",
   "execution_count": null,
   "metadata": {},
   "outputs": [],
   "source": [
    "sci=fits.getdata('f160w_match_drz_sci.fits')\n",
    "fig=plt.figure(figsize=(14,14))\n",
    "plt.imshow(sci, vmin=-0.4, vmax=3, cmap='Greys_r', origin='lower')"
   ]
  },
  {
   "cell_type": "markdown",
   "metadata": {},
   "source": [
    "# About this Notebook\n",
    "\n",
    "    Author: C. Martlin, STScI WFC3 Team  \n",
    "    Updated: December, 14 2018"
   ]
  }
 ],
 "metadata": {
  "kernelspec": {
   "display_name": "Python 3",
   "language": "python",
   "name": "python3"
  },
  "language_info": {
   "codemirror_mode": {
    "name": "ipython",
    "version": 3
   },
   "file_extension": ".py",
   "mimetype": "text/x-python",
   "name": "python",
   "nbconvert_exporter": "python",
   "pygments_lexer": "ipython3",
   "version": "3.6.7"
  }
 },
 "nbformat": 4,
 "nbformat_minor": 2
}
