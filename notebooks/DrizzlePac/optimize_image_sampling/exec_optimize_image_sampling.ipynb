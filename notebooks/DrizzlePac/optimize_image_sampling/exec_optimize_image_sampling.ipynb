{
 "cells": [
  {
   "cell_type": "markdown",
   "metadata": {},
   "source": [
    "# Optimizing the Image Sampling"
   ]
  },
  {
   "cell_type": "markdown",
   "metadata": {},
   "source": [
    "<div class=\"alert-danger\">Note: The notebook in this repository 'Initialization.ipynb' goes over many of the basic concepts such as the setup of the environment/package installation and should be read first if you are new to HST images, DrizzlePac, or Astroquery.</div>"
   ]
  },
  {
   "cell_type": "markdown",
   "metadata": {},
   "source": [
    "## Introduction\n",
    "\n",
    "This example was written to help users better understand the subtleties in improving image sampling for dithered data. One of the powers of the *drizzling* algorithm is that, given properly dithered images, it can restore much of the information lost due to undersampled images ([Fruchter and Hook, 2002](http://iopscience.iop.org/article/10.1086/338393/pdf)). \n",
    "\n",
    "This work is based on [ISR ACS 2015-01](http://www.stsci.edu/hst/acs/documents/isrs/isr1501.pdf), which contains a more detailed discussion than presented here.\n",
    "\n",
    "In practice, this requires the use of `Astrodrizzle` task within the *Drizzlepac* package. This example will cover the following topics:\n",
    "\n",
    "    1. Description of the Data\n",
    "    2. Run astrodrizzle several times using different settings for the 'final_pixfrac' and 'final_scale' parameters\n",
    "    3. Compare and evaluate results of using different 'final_pixfrac' and 'final_scale' values"
   ]
  },
  {
   "cell_type": "code",
   "execution_count": 1,
   "metadata": {},
   "outputs": [
    {
     "name": "stdout",
     "output_type": "stream",
     "text": [
      "The following task in the stsci.skypac package can be run with TEAL:\n",
      "                                    skymatch                                    \n",
      "The following tasks in the drizzlepac package can be run with TEAL:\n",
      "    astrodrizzle       imagefindpars           mapreg              photeq       \n",
      "     pixreplace           pixtopix            pixtosky        refimagefindpars  \n",
      "     resetbits          runastrodriz          skytopix           tweakback      \n",
      "      tweakreg           updatenpol\n"
     ]
    }
   ],
   "source": [
    "import glob\n",
    "import shutil\n",
    "import os\n",
    "\n",
    "from astropy.io import fits\n",
    "from astroquery.mast import Observations\n",
    "from astropy.visualization import LogStretch,ImageNormalize,LinearStretch\n",
    "from astropy import wcs\n",
    "import drizzlepac\n",
    "import matplotlib.pyplot as plt\n",
    "import numpy as np\n",
    "\n",
    "%matplotlib inline"
   ]
  },
  {
   "cell_type": "markdown",
   "metadata": {},
   "source": [
    "## 1. Description of the data\n",
    "Four images of the spiral galaxy NGC 3370 (Program 11570) were acquired using the WFC3/IR F160W imaging filter. The `WFC3-IR-DITHERBOX-MIN` dither pattern designed to provide optimal sampling of the PSF was used.\n",
    "\n",
    "Data are downloaded using the `astroquery` API to access the [MAST](http://archive.stsci.edu) archive. The `astroquery.mast` [documentation](http://astroquery.readthedocs.io/en/latest/mast/mast.html) has more examples for how to find and download data from MAST. For this example, the caibrated FLT exposures from visit 19 will be downloaded."
   ]
  },
  {
   "cell_type": "code",
   "execution_count": 2,
   "metadata": {},
   "outputs": [
    {
     "name": "stdout",
     "output_type": "stream",
     "text": [
      "Downloading URL https://mast.stsci.edu/api/v0.1/Download/file?uri=mast:HST/product/ib1f19l6q_flt.fits to ./mastDownload/HST/ib1f19l6q/ib1f19l6q_flt.fits ..."
     ]
    },
    {
     "name": "stdout",
     "output_type": "stream",
     "text": [
      " [Done]\n"
     ]
    },
    {
     "name": "stdout",
     "output_type": "stream",
     "text": [
      "Downloading URL https://mast.stsci.edu/api/v0.1/Download/file?uri=mast:HST/product/ib1f19l7q_flt.fits to ./mastDownload/HST/ib1f19l7q/ib1f19l7q_flt.fits ..."
     ]
    },
    {
     "name": "stdout",
     "output_type": "stream",
     "text": [
      " [Done]\n"
     ]
    },
    {
     "name": "stdout",
     "output_type": "stream",
     "text": [
      "Downloading URL https://mast.stsci.edu/api/v0.1/Download/file?uri=mast:HST/product/ib1f19l9q_flt.fits to ./mastDownload/HST/ib1f19l9q/ib1f19l9q_flt.fits ..."
     ]
    },
    {
     "name": "stdout",
     "output_type": "stream",
     "text": [
      " [Done]\n"
     ]
    },
    {
     "name": "stdout",
     "output_type": "stream",
     "text": [
      "Downloading URL https://mast.stsci.edu/api/v0.1/Download/file?uri=mast:HST/product/ib1f19laq_flt.fits to ./mastDownload/HST/ib1f19laq/ib1f19laq_flt.fits ..."
     ]
    },
    {
     "name": "stdout",
     "output_type": "stream",
     "text": [
      " [Done]\n"
     ]
    }
   ],
   "source": [
    "# Querying MAST and downloading files.\n",
    "obs_ids = ['ib1f19010']\n",
    "obs_table = Observations.query_criteria(obs_id=obs_ids, obstype='all')\n",
    "\n",
    "download_tab = Observations.download_products(obs_table['obsid'], mrp_only=False, productSubGroupDescription=['FLT'])"
   ]
  },
  {
   "cell_type": "code",
   "execution_count": 3,
   "metadata": {
    "scrolled": true
   },
   "outputs": [],
   "source": [
    "# Cleaning up directories after dowloading from MAST\n",
    "for file in download_tab['Local Path']:\n",
    "    os.rename(file, os.path.basename(file))\n",
    "        \n",
    "shutil.rmtree('mastDownload')"
   ]
  },
  {
   "cell_type": "markdown",
   "metadata": {},
   "source": [
    "## 2. Dithering\n",
    "For the *drizzle* algorithm to work optimally, observations need to be dithered so that the PSF is optimally sampled. The code below creates plots to show the dithering of each of the images in the association. The plot on the left shows how the images were dithered on the sky (the POSTARG). The plot on the right shows how the offsets translate to pixel phase (e.g. subpixel position). "
   ]
  },
  {
   "cell_type": "code",
   "execution_count": 4,
   "metadata": {},
   "outputs": [
    {
     "name": "stdout",
     "output_type": "stream",
     "text": [
      "Plate scale: 0.1283\n"
     ]
    },
    {
     "data": {
      "text/plain": [
       "Text(0, 0.5, 'Y pixel phase')"
      ]
     },
     "execution_count": 4,
     "metadata": {},
     "output_type": "execute_result"
    },
    {
     "data": {
      "image/png": "[encoded data removed]",
      "text/plain": [
       "<Figure size 864x432 with 2 Axes>"
      ]
     },
     "metadata": {
      "needs_background": "light"
     },
     "output_type": "display_data"
    }
   ],
   "source": [
    "flt_files = glob.glob('*flt.fits')\n",
    "\n",
    "plate_scale = fits.getval(flt_files[0], 'idcscale',ext=1)\n",
    "print('Plate scale: {:>6.4f}'.format(plate_scale))\n",
    "postarg1 = np.empty(len(flt_files), dtype=np.float)\n",
    "postarg2 = np.empty(len(flt_files), dtype=np.float)\n",
    "x_phase = np.empty(len(flt_files), dtype=np.float)\n",
    "y_phase = np.empty(len(flt_files), dtype=np.float)\n",
    "\n",
    "for i, im in enumerate(flt_files):\n",
    "    with fits.open(im) as hdu:\n",
    "        postarg1[i] = hdu[0].header['postarg1']\n",
    "        postarg2[i] = hdu[0].header['postarg2']\n",
    "        x_phase[i] = abs(np.modf(postarg1[i] / plate_scale)[0])\n",
    "        y_phase[i] = abs(np.modf(postarg2[i] / plate_scale)[0])\n",
    "        \n",
    "fig, ax = plt.subplots(1, 2, figsize=(12, 6))\n",
    "\n",
    "ax[0].plot(postarg1, postarg2, 'k+-', ms=15, lw=1)\n",
    "ax[0].set_xlabel('arcsec', fontsize='large')\n",
    "ax[0].set_ylabel('arcsec', fontsize='large')\n",
    "\n",
    "ax[1].plot(x_phase, y_phase, 'k+-', ms=15, lw=1)\n",
    "ax[1].set_xlim(-0.05, 1)\n",
    "ax[1].set_ylim(-0.05, 1)\n",
    "ax[1].set_xlabel('X pixel phase', fontsize='large')\n",
    "ax[1].set_ylabel('Y pixel phase', fontsize='large')"
   ]
  },
  {
   "cell_type": "markdown",
   "metadata": {},
   "source": [
    "## 3. Drizzling\n",
    "Before drizzling can be performed, a plate scale for the output image should be chosen. This will usually be dictated by the science needs. In theory, critical sampling of a PSF occurs with 2.355 pixels. The FWHM of the WFC3/IR detector at 1600 nm is ~0.151\" (Table 7.5 of [WFC Instrument Handbook](http://www.stsci.edu/hst/wfc3/documents/handbooks/currentIHB/c07_ir07.html)). Using these values, a plate scale of 0.065\"/pix will be selected for the drizzled output frame, approximately half of the native plate scale (0.1283\"/pix). \n",
    "\n",
    "The mechanism by which the *drizzle* algorithm improves sampling in the output image is by shrinking the input pixels before adding them to the output pixel grid (see Figure 2 in [Fruchter and Hook (2002)](http://iopscience.iop.org/article/10.1086/338393/pdf)). In practice this process is controlled in the `AstroDrizzle` package by adjusting the `final_pixfrac` parameter, which is the fractional size of the pixel to be used. \n",
    "Below `AstroDrizzle` is called twice. The first time, no changes are made to the plate scale or the size of the drop. In the second call, the plate scale and pixfrac are reduced. For a four point dither stack, a `final_pixfrac` value of 0.8 is usually optimal."
   ]
  },
  {
   "cell_type": "code",
   "execution_count": 5,
   "metadata": {},
   "outputs": [
    {
     "name": "stdout",
     "output_type": "stream",
     "text": [
      "No trailer file created...\n",
      "AstroDrizzle Version 2.2.6 (2018-11-02 15:37:13 -0400) started at: 18:51:20.365 (24/05/2019)\n",
      "\n",
      "==== Processing Step  Initialization  started at  18:51:20.365 (24/05/2019)\n"
     ]
    },
    {
     "name": "stdout",
     "output_type": "stream",
     "text": [
      "WCS Keywords\n",
      "\n",
      "Number of WCS axes: 2\n",
      "CTYPE : 'RA---TAN'  'DEC--TAN'  \n",
      "CRVAL : 161.76939966928876  17.273430525939578  \n",
      "CRPIX : 591.9026595892853  535.7285496225965  \n",
      "CD1_1 CD1_2  : -3.5625000794728566e-05  1.3295406620036095e-22  \n",
      "CD2_1 CD2_2  : 2.8069974210710317e-23  3.5625000794728566e-05  \n",
      "NAXIS : 1184  1072\n",
      "********************************************************************************\n",
      "*\n",
      "*  Estimated memory usage:  up to 89 Mb.\n",
      "*  Output image size:       1184 X 1072 pixels. \n",
      "*  Output image file:       ~ 14 Mb. \n",
      "*  Cores available:         4\n",
      "*\n",
      "********************************************************************************\n",
      "==== Processing Step  Initialization  finished at  18:51:21.174 (24/05/2019)\n",
      "\n",
      "==== Processing Step  Static Mask  started at  18:51:21.174 (24/05/2019)\n",
      "==== Processing Step  Static Mask  finished at  18:51:21.352 (24/05/2019)\n",
      "\n",
      "==== Processing Step  Subtract Sky  started at  18:51:21.352 (24/05/2019)\n"
     ]
    },
    {
     "name": "stdout",
     "output_type": "stream",
     "text": [
      "***** skymatch started on 2019-05-24 18:51:21.551473\n",
      "      Version 1.0.2 (2019-03-07 00:54:44 -0500)\n",
      "\n",
      "'skymatch' task will apply computed sky differences to input image file(s).\n",
      "\n",
      "NOTE: Computed sky values WILL NOT be subtracted from image data ('subtractsky'=False).\n",
      "'MDRIZSKY' header keyword will represent sky value *computed* from data.\n",
      "\n",
      "-----  User specified keywords:  -----\n",
      "       Sky Value Keyword:  'MDRIZSKY'\n",
      "       Data Units Keyword: 'BUNIT'\n",
      "\n",
      "\n",
      "-----  Input file list:  -----\n",
      "\n",
      "   **  Input image: 'ib1f19l6q_flt.fits'\n",
      "       EXT: 'SCI',1;\tMASK: ib1f19l6q_skymatch_mask_sci1.fits[0]\n",
      "\n",
      "   **  Input image: 'ib1f19l7q_flt.fits'\n",
      "       EXT: 'SCI',1;\tMASK: ib1f19l7q_skymatch_mask_sci1.fits[0]\n",
      "\n",
      "   **  Input image: 'ib1f19l9q_flt.fits'\n",
      "       EXT: 'SCI',1;\tMASK: ib1f19l9q_skymatch_mask_sci1.fits[0]\n",
      "\n",
      "   **  Input image: 'ib1f19laq_flt.fits'\n",
      "       EXT: 'SCI',1;\tMASK: ib1f19laq_skymatch_mask_sci1.fits[0]\n",
      "\n",
      "-----  Sky statistics parameters:  -----\n",
      "       statistics function: 'median'\n",
      "       lower = None\n",
      "       upper = None\n",
      "       nclip = 5\n",
      "       lsigma = 4.0\n",
      "       usigma = 4.0\n",
      "       binwidth = 0.1\n",
      "\n",
      "-----  Data->Brightness conversion parameters for input files:  -----\n",
      "\n",
      "   *   Image: ib1f19l6q_flt.fits\n",
      "       EXT = 'SCI',1\n",
      "             Data units type: COUNT-RATE\n",
      "             Conversion factor (data->brightness):  60.797431635711504\n",
      "\n",
      "   *   Image: ib1f19l7q_flt.fits\n",
      "       EXT = 'SCI',1\n",
      "             Data units type: COUNT-RATE\n",
      "             Conversion factor (data->brightness):  60.797431635711504\n",
      "\n",
      "   *   Image: ib1f19l9q_flt.fits\n",
      "       EXT = 'SCI',1\n",
      "             Data units type: COUNT-RATE\n",
      "             Conversion factor (data->brightness):  60.797431635711504\n",
      "\n",
      "   *   Image: ib1f19laq_flt.fits\n",
      "       EXT = 'SCI',1\n",
      "             Data units type: COUNT-RATE\n",
      "             Conversion factor (data->brightness):  60.797431635711504\n",
      "\n",
      "\n",
      "-----  Computing sky values requested image extensions (detector chips):  -----\n",
      "\n",
      "   *   Image:   'ib1f19l6q_flt.fits['SCI',1]'  --  SKY = 56.303737764954334 (brightness units)\n",
      "       Sky change (data units):\n",
      "      - EXT = 'SCI',1   delta(MDRIZSKY) = 0.926087   NEW MDRIZSKY = 0.926087\n",
      "   *   Image:   'ib1f19l7q_flt.fits['SCI',1]'  --  SKY = 52.989470617006745 (brightness units)\n",
      "       Sky change (data units):\n",
      "      - EXT = 'SCI',1   delta(MDRIZSKY) = 0.871574   NEW MDRIZSKY = 0.871574\n"
     ]
    },
    {
     "name": "stdout",
     "output_type": "stream",
     "text": [
      "   *   Image:   'ib1f19l9q_flt.fits['SCI',1]'  --  SKY = 51.71155600460956 (brightness units)\n",
      "       Sky change (data units):\n",
      "      - EXT = 'SCI',1   delta(MDRIZSKY) = 0.850555   NEW MDRIZSKY = 0.850555\n",
      "   *   Image:   'ib1f19laq_flt.fits['SCI',1]'  --  SKY = 51.42930474461253 (brightness units)\n",
      "       Sky change (data units):\n",
      "      - EXT = 'SCI',1   delta(MDRIZSKY) = 0.845912   NEW MDRIZSKY = 0.845912\n",
      "***** skymatch ended on 2019-05-24 18:51:21.862129\n",
      "TOTAL RUN TIME: 0:00:00.310656\n",
      "==== Processing Step  Subtract Sky  finished at  18:51:21.95 (24/05/2019)\n",
      "\n",
      "==== Processing Step  Separate Drizzle  started at  18:51:21.956 (24/05/2019)\n",
      "WCS Keywords\n",
      "\n",
      "Number of WCS axes: 2\n",
      "CTYPE : 'RA---TAN'  'DEC--TAN'  \n",
      "CRVAL : 161.76939966928876  17.273430525939578  \n",
      "CRPIX : 544.5  481.5  \n",
      "CD1_1 CD1_2  : -3.542984305538169e-05  3.723829036815852e-06  \n",
      "CD2_1 CD2_2  : 3.723829036815852e-06  3.542984305538169e-05  \n",
      "NAXIS : 1089  963\n"
     ]
    },
    {
     "name": "stdout",
     "output_type": "stream",
     "text": [
      "-Generating simple FITS output: ib1f19l7q_single_sci.fits\n"
     ]
    },
    {
     "name": "stdout",
     "output_type": "stream",
     "text": [
      "-Generating simple FITS output: ib1f19laq_single_sci.fits\n"
     ]
    },
    {
     "name": "stdout",
     "output_type": "stream",
     "text": [
      "-Generating simple FITS output: ib1f19l6q_single_sci.fits\n"
     ]
    },
    {
     "name": "stdout",
     "output_type": "stream",
     "text": [
      "Writing out image to disk: ib1f19l7q_single_sci.fits\n"
     ]
    },
    {
     "name": "stdout",
     "output_type": "stream",
     "text": [
      "-Generating simple FITS output: ib1f19l9q_single_sci.fits\n"
     ]
    },
    {
     "name": "stdout",
     "output_type": "stream",
     "text": [
      "Writing out image to disk: ib1f19laq_single_sci.fits\n"
     ]
    },
    {
     "name": "stdout",
     "output_type": "stream",
     "text": [
      "Writing out image to disk: ib1f19l7q_single_wht.fits\n"
     ]
    },
    {
     "name": "stdout",
     "output_type": "stream",
     "text": [
      "Writing out image to disk: ib1f19l6q_single_sci.fits\n"
     ]
    },
    {
     "name": "stdout",
     "output_type": "stream",
     "text": [
      "Writing out image to disk: ib1f19laq_single_wht.fits\n"
     ]
    },
    {
     "name": "stdout",
     "output_type": "stream",
     "text": [
      "Writing out image to disk: ib1f19l9q_single_sci.fits\n"
     ]
    },
    {
     "name": "stdout",
     "output_type": "stream",
     "text": [
      "Writing out image to disk: ib1f19l6q_single_wht.fits\n"
     ]
    },
    {
     "name": "stdout",
     "output_type": "stream",
     "text": [
      "Writing out image to disk: ib1f19l9q_single_wht.fits\n"
     ]
    },
    {
     "name": "stdout",
     "output_type": "stream",
     "text": [
      "==== Processing Step  Separate Drizzle  finished at  18:51:23.056 (24/05/2019)\n",
      "\n",
      "==== Processing Step  Create Median  started at  18:51:23.057 (24/05/2019)\n",
      "reference sky value for image 'ib1f19l6q_flt.fits' is 465.7631401035832\n",
      "reference sky value for image 'ib1f19l7q_flt.fits' is 438.34642612955906\n",
      "reference sky value for image 'ib1f19l9q_flt.fits' is 427.77509381163884\n",
      "reference sky value for image 'ib1f19laq_flt.fits' is 425.44021804010106\n"
     ]
    },
    {
     "name": "stdout",
     "output_type": "stream",
     "text": [
      "Saving output median image to: 'f160w_noopt_med.fits'\n",
      "==== Processing Step  Create Median  finished at  18:51:23.763 (24/05/2019)\n",
      "\n",
      "==== Processing Step  Blot  started at  18:51:23.763 (24/05/2019)\n",
      "    Blot: creating blotted image:  ib1f19l6q_flt.fits[sci,1]\n",
      "Using default C-based coordinate transformation...\n"
     ]
    },
    {
     "name": "stdout",
     "output_type": "stream",
     "text": [
      "-Generating simple FITS output: ib1f19l6q_sci1_blt.fits\n",
      "Writing out image to disk: ib1f19l6q_sci1_blt.fits\n",
      "    Blot: creating blotted image:  ib1f19l7q_flt.fits[sci,1]\n",
      "Using default C-based coordinate transformation...\n"
     ]
    },
    {
     "name": "stdout",
     "output_type": "stream",
     "text": [
      "-Generating simple FITS output: ib1f19l7q_sci1_blt.fits\n",
      "Writing out image to disk: ib1f19l7q_sci1_blt.fits\n",
      "    Blot: creating blotted image:  ib1f19l9q_flt.fits[sci,1]\n",
      "Using default C-based coordinate transformation...\n"
     ]
    },
    {
     "name": "stdout",
     "output_type": "stream",
     "text": [
      "-Generating simple FITS output: ib1f19l9q_sci1_blt.fits\n",
      "Writing out image to disk: ib1f19l9q_sci1_blt.fits\n",
      "    Blot: creating blotted image:  ib1f19laq_flt.fits[sci,1]\n",
      "Using default C-based coordinate transformation...\n"
     ]
    },
    {
     "name": "stdout",
     "output_type": "stream",
     "text": [
      "-Generating simple FITS output: ib1f19laq_sci1_blt.fits\n",
      "Writing out image to disk: ib1f19laq_sci1_blt.fits\n",
      "==== Processing Step  Blot  finished at  18:51:25.722 (24/05/2019)\n",
      "\n",
      "==== Processing Step  Driz_CR  started at  18:51:25.722 (24/05/2019)\n"
     ]
    },
    {
     "name": "stdout",
     "output_type": "stream",
     "text": [
      "Creating output :  ib1f19l6q_sci1_crmask.fits\n"
     ]
    },
    {
     "name": "stdout",
     "output_type": "stream",
     "text": [
      "Creating output :  ib1f19l7q_sci1_crmask.fits\n"
     ]
    },
    {
     "name": "stdout",
     "output_type": "stream",
     "text": [
      "Creating output :  ib1f19l9q_sci1_crmask.fits\n"
     ]
    },
    {
     "name": "stdout",
     "output_type": "stream",
     "text": [
      "Creating output :  ib1f19laq_sci1_crmask.fits\n"
     ]
    },
    {
     "name": "stdout",
     "output_type": "stream",
     "text": [
      "==== Processing Step  Driz_CR  finished at  18:51:27.046 (24/05/2019)\n",
      "\n",
      "==== Processing Step  Final Drizzle  started at  18:51:27.08 (24/05/2019)\n",
      "WCS Keywords\n",
      "\n",
      "Number of WCS axes: 2\n",
      "CTYPE : 'RA---TAN'  'DEC--TAN'  \n",
      "CRVAL : 161.76939966928876  17.273430525939578  \n",
      "CRPIX : 591.9026595892853  535.7285496225965  \n",
      "CD1_1 CD1_2  : -3.5625000794728566e-05  1.3295406620036095e-22  \n",
      "CD2_1 CD2_2  : 2.8069974210710317e-23  3.5625000794728566e-05  \n",
      "NAXIS : 1184  1072\n"
     ]
    },
    {
     "name": "stdout",
     "output_type": "stream",
     "text": [
      "-Generating multi-extension output file:  f160w_noopt_drz.fits\n",
      "Writing out to disk: f160w_noopt_drz.fits\n",
      "==== Processing Step  Final Drizzle  finished at  18:51:29.641 (24/05/2019)\n",
      "\n",
      "\n",
      "AstroDrizzle Version 2.2.6 is finished processing at 18:51:29.641 (24/05/2019).\n",
      "\n",
      "\n",
      "   --------------------          --------------------\n",
      "                   Step          Elapsed time\n",
      "   --------------------          --------------------\n",
      "\n",
      "         Initialization          0.8088 sec.\n",
      "            Static Mask          0.1771 sec.\n",
      "           Subtract Sky          0.6039 sec.\n",
      "       Separate Drizzle          1.1000 sec.\n",
      "          Create Median          0.7060 sec.\n",
      "                   Blot          1.9592 sec.\n",
      "                Driz_CR          1.3235 sec.\n",
      "          Final Drizzle          2.5557 sec.\n",
      "   ====================          ====================\n",
      "                  Total          9.2341 sec.\n",
      "No trailer file saved...\n",
      "No trailer file created...\n",
      "AstroDrizzle Version 2.2.6 (2018-11-02 15:37:13 -0400) started at: 18:51:29.679 (24/05/2019)\n",
      "\n",
      "==== Processing Step  Initialization  started at  18:51:29.67 (24/05/2019)\n"
     ]
    },
    {
     "name": "stdout",
     "output_type": "stream",
     "text": [
      "WCS Keywords\n",
      "\n",
      "Number of WCS axes: 2\n",
      "CTYPE : 'RA---TAN'  'DEC--TAN'  \n",
      "CRVAL : 161.76939966928876  17.273430525939578  \n",
      "CRPIX : 1167.3829659129597  1056.5471233907554  \n",
      "CD1_1 CD1_2  : -1.805555555555555e-05  3.6939273646322496e-22  \n",
      "CD2_1 CD2_2  : 3.702614723534622e-22  1.805555555555555e-05  \n",
      "NAXIS : 2336  2114\n",
      "********************************************************************************\n",
      "*\n",
      "*  Estimated memory usage:  up to 257 Mb.\n",
      "*  Output image size:       2336 X 2114 pixels. \n",
      "*  Output image file:       ~ 56 Mb. \n",
      "*  Cores available:         4\n",
      "*\n",
      "********************************************************************************\n",
      "==== Processing Step  Initialization  finished at  18:51:30.518 (24/05/2019)\n",
      "\n",
      "==== Processing Step  Static Mask  started at  18:51:30.519 (24/05/2019)\n",
      "==== Processing Step  Static Mask  finished at  18:51:30.662 (24/05/2019)\n",
      "\n",
      "==== Processing Step  Subtract Sky  started at  18:51:30.662 (24/05/2019)\n"
     ]
    },
    {
     "name": "stdout",
     "output_type": "stream",
     "text": [
      "***** skymatch started on 2019-05-24 18:51:30.841807\n",
      "      Version 1.0.2 (2019-03-07 00:54:44 -0500)\n",
      "\n",
      "'skymatch' task will apply computed sky differences to input image file(s).\n",
      "\n",
      "NOTE: Computed sky values WILL NOT be subtracted from image data ('subtractsky'=False).\n",
      "'MDRIZSKY' header keyword will represent sky value *computed* from data.\n",
      "\n",
      "-----  User specified keywords:  -----\n",
      "       Sky Value Keyword:  'MDRIZSKY'\n",
      "       Data Units Keyword: 'BUNIT'\n",
      "\n",
      "\n",
      "-----  Input file list:  -----\n",
      "\n",
      "   **  Input image: 'ib1f19l6q_flt.fits'\n",
      "       EXT: 'SCI',1;\tMASK: ib1f19l6q_skymatch_mask_sci1.fits[0]\n",
      "\n",
      "   **  Input image: 'ib1f19l7q_flt.fits'\n",
      "       EXT: 'SCI',1;\tMASK: ib1f19l7q_skymatch_mask_sci1.fits[0]\n",
      "\n",
      "   **  Input image: 'ib1f19l9q_flt.fits'\n",
      "       EXT: 'SCI',1;\tMASK: ib1f19l9q_skymatch_mask_sci1.fits[0]\n",
      "\n",
      "   **  Input image: 'ib1f19laq_flt.fits'\n",
      "       EXT: 'SCI',1;\tMASK: ib1f19laq_skymatch_mask_sci1.fits[0]\n",
      "\n",
      "-----  Sky statistics parameters:  -----\n",
      "       statistics function: 'median'\n",
      "       lower = None\n",
      "       upper = None\n",
      "       nclip = 5\n",
      "       lsigma = 4.0\n",
      "       usigma = 4.0\n",
      "       binwidth = 0.1\n",
      "\n",
      "-----  Data->Brightness conversion parameters for input files:  -----\n",
      "\n",
      "   *   Image: ib1f19l6q_flt.fits\n",
      "       EXT = 'SCI',1\n",
      "             Data units type: COUNT-RATE\n",
      "             Conversion factor (data->brightness):  60.797431635711504\n",
      "\n",
      "   *   Image: ib1f19l7q_flt.fits\n",
      "       EXT = 'SCI',1\n",
      "             Data units type: COUNT-RATE\n",
      "             Conversion factor (data->brightness):  60.797431635711504\n",
      "\n",
      "   *   Image: ib1f19l9q_flt.fits\n",
      "       EXT = 'SCI',1\n",
      "             Data units type: COUNT-RATE\n",
      "             Conversion factor (data->brightness):  60.797431635711504\n",
      "\n",
      "   *   Image: ib1f19laq_flt.fits\n",
      "       EXT = 'SCI',1\n",
      "             Data units type: COUNT-RATE\n",
      "             Conversion factor (data->brightness):  60.797431635711504\n",
      "\n",
      "\n",
      "-----  Computing sky values requested image extensions (detector chips):  -----\n",
      "\n",
      "   *   Image:   'ib1f19l6q_flt.fits['SCI',1]'  --  SKY = 56.303737764954334 (brightness units)\n",
      "       Sky change (data units):\n",
      "      - EXT = 'SCI',1   delta(MDRIZSKY) = 0.926087   NEW MDRIZSKY = 0.926087\n",
      "   *   Image:   'ib1f19l7q_flt.fits['SCI',1]'  --  SKY = 52.989470617006745 (brightness units)\n",
      "       Sky change (data units):\n",
      "      - EXT = 'SCI',1   delta(MDRIZSKY) = 0.871574   NEW MDRIZSKY = 0.871574\n"
     ]
    },
    {
     "name": "stdout",
     "output_type": "stream",
     "text": [
      "   *   Image:   'ib1f19l9q_flt.fits['SCI',1]'  --  SKY = 51.71155600460956 (brightness units)\n",
      "       Sky change (data units):\n",
      "      - EXT = 'SCI',1   delta(MDRIZSKY) = 0.850555   NEW MDRIZSKY = 0.850555\n",
      "   *   Image:   'ib1f19laq_flt.fits['SCI',1]'  --  SKY = 51.42930474461253 (brightness units)\n",
      "       Sky change (data units):\n",
      "      - EXT = 'SCI',1   delta(MDRIZSKY) = 0.845912   NEW MDRIZSKY = 0.845912\n",
      "***** skymatch ended on 2019-05-24 18:51:31.139316\n",
      "TOTAL RUN TIME: 0:00:00.297509\n"
     ]
    },
    {
     "name": "stdout",
     "output_type": "stream",
     "text": [
      "==== Processing Step  Subtract Sky  finished at  18:51:31.254 (24/05/2019)\n",
      "\n",
      "==== Processing Step  Separate Drizzle  started at  18:51:31.255 (24/05/2019)\n",
      "WCS Keywords\n",
      "\n",
      "Number of WCS axes: 2\n",
      "CTYPE : 'RA---TAN'  'DEC--TAN'  \n",
      "CRVAL : 161.76939966928876  17.273430525939578  \n",
      "CRPIX : 544.5  481.5  \n",
      "CD1_1 CD1_2  : -3.542984305538169e-05  3.723829036815852e-06  \n",
      "CD2_1 CD2_2  : 3.723829036815852e-06  3.542984305538169e-05  \n",
      "NAXIS : 1089  963\n"
     ]
    },
    {
     "name": "stdout",
     "output_type": "stream",
     "text": [
      "-Generating simple FITS output: ib1f19l6q_single_sci.fits\n"
     ]
    },
    {
     "name": "stdout",
     "output_type": "stream",
     "text": [
      "-Generating simple FITS output: ib1f19laq_single_sci.fits\n"
     ]
    },
    {
     "name": "stdout",
     "output_type": "stream",
     "text": [
      "Writing out image to disk: ib1f19l6q_single_sci.fits\n"
     ]
    },
    {
     "name": "stdout",
     "output_type": "stream",
     "text": [
      "-Generating simple FITS output: ib1f19l7q_single_sci.fits\n"
     ]
    },
    {
     "name": "stdout",
     "output_type": "stream",
     "text": [
      "-Generating simple FITS output: ib1f19l9q_single_sci.fits\n"
     ]
    },
    {
     "name": "stdout",
     "output_type": "stream",
     "text": [
      "Writing out image to disk: ib1f19laq_single_sci.fits\n"
     ]
    },
    {
     "name": "stdout",
     "output_type": "stream",
     "text": [
      "Writing out image to disk: ib1f19l6q_single_wht.fits\n"
     ]
    },
    {
     "name": "stdout",
     "output_type": "stream",
     "text": [
      "Writing out image to disk: ib1f19l9q_single_sci.fits\n"
     ]
    },
    {
     "name": "stdout",
     "output_type": "stream",
     "text": [
      "Writing out image to disk: ib1f19l7q_single_sci.fits\n"
     ]
    },
    {
     "name": "stdout",
     "output_type": "stream",
     "text": [
      "Writing out image to disk: ib1f19laq_single_wht.fits\n"
     ]
    },
    {
     "name": "stdout",
     "output_type": "stream",
     "text": [
      "Writing out image to disk: ib1f19l9q_single_wht.fits\n"
     ]
    },
    {
     "name": "stdout",
     "output_type": "stream",
     "text": [
      "Writing out image to disk: ib1f19l7q_single_wht.fits\n"
     ]
    },
    {
     "name": "stdout",
     "output_type": "stream",
     "text": [
      "==== Processing Step  Separate Drizzle  finished at  18:51:32.345 (24/05/2019)\n",
      "\n",
      "==== Processing Step  Create Median  started at  18:51:32.345 (24/05/2019)\n",
      "reference sky value for image 'ib1f19l6q_flt.fits' is 465.7631401035832\n",
      "reference sky value for image 'ib1f19l7q_flt.fits' is 438.34642612955906\n",
      "reference sky value for image 'ib1f19l9q_flt.fits' is 427.77509381163884\n",
      "reference sky value for image 'ib1f19laq_flt.fits' is 425.44021804010106\n"
     ]
    },
    {
     "name": "stdout",
     "output_type": "stream",
     "text": [
      "Saving output median image to: 'f160w_opt_med.fits'\n",
      "==== Processing Step  Create Median  finished at  18:51:33.237 (24/05/2019)\n",
      "\n",
      "==== Processing Step  Blot  started at  18:51:33.238 (24/05/2019)\n",
      "    Blot: creating blotted image:  ib1f19l6q_flt.fits[sci,1]\n",
      "Using default C-based coordinate transformation...\n"
     ]
    },
    {
     "name": "stdout",
     "output_type": "stream",
     "text": [
      "-Generating simple FITS output: ib1f19l6q_sci1_blt.fits\n",
      "Writing out image to disk: ib1f19l6q_sci1_blt.fits\n",
      "    Blot: creating blotted image:  ib1f19l7q_flt.fits[sci,1]\n",
      "Using default C-based coordinate transformation...\n"
     ]
    },
    {
     "name": "stdout",
     "output_type": "stream",
     "text": [
      "-Generating simple FITS output: ib1f19l7q_sci1_blt.fits\n",
      "Writing out image to disk: ib1f19l7q_sci1_blt.fits\n",
      "    Blot: creating blotted image:  ib1f19l9q_flt.fits[sci,1]\n",
      "Using default C-based coordinate transformation...\n"
     ]
    },
    {
     "name": "stdout",
     "output_type": "stream",
     "text": [
      "-Generating simple FITS output: ib1f19l9q_sci1_blt.fits\n",
      "Writing out image to disk: ib1f19l9q_sci1_blt.fits\n",
      "    Blot: creating blotted image:  ib1f19laq_flt.fits[sci,1]\n",
      "Using default C-based coordinate transformation...\n"
     ]
    },
    {
     "name": "stdout",
     "output_type": "stream",
     "text": [
      "-Generating simple FITS output: ib1f19laq_sci1_blt.fits\n",
      "Writing out image to disk: ib1f19laq_sci1_blt.fits\n",
      "==== Processing Step  Blot  finished at  18:51:35.073 (24/05/2019)\n",
      "\n",
      "==== Processing Step  Driz_CR  started at  18:51:35.074 (24/05/2019)\n"
     ]
    },
    {
     "name": "stdout",
     "output_type": "stream",
     "text": [
      "Creating output :  ib1f19l7q_sci1_crmask.fits\n"
     ]
    },
    {
     "name": "stdout",
     "output_type": "stream",
     "text": [
      "Creating output :  ib1f19l6q_sci1_crmask.fits\n"
     ]
    },
    {
     "name": "stdout",
     "output_type": "stream",
     "text": [
      "Creating output :  ib1f19l9q_sci1_crmask.fits\n"
     ]
    },
    {
     "name": "stdout",
     "output_type": "stream",
     "text": [
      "Creating output :  ib1f19laq_sci1_crmask.fits\n"
     ]
    },
    {
     "name": "stdout",
     "output_type": "stream",
     "text": [
      "==== Processing Step  Driz_CR  finished at  18:51:36.349 (24/05/2019)\n",
      "\n",
      "==== Processing Step  Final Drizzle  started at  18:51:36.395 (24/05/2019)\n",
      "WCS Keywords\n",
      "\n",
      "Number of WCS axes: 2\n",
      "CTYPE : 'RA---TAN'  'DEC--TAN'  \n",
      "CRVAL : 161.76939966928876  17.273430525939578  \n",
      "CRPIX : 1167.3829659129597  1056.5471233907554  \n",
      "CD1_1 CD1_2  : -1.805555555555555e-05  3.6939273646322496e-22  \n",
      "CD2_1 CD2_2  : 3.702614723534622e-22  1.805555555555555e-05  \n",
      "NAXIS : 2336  2114\n"
     ]
    },
    {
     "name": "stdout",
     "output_type": "stream",
     "text": [
      "-Generating multi-extension output file:  f160w_opt_drz.fits\n",
      "Writing out to disk: f160w_opt_drz.fits\n",
      "==== Processing Step  Final Drizzle  finished at  18:51:39.738 (24/05/2019)\n",
      "\n",
      "\n",
      "AstroDrizzle Version 2.2.6 is finished processing at 18:51:39.739 (24/05/2019).\n",
      "\n",
      "\n",
      "   --------------------          --------------------\n",
      "                   Step          Elapsed time\n",
      "   --------------------          --------------------\n",
      "\n",
      "         Initialization          0.8391 sec.\n",
      "            Static Mask          0.1436 sec.\n",
      "           Subtract Sky          0.5917 sec.\n",
      "       Separate Drizzle          1.0903 sec.\n",
      "          Create Median          0.8923 sec.\n",
      "                   Blot          1.8354 sec.\n",
      "                Driz_CR          1.2754 sec.\n",
      "          Final Drizzle          3.3438 sec.\n",
      "   ====================          ====================\n",
      "                  Total          10.0116 sec.\n",
      "No trailer file saved...\n"
     ]
    }
   ],
   "source": [
    "drizzlepac.astrodrizzle.AstroDrizzle('*flt.fits',\n",
    "                                     output='f160w_noopt',\n",
    "                                     runfile='',\n",
    "                                     context=False,\n",
    "                                     build=True,\n",
    "                                     preserve=False,\n",
    "                                     clean=True,\n",
    "                                     driz_sep_bits='64,512',\n",
    "                                     final_bits='64,512',\n",
    "                                     final_wcs=True,\n",
    "                                     final_rot=0.)\n",
    "\n",
    "drizzlepac.astrodrizzle.AstroDrizzle('*flt.fits',\n",
    "                                     output='f160w_opt',\n",
    "                                     runfile='',\n",
    "                                     context=False,\n",
    "                                     build=True,\n",
    "                                     preserve=False,\n",
    "                                     clean=True,\n",
    "                                     driz_sep_bits='64,512',\n",
    "                                     final_bits='64,512',\n",
    "                                     final_pixfrac=0.8,\n",
    "                                     final_wcs=True,\n",
    "                                     final_rot=0.,\n",
    "                                     final_scale=0.065)"
   ]
  },
  {
   "cell_type": "markdown",
   "metadata": {},
   "source": [
    "## 4. Results\n",
    "\n",
    "The drizzled science and weight images produced from the first call to AstroDrizzle with no optimization of the plate scale and pixfrac are plotted below. "
   ]
  },
  {
   "cell_type": "code",
   "execution_count": 6,
   "metadata": {
    "scrolled": false
   },
   "outputs": [
    {
     "data": {
      "text/plain": [
       "<matplotlib.image.AxesImage at 0x7fb6db9d2c18>"
      ]
     },
     "execution_count": 6,
     "metadata": {},
     "output_type": "execute_result"
    },
    {
     "data": {
      "image/png": "[encoded data removed]",
      "text/plain": [
       "<Figure size 1152x576 with 2 Axes>"
      ]
     },
     "metadata": {
      "needs_background": "light"
     },
     "output_type": "display_data"
    }
   ],
   "source": [
    "with fits.open('f160w_noopt_drz.fits') as hdu:\n",
    "    im1wcs = wcs.WCS(hdu[1].header)\n",
    "    sci1 = hdu[1].data\n",
    "    wht1 = hdu[2].data\n",
    "        \n",
    "norm1 = ImageNormalize(sci1, vmin=-0.2, vmax=25, stretch=LogStretch())\n",
    "fig, ax = plt.subplots(1, 2, figsize=(16, 8), subplot_kw={'projection':im1wcs})\n",
    "ax[0].imshow(sci1, norm=norm1, cmap='gray', origin='lower')\n",
    "ax[1].imshow(wht1, cmap='gray', origin='lower')"
   ]
  },
  {
   "cell_type": "markdown",
   "metadata": {},
   "source": [
    "The drizzled science image is on the left and the associated weight image is on the right, both without optimization of the plate scale and pixfrac."
   ]
  },
  {
   "cell_type": "markdown",
   "metadata": {},
   "source": [
    "To compare, the figure plotted below shows close ups of the same part of the sky from the two drizzled products. "
   ]
  },
  {
   "cell_type": "code",
   "execution_count": 7,
   "metadata": {},
   "outputs": [
    {
     "data": {
      "text/plain": [
       "(1835.4481178804988, 1934.1019662351364)"
      ]
     },
     "execution_count": 7,
     "metadata": {},
     "output_type": "execute_result"
    },
    {
     "data": {
      "image/png": "[encoded data removed]",
      "text/plain": [
       "<Figure size 1152x576 with 2 Axes>"
      ]
     },
     "metadata": {
      "needs_background": "light"
     },
     "output_type": "display_data"
    }
   ],
   "source": [
    "radeclims = wcs.utils.pixel_to_skycoord([825, 875], [930, 980], im1wcs)\n",
    "\n",
    "with fits.open('f160w_opt_drz.fits') as hdu:\n",
    "    im2wcs = wcs.WCS(hdu[1].header)\n",
    "    sci2 = hdu[1].data\n",
    "    wht2 = hdu[2].data\n",
    "\n",
    "norm2 = ImageNormalize(sci2, vmin=-0.05, vmax=25, stretch=LogStretch())\n",
    "    \n",
    "fig = plt.figure(figsize=(16, 8))\n",
    "\n",
    "ax = fig.add_subplot(1, 2, 1, projection=im1wcs)\n",
    "ax.imshow(sci1, norm=norm2, cmap='gray')\n",
    "ax.set_xlim(radeclims.to_pixel(im1wcs)[0])\n",
    "ax.set_ylim(radeclims.to_pixel(im1wcs)[1])\n",
    "\n",
    "ax = fig.add_subplot(1, 2, 2, projection=im2wcs)\n",
    "ax.imshow(sci2, norm=norm2, cmap='gray')\n",
    "ax.set_xlim(radeclims.to_pixel(im2wcs)[0])\n",
    "ax.set_ylim(radeclims.to_pixel(im2wcs)[1])                  "
   ]
  },
  {
   "cell_type": "markdown",
   "metadata": {},
   "source": [
    "The image on the left is without improved plate scale and pixfrac, and shows that the detector undersamples the PSF. The image on the right is the image with improved parameters where the resolution is greatly improved. "
   ]
  },
  {
   "cell_type": "markdown",
   "metadata": {},
   "source": [
    "## 5. Optimizing the `final_pixfrac` parameter\n",
    "\n",
    "While the optimized `final_pixfrac` in the example above was chosen from experience with using a four-point dither, the value that should be used is not known *a priori*. The value could be different depending on several factors. For example, if the number of images is greater than four, the value used for `final_pixfrac` could be smaller since more images are available to fill in holes in the output grid. On the other hand, it is possible that no dithering was used during the observations. In that case, `final_pixfrac` should be left at 1.0, since shrinking the size of the drop could be detrimental. \n",
    "\n",
    "Below, a series of experiments will be run to determine the best `final_pixfrac` value for the selected output plate scale, by varying pixfrac in steps of 0.1 over a range of values from 0.1 to 1.0."
   ]
  },
  {
   "cell_type": "code",
   "execution_count": 8,
   "metadata": {},
   "outputs": [
    {
     "name": "stdout",
     "output_type": "stream",
     "text": [
      "No trailer file created...\n",
      "AstroDrizzle Version 2.2.6 (2018-11-02 15:37:13 -0400) started at: 18:51:42.162 (24/05/2019)\n",
      "\n",
      "==== Processing Step  Initialization  started at  18:51:42.162 (24/05/2019)\n"
     ]
    },
    {
     "name": "stdout",
     "output_type": "stream",
     "text": [
      "WCS Keywords\n",
      "\n",
      "Number of WCS axes: 2\n",
      "CTYPE : 'RA---TAN'  'DEC--TAN'  \n",
      "CRVAL : 161.76939966928876  17.273430525939578  \n",
      "CRPIX : 1167.3829659129597  1056.5471233907554  \n",
      "CD1_1 CD1_2  : -1.805555555555555e-05  3.6939273646322496e-22  \n",
      "CD2_1 CD2_2  : 3.702614723534622e-22  1.805555555555555e-05  \n",
      "NAXIS : 2336  2114\n",
      "********************************************************************************\n",
      "*\n",
      "*  Estimated memory usage:  up to 257 Mb.\n",
      "*  Output image size:       2336 X 2114 pixels. \n",
      "*  Output image file:       ~ 56 Mb. \n",
      "*  Cores available:         4\n",
      "*\n",
      "********************************************************************************\n",
      "==== Processing Step  Initialization  finished at  18:51:43.068 (24/05/2019)\n",
      "\n",
      "==== Processing Step  Static Mask  started at  18:51:43.068 (24/05/2019)\n",
      "==== Processing Step  Static Mask  finished at  18:51:43.232 (24/05/2019)\n",
      "\n",
      "==== Processing Step  Subtract Sky  started at  18:51:43.232 (24/05/2019)\n"
     ]
    },
    {
     "name": "stdout",
     "output_type": "stream",
     "text": [
      "***** skymatch started on 2019-05-24 18:51:43.374295\n",
      "      Version 1.0.2 (2019-03-07 00:54:44 -0500)\n",
      "\n",
      "'skymatch' task will apply computed sky differences to input image file(s).\n",
      "\n",
      "NOTE: Computed sky values WILL NOT be subtracted from image data ('subtractsky'=False).\n",
      "'MDRIZSKY' header keyword will represent sky value *computed* from data.\n",
      "\n",
      "-----  User specified keywords:  -----\n",
      "       Sky Value Keyword:  'MDRIZSKY'\n",
      "       Data Units Keyword: 'BUNIT'\n",
      "\n",
      "\n",
      "-----  Input file list:  -----\n",
      "\n",
      "   **  Input image: 'ib1f19l6q_flt.fits'\n",
      "       EXT: 'SCI',1;\tMASK: ib1f19l6q_skymatch_mask_sci1.fits[0]\n",
      "\n",
      "   **  Input image: 'ib1f19l7q_flt.fits'\n",
      "       EXT: 'SCI',1;\tMASK: ib1f19l7q_skymatch_mask_sci1.fits[0]\n",
      "\n",
      "   **  Input image: 'ib1f19l9q_flt.fits'\n",
      "       EXT: 'SCI',1;\tMASK: ib1f19l9q_skymatch_mask_sci1.fits[0]\n",
      "\n",
      "   **  Input image: 'ib1f19laq_flt.fits'\n",
      "       EXT: 'SCI',1;\tMASK: ib1f19laq_skymatch_mask_sci1.fits[0]\n",
      "\n",
      "-----  Sky statistics parameters:  -----\n",
      "       statistics function: 'median'\n",
      "       lower = None\n",
      "       upper = None\n",
      "       nclip = 5\n",
      "       lsigma = 4.0\n",
      "       usigma = 4.0\n",
      "       binwidth = 0.1\n",
      "\n",
      "-----  Data->Brightness conversion parameters for input files:  -----\n",
      "\n",
      "   *   Image: ib1f19l6q_flt.fits\n",
      "       EXT = 'SCI',1\n",
      "             Data units type: COUNT-RATE\n",
      "             Conversion factor (data->brightness):  60.797431635711504\n",
      "\n",
      "   *   Image: ib1f19l7q_flt.fits\n",
      "       EXT = 'SCI',1\n",
      "             Data units type: COUNT-RATE\n",
      "             Conversion factor (data->brightness):  60.797431635711504\n",
      "\n",
      "   *   Image: ib1f19l9q_flt.fits\n",
      "       EXT = 'SCI',1\n",
      "             Data units type: COUNT-RATE\n",
      "             Conversion factor (data->brightness):  60.797431635711504\n",
      "\n",
      "   *   Image: ib1f19laq_flt.fits\n",
      "       EXT = 'SCI',1\n",
      "             Data units type: COUNT-RATE\n",
      "             Conversion factor (data->brightness):  60.797431635711504\n",
      "\n",
      "\n",
      "-----  Computing sky values requested image extensions (detector chips):  -----\n",
      "\n",
      "   *   Image:   'ib1f19l6q_flt.fits['SCI',1]'  --  SKY = 56.303737764954334 (brightness units)\n",
      "       Sky change (data units):\n",
      "      - EXT = 'SCI',1   delta(MDRIZSKY) = 0.926087   NEW MDRIZSKY = 0.926087\n",
      "   *   Image:   'ib1f19l7q_flt.fits['SCI',1]'  --  SKY = 52.989470617006745 (brightness units)\n",
      "       Sky change (data units):\n",
      "      - EXT = 'SCI',1   delta(MDRIZSKY) = 0.871574   NEW MDRIZSKY = 0.871574\n"
     ]
    },
    {
     "name": "stdout",
     "output_type": "stream",
     "text": [
      "   *   Image:   'ib1f19l9q_flt.fits['SCI',1]'  --  SKY = 51.71155600460956 (brightness units)\n",
      "       Sky change (data units):\n",
      "      - EXT = 'SCI',1   delta(MDRIZSKY) = 0.850555   NEW MDRIZSKY = 0.850555\n",
      "   *   Image:   'ib1f19laq_flt.fits['SCI',1]'  --  SKY = 51.42930474461253 (brightness units)\n",
      "       Sky change (data units):\n",
      "      - EXT = 'SCI',1   delta(MDRIZSKY) = 0.845912   NEW MDRIZSKY = 0.845912\n",
      "***** skymatch ended on 2019-05-24 18:51:43.673704\n",
      "TOTAL RUN TIME: 0:00:00.299409\n",
      "==== Processing Step  Subtract Sky  finished at  18:51:43.773 (24/05/2019)\n",
      "\n",
      "==== Processing Step  Separate Drizzle  started at  18:51:43.774 (24/05/2019)\n",
      "WCS Keywords\n",
      "\n",
      "Number of WCS axes: 2\n",
      "CTYPE : 'RA---TAN'  'DEC--TAN'  \n",
      "CRVAL : 161.76939966928876  17.273430525939578  \n",
      "CRPIX : 544.5  481.5  \n",
      "CD1_1 CD1_2  : -3.542984305538169e-05  3.723829036815852e-06  \n",
      "CD2_1 CD2_2  : 3.723829036815852e-06  3.542984305538169e-05  \n",
      "NAXIS : 1089  963\n"
     ]
    },
    {
     "name": "stdout",
     "output_type": "stream",
     "text": [
      "-Generating simple FITS output: ib1f19l7q_single_sci.fits\n"
     ]
    },
    {
     "name": "stdout",
     "output_type": "stream",
     "text": [
      "-Generating simple FITS output: ib1f19l6q_single_sci.fits\n"
     ]
    },
    {
     "name": "stdout",
     "output_type": "stream",
     "text": [
      "Writing out image to disk: ib1f19l7q_single_sci.fits\n"
     ]
    },
    {
     "name": "stdout",
     "output_type": "stream",
     "text": [
      "-Generating simple FITS output: ib1f19l9q_single_sci.fits\n"
     ]
    },
    {
     "name": "stdout",
     "output_type": "stream",
     "text": [
      "Writing out image to disk: ib1f19l6q_single_sci.fits\n"
     ]
    },
    {
     "name": "stdout",
     "output_type": "stream",
     "text": [
      "Writing out image to disk: ib1f19l7q_single_wht.fits\n"
     ]
    },
    {
     "name": "stdout",
     "output_type": "stream",
     "text": [
      "-Generating simple FITS output: ib1f19laq_single_sci.fits\n"
     ]
    },
    {
     "name": "stdout",
     "output_type": "stream",
     "text": [
      "Writing out image to disk: ib1f19l9q_single_sci.fits\n"
     ]
    },
    {
     "name": "stdout",
     "output_type": "stream",
     "text": [
      "Writing out image to disk: ib1f19l6q_single_wht.fits\n"
     ]
    },
    {
     "name": "stdout",
     "output_type": "stream",
     "text": [
      "Writing out image to disk: ib1f19l9q_single_wht.fits\n"
     ]
    },
    {
     "name": "stdout",
     "output_type": "stream",
     "text": [
      "Writing out image to disk: ib1f19laq_single_sci.fits\n"
     ]
    },
    {
     "name": "stdout",
     "output_type": "stream",
     "text": [
      "Writing out image to disk: ib1f19laq_single_wht.fits\n"
     ]
    },
    {
     "name": "stdout",
     "output_type": "stream",
     "text": [
      "==== Processing Step  Separate Drizzle  finished at  18:51:44.868 (24/05/2019)\n",
      "\n",
      "==== Processing Step  Create Median  started at  18:51:44.868 (24/05/2019)\n",
      "reference sky value for image 'ib1f19l6q_flt.fits' is 465.7631401035832\n",
      "reference sky value for image 'ib1f19l7q_flt.fits' is 438.34642612955906\n",
      "reference sky value for image 'ib1f19l9q_flt.fits' is 427.77509381163884\n",
      "reference sky value for image 'ib1f19laq_flt.fits' is 425.44021804010106\n"
     ]
    },
    {
     "name": "stdout",
     "output_type": "stream",
     "text": [
      "Saving output median image to: 'f160w_0.1_med.fits'\n",
      "==== Processing Step  Create Median  finished at  18:51:45.640 (24/05/2019)\n",
      "\n",
      "==== Processing Step  Blot  started at  18:51:45.641 (24/05/2019)\n",
      "    Blot: creating blotted image:  ib1f19l6q_flt.fits[sci,1]\n",
      "Using default C-based coordinate transformation...\n"
     ]
    },
    {
     "name": "stdout",
     "output_type": "stream",
     "text": [
      "-Generating simple FITS output: ib1f19l6q_sci1_blt.fits\n",
      "Writing out image to disk: ib1f19l6q_sci1_blt.fits\n",
      "    Blot: creating blotted image:  ib1f19l7q_flt.fits[sci,1]\n",
      "Using default C-based coordinate transformation...\n"
     ]
    },
    {
     "name": "stdout",
     "output_type": "stream",
     "text": [
      "-Generating simple FITS output: ib1f19l7q_sci1_blt.fits\n",
      "Writing out image to disk: ib1f19l7q_sci1_blt.fits\n",
      "    Blot: creating blotted image:  ib1f19l9q_flt.fits[sci,1]\n",
      "Using default C-based coordinate transformation...\n"
     ]
    },
    {
     "name": "stdout",
     "output_type": "stream",
     "text": [
      "-Generating simple FITS output: ib1f19l9q_sci1_blt.fits\n",
      "Writing out image to disk: ib1f19l9q_sci1_blt.fits\n",
      "    Blot: creating blotted image:  ib1f19laq_flt.fits[sci,1]\n",
      "Using default C-based coordinate transformation...\n"
     ]
    },
    {
     "name": "stdout",
     "output_type": "stream",
     "text": [
      "-Generating simple FITS output: ib1f19laq_sci1_blt.fits\n",
      "Writing out image to disk: ib1f19laq_sci1_blt.fits\n",
      "==== Processing Step  Blot  finished at  18:51:47.46 (24/05/2019)\n",
      "\n",
      "==== Processing Step  Driz_CR  started at  18:51:47.465 (24/05/2019)\n"
     ]
    },
    {
     "name": "stdout",
     "output_type": "stream",
     "text": [
      "Creating output :  ib1f19l6q_sci1_crmask.fits\n"
     ]
    },
    {
     "name": "stdout",
     "output_type": "stream",
     "text": [
      "Creating output :  ib1f19l7q_sci1_crmask.fits\n"
     ]
    },
    {
     "name": "stdout",
     "output_type": "stream",
     "text": [
      "Creating output :  ib1f19l9q_sci1_crmask.fits\n"
     ]
    },
    {
     "name": "stdout",
     "output_type": "stream",
     "text": [
      "Creating output :  ib1f19laq_sci1_crmask.fits\n"
     ]
    },
    {
     "name": "stdout",
     "output_type": "stream",
     "text": [
      "==== Processing Step  Driz_CR  finished at  18:51:48.578 (24/05/2019)\n",
      "\n",
      "==== Processing Step  Final Drizzle  started at  18:51:48.589 (24/05/2019)\n",
      "WCS Keywords\n",
      "\n",
      "Number of WCS axes: 2\n",
      "CTYPE : 'RA---TAN'  'DEC--TAN'  \n",
      "CRVAL : 161.76939966928876  17.273430525939578  \n",
      "CRPIX : 1167.3829659129597  1056.5471233907554  \n",
      "CD1_1 CD1_2  : -1.805555555555555e-05  3.6939273646322496e-22  \n",
      "CD2_1 CD2_2  : 3.702614723534622e-22  1.805555555555555e-05  \n",
      "NAXIS : 2336  2114\n"
     ]
    },
    {
     "name": "stdout",
     "output_type": "stream",
     "text": [
      "-Generating multi-extension output file:  f160w_0.1_drz.fits\n",
      "Writing out to disk: f160w_0.1_drz.fits\n",
      "==== Processing Step  Final Drizzle  finished at  18:51:50.808 (24/05/2019)\n",
      "\n",
      "\n",
      "AstroDrizzle Version 2.2.6 is finished processing at 18:51:50.808 (24/05/2019).\n",
      "\n",
      "\n",
      "   --------------------          --------------------\n",
      "                   Step          Elapsed time\n",
      "   --------------------          --------------------\n",
      "\n",
      "         Initialization          0.9058 sec.\n",
      "            Static Mask          0.1640 sec.\n",
      "           Subtract Sky          0.5411 sec.\n",
      "       Separate Drizzle          1.0940 sec.\n",
      "          Create Median          0.7726 sec.\n",
      "                   Blot          1.8238 sec.\n",
      "                Driz_CR          1.1131 sec.\n",
      "          Final Drizzle          2.2190 sec.\n",
      "   ====================          ====================\n",
      "                  Total          8.6334 sec.\n",
      "No trailer file saved...\n",
      "No trailer file created...\n",
      "AstroDrizzle Version 2.2.6 (2018-11-02 15:37:13 -0400) started at: 18:51:50. (24/05/2019)\n",
      "\n",
      "==== Processing Step  Initialization  started at  18:51:50.845 (24/05/2019)\n"
     ]
    },
    {
     "name": "stdout",
     "output_type": "stream",
     "text": [
      "WCS Keywords\n",
      "\n",
      "Number of WCS axes: 2\n",
      "CTYPE : 'RA---TAN'  'DEC--TAN'  \n",
      "CRVAL : 161.76939966928876  17.273430525939578  \n",
      "CRPIX : 1167.3829659129597  1056.5471233907554  \n",
      "CD1_1 CD1_2  : -1.805555555555555e-05  3.6939273646322496e-22  \n",
      "CD2_1 CD2_2  : 3.702614723534622e-22  1.805555555555555e-05  \n",
      "NAXIS : 2336  2114\n",
      "********************************************************************************\n",
      "*\n",
      "*  Estimated memory usage:  up to 257 Mb.\n",
      "*  Output image size:       2336 X 2114 pixels. \n",
      "*  Output image file:       ~ 56 Mb. \n",
      "*  Cores available:         4\n",
      "*\n",
      "********************************************************************************\n",
      "==== Processing Step  Initialization  finished at  18:51:51.664 (24/05/2019)\n",
      "\n",
      "==== Processing Step  Static Mask  started at  18:51:51.664 (24/05/2019)\n",
      "==== Processing Step  Static Mask  finished at  18:51:51.761 (24/05/2019)\n",
      "\n",
      "==== Processing Step  Subtract Sky  started at  18:51:51.761 (24/05/2019)\n"
     ]
    },
    {
     "name": "stdout",
     "output_type": "stream",
     "text": [
      "***** skymatch started on 2019-05-24 18:51:51.883034\n",
      "      Version 1.0.2 (2019-03-07 00:54:44 -0500)\n",
      "\n",
      "'skymatch' task will apply computed sky differences to input image file(s).\n",
      "\n",
      "NOTE: Computed sky values WILL NOT be subtracted from image data ('subtractsky'=False).\n",
      "'MDRIZSKY' header keyword will represent sky value *computed* from data.\n",
      "\n",
      "-----  User specified keywords:  -----\n",
      "       Sky Value Keyword:  'MDRIZSKY'\n",
      "       Data Units Keyword: 'BUNIT'\n",
      "\n",
      "\n",
      "-----  Input file list:  -----\n",
      "\n",
      "   **  Input image: 'ib1f19l6q_flt.fits'\n",
      "       EXT: 'SCI',1;\tMASK: ib1f19l6q_skymatch_mask_sci1.fits[0]\n",
      "\n",
      "   **  Input image: 'ib1f19l7q_flt.fits'\n",
      "       EXT: 'SCI',1;\tMASK: ib1f19l7q_skymatch_mask_sci1.fits[0]\n",
      "\n",
      "   **  Input image: 'ib1f19l9q_flt.fits'\n",
      "       EXT: 'SCI',1;\tMASK: ib1f19l9q_skymatch_mask_sci1.fits[0]\n",
      "\n",
      "   **  Input image: 'ib1f19laq_flt.fits'\n",
      "       EXT: 'SCI',1;\tMASK: ib1f19laq_skymatch_mask_sci1.fits[0]\n",
      "\n",
      "-----  Sky statistics parameters:  -----\n",
      "       statistics function: 'median'\n",
      "       lower = None\n",
      "       upper = None\n",
      "       nclip = 5\n",
      "       lsigma = 4.0\n",
      "       usigma = 4.0\n",
      "       binwidth = 0.1\n",
      "\n",
      "-----  Data->Brightness conversion parameters for input files:  -----\n",
      "\n",
      "   *   Image: ib1f19l6q_flt.fits\n",
      "       EXT = 'SCI',1\n",
      "             Data units type: COUNT-RATE\n",
      "             Conversion factor (data->brightness):  60.797431635711504\n",
      "\n",
      "   *   Image: ib1f19l7q_flt.fits\n",
      "       EXT = 'SCI',1\n",
      "             Data units type: COUNT-RATE\n",
      "             Conversion factor (data->brightness):  60.797431635711504\n",
      "\n",
      "   *   Image: ib1f19l9q_flt.fits\n",
      "       EXT = 'SCI',1\n",
      "             Data units type: COUNT-RATE\n",
      "             Conversion factor (data->brightness):  60.797431635711504\n",
      "\n",
      "   *   Image: ib1f19laq_flt.fits\n",
      "       EXT = 'SCI',1\n",
      "             Data units type: COUNT-RATE\n",
      "             Conversion factor (data->brightness):  60.797431635711504\n",
      "\n",
      "\n",
      "-----  Computing sky values requested image extensions (detector chips):  -----\n",
      "\n",
      "   *   Image:   'ib1f19l6q_flt.fits['SCI',1]'  --  SKY = 56.303737764954334 (brightness units)\n",
      "       Sky change (data units):\n",
      "      - EXT = 'SCI',1   delta(MDRIZSKY) = 0.926087   NEW MDRIZSKY = 0.926087\n",
      "   *   Image:   'ib1f19l7q_flt.fits['SCI',1]'  --  SKY = 52.989470617006745 (brightness units)\n",
      "       Sky change (data units):\n",
      "      - EXT = 'SCI',1   delta(MDRIZSKY) = 0.871574   NEW MDRIZSKY = 0.871574\n"
     ]
    },
    {
     "name": "stdout",
     "output_type": "stream",
     "text": [
      "   *   Image:   'ib1f19l9q_flt.fits['SCI',1]'  --  SKY = 51.71155600460956 (brightness units)\n",
      "       Sky change (data units):\n",
      "      - EXT = 'SCI',1   delta(MDRIZSKY) = 0.850555   NEW MDRIZSKY = 0.850555\n",
      "   *   Image:   'ib1f19laq_flt.fits['SCI',1]'  --  SKY = 51.42930474461253 (brightness units)\n",
      "       Sky change (data units):\n",
      "      - EXT = 'SCI',1   delta(MDRIZSKY) = 0.845912   NEW MDRIZSKY = 0.845912\n",
      "***** skymatch ended on 2019-05-24 18:51:52.177073\n",
      "TOTAL RUN TIME: 0:00:00.294039\n",
      "==== Processing Step  Subtract Sky  finished at  18:51:52.273 (24/05/2019)\n",
      "\n",
      "==== Processing Step  Separate Drizzle  started at  18:51:52.273 (24/05/2019)\n",
      "WCS Keywords\n",
      "\n",
      "Number of WCS axes: 2\n",
      "CTYPE : 'RA---TAN'  'DEC--TAN'  \n",
      "CRVAL : 161.76939966928876  17.273430525939578  \n",
      "CRPIX : 544.5  481.5  \n",
      "CD1_1 CD1_2  : -3.542984305538169e-05  3.723829036815852e-06  \n",
      "CD2_1 CD2_2  : 3.723829036815852e-06  3.542984305538169e-05  \n",
      "NAXIS : 1089  963\n"
     ]
    },
    {
     "name": "stdout",
     "output_type": "stream",
     "text": [
      "-Generating simple FITS output: ib1f19l6q_single_sci.fits\n"
     ]
    },
    {
     "name": "stdout",
     "output_type": "stream",
     "text": [
      "-Generating simple FITS output: ib1f19laq_single_sci.fits\n"
     ]
    },
    {
     "name": "stdout",
     "output_type": "stream",
     "text": [
      "-Generating simple FITS output: ib1f19l7q_single_sci.fits\n"
     ]
    },
    {
     "name": "stdout",
     "output_type": "stream",
     "text": [
      "-Generating simple FITS output: ib1f19l9q_single_sci.fits\n"
     ]
    },
    {
     "name": "stdout",
     "output_type": "stream",
     "text": [
      "Writing out image to disk: ib1f19l6q_single_sci.fits\n"
     ]
    },
    {
     "name": "stdout",
     "output_type": "stream",
     "text": [
      "Writing out image to disk: ib1f19laq_single_sci.fits\n"
     ]
    },
    {
     "name": "stdout",
     "output_type": "stream",
     "text": [
      "Writing out image to disk: ib1f19l7q_single_sci.fits\n"
     ]
    },
    {
     "name": "stdout",
     "output_type": "stream",
     "text": [
      "Writing out image to disk: ib1f19l9q_single_sci.fits\n"
     ]
    },
    {
     "name": "stdout",
     "output_type": "stream",
     "text": [
      "Writing out image to disk: ib1f19l6q_single_wht.fits\n"
     ]
    },
    {
     "name": "stdout",
     "output_type": "stream",
     "text": [
      "Writing out image to disk: ib1f19l7q_single_wht.fits\n"
     ]
    },
    {
     "name": "stdout",
     "output_type": "stream",
     "text": [
      "Writing out image to disk: ib1f19laq_single_wht.fits\n"
     ]
    },
    {
     "name": "stdout",
     "output_type": "stream",
     "text": [
      "Writing out image to disk: ib1f19l9q_single_wht.fits\n"
     ]
    },
    {
     "name": "stdout",
     "output_type": "stream",
     "text": [
      "==== Processing Step  Separate Drizzle  finished at  18:51:53.366 (24/05/2019)\n",
      "\n",
      "==== Processing Step  Create Median  started at  18:51:53.36 (24/05/2019)\n",
      "reference sky value for image 'ib1f19l6q_flt.fits' is 465.7631401035832\n",
      "reference sky value for image 'ib1f19l7q_flt.fits' is 438.34642612955906\n",
      "reference sky value for image 'ib1f19l9q_flt.fits' is 427.77509381163884\n",
      "reference sky value for image 'ib1f19laq_flt.fits' is 425.44021804010106\n"
     ]
    },
    {
     "name": "stdout",
     "output_type": "stream",
     "text": [
      "Saving output median image to: 'f160w_0.2_med.fits'\n",
      "==== Processing Step  Create Median  finished at  18:51:54.23 (24/05/2019)\n",
      "\n",
      "==== Processing Step  Blot  started at  18:51:54.237 (24/05/2019)\n",
      "    Blot: creating blotted image:  ib1f19l6q_flt.fits[sci,1]\n",
      "Using default C-based coordinate transformation...\n"
     ]
    },
    {
     "name": "stdout",
     "output_type": "stream",
     "text": [
      "-Generating simple FITS output: ib1f19l6q_sci1_blt.fits\n",
      "Writing out image to disk: ib1f19l6q_sci1_blt.fits\n",
      "    Blot: creating blotted image:  ib1f19l7q_flt.fits[sci,1]\n",
      "Using default C-based coordinate transformation...\n"
     ]
    },
    {
     "name": "stdout",
     "output_type": "stream",
     "text": [
      "-Generating simple FITS output: ib1f19l7q_sci1_blt.fits\n",
      "Writing out image to disk: ib1f19l7q_sci1_blt.fits\n",
      "    Blot: creating blotted image:  ib1f19l9q_flt.fits[sci,1]\n",
      "Using default C-based coordinate transformation...\n"
     ]
    },
    {
     "name": "stdout",
     "output_type": "stream",
     "text": [
      "-Generating simple FITS output: ib1f19l9q_sci1_blt.fits\n",
      "Writing out image to disk: ib1f19l9q_sci1_blt.fits\n",
      "    Blot: creating blotted image:  ib1f19laq_flt.fits[sci,1]\n",
      "Using default C-based coordinate transformation...\n"
     ]
    },
    {
     "name": "stdout",
     "output_type": "stream",
     "text": [
      "-Generating simple FITS output: ib1f19laq_sci1_blt.fits\n",
      "Writing out image to disk: ib1f19laq_sci1_blt.fits\n",
      "==== Processing Step  Blot  finished at  18:51:56.151 (24/05/2019)\n",
      "\n",
      "==== Processing Step  Driz_CR  started at  18:51:56.152 (24/05/2019)\n"
     ]
    },
    {
     "name": "stdout",
     "output_type": "stream",
     "text": [
      "Creating output :  ib1f19l7q_sci1_crmask.fits\n"
     ]
    },
    {
     "name": "stdout",
     "output_type": "stream",
     "text": [
      "Creating output :  ib1f19l6q_sci1_crmask.fits\n"
     ]
    },
    {
     "name": "stdout",
     "output_type": "stream",
     "text": [
      "Creating output :  ib1f19l9q_sci1_crmask.fits\n"
     ]
    },
    {
     "name": "stdout",
     "output_type": "stream",
     "text": [
      "Creating output :  ib1f19laq_sci1_crmask.fits\n"
     ]
    },
    {
     "name": "stdout",
     "output_type": "stream",
     "text": [
      "==== Processing Step  Driz_CR  finished at  18:51:57.545 (24/05/2019)\n",
      "\n",
      "==== Processing Step  Final Drizzle  started at  18:51:57.556 (24/05/2019)\n",
      "WCS Keywords\n",
      "\n",
      "Number of WCS axes: 2\n",
      "CTYPE : 'RA---TAN'  'DEC--TAN'  \n",
      "CRVAL : 161.76939966928876  17.273430525939578  \n",
      "CRPIX : 1167.3829659129597  1056.5471233907554  \n",
      "CD1_1 CD1_2  : -1.805555555555555e-05  3.6939273646322496e-22  \n",
      "CD2_1 CD2_2  : 3.702614723534622e-22  1.805555555555555e-05  \n",
      "NAXIS : 2336  2114\n"
     ]
    },
    {
     "name": "stdout",
     "output_type": "stream",
     "text": [
      "-Generating multi-extension output file:  f160w_0.2_drz.fits\n",
      "Writing out to disk: f160w_0.2_drz.fits\n",
      "==== Processing Step  Final Drizzle  finished at  18:51:59.88 (24/05/2019)\n",
      "\n",
      "\n",
      "AstroDrizzle Version 2.2.6 is finished processing at 18:51:59.887 (24/05/2019).\n",
      "\n",
      "\n",
      "   --------------------          --------------------\n",
      "                   Step          Elapsed time\n",
      "   --------------------          --------------------\n",
      "\n",
      "         Initialization          0.8189 sec.\n",
      "            Static Mask          0.0971 sec.\n",
      "           Subtract Sky          0.5120 sec.\n",
      "       Separate Drizzle          1.0923 sec.\n",
      "          Create Median          0.8709 sec.\n",
      "                   Blot          1.9144 sec.\n",
      "                Driz_CR          1.3932 sec.\n",
      "          Final Drizzle          2.3303 sec.\n",
      "   ====================          ====================\n",
      "                  Total          9.0292 sec.\n",
      "No trailer file saved...\n",
      "No trailer file created...\n",
      "AstroDrizzle Version 2.2.6 (2018-11-02 15:37:13 -0400) started at: 18:51:59.927 (24/05/2019)\n",
      "\n",
      "==== Processing Step  Initialization  started at  18:51:59.927 (24/05/2019)\n"
     ]
    },
    {
     "name": "stdout",
     "output_type": "stream",
     "text": [
      "WCS Keywords\n",
      "\n",
      "Number of WCS axes: 2\n",
      "CTYPE : 'RA---TAN'  'DEC--TAN'  \n",
      "CRVAL : 161.76939966928876  17.273430525939578  \n",
      "CRPIX : 1167.3829659129597  1056.5471233907554  \n",
      "CD1_1 CD1_2  : -1.805555555555555e-05  3.6939273646322496e-22  \n",
      "CD2_1 CD2_2  : 3.702614723534622e-22  1.805555555555555e-05  \n",
      "NAXIS : 2336  2114\n",
      "********************************************************************************\n",
      "*\n",
      "*  Estimated memory usage:  up to 257 Mb.\n",
      "*  Output image size:       2336 X 2114 pixels. \n",
      "*  Output image file:       ~ 56 Mb. \n",
      "*  Cores available:         4\n",
      "*\n",
      "********************************************************************************\n",
      "==== Processing Step  Initialization  finished at  18:52:00.717 (24/05/2019)\n",
      "\n",
      "==== Processing Step  Static Mask  started at  18:52:00.717 (24/05/2019)\n",
      "==== Processing Step  Static Mask  finished at  18:52:00.85 (24/05/2019)\n",
      "\n",
      "==== Processing Step  Subtract Sky  started at  18:52:00.858 (24/05/2019)\n"
     ]
    },
    {
     "name": "stdout",
     "output_type": "stream",
     "text": [
      "***** skymatch started on 2019-05-24 18:52:01.106361\n",
      "      Version 1.0.2 (2019-03-07 00:54:44 -0500)\n",
      "\n",
      "'skymatch' task will apply computed sky differences to input image file(s).\n",
      "\n",
      "NOTE: Computed sky values WILL NOT be subtracted from image data ('subtractsky'=False).\n",
      "'MDRIZSKY' header keyword will represent sky value *computed* from data.\n",
      "\n",
      "-----  User specified keywords:  -----\n",
      "       Sky Value Keyword:  'MDRIZSKY'\n",
      "       Data Units Keyword: 'BUNIT'\n",
      "\n",
      "\n",
      "-----  Input file list:  -----\n",
      "\n",
      "   **  Input image: 'ib1f19l6q_flt.fits'\n",
      "       EXT: 'SCI',1;\tMASK: ib1f19l6q_skymatch_mask_sci1.fits[0]\n",
      "\n",
      "   **  Input image: 'ib1f19l7q_flt.fits'\n",
      "       EXT: 'SCI',1;\tMASK: ib1f19l7q_skymatch_mask_sci1.fits[0]\n",
      "\n",
      "   **  Input image: 'ib1f19l9q_flt.fits'\n",
      "       EXT: 'SCI',1;\tMASK: ib1f19l9q_skymatch_mask_sci1.fits[0]\n",
      "\n",
      "   **  Input image: 'ib1f19laq_flt.fits'\n",
      "       EXT: 'SCI',1;\tMASK: ib1f19laq_skymatch_mask_sci1.fits[0]\n",
      "\n",
      "-----  Sky statistics parameters:  -----\n",
      "       statistics function: 'median'\n",
      "       lower = None\n",
      "       upper = None\n",
      "       nclip = 5\n",
      "       lsigma = 4.0\n",
      "       usigma = 4.0\n",
      "       binwidth = 0.1\n",
      "\n",
      "-----  Data->Brightness conversion parameters for input files:  -----\n",
      "\n",
      "   *   Image: ib1f19l6q_flt.fits\n",
      "       EXT = 'SCI',1\n",
      "             Data units type: COUNT-RATE\n",
      "             Conversion factor (data->brightness):  60.797431635711504\n",
      "\n",
      "   *   Image: ib1f19l7q_flt.fits\n",
      "       EXT = 'SCI',1\n",
      "             Data units type: COUNT-RATE\n",
      "             Conversion factor (data->brightness):  60.797431635711504\n",
      "\n",
      "   *   Image: ib1f19l9q_flt.fits\n",
      "       EXT = 'SCI',1\n",
      "             Data units type: COUNT-RATE\n",
      "             Conversion factor (data->brightness):  60.797431635711504\n",
      "\n",
      "   *   Image: ib1f19laq_flt.fits\n",
      "       EXT = 'SCI',1\n",
      "             Data units type: COUNT-RATE\n",
      "             Conversion factor (data->brightness):  60.797431635711504\n",
      "\n",
      "\n",
      "-----  Computing sky values requested image extensions (detector chips):  -----\n",
      "\n",
      "   *   Image:   'ib1f19l6q_flt.fits['SCI',1]'  --  SKY = 56.303737764954334 (brightness units)\n",
      "       Sky change (data units):\n",
      "      - EXT = 'SCI',1   delta(MDRIZSKY) = 0.926087   NEW MDRIZSKY = 0.926087\n",
      "   *   Image:   'ib1f19l7q_flt.fits['SCI',1]'  --  SKY = 52.989470617006745 (brightness units)\n",
      "       Sky change (data units):\n",
      "      - EXT = 'SCI',1   delta(MDRIZSKY) = 0.871574   NEW MDRIZSKY = 0.871574\n"
     ]
    },
    {
     "name": "stdout",
     "output_type": "stream",
     "text": [
      "   *   Image:   'ib1f19l9q_flt.fits['SCI',1]'  --  SKY = 51.71155600460956 (brightness units)\n",
      "       Sky change (data units):\n",
      "      - EXT = 'SCI',1   delta(MDRIZSKY) = 0.850555   NEW MDRIZSKY = 0.850555\n",
      "   *   Image:   'ib1f19laq_flt.fits['SCI',1]'  --  SKY = 51.42930474461253 (brightness units)\n",
      "       Sky change (data units):\n",
      "      - EXT = 'SCI',1   delta(MDRIZSKY) = 0.845912   NEW MDRIZSKY = 0.845912\n",
      "***** skymatch ended on 2019-05-24 18:52:01.378766\n",
      "TOTAL RUN TIME: 0:00:00.272405\n",
      "==== Processing Step  Subtract Sky  finished at  18:52:01.53 (24/05/2019)\n",
      "\n",
      "==== Processing Step  Separate Drizzle  started at  18:52:01.533 (24/05/2019)\n",
      "WCS Keywords\n",
      "\n",
      "Number of WCS axes: 2\n",
      "CTYPE : 'RA---TAN'  'DEC--TAN'  \n",
      "CRVAL : 161.76939966928876  17.273430525939578  \n",
      "CRPIX : 544.5  481.5  \n",
      "CD1_1 CD1_2  : -3.542984305538169e-05  3.723829036815852e-06  \n",
      "CD2_1 CD2_2  : 3.723829036815852e-06  3.542984305538169e-05  \n",
      "NAXIS : 1089  963\n"
     ]
    },
    {
     "name": "stdout",
     "output_type": "stream",
     "text": [
      "-Generating simple FITS output: ib1f19l7q_single_sci.fits\n"
     ]
    },
    {
     "name": "stdout",
     "output_type": "stream",
     "text": [
      "-Generating simple FITS output: ib1f19l6q_single_sci.fits\n"
     ]
    },
    {
     "name": "stdout",
     "output_type": "stream",
     "text": [
      "-Generating simple FITS output: ib1f19l9q_single_sci.fits\n"
     ]
    },
    {
     "name": "stdout",
     "output_type": "stream",
     "text": [
      "Writing out image to disk: ib1f19l7q_single_sci.fits\n"
     ]
    },
    {
     "name": "stdout",
     "output_type": "stream",
     "text": [
      "-Generating simple FITS output: ib1f19laq_single_sci.fits\n"
     ]
    },
    {
     "name": "stdout",
     "output_type": "stream",
     "text": [
      "Writing out image to disk: ib1f19l6q_single_sci.fits\n"
     ]
    },
    {
     "name": "stdout",
     "output_type": "stream",
     "text": [
      "Writing out image to disk: ib1f19l9q_single_sci.fits\n"
     ]
    },
    {
     "name": "stdout",
     "output_type": "stream",
     "text": [
      "Writing out image to disk: ib1f19l7q_single_wht.fits\n"
     ]
    },
    {
     "name": "stdout",
     "output_type": "stream",
     "text": [
      "Writing out image to disk: ib1f19laq_single_sci.fits\n"
     ]
    },
    {
     "name": "stdout",
     "output_type": "stream",
     "text": [
      "Writing out image to disk: ib1f19l6q_single_wht.fits\n"
     ]
    },
    {
     "name": "stdout",
     "output_type": "stream",
     "text": [
      "Writing out image to disk: ib1f19l9q_single_wht.fits\n"
     ]
    },
    {
     "name": "stdout",
     "output_type": "stream",
     "text": [
      "Writing out image to disk: ib1f19laq_single_wht.fits\n"
     ]
    },
    {
     "name": "stdout",
     "output_type": "stream",
     "text": [
      "==== Processing Step  Separate Drizzle  finished at  18:52:02.58 (24/05/2019)\n",
      "\n",
      "==== Processing Step  Create Median  started at  18:52:02.585 (24/05/2019)\n",
      "reference sky value for image 'ib1f19l6q_flt.fits' is 465.7631401035832\n",
      "reference sky value for image 'ib1f19l7q_flt.fits' is 438.34642612955906\n",
      "reference sky value for image 'ib1f19l9q_flt.fits' is 427.77509381163884\n",
      "reference sky value for image 'ib1f19laq_flt.fits' is 425.44021804010106\n"
     ]
    },
    {
     "name": "stdout",
     "output_type": "stream",
     "text": [
      "Saving output median image to: 'f160w_0.3_med.fits'\n",
      "==== Processing Step  Create Median  finished at  18:52:03.362 (24/05/2019)\n",
      "\n",
      "==== Processing Step  Blot  started at  18:52:03.362 (24/05/2019)\n",
      "    Blot: creating blotted image:  ib1f19l6q_flt.fits[sci,1]\n",
      "Using default C-based coordinate transformation...\n"
     ]
    },
    {
     "name": "stdout",
     "output_type": "stream",
     "text": [
      "-Generating simple FITS output: ib1f19l6q_sci1_blt.fits\n",
      "Writing out image to disk: ib1f19l6q_sci1_blt.fits\n",
      "    Blot: creating blotted image:  ib1f19l7q_flt.fits[sci,1]\n",
      "Using default C-based coordinate transformation...\n"
     ]
    },
    {
     "name": "stdout",
     "output_type": "stream",
     "text": [
      "-Generating simple FITS output: ib1f19l7q_sci1_blt.fits\n",
      "Writing out image to disk: ib1f19l7q_sci1_blt.fits\n",
      "    Blot: creating blotted image:  ib1f19l9q_flt.fits[sci,1]\n",
      "Using default C-based coordinate transformation...\n"
     ]
    },
    {
     "name": "stdout",
     "output_type": "stream",
     "text": [
      "-Generating simple FITS output: ib1f19l9q_sci1_blt.fits\n",
      "Writing out image to disk: ib1f19l9q_sci1_blt.fits\n",
      "    Blot: creating blotted image:  ib1f19laq_flt.fits[sci,1]\n",
      "Using default C-based coordinate transformation...\n"
     ]
    },
    {
     "name": "stdout",
     "output_type": "stream",
     "text": [
      "-Generating simple FITS output: ib1f19laq_sci1_blt.fits\n",
      "Writing out image to disk: ib1f19laq_sci1_blt.fits\n",
      "==== Processing Step  Blot  finished at  18:52:05.266 (24/05/2019)\n",
      "\n",
      "==== Processing Step  Driz_CR  started at  18:52:05.267 (24/05/2019)\n"
     ]
    },
    {
     "name": "stdout",
     "output_type": "stream",
     "text": [
      "Creating output :  ib1f19l7q_sci1_crmask.fits\n"
     ]
    },
    {
     "name": "stdout",
     "output_type": "stream",
     "text": [
      "Creating output :  ib1f19laq_sci1_crmask.fits\n"
     ]
    },
    {
     "name": "stdout",
     "output_type": "stream",
     "text": [
      "Creating output :  ib1f19l6q_sci1_crmask.fits\n"
     ]
    },
    {
     "name": "stdout",
     "output_type": "stream",
     "text": [
      "Creating output :  ib1f19l9q_sci1_crmask.fits\n"
     ]
    },
    {
     "name": "stdout",
     "output_type": "stream",
     "text": [
      "==== Processing Step  Driz_CR  finished at  18:52:06.665 (24/05/2019)\n",
      "\n",
      "==== Processing Step  Final Drizzle  started at  18:52:06.675 (24/05/2019)\n",
      "WCS Keywords\n",
      "\n",
      "Number of WCS axes: 2\n",
      "CTYPE : 'RA---TAN'  'DEC--TAN'  \n",
      "CRVAL : 161.76939966928876  17.273430525939578  \n",
      "CRPIX : 1167.3829659129597  1056.5471233907554  \n",
      "CD1_1 CD1_2  : -1.805555555555555e-05  3.6939273646322496e-22  \n",
      "CD2_1 CD2_2  : 3.702614723534622e-22  1.805555555555555e-05  \n",
      "NAXIS : 2336  2114\n"
     ]
    },
    {
     "name": "stdout",
     "output_type": "stream",
     "text": [
      "-Generating multi-extension output file:  f160w_0.3_drz.fits\n",
      "Writing out to disk: f160w_0.3_drz.fits\n",
      "==== Processing Step  Final Drizzle  finished at  18:52:09.155 (24/05/2019)\n",
      "\n",
      "\n",
      "AstroDrizzle Version 2.2.6 is finished processing at 18:52:09.156 (24/05/2019).\n",
      "\n",
      "\n",
      "   --------------------          --------------------\n",
      "                   Step          Elapsed time\n",
      "   --------------------          --------------------\n",
      "\n",
      "         Initialization          0.7899 sec.\n",
      "            Static Mask          0.1401 sec.\n",
      "           Subtract Sky          0.6752 sec.\n",
      "       Separate Drizzle          1.0517 sec.\n",
      "          Create Median          0.7761 sec.\n",
      "                   Blot          1.9044 sec.\n",
      "                Driz_CR          1.3985 sec.\n",
      "          Final Drizzle          2.4799 sec.\n",
      "   ====================          ====================\n",
      "                  Total          9.2159 sec.\n",
      "No trailer file saved...\n",
      "No trailer file created...\n",
      "AstroDrizzle Version 2.2.6 (2018-11-02 15:37:13 -0400) started at: 18:52:09.194 (24/05/2019)\n",
      "\n",
      "==== Processing Step  Initialization  started at  18:52:09.194 (24/05/2019)\n"
     ]
    },
    {
     "name": "stdout",
     "output_type": "stream",
     "text": [
      "WCS Keywords\n",
      "\n",
      "Number of WCS axes: 2\n",
      "CTYPE : 'RA---TAN'  'DEC--TAN'  \n",
      "CRVAL : 161.76939966928876  17.273430525939578  \n",
      "CRPIX : 1167.3829659129597  1056.5471233907554  \n",
      "CD1_1 CD1_2  : -1.805555555555555e-05  3.6939273646322496e-22  \n",
      "CD2_1 CD2_2  : 3.702614723534622e-22  1.805555555555555e-05  \n",
      "NAXIS : 2336  2114\n",
      "********************************************************************************\n",
      "*\n",
      "*  Estimated memory usage:  up to 257 Mb.\n",
      "*  Output image size:       2336 X 2114 pixels. \n",
      "*  Output image file:       ~ 56 Mb. \n",
      "*  Cores available:         4\n",
      "*\n",
      "********************************************************************************\n",
      "==== Processing Step  Initialization  finished at  18:52:10.05 (24/05/2019)\n",
      "\n",
      "==== Processing Step  Static Mask  started at  18:52:10.056 (24/05/2019)\n",
      "==== Processing Step  Static Mask  finished at  18:52:10.170 (24/05/2019)\n",
      "\n",
      "==== Processing Step  Subtract Sky  started at  18:52:10.170 (24/05/2019)\n"
     ]
    },
    {
     "name": "stdout",
     "output_type": "stream",
     "text": [
      "***** skymatch started on 2019-05-24 18:52:10.347207\n",
      "      Version 1.0.2 (2019-03-07 00:54:44 -0500)\n",
      "\n",
      "'skymatch' task will apply computed sky differences to input image file(s).\n",
      "\n",
      "NOTE: Computed sky values WILL NOT be subtracted from image data ('subtractsky'=False).\n",
      "'MDRIZSKY' header keyword will represent sky value *computed* from data.\n",
      "\n",
      "-----  User specified keywords:  -----\n",
      "       Sky Value Keyword:  'MDRIZSKY'\n",
      "       Data Units Keyword: 'BUNIT'\n",
      "\n",
      "\n",
      "-----  Input file list:  -----\n",
      "\n",
      "   **  Input image: 'ib1f19l6q_flt.fits'\n",
      "       EXT: 'SCI',1;\tMASK: ib1f19l6q_skymatch_mask_sci1.fits[0]\n",
      "\n",
      "   **  Input image: 'ib1f19l7q_flt.fits'\n",
      "       EXT: 'SCI',1;\tMASK: ib1f19l7q_skymatch_mask_sci1.fits[0]\n",
      "\n",
      "   **  Input image: 'ib1f19l9q_flt.fits'\n",
      "       EXT: 'SCI',1;\tMASK: ib1f19l9q_skymatch_mask_sci1.fits[0]\n",
      "\n",
      "   **  Input image: 'ib1f19laq_flt.fits'\n",
      "       EXT: 'SCI',1;\tMASK: ib1f19laq_skymatch_mask_sci1.fits[0]\n",
      "\n",
      "-----  Sky statistics parameters:  -----\n",
      "       statistics function: 'median'\n",
      "       lower = None\n",
      "       upper = None\n",
      "       nclip = 5\n",
      "       lsigma = 4.0\n",
      "       usigma = 4.0\n",
      "       binwidth = 0.1\n",
      "\n",
      "-----  Data->Brightness conversion parameters for input files:  -----\n",
      "\n",
      "   *   Image: ib1f19l6q_flt.fits\n",
      "       EXT = 'SCI',1\n",
      "             Data units type: COUNT-RATE\n",
      "             Conversion factor (data->brightness):  60.797431635711504\n",
      "\n",
      "   *   Image: ib1f19l7q_flt.fits\n",
      "       EXT = 'SCI',1\n",
      "             Data units type: COUNT-RATE\n",
      "             Conversion factor (data->brightness):  60.797431635711504\n",
      "\n",
      "   *   Image: ib1f19l9q_flt.fits\n",
      "       EXT = 'SCI',1\n",
      "             Data units type: COUNT-RATE\n",
      "             Conversion factor (data->brightness):  60.797431635711504\n",
      "\n",
      "   *   Image: ib1f19laq_flt.fits\n",
      "       EXT = 'SCI',1\n",
      "             Data units type: COUNT-RATE\n",
      "             Conversion factor (data->brightness):  60.797431635711504\n",
      "\n",
      "\n",
      "-----  Computing sky values requested image extensions (detector chips):  -----\n",
      "\n",
      "   *   Image:   'ib1f19l6q_flt.fits['SCI',1]'  --  SKY = 56.303737764954334 (brightness units)\n",
      "       Sky change (data units):\n",
      "      - EXT = 'SCI',1   delta(MDRIZSKY) = 0.926087   NEW MDRIZSKY = 0.926087\n",
      "   *   Image:   'ib1f19l7q_flt.fits['SCI',1]'  --  SKY = 52.989470617006745 (brightness units)\n",
      "       Sky change (data units):\n",
      "      - EXT = 'SCI',1   delta(MDRIZSKY) = 0.871574   NEW MDRIZSKY = 0.871574\n"
     ]
    },
    {
     "name": "stdout",
     "output_type": "stream",
     "text": [
      "   *   Image:   'ib1f19l9q_flt.fits['SCI',1]'  --  SKY = 51.71155600460956 (brightness units)\n",
      "       Sky change (data units):\n",
      "      - EXT = 'SCI',1   delta(MDRIZSKY) = 0.850555   NEW MDRIZSKY = 0.850555\n",
      "   *   Image:   'ib1f19laq_flt.fits['SCI',1]'  --  SKY = 51.42930474461253 (brightness units)\n",
      "       Sky change (data units):\n",
      "      - EXT = 'SCI',1   delta(MDRIZSKY) = 0.845912   NEW MDRIZSKY = 0.845912\n",
      "***** skymatch ended on 2019-05-24 18:52:10.652795\n",
      "TOTAL RUN TIME: 0:00:00.305588\n",
      "==== Processing Step  Subtract Sky  finished at  18:52:10.763 (24/05/2019)\n",
      "\n",
      "==== Processing Step  Separate Drizzle  started at  18:52:10.764 (24/05/2019)\n",
      "WCS Keywords\n",
      "\n",
      "Number of WCS axes: 2\n",
      "CTYPE : 'RA---TAN'  'DEC--TAN'  \n",
      "CRVAL : 161.76939966928876  17.273430525939578  \n",
      "CRPIX : 544.5  481.5  \n",
      "CD1_1 CD1_2  : -3.542984305538169e-05  3.723829036815852e-06  \n",
      "CD2_1 CD2_2  : 3.723829036815852e-06  3.542984305538169e-05  \n",
      "NAXIS : 1089  963\n"
     ]
    },
    {
     "name": "stdout",
     "output_type": "stream",
     "text": [
      "-Generating simple FITS output: ib1f19l9q_single_sci.fits\n"
     ]
    },
    {
     "name": "stdout",
     "output_type": "stream",
     "text": [
      "-Generating simple FITS output: ib1f19l6q_single_sci.fits\n"
     ]
    },
    {
     "name": "stdout",
     "output_type": "stream",
     "text": [
      "Writing out image to disk: ib1f19l9q_single_sci.fits\n"
     ]
    },
    {
     "name": "stdout",
     "output_type": "stream",
     "text": [
      "-Generating simple FITS output: ib1f19laq_single_sci.fits\n"
     ]
    },
    {
     "name": "stdout",
     "output_type": "stream",
     "text": [
      "-Generating simple FITS output: ib1f19l7q_single_sci.fits\n"
     ]
    },
    {
     "name": "stdout",
     "output_type": "stream",
     "text": [
      "Writing out image to disk: ib1f19l6q_single_sci.fits\n"
     ]
    },
    {
     "name": "stdout",
     "output_type": "stream",
     "text": [
      "Writing out image to disk: ib1f19l9q_single_wht.fits\n"
     ]
    },
    {
     "name": "stdout",
     "output_type": "stream",
     "text": [
      "Writing out image to disk: ib1f19laq_single_sci.fits\n"
     ]
    },
    {
     "name": "stdout",
     "output_type": "stream",
     "text": [
      "Writing out image to disk: ib1f19l7q_single_sci.fits\n"
     ]
    },
    {
     "name": "stdout",
     "output_type": "stream",
     "text": [
      "Writing out image to disk: ib1f19l6q_single_wht.fits\n"
     ]
    },
    {
     "name": "stdout",
     "output_type": "stream",
     "text": [
      "Writing out image to disk: ib1f19l7q_single_wht.fits\n"
     ]
    },
    {
     "name": "stdout",
     "output_type": "stream",
     "text": [
      "Writing out image to disk: ib1f19laq_single_wht.fits\n"
     ]
    },
    {
     "name": "stdout",
     "output_type": "stream",
     "text": [
      "==== Processing Step  Separate Drizzle  finished at  18:52:11.864 (24/05/2019)\n",
      "\n",
      "==== Processing Step  Create Median  started at  18:52:11.864 (24/05/2019)\n",
      "reference sky value for image 'ib1f19l6q_flt.fits' is 465.7631401035832\n",
      "reference sky value for image 'ib1f19l7q_flt.fits' is 438.34642612955906\n",
      "reference sky value for image 'ib1f19l9q_flt.fits' is 427.77509381163884\n",
      "reference sky value for image 'ib1f19laq_flt.fits' is 425.44021804010106\n"
     ]
    },
    {
     "name": "stdout",
     "output_type": "stream",
     "text": [
      "Saving output median image to: 'f160w_0.4_med.fits'\n",
      "==== Processing Step  Create Median  finished at  18:52:12.649 (24/05/2019)\n",
      "\n",
      "==== Processing Step  Blot  started at  18:52:12.650 (24/05/2019)\n",
      "    Blot: creating blotted image:  ib1f19l6q_flt.fits[sci,1]\n",
      "Using default C-based coordinate transformation...\n"
     ]
    },
    {
     "name": "stdout",
     "output_type": "stream",
     "text": [
      "-Generating simple FITS output: ib1f19l6q_sci1_blt.fits\n",
      "Writing out image to disk: ib1f19l6q_sci1_blt.fits\n",
      "    Blot: creating blotted image:  ib1f19l7q_flt.fits[sci,1]\n",
      "Using default C-based coordinate transformation...\n"
     ]
    },
    {
     "name": "stdout",
     "output_type": "stream",
     "text": [
      "-Generating simple FITS output: ib1f19l7q_sci1_blt.fits\n",
      "Writing out image to disk: ib1f19l7q_sci1_blt.fits\n",
      "    Blot: creating blotted image:  ib1f19l9q_flt.fits[sci,1]\n",
      "Using default C-based coordinate transformation...\n"
     ]
    },
    {
     "name": "stdout",
     "output_type": "stream",
     "text": [
      "-Generating simple FITS output: ib1f19l9q_sci1_blt.fits\n",
      "Writing out image to disk: ib1f19l9q_sci1_blt.fits\n",
      "    Blot: creating blotted image:  ib1f19laq_flt.fits[sci,1]\n",
      "Using default C-based coordinate transformation...\n"
     ]
    },
    {
     "name": "stdout",
     "output_type": "stream",
     "text": [
      "-Generating simple FITS output: ib1f19laq_sci1_blt.fits\n",
      "Writing out image to disk: ib1f19laq_sci1_blt.fits\n",
      "==== Processing Step  Blot  finished at  18:52:14.560 (24/05/2019)\n",
      "\n",
      "==== Processing Step  Driz_CR  started at  18:52:14.560 (24/05/2019)\n"
     ]
    },
    {
     "name": "stdout",
     "output_type": "stream",
     "text": [
      "Creating output :  ib1f19laq_sci1_crmask.fits\n"
     ]
    },
    {
     "name": "stdout",
     "output_type": "stream",
     "text": [
      "Creating output :  ib1f19l6q_sci1_crmask.fits\n"
     ]
    },
    {
     "name": "stdout",
     "output_type": "stream",
     "text": [
      "Creating output :  ib1f19l7q_sci1_crmask.fits\n"
     ]
    },
    {
     "name": "stdout",
     "output_type": "stream",
     "text": [
      "Creating output :  ib1f19l9q_sci1_crmask.fits\n"
     ]
    },
    {
     "name": "stdout",
     "output_type": "stream",
     "text": [
      "==== Processing Step  Driz_CR  finished at  18:52:15.846 (24/05/2019)\n",
      "\n",
      "==== Processing Step  Final Drizzle  started at  18:52:15.859 (24/05/2019)\n",
      "WCS Keywords\n",
      "\n",
      "Number of WCS axes: 2\n",
      "CTYPE : 'RA---TAN'  'DEC--TAN'  \n",
      "CRVAL : 161.76939966928876  17.273430525939578  \n",
      "CRPIX : 1167.3829659129597  1056.5471233907554  \n",
      "CD1_1 CD1_2  : -1.805555555555555e-05  3.6939273646322496e-22  \n",
      "CD2_1 CD2_2  : 3.702614723534622e-22  1.805555555555555e-05  \n",
      "NAXIS : 2336  2114\n"
     ]
    },
    {
     "name": "stdout",
     "output_type": "stream",
     "text": [
      "-Generating multi-extension output file:  f160w_0.4_drz.fits\n",
      "Writing out to disk: f160w_0.4_drz.fits\n",
      "==== Processing Step  Final Drizzle  finished at  18:52:18.578 (24/05/2019)\n",
      "\n",
      "\n",
      "AstroDrizzle Version 2.2.6 is finished processing at 18:52:18.578 (24/05/2019).\n",
      "\n",
      "\n",
      "   --------------------          --------------------\n",
      "                   Step          Elapsed time\n",
      "   --------------------          --------------------\n",
      "\n",
      "         Initialization          0.8620 sec.\n",
      "            Static Mask          0.1135 sec.\n",
      "           Subtract Sky          0.5933 sec.\n",
      "       Separate Drizzle          1.1001 sec.\n",
      "          Create Median          0.7852 sec.\n",
      "                   Blot          1.9102 sec.\n",
      "                Driz_CR          1.2861 sec.\n",
      "          Final Drizzle          2.7190 sec.\n",
      "   ====================          ====================\n",
      "                  Total          9.3693 sec.\n",
      "No trailer file saved...\n",
      "No trailer file created...\n",
      "AstroDrizzle Version 2.2.6 (2018-11-02 15:37:13 -0400) started at: 18:52:18.621 (24/05/2019)\n",
      "\n",
      "==== Processing Step  Initialization  started at  18:52:18.621 (24/05/2019)\n"
     ]
    },
    {
     "name": "stdout",
     "output_type": "stream",
     "text": [
      "WCS Keywords\n",
      "\n",
      "Number of WCS axes: 2\n",
      "CTYPE : 'RA---TAN'  'DEC--TAN'  \n",
      "CRVAL : 161.76939966928876  17.273430525939578  \n",
      "CRPIX : 1167.3829659129597  1056.5471233907554  \n",
      "CD1_1 CD1_2  : -1.805555555555555e-05  3.6939273646322496e-22  \n",
      "CD2_1 CD2_2  : 3.702614723534622e-22  1.805555555555555e-05  \n",
      "NAXIS : 2336  2114\n",
      "********************************************************************************\n",
      "*\n",
      "*  Estimated memory usage:  up to 257 Mb.\n",
      "*  Output image size:       2336 X 2114 pixels. \n",
      "*  Output image file:       ~ 56 Mb. \n",
      "*  Cores available:         4\n",
      "*\n",
      "********************************************************************************\n",
      "==== Processing Step  Initialization  finished at  18:52:19.411 (24/05/2019)\n",
      "\n",
      "==== Processing Step  Static Mask  started at  18:52:19.411 (24/05/2019)\n",
      "==== Processing Step  Static Mask  finished at  18:52:19.555 (24/05/2019)\n",
      "\n",
      "==== Processing Step  Subtract Sky  started at  18:52:19.555 (24/05/2019)\n"
     ]
    },
    {
     "name": "stdout",
     "output_type": "stream",
     "text": [
      "***** skymatch started on 2019-05-24 18:52:19.739239\n",
      "      Version 1.0.2 (2019-03-07 00:54:44 -0500)\n",
      "\n",
      "'skymatch' task will apply computed sky differences to input image file(s).\n",
      "\n",
      "NOTE: Computed sky values WILL NOT be subtracted from image data ('subtractsky'=False).\n",
      "'MDRIZSKY' header keyword will represent sky value *computed* from data.\n",
      "\n",
      "-----  User specified keywords:  -----\n",
      "       Sky Value Keyword:  'MDRIZSKY'\n",
      "       Data Units Keyword: 'BUNIT'\n",
      "\n",
      "\n",
      "-----  Input file list:  -----\n",
      "\n",
      "   **  Input image: 'ib1f19l6q_flt.fits'\n",
      "       EXT: 'SCI',1;\tMASK: ib1f19l6q_skymatch_mask_sci1.fits[0]\n",
      "\n",
      "   **  Input image: 'ib1f19l7q_flt.fits'\n",
      "       EXT: 'SCI',1;\tMASK: ib1f19l7q_skymatch_mask_sci1.fits[0]\n",
      "\n",
      "   **  Input image: 'ib1f19l9q_flt.fits'\n",
      "       EXT: 'SCI',1;\tMASK: ib1f19l9q_skymatch_mask_sci1.fits[0]\n",
      "\n",
      "   **  Input image: 'ib1f19laq_flt.fits'\n",
      "       EXT: 'SCI',1;\tMASK: ib1f19laq_skymatch_mask_sci1.fits[0]\n",
      "\n",
      "-----  Sky statistics parameters:  -----\n",
      "       statistics function: 'median'\n",
      "       lower = None\n",
      "       upper = None\n",
      "       nclip = 5\n",
      "       lsigma = 4.0\n",
      "       usigma = 4.0\n",
      "       binwidth = 0.1\n",
      "\n",
      "-----  Data->Brightness conversion parameters for input files:  -----\n",
      "\n",
      "   *   Image: ib1f19l6q_flt.fits\n",
      "       EXT = 'SCI',1\n",
      "             Data units type: COUNT-RATE\n",
      "             Conversion factor (data->brightness):  60.797431635711504\n",
      "\n",
      "   *   Image: ib1f19l7q_flt.fits\n",
      "       EXT = 'SCI',1\n",
      "             Data units type: COUNT-RATE\n",
      "             Conversion factor (data->brightness):  60.797431635711504\n",
      "\n",
      "   *   Image: ib1f19l9q_flt.fits\n",
      "       EXT = 'SCI',1\n",
      "             Data units type: COUNT-RATE\n",
      "             Conversion factor (data->brightness):  60.797431635711504\n",
      "\n",
      "   *   Image: ib1f19laq_flt.fits\n",
      "       EXT = 'SCI',1\n",
      "             Data units type: COUNT-RATE\n",
      "             Conversion factor (data->brightness):  60.797431635711504\n",
      "\n",
      "\n",
      "-----  Computing sky values requested image extensions (detector chips):  -----\n",
      "\n",
      "   *   Image:   'ib1f19l6q_flt.fits['SCI',1]'  --  SKY = 56.303737764954334 (brightness units)\n",
      "       Sky change (data units):\n",
      "      - EXT = 'SCI',1   delta(MDRIZSKY) = 0.926087   NEW MDRIZSKY = 0.926087\n",
      "   *   Image:   'ib1f19l7q_flt.fits['SCI',1]'  --  SKY = 52.989470617006745 (brightness units)\n",
      "       Sky change (data units):\n",
      "      - EXT = 'SCI',1   delta(MDRIZSKY) = 0.871574   NEW MDRIZSKY = 0.871574\n"
     ]
    },
    {
     "name": "stdout",
     "output_type": "stream",
     "text": [
      "   *   Image:   'ib1f19l9q_flt.fits['SCI',1]'  --  SKY = 51.71155600460956 (brightness units)\n",
      "       Sky change (data units):\n",
      "      - EXT = 'SCI',1   delta(MDRIZSKY) = 0.850555   NEW MDRIZSKY = 0.850555\n",
      "   *   Image:   'ib1f19laq_flt.fits['SCI',1]'  --  SKY = 51.42930474461253 (brightness units)\n",
      "       Sky change (data units):\n",
      "      - EXT = 'SCI',1   delta(MDRIZSKY) = 0.845912   NEW MDRIZSKY = 0.845912\n",
      "***** skymatch ended on 2019-05-24 18:52:20.046071\n",
      "TOTAL RUN TIME: 0:00:00.306832\n",
      "==== Processing Step  Subtract Sky  finished at  18:52:20.15 (24/05/2019)\n",
      "\n",
      "==== Processing Step  Separate Drizzle  started at  18:52:20.156 (24/05/2019)\n",
      "WCS Keywords\n",
      "\n",
      "Number of WCS axes: 2\n",
      "CTYPE : 'RA---TAN'  'DEC--TAN'  \n",
      "CRVAL : 161.76939966928876  17.273430525939578  \n",
      "CRPIX : 544.5  481.5  \n",
      "CD1_1 CD1_2  : -3.542984305538169e-05  3.723829036815852e-06  \n",
      "CD2_1 CD2_2  : 3.723829036815852e-06  3.542984305538169e-05  \n",
      "NAXIS : 1089  963\n"
     ]
    },
    {
     "name": "stdout",
     "output_type": "stream",
     "text": [
      "-Generating simple FITS output: ib1f19l6q_single_sci.fits\n"
     ]
    },
    {
     "name": "stdout",
     "output_type": "stream",
     "text": [
      "Writing out image to disk: ib1f19l6q_single_sci.fits\n"
     ]
    },
    {
     "name": "stdout",
     "output_type": "stream",
     "text": [
      "-Generating simple FITS output: ib1f19l9q_single_sci.fits\n"
     ]
    },
    {
     "name": "stdout",
     "output_type": "stream",
     "text": [
      "-Generating simple FITS output: ib1f19l7q_single_sci.fits\n"
     ]
    },
    {
     "name": "stdout",
     "output_type": "stream",
     "text": [
      "Writing out image to disk: ib1f19l9q_single_sci.fits\n"
     ]
    },
    {
     "name": "stdout",
     "output_type": "stream",
     "text": [
      "Writing out image to disk: ib1f19l7q_single_sci.fits\n"
     ]
    },
    {
     "name": "stdout",
     "output_type": "stream",
     "text": [
      "-Generating simple FITS output: ib1f19laq_single_sci.fits\n"
     ]
    },
    {
     "name": "stdout",
     "output_type": "stream",
     "text": [
      "Writing out image to disk: ib1f19l6q_single_wht.fits\n"
     ]
    },
    {
     "name": "stdout",
     "output_type": "stream",
     "text": [
      "Writing out image to disk: ib1f19laq_single_sci.fits\n"
     ]
    },
    {
     "name": "stdout",
     "output_type": "stream",
     "text": [
      "Writing out image to disk: ib1f19l9q_single_wht.fits\n"
     ]
    },
    {
     "name": "stdout",
     "output_type": "stream",
     "text": [
      "Writing out image to disk: ib1f19l7q_single_wht.fits\n"
     ]
    },
    {
     "name": "stdout",
     "output_type": "stream",
     "text": [
      "Writing out image to disk: ib1f19laq_single_wht.fits\n"
     ]
    },
    {
     "name": "stdout",
     "output_type": "stream",
     "text": [
      "==== Processing Step  Separate Drizzle  finished at  18:52:21.331 (24/05/2019)\n",
      "\n",
      "==== Processing Step  Create Median  started at  18:52:21.332 (24/05/2019)\n",
      "reference sky value for image 'ib1f19l6q_flt.fits' is 465.7631401035832\n",
      "reference sky value for image 'ib1f19l7q_flt.fits' is 438.34642612955906\n",
      "reference sky value for image 'ib1f19l9q_flt.fits' is 427.77509381163884\n",
      "reference sky value for image 'ib1f19laq_flt.fits' is 425.44021804010106\n"
     ]
    },
    {
     "name": "stdout",
     "output_type": "stream",
     "text": [
      "Saving output median image to: 'f160w_0.5_med.fits'\n",
      "==== Processing Step  Create Median  finished at  18:52:22.16 (24/05/2019)\n",
      "\n",
      "==== Processing Step  Blot  started at  18:52:22.163 (24/05/2019)\n",
      "    Blot: creating blotted image:  ib1f19l6q_flt.fits[sci,1]\n",
      "Using default C-based coordinate transformation...\n"
     ]
    },
    {
     "name": "stdout",
     "output_type": "stream",
     "text": [
      "-Generating simple FITS output: ib1f19l6q_sci1_blt.fits\n",
      "Writing out image to disk: ib1f19l6q_sci1_blt.fits\n",
      "    Blot: creating blotted image:  ib1f19l7q_flt.fits[sci,1]\n",
      "Using default C-based coordinate transformation...\n"
     ]
    },
    {
     "name": "stdout",
     "output_type": "stream",
     "text": [
      "-Generating simple FITS output: ib1f19l7q_sci1_blt.fits\n",
      "Writing out image to disk: ib1f19l7q_sci1_blt.fits\n",
      "    Blot: creating blotted image:  ib1f19l9q_flt.fits[sci,1]\n",
      "Using default C-based coordinate transformation...\n"
     ]
    },
    {
     "name": "stdout",
     "output_type": "stream",
     "text": [
      "-Generating simple FITS output: ib1f19l9q_sci1_blt.fits\n",
      "Writing out image to disk: ib1f19l9q_sci1_blt.fits\n",
      "    Blot: creating blotted image:  ib1f19laq_flt.fits[sci,1]\n",
      "Using default C-based coordinate transformation...\n"
     ]
    },
    {
     "name": "stdout",
     "output_type": "stream",
     "text": [
      "-Generating simple FITS output: ib1f19laq_sci1_blt.fits\n",
      "Writing out image to disk: ib1f19laq_sci1_blt.fits\n",
      "==== Processing Step  Blot  finished at  18:52:24.077 (24/05/2019)\n",
      "\n",
      "==== Processing Step  Driz_CR  started at  18:52:24.077 (24/05/2019)\n"
     ]
    },
    {
     "name": "stdout",
     "output_type": "stream",
     "text": [
      "Creating output :  ib1f19l7q_sci1_crmask.fits\n"
     ]
    },
    {
     "name": "stdout",
     "output_type": "stream",
     "text": [
      "Creating output :  ib1f19l6q_sci1_crmask.fits\n"
     ]
    },
    {
     "name": "stdout",
     "output_type": "stream",
     "text": [
      "Creating output :  ib1f19l9q_sci1_crmask.fits\n"
     ]
    },
    {
     "name": "stdout",
     "output_type": "stream",
     "text": [
      "Creating output :  ib1f19laq_sci1_crmask.fits\n"
     ]
    },
    {
     "name": "stdout",
     "output_type": "stream",
     "text": [
      "==== Processing Step  Driz_CR  finished at  18:52:25.265 (24/05/2019)\n",
      "\n",
      "==== Processing Step  Final Drizzle  started at  18:52:25.275 (24/05/2019)\n",
      "WCS Keywords\n",
      "\n",
      "Number of WCS axes: 2\n",
      "CTYPE : 'RA---TAN'  'DEC--TAN'  \n",
      "CRVAL : 161.76939966928876  17.273430525939578  \n",
      "CRPIX : 1167.3829659129597  1056.5471233907554  \n",
      "CD1_1 CD1_2  : -1.805555555555555e-05  3.6939273646322496e-22  \n",
      "CD2_1 CD2_2  : 3.702614723534622e-22  1.805555555555555e-05  \n",
      "NAXIS : 2336  2114\n"
     ]
    },
    {
     "name": "stdout",
     "output_type": "stream",
     "text": [
      "-Generating multi-extension output file:  f160w_0.5_drz.fits\n",
      "Writing out to disk: f160w_0.5_drz.fits\n",
      "==== Processing Step  Final Drizzle  finished at  18:52:28.065 (24/05/2019)\n",
      "\n",
      "\n",
      "AstroDrizzle Version 2.2.6 is finished processing at 18:52:28.066 (24/05/2019).\n",
      "\n",
      "\n",
      "   --------------------          --------------------\n",
      "                   Step          Elapsed time\n",
      "   --------------------          --------------------\n",
      "\n",
      "         Initialization          0.7901 sec.\n",
      "            Static Mask          0.1440 sec.\n",
      "           Subtract Sky          0.6001 sec.\n",
      "       Separate Drizzle          1.1752 sec.\n",
      "          Create Median          0.8309 sec.\n",
      "                   Blot          1.9144 sec.\n",
      "                Driz_CR          1.1880 sec.\n",
      "          Final Drizzle          2.7900 sec.\n",
      "   ====================          ====================\n",
      "                  Total          9.4328 sec.\n",
      "No trailer file saved...\n",
      "No trailer file created...\n",
      "AstroDrizzle Version 2.2.6 (2018-11-02 15:37:13 -0400) started at: 18:52:28.105 (24/05/2019)\n",
      "\n",
      "==== Processing Step  Initialization  started at  18:52:28.105 (24/05/2019)\n"
     ]
    },
    {
     "name": "stdout",
     "output_type": "stream",
     "text": [
      "WCS Keywords\n",
      "\n",
      "Number of WCS axes: 2\n",
      "CTYPE : 'RA---TAN'  'DEC--TAN'  \n",
      "CRVAL : 161.76939966928876  17.273430525939578  \n",
      "CRPIX : 1167.3829659129597  1056.5471233907554  \n",
      "CD1_1 CD1_2  : -1.805555555555555e-05  3.6939273646322496e-22  \n",
      "CD2_1 CD2_2  : 3.702614723534622e-22  1.805555555555555e-05  \n",
      "NAXIS : 2336  2114\n",
      "********************************************************************************\n",
      "*\n",
      "*  Estimated memory usage:  up to 257 Mb.\n",
      "*  Output image size:       2336 X 2114 pixels. \n",
      "*  Output image file:       ~ 56 Mb. \n",
      "*  Cores available:         4\n",
      "*\n",
      "********************************************************************************\n",
      "==== Processing Step  Initialization  finished at  18:52:28.999 (24/05/2019)\n",
      "\n",
      "==== Processing Step  Static Mask  started at  18:52:29.4e (24/05/2019)\n",
      "==== Processing Step  Static Mask  finished at  18:52:29.136 (24/05/2019)\n",
      "\n",
      "==== Processing Step  Subtract Sky  started at  18:52:29.13 (24/05/2019)\n"
     ]
    },
    {
     "name": "stdout",
     "output_type": "stream",
     "text": [
      "***** skymatch started on 2019-05-24 18:52:29.269424\n",
      "      Version 1.0.2 (2019-03-07 00:54:44 -0500)\n",
      "\n",
      "'skymatch' task will apply computed sky differences to input image file(s).\n",
      "\n",
      "NOTE: Computed sky values WILL NOT be subtracted from image data ('subtractsky'=False).\n",
      "'MDRIZSKY' header keyword will represent sky value *computed* from data.\n",
      "\n",
      "-----  User specified keywords:  -----\n",
      "       Sky Value Keyword:  'MDRIZSKY'\n",
      "       Data Units Keyword: 'BUNIT'\n",
      "\n",
      "\n",
      "-----  Input file list:  -----\n",
      "\n",
      "   **  Input image: 'ib1f19l6q_flt.fits'\n",
      "       EXT: 'SCI',1;\tMASK: ib1f19l6q_skymatch_mask_sci1.fits[0]\n",
      "\n",
      "   **  Input image: 'ib1f19l7q_flt.fits'\n",
      "       EXT: 'SCI',1;\tMASK: ib1f19l7q_skymatch_mask_sci1.fits[0]\n",
      "\n",
      "   **  Input image: 'ib1f19l9q_flt.fits'\n",
      "       EXT: 'SCI',1;\tMASK: ib1f19l9q_skymatch_mask_sci1.fits[0]\n",
      "\n",
      "   **  Input image: 'ib1f19laq_flt.fits'\n",
      "       EXT: 'SCI',1;\tMASK: ib1f19laq_skymatch_mask_sci1.fits[0]\n",
      "\n",
      "-----  Sky statistics parameters:  -----\n",
      "       statistics function: 'median'\n",
      "       lower = None\n",
      "       upper = None\n",
      "       nclip = 5\n",
      "       lsigma = 4.0\n",
      "       usigma = 4.0\n",
      "       binwidth = 0.1\n",
      "\n",
      "-----  Data->Brightness conversion parameters for input files:  -----\n",
      "\n",
      "   *   Image: ib1f19l6q_flt.fits\n",
      "       EXT = 'SCI',1\n",
      "             Data units type: COUNT-RATE\n",
      "             Conversion factor (data->brightness):  60.797431635711504\n",
      "\n",
      "   *   Image: ib1f19l7q_flt.fits\n",
      "       EXT = 'SCI',1\n",
      "             Data units type: COUNT-RATE\n",
      "             Conversion factor (data->brightness):  60.797431635711504\n",
      "\n",
      "   *   Image: ib1f19l9q_flt.fits\n",
      "       EXT = 'SCI',1\n",
      "             Data units type: COUNT-RATE\n",
      "             Conversion factor (data->brightness):  60.797431635711504\n",
      "\n",
      "   *   Image: ib1f19laq_flt.fits\n",
      "       EXT = 'SCI',1\n",
      "             Data units type: COUNT-RATE\n",
      "             Conversion factor (data->brightness):  60.797431635711504\n",
      "\n",
      "\n",
      "-----  Computing sky values requested image extensions (detector chips):  -----\n",
      "\n",
      "   *   Image:   'ib1f19l6q_flt.fits['SCI',1]'  --  SKY = 56.303737764954334 (brightness units)\n",
      "       Sky change (data units):\n",
      "      - EXT = 'SCI',1   delta(MDRIZSKY) = 0.926087   NEW MDRIZSKY = 0.926087\n",
      "   *   Image:   'ib1f19l7q_flt.fits['SCI',1]'  --  SKY = 52.989470617006745 (brightness units)\n",
      "       Sky change (data units):\n",
      "      - EXT = 'SCI',1   delta(MDRIZSKY) = 0.871574   NEW MDRIZSKY = 0.871574\n"
     ]
    },
    {
     "name": "stdout",
     "output_type": "stream",
     "text": [
      "   *   Image:   'ib1f19l9q_flt.fits['SCI',1]'  --  SKY = 51.71155600460956 (brightness units)\n",
      "       Sky change (data units):\n",
      "      - EXT = 'SCI',1   delta(MDRIZSKY) = 0.850555   NEW MDRIZSKY = 0.850555\n",
      "   *   Image:   'ib1f19laq_flt.fits['SCI',1]'  --  SKY = 51.42930474461253 (brightness units)\n",
      "       Sky change (data units):\n",
      "      - EXT = 'SCI',1   delta(MDRIZSKY) = 0.845912   NEW MDRIZSKY = 0.845912\n",
      "***** skymatch ended on 2019-05-24 18:52:29.633492\n",
      "TOTAL RUN TIME: 0:00:00.364068\n"
     ]
    },
    {
     "name": "stdout",
     "output_type": "stream",
     "text": [
      "==== Processing Step  Subtract Sky  finished at  18:52:29.748 (24/05/2019)\n",
      "\n",
      "==== Processing Step  Separate Drizzle  started at  18:52:29.749 (24/05/2019)\n",
      "WCS Keywords\n",
      "\n",
      "Number of WCS axes: 2\n",
      "CTYPE : 'RA---TAN'  'DEC--TAN'  \n",
      "CRVAL : 161.76939966928876  17.273430525939578  \n",
      "CRPIX : 544.5  481.5  \n",
      "CD1_1 CD1_2  : -3.542984305538169e-05  3.723829036815852e-06  \n",
      "CD2_1 CD2_2  : 3.723829036815852e-06  3.542984305538169e-05  \n",
      "NAXIS : 1089  963\n"
     ]
    },
    {
     "name": "stdout",
     "output_type": "stream",
     "text": [
      "-Generating simple FITS output: ib1f19l6q_single_sci.fits\n"
     ]
    },
    {
     "name": "stdout",
     "output_type": "stream",
     "text": [
      "-Generating simple FITS output: ib1f19l7q_single_sci.fits\n"
     ]
    },
    {
     "name": "stdout",
     "output_type": "stream",
     "text": [
      "-Generating simple FITS output: ib1f19laq_single_sci.fits\n"
     ]
    },
    {
     "name": "stdout",
     "output_type": "stream",
     "text": [
      "-Generating simple FITS output: ib1f19l9q_single_sci.fits\n"
     ]
    },
    {
     "name": "stdout",
     "output_type": "stream",
     "text": [
      "Writing out image to disk: ib1f19l6q_single_sci.fits\n"
     ]
    },
    {
     "name": "stdout",
     "output_type": "stream",
     "text": [
      "Writing out image to disk: ib1f19l7q_single_sci.fits\n"
     ]
    },
    {
     "name": "stdout",
     "output_type": "stream",
     "text": [
      "Writing out image to disk: ib1f19laq_single_sci.fits\n"
     ]
    },
    {
     "name": "stdout",
     "output_type": "stream",
     "text": [
      "Writing out image to disk: ib1f19l9q_single_sci.fits\n"
     ]
    },
    {
     "name": "stdout",
     "output_type": "stream",
     "text": [
      "Writing out image to disk: ib1f19l6q_single_wht.fits\n"
     ]
    },
    {
     "name": "stdout",
     "output_type": "stream",
     "text": [
      "Writing out image to disk: ib1f19l7q_single_wht.fits\n"
     ]
    },
    {
     "name": "stdout",
     "output_type": "stream",
     "text": [
      "Writing out image to disk: ib1f19laq_single_wht.fits\n"
     ]
    },
    {
     "name": "stdout",
     "output_type": "stream",
     "text": [
      "Writing out image to disk: ib1f19l9q_single_wht.fits\n"
     ]
    },
    {
     "name": "stdout",
     "output_type": "stream",
     "text": [
      "==== Processing Step  Separate Drizzle  finished at  18:52:30.836 (24/05/2019)\n",
      "\n",
      "==== Processing Step  Create Median  started at  18:52:30.836 (24/05/2019)\n",
      "reference sky value for image 'ib1f19l6q_flt.fits' is 465.7631401035832\n",
      "reference sky value for image 'ib1f19l7q_flt.fits' is 438.34642612955906\n",
      "reference sky value for image 'ib1f19l9q_flt.fits' is 427.77509381163884\n",
      "reference sky value for image 'ib1f19laq_flt.fits' is 425.44021804010106\n"
     ]
    },
    {
     "name": "stdout",
     "output_type": "stream",
     "text": [
      "Saving output median image to: 'f160w_0.6_med.fits'\n",
      "==== Processing Step  Create Median  finished at  18:52:31.577 (24/05/2019)\n",
      "\n",
      "==== Processing Step  Blot  started at  18:52:31.57 (24/05/2019)\n",
      "    Blot: creating blotted image:  ib1f19l6q_flt.fits[sci,1]\n",
      "Using default C-based coordinate transformation...\n"
     ]
    },
    {
     "name": "stdout",
     "output_type": "stream",
     "text": [
      "-Generating simple FITS output: ib1f19l6q_sci1_blt.fits\n",
      "Writing out image to disk: ib1f19l6q_sci1_blt.fits\n",
      "    Blot: creating blotted image:  ib1f19l7q_flt.fits[sci,1]\n",
      "Using default C-based coordinate transformation...\n"
     ]
    },
    {
     "name": "stdout",
     "output_type": "stream",
     "text": [
      "-Generating simple FITS output: ib1f19l7q_sci1_blt.fits\n",
      "Writing out image to disk: ib1f19l7q_sci1_blt.fits\n",
      "    Blot: creating blotted image:  ib1f19l9q_flt.fits[sci,1]\n",
      "Using default C-based coordinate transformation...\n"
     ]
    },
    {
     "name": "stdout",
     "output_type": "stream",
     "text": [
      "-Generating simple FITS output: ib1f19l9q_sci1_blt.fits\n",
      "Writing out image to disk: ib1f19l9q_sci1_blt.fits\n",
      "    Blot: creating blotted image:  ib1f19laq_flt.fits[sci,1]\n",
      "Using default C-based coordinate transformation...\n"
     ]
    },
    {
     "name": "stdout",
     "output_type": "stream",
     "text": [
      "-Generating simple FITS output: ib1f19laq_sci1_blt.fits\n",
      "Writing out image to disk: ib1f19laq_sci1_blt.fits\n",
      "==== Processing Step  Blot  finished at  18:52:33.367 (24/05/2019)\n",
      "\n",
      "==== Processing Step  Driz_CR  started at  18:52:33.367 (24/05/2019)\n"
     ]
    },
    {
     "name": "stdout",
     "output_type": "stream",
     "text": [
      "Creating output :  ib1f19l6q_sci1_crmask.fits\n"
     ]
    },
    {
     "name": "stdout",
     "output_type": "stream",
     "text": [
      "Creating output :  ib1f19l7q_sci1_crmask.fits\n"
     ]
    },
    {
     "name": "stdout",
     "output_type": "stream",
     "text": [
      "Creating output :  ib1f19laq_sci1_crmask.fits\n"
     ]
    },
    {
     "name": "stdout",
     "output_type": "stream",
     "text": [
      "Creating output :  ib1f19l9q_sci1_crmask.fits\n"
     ]
    },
    {
     "name": "stdout",
     "output_type": "stream",
     "text": [
      "==== Processing Step  Driz_CR  finished at  18:52:34.65 (24/05/2019)\n",
      "\n",
      "==== Processing Step  Final Drizzle  started at  18:52:34.667 (24/05/2019)\n",
      "WCS Keywords\n",
      "\n",
      "Number of WCS axes: 2\n",
      "CTYPE : 'RA---TAN'  'DEC--TAN'  \n",
      "CRVAL : 161.76939966928876  17.273430525939578  \n",
      "CRPIX : 1167.3829659129597  1056.5471233907554  \n",
      "CD1_1 CD1_2  : -1.805555555555555e-05  3.6939273646322496e-22  \n",
      "CD2_1 CD2_2  : 3.702614723534622e-22  1.805555555555555e-05  \n",
      "NAXIS : 2336  2114\n"
     ]
    },
    {
     "name": "stdout",
     "output_type": "stream",
     "text": [
      "-Generating multi-extension output file:  f160w_0.6_drz.fits\n",
      "Writing out to disk: f160w_0.6_drz.fits\n",
      "==== Processing Step  Final Drizzle  finished at  18:52:37.502 (24/05/2019)\n",
      "\n",
      "\n",
      "AstroDrizzle Version 2.2.6 is finished processing at 18:52:37.503 (24/05/2019).\n",
      "\n",
      "\n",
      "   --------------------          --------------------\n",
      "                   Step          Elapsed time\n",
      "   --------------------          --------------------\n",
      "\n",
      "         Initialization          0.8941 sec.\n",
      "            Static Mask          0.1363 sec.\n",
      "           Subtract Sky          0.6122 sec.\n",
      "       Separate Drizzle          1.0869 sec.\n",
      "          Create Median          0.7411 sec.\n",
      "                   Blot          1.7897 sec.\n",
      "                Driz_CR          1.2895 sec.\n",
      "          Final Drizzle          2.8356 sec.\n",
      "   ====================          ====================\n",
      "                  Total          9.3855 sec.\n",
      "No trailer file saved...\n",
      "No trailer file created...\n",
      "AstroDrizzle Version 2.2.6 (2018-11-02 15:37:13 -0400) started at: 18:52:37.563 (24/05/2019)\n",
      "\n",
      "==== Processing Step  Initialization  started at  18:52:37.564 (24/05/2019)\n"
     ]
    },
    {
     "name": "stdout",
     "output_type": "stream",
     "text": [
      "WCS Keywords\n",
      "\n",
      "Number of WCS axes: 2\n",
      "CTYPE : 'RA---TAN'  'DEC--TAN'  \n",
      "CRVAL : 161.76939966928876  17.273430525939578  \n",
      "CRPIX : 1167.3829659129597  1056.5471233907554  \n",
      "CD1_1 CD1_2  : -1.805555555555555e-05  3.6939273646322496e-22  \n",
      "CD2_1 CD2_2  : 3.702614723534622e-22  1.805555555555555e-05  \n",
      "NAXIS : 2336  2114\n",
      "********************************************************************************\n",
      "*\n",
      "*  Estimated memory usage:  up to 257 Mb.\n",
      "*  Output image size:       2336 X 2114 pixels. \n",
      "*  Output image file:       ~ 56 Mb. \n",
      "*  Cores available:         4\n",
      "*\n",
      "********************************************************************************\n",
      "==== Processing Step  Initialization  finished at  18:52:38.3 (24/05/2019)\n",
      "\n",
      "==== Processing Step  Static Mask  started at  18:52:38.380 (24/05/2019)\n",
      "==== Processing Step  Static Mask  finished at  18:52:38.476 (24/05/2019)\n",
      "\n",
      "==== Processing Step  Subtract Sky  started at  18:52:38.477 (24/05/2019)\n"
     ]
    },
    {
     "name": "stdout",
     "output_type": "stream",
     "text": [
      "***** skymatch started on 2019-05-24 18:52:38.637615\n",
      "      Version 1.0.2 (2019-03-07 00:54:44 -0500)\n",
      "\n",
      "'skymatch' task will apply computed sky differences to input image file(s).\n",
      "\n",
      "NOTE: Computed sky values WILL NOT be subtracted from image data ('subtractsky'=False).\n",
      "'MDRIZSKY' header keyword will represent sky value *computed* from data.\n",
      "\n",
      "-----  User specified keywords:  -----\n",
      "       Sky Value Keyword:  'MDRIZSKY'\n",
      "       Data Units Keyword: 'BUNIT'\n",
      "\n",
      "\n",
      "-----  Input file list:  -----\n",
      "\n",
      "   **  Input image: 'ib1f19l6q_flt.fits'\n",
      "       EXT: 'SCI',1;\tMASK: ib1f19l6q_skymatch_mask_sci1.fits[0]\n",
      "\n",
      "   **  Input image: 'ib1f19l7q_flt.fits'\n",
      "       EXT: 'SCI',1;\tMASK: ib1f19l7q_skymatch_mask_sci1.fits[0]\n",
      "\n",
      "   **  Input image: 'ib1f19l9q_flt.fits'\n",
      "       EXT: 'SCI',1;\tMASK: ib1f19l9q_skymatch_mask_sci1.fits[0]\n",
      "\n",
      "   **  Input image: 'ib1f19laq_flt.fits'\n",
      "       EXT: 'SCI',1;\tMASK: ib1f19laq_skymatch_mask_sci1.fits[0]\n",
      "\n",
      "-----  Sky statistics parameters:  -----\n",
      "       statistics function: 'median'\n",
      "       lower = None\n",
      "       upper = None\n",
      "       nclip = 5\n",
      "       lsigma = 4.0\n",
      "       usigma = 4.0\n",
      "       binwidth = 0.1\n",
      "\n",
      "-----  Data->Brightness conversion parameters for input files:  -----\n",
      "\n",
      "   *   Image: ib1f19l6q_flt.fits\n",
      "       EXT = 'SCI',1\n",
      "             Data units type: COUNT-RATE\n",
      "             Conversion factor (data->brightness):  60.797431635711504\n",
      "\n",
      "   *   Image: ib1f19l7q_flt.fits\n",
      "       EXT = 'SCI',1\n",
      "             Data units type: COUNT-RATE\n",
      "             Conversion factor (data->brightness):  60.797431635711504\n",
      "\n",
      "   *   Image: ib1f19l9q_flt.fits\n",
      "       EXT = 'SCI',1\n",
      "             Data units type: COUNT-RATE\n",
      "             Conversion factor (data->brightness):  60.797431635711504\n",
      "\n",
      "   *   Image: ib1f19laq_flt.fits\n",
      "       EXT = 'SCI',1\n",
      "             Data units type: COUNT-RATE\n",
      "             Conversion factor (data->brightness):  60.797431635711504\n",
      "\n",
      "\n",
      "-----  Computing sky values requested image extensions (detector chips):  -----\n",
      "\n",
      "   *   Image:   'ib1f19l6q_flt.fits['SCI',1]'  --  SKY = 56.303737764954334 (brightness units)\n",
      "       Sky change (data units):\n",
      "      - EXT = 'SCI',1   delta(MDRIZSKY) = 0.926087   NEW MDRIZSKY = 0.926087\n",
      "   *   Image:   'ib1f19l7q_flt.fits['SCI',1]'  --  SKY = 52.989470617006745 (brightness units)\n",
      "       Sky change (data units):\n",
      "      - EXT = 'SCI',1   delta(MDRIZSKY) = 0.871574   NEW MDRIZSKY = 0.871574\n"
     ]
    },
    {
     "name": "stdout",
     "output_type": "stream",
     "text": [
      "   *   Image:   'ib1f19l9q_flt.fits['SCI',1]'  --  SKY = 51.71155600460956 (brightness units)\n",
      "       Sky change (data units):\n",
      "      - EXT = 'SCI',1   delta(MDRIZSKY) = 0.850555   NEW MDRIZSKY = 0.850555\n",
      "   *   Image:   'ib1f19laq_flt.fits['SCI',1]'  --  SKY = 51.42930474461253 (brightness units)\n",
      "       Sky change (data units):\n",
      "      - EXT = 'SCI',1   delta(MDRIZSKY) = 0.845912   NEW MDRIZSKY = 0.845912\n",
      "***** skymatch ended on 2019-05-24 18:52:38.929925\n",
      "TOTAL RUN TIME: 0:00:00.292310\n",
      "==== Processing Step  Subtract Sky  finished at  18:52:38.986 (24/05/2019)\n",
      "\n",
      "==== Processing Step  Separate Drizzle  started at  18:52:39.028 (24/05/2019)\n",
      "WCS Keywords\n",
      "\n",
      "Number of WCS axes: 2\n",
      "CTYPE : 'RA---TAN'  'DEC--TAN'  \n",
      "CRVAL : 161.76939966928876  17.273430525939578  \n",
      "CRPIX : 544.5  481.5  \n",
      "CD1_1 CD1_2  : -3.542984305538169e-05  3.723829036815852e-06  \n",
      "CD2_1 CD2_2  : 3.723829036815852e-06  3.542984305538169e-05  \n",
      "NAXIS : 1089  963\n"
     ]
    },
    {
     "name": "stdout",
     "output_type": "stream",
     "text": [
      "-Generating simple FITS output: ib1f19l6q_single_sci.fits\n"
     ]
    },
    {
     "name": "stdout",
     "output_type": "stream",
     "text": [
      "-Generating simple FITS output: ib1f19l7q_single_sci.fits\n"
     ]
    },
    {
     "name": "stdout",
     "output_type": "stream",
     "text": [
      "-Generating simple FITS output: ib1f19laq_single_sci.fits\n"
     ]
    },
    {
     "name": "stdout",
     "output_type": "stream",
     "text": [
      "Writing out image to disk: ib1f19l6q_single_sci.fits\n"
     ]
    },
    {
     "name": "stdout",
     "output_type": "stream",
     "text": [
      "Writing out image to disk: ib1f19l7q_single_sci.fits\n"
     ]
    },
    {
     "name": "stdout",
     "output_type": "stream",
     "text": [
      "-Generating simple FITS output: ib1f19l9q_single_sci.fits\n"
     ]
    },
    {
     "name": "stdout",
     "output_type": "stream",
     "text": [
      "Writing out image to disk: ib1f19laq_single_sci.fits\n"
     ]
    },
    {
     "name": "stdout",
     "output_type": "stream",
     "text": [
      "Writing out image to disk: ib1f19l6q_single_wht.fits\n"
     ]
    },
    {
     "name": "stdout",
     "output_type": "stream",
     "text": [
      "Writing out image to disk: ib1f19l7q_single_wht.fits\n"
     ]
    },
    {
     "name": "stdout",
     "output_type": "stream",
     "text": [
      "Writing out image to disk: ib1f19laq_single_wht.fits\n"
     ]
    },
    {
     "name": "stdout",
     "output_type": "stream",
     "text": [
      "Writing out image to disk: ib1f19l9q_single_sci.fits\n"
     ]
    },
    {
     "name": "stdout",
     "output_type": "stream",
     "text": [
      "Writing out image to disk: ib1f19l9q_single_wht.fits\n"
     ]
    },
    {
     "name": "stdout",
     "output_type": "stream",
     "text": [
      "==== Processing Step  Separate Drizzle  finished at  18:52:40.080 (24/05/2019)\n",
      "\n",
      "==== Processing Step  Create Median  started at  18:52:40.080 (24/05/2019)\n",
      "reference sky value for image 'ib1f19l6q_flt.fits' is 465.7631401035832\n",
      "reference sky value for image 'ib1f19l7q_flt.fits' is 438.34642612955906\n",
      "reference sky value for image 'ib1f19l9q_flt.fits' is 427.77509381163884\n",
      "reference sky value for image 'ib1f19laq_flt.fits' is 425.44021804010106\n"
     ]
    },
    {
     "name": "stdout",
     "output_type": "stream",
     "text": [
      "Saving output median image to: 'f160w_0.7_med.fits'\n",
      "==== Processing Step  Create Median  finished at  18:52:40.748 (24/05/2019)\n",
      "\n",
      "==== Processing Step  Blot  started at  18:52:40.749 (24/05/2019)\n",
      "    Blot: creating blotted image:  ib1f19l6q_flt.fits[sci,1]\n",
      "Using default C-based coordinate transformation...\n"
     ]
    },
    {
     "name": "stdout",
     "output_type": "stream",
     "text": [
      "-Generating simple FITS output: ib1f19l6q_sci1_blt.fits\n",
      "Writing out image to disk: ib1f19l6q_sci1_blt.fits\n",
      "    Blot: creating blotted image:  ib1f19l7q_flt.fits[sci,1]\n",
      "Using default C-based coordinate transformation...\n"
     ]
    },
    {
     "name": "stdout",
     "output_type": "stream",
     "text": [
      "-Generating simple FITS output: ib1f19l7q_sci1_blt.fits\n",
      "Writing out image to disk: ib1f19l7q_sci1_blt.fits\n",
      "    Blot: creating blotted image:  ib1f19l9q_flt.fits[sci,1]\n",
      "Using default C-based coordinate transformation...\n"
     ]
    },
    {
     "name": "stdout",
     "output_type": "stream",
     "text": [
      "-Generating simple FITS output: ib1f19l9q_sci1_blt.fits\n",
      "Writing out image to disk: ib1f19l9q_sci1_blt.fits\n",
      "    Blot: creating blotted image:  ib1f19laq_flt.fits[sci,1]\n",
      "Using default C-based coordinate transformation...\n"
     ]
    },
    {
     "name": "stdout",
     "output_type": "stream",
     "text": [
      "-Generating simple FITS output: ib1f19laq_sci1_blt.fits\n",
      "Writing out image to disk: ib1f19laq_sci1_blt.fits\n",
      "==== Processing Step  Blot  finished at  18:52:42.665 (24/05/2019)\n",
      "\n",
      "==== Processing Step  Driz_CR  started at  18:52:42.665 (24/05/2019)\n"
     ]
    },
    {
     "name": "stdout",
     "output_type": "stream",
     "text": [
      "Creating output :  ib1f19l9q_sci1_crmask.fits\n"
     ]
    },
    {
     "name": "stdout",
     "output_type": "stream",
     "text": [
      "Creating output :  ib1f19l6q_sci1_crmask.fits\n"
     ]
    },
    {
     "name": "stdout",
     "output_type": "stream",
     "text": [
      "Creating output :  ib1f19l7q_sci1_crmask.fits\n"
     ]
    },
    {
     "name": "stdout",
     "output_type": "stream",
     "text": [
      "Creating output :  ib1f19laq_sci1_crmask.fits\n"
     ]
    },
    {
     "name": "stdout",
     "output_type": "stream",
     "text": [
      "==== Processing Step  Driz_CR  finished at  18:52:43.846 (24/05/2019)\n",
      "\n",
      "==== Processing Step  Final Drizzle  started at  18:52:43.856 (24/05/2019)\n",
      "WCS Keywords\n",
      "\n",
      "Number of WCS axes: 2\n",
      "CTYPE : 'RA---TAN'  'DEC--TAN'  \n",
      "CRVAL : 161.76939966928876  17.273430525939578  \n",
      "CRPIX : 1167.3829659129597  1056.5471233907554  \n",
      "CD1_1 CD1_2  : -1.805555555555555e-05  3.6939273646322496e-22  \n",
      "CD2_1 CD2_2  : 3.702614723534622e-22  1.805555555555555e-05  \n",
      "NAXIS : 2336  2114\n"
     ]
    },
    {
     "name": "stdout",
     "output_type": "stream",
     "text": [
      "-Generating multi-extension output file:  f160w_0.7_drz.fits\n",
      "Writing out to disk: f160w_0.7_drz.fits\n",
      "==== Processing Step  Final Drizzle  finished at  18:52:46.885 (24/05/2019)\n",
      "\n",
      "\n",
      "AstroDrizzle Version 2.2.6 is finished processing at 18:52:46.885 (24/05/2019).\n",
      "\n",
      "\n",
      "   --------------------          --------------------\n",
      "                   Step          Elapsed time\n",
      "   --------------------          --------------------\n",
      "\n",
      "         Initialization          0.8155 sec.\n",
      "            Static Mask          0.0963 sec.\n",
      "           Subtract Sky          0.5094 sec.\n",
      "       Separate Drizzle          1.0524 sec.\n",
      "          Create Median          0.6683 sec.\n",
      "                   Blot          1.9165 sec.\n",
      "                Driz_CR          1.1804 sec.\n",
      "          Final Drizzle          3.0288 sec.\n",
      "   ====================          ====================\n",
      "                  Total          9.2676 sec.\n",
      "No trailer file saved...\n",
      "No trailer file created...\n",
      "AstroDrizzle Version 2.2.6 (2018-11-02 15:37:13 -0400) started at: 18:52:46.924 (24/05/2019)\n",
      "\n",
      "==== Processing Step  Initialization  started at  18:52:46.924 (24/05/2019)\n"
     ]
    },
    {
     "name": "stdout",
     "output_type": "stream",
     "text": [
      "WCS Keywords\n",
      "\n",
      "Number of WCS axes: 2\n",
      "CTYPE : 'RA---TAN'  'DEC--TAN'  \n",
      "CRVAL : 161.76939966928876  17.273430525939578  \n",
      "CRPIX : 1167.3829659129597  1056.5471233907554  \n",
      "CD1_1 CD1_2  : -1.805555555555555e-05  3.6939273646322496e-22  \n",
      "CD2_1 CD2_2  : 3.702614723534622e-22  1.805555555555555e-05  \n",
      "NAXIS : 2336  2114\n",
      "********************************************************************************\n",
      "*\n",
      "*  Estimated memory usage:  up to 257 Mb.\n",
      "*  Output image size:       2336 X 2114 pixels. \n",
      "*  Output image file:       ~ 56 Mb. \n",
      "*  Cores available:         4\n",
      "*\n",
      "********************************************************************************\n",
      "==== Processing Step  Initialization  finished at  18:52:47.813 (24/05/2019)\n",
      "\n",
      "==== Processing Step  Static Mask  started at  18:52:47.813 (24/05/2019)\n",
      "==== Processing Step  Static Mask  finished at  18:52:47.958 (24/05/2019)\n",
      "\n",
      "==== Processing Step  Subtract Sky  started at  18:52:47.958 (24/05/2019)\n"
     ]
    },
    {
     "name": "stdout",
     "output_type": "stream",
     "text": [
      "***** skymatch started on 2019-05-24 18:52:48.130521\n",
      "      Version 1.0.2 (2019-03-07 00:54:44 -0500)\n",
      "\n",
      "'skymatch' task will apply computed sky differences to input image file(s).\n",
      "\n",
      "NOTE: Computed sky values WILL NOT be subtracted from image data ('subtractsky'=False).\n",
      "'MDRIZSKY' header keyword will represent sky value *computed* from data.\n",
      "\n",
      "-----  User specified keywords:  -----\n",
      "       Sky Value Keyword:  'MDRIZSKY'\n",
      "       Data Units Keyword: 'BUNIT'\n",
      "\n",
      "\n",
      "-----  Input file list:  -----\n",
      "\n",
      "   **  Input image: 'ib1f19l6q_flt.fits'\n",
      "       EXT: 'SCI',1;\tMASK: ib1f19l6q_skymatch_mask_sci1.fits[0]\n",
      "\n",
      "   **  Input image: 'ib1f19l7q_flt.fits'\n",
      "       EXT: 'SCI',1;\tMASK: ib1f19l7q_skymatch_mask_sci1.fits[0]\n",
      "\n",
      "   **  Input image: 'ib1f19l9q_flt.fits'\n",
      "       EXT: 'SCI',1;\tMASK: ib1f19l9q_skymatch_mask_sci1.fits[0]\n",
      "\n",
      "   **  Input image: 'ib1f19laq_flt.fits'\n",
      "       EXT: 'SCI',1;\tMASK: ib1f19laq_skymatch_mask_sci1.fits[0]\n",
      "\n",
      "-----  Sky statistics parameters:  -----\n",
      "       statistics function: 'median'\n",
      "       lower = None\n",
      "       upper = None\n",
      "       nclip = 5\n",
      "       lsigma = 4.0\n",
      "       usigma = 4.0\n",
      "       binwidth = 0.1\n",
      "\n",
      "-----  Data->Brightness conversion parameters for input files:  -----\n",
      "\n",
      "   *   Image: ib1f19l6q_flt.fits\n",
      "       EXT = 'SCI',1\n",
      "             Data units type: COUNT-RATE\n",
      "             Conversion factor (data->brightness):  60.797431635711504\n",
      "\n",
      "   *   Image: ib1f19l7q_flt.fits\n",
      "       EXT = 'SCI',1\n",
      "             Data units type: COUNT-RATE\n",
      "             Conversion factor (data->brightness):  60.797431635711504\n",
      "\n",
      "   *   Image: ib1f19l9q_flt.fits\n",
      "       EXT = 'SCI',1\n",
      "             Data units type: COUNT-RATE\n",
      "             Conversion factor (data->brightness):  60.797431635711504\n",
      "\n",
      "   *   Image: ib1f19laq_flt.fits\n",
      "       EXT = 'SCI',1\n",
      "             Data units type: COUNT-RATE\n",
      "             Conversion factor (data->brightness):  60.797431635711504\n",
      "\n",
      "\n",
      "-----  Computing sky values requested image extensions (detector chips):  -----\n",
      "\n",
      "   *   Image:   'ib1f19l6q_flt.fits['SCI',1]'  --  SKY = 56.303737764954334 (brightness units)\n",
      "       Sky change (data units):\n",
      "      - EXT = 'SCI',1   delta(MDRIZSKY) = 0.926087   NEW MDRIZSKY = 0.926087\n",
      "   *   Image:   'ib1f19l7q_flt.fits['SCI',1]'  --  SKY = 52.989470617006745 (brightness units)\n",
      "       Sky change (data units):\n",
      "      - EXT = 'SCI',1   delta(MDRIZSKY) = 0.871574   NEW MDRIZSKY = 0.871574\n"
     ]
    },
    {
     "name": "stdout",
     "output_type": "stream",
     "text": [
      "   *   Image:   'ib1f19l9q_flt.fits['SCI',1]'  --  SKY = 51.71155600460956 (brightness units)\n",
      "       Sky change (data units):\n",
      "      - EXT = 'SCI',1   delta(MDRIZSKY) = 0.850555   NEW MDRIZSKY = 0.850555\n",
      "   *   Image:   'ib1f19laq_flt.fits['SCI',1]'  --  SKY = 51.42930474461253 (brightness units)\n",
      "       Sky change (data units):\n",
      "      - EXT = 'SCI',1   delta(MDRIZSKY) = 0.845912   NEW MDRIZSKY = 0.845912\n",
      "***** skymatch ended on 2019-05-24 18:52:48.441763\n",
      "TOTAL RUN TIME: 0:00:00.311242\n"
     ]
    },
    {
     "name": "stdout",
     "output_type": "stream",
     "text": [
      "==== Processing Step  Subtract Sky  finished at  18:52:48.558 (24/05/2019)\n",
      "\n",
      "==== Processing Step  Separate Drizzle  started at  18:52:48.558 (24/05/2019)\n",
      "WCS Keywords\n",
      "\n",
      "Number of WCS axes: 2\n",
      "CTYPE : 'RA---TAN'  'DEC--TAN'  \n",
      "CRVAL : 161.76939966928876  17.273430525939578  \n",
      "CRPIX : 544.5  481.5  \n",
      "CD1_1 CD1_2  : -3.542984305538169e-05  3.723829036815852e-06  \n",
      "CD2_1 CD2_2  : 3.723829036815852e-06  3.542984305538169e-05  \n",
      "NAXIS : 1089  963\n"
     ]
    },
    {
     "name": "stdout",
     "output_type": "stream",
     "text": [
      "-Generating simple FITS output: ib1f19l6q_single_sci.fits\n"
     ]
    },
    {
     "name": "stdout",
     "output_type": "stream",
     "text": [
      "-Generating simple FITS output: ib1f19l7q_single_sci.fits\n"
     ]
    },
    {
     "name": "stdout",
     "output_type": "stream",
     "text": [
      "Writing out image to disk: ib1f19l6q_single_sci.fits\n"
     ]
    },
    {
     "name": "stdout",
     "output_type": "stream",
     "text": [
      "-Generating simple FITS output: ib1f19laq_single_sci.fits\n"
     ]
    },
    {
     "name": "stdout",
     "output_type": "stream",
     "text": [
      "Writing out image to disk: ib1f19l7q_single_sci.fits\n"
     ]
    },
    {
     "name": "stdout",
     "output_type": "stream",
     "text": [
      "-Generating simple FITS output: ib1f19l9q_single_sci.fits\n"
     ]
    },
    {
     "name": "stdout",
     "output_type": "stream",
     "text": [
      "Writing out image to disk: ib1f19l6q_single_wht.fits\n"
     ]
    },
    {
     "name": "stdout",
     "output_type": "stream",
     "text": [
      "Writing out image to disk: ib1f19laq_single_sci.fits\n"
     ]
    },
    {
     "name": "stdout",
     "output_type": "stream",
     "text": [
      "Writing out image to disk: ib1f19l7q_single_wht.fits\n"
     ]
    },
    {
     "name": "stdout",
     "output_type": "stream",
     "text": [
      "Writing out image to disk: ib1f19l9q_single_sci.fits\n"
     ]
    },
    {
     "name": "stdout",
     "output_type": "stream",
     "text": [
      "Writing out image to disk: ib1f19laq_single_wht.fits\n"
     ]
    },
    {
     "name": "stdout",
     "output_type": "stream",
     "text": [
      "Writing out image to disk: ib1f19l9q_single_wht.fits\n"
     ]
    },
    {
     "name": "stdout",
     "output_type": "stream",
     "text": [
      "==== Processing Step  Separate Drizzle  finished at  18:52:49.650 (24/05/2019)\n",
      "\n",
      "==== Processing Step  Create Median  started at  18:52:49.650 (24/05/2019)\n",
      "reference sky value for image 'ib1f19l6q_flt.fits' is 465.7631401035832\n",
      "reference sky value for image 'ib1f19l7q_flt.fits' is 438.34642612955906\n",
      "reference sky value for image 'ib1f19l9q_flt.fits' is 427.77509381163884\n",
      "reference sky value for image 'ib1f19laq_flt.fits' is 425.44021804010106\n"
     ]
    },
    {
     "name": "stdout",
     "output_type": "stream",
     "text": [
      "Saving output median image to: 'f160w_0.8_med.fits'\n",
      "==== Processing Step  Create Median  finished at  18:52:50.429 (24/05/2019)\n",
      "\n",
      "==== Processing Step  Blot  started at  18:52:50.430 (24/05/2019)\n",
      "    Blot: creating blotted image:  ib1f19l6q_flt.fits[sci,1]\n",
      "Using default C-based coordinate transformation...\n"
     ]
    },
    {
     "name": "stdout",
     "output_type": "stream",
     "text": [
      "-Generating simple FITS output: ib1f19l6q_sci1_blt.fits\n",
      "Writing out image to disk: ib1f19l6q_sci1_blt.fits\n",
      "    Blot: creating blotted image:  ib1f19l7q_flt.fits[sci,1]\n",
      "Using default C-based coordinate transformation...\n"
     ]
    },
    {
     "name": "stdout",
     "output_type": "stream",
     "text": [
      "-Generating simple FITS output: ib1f19l7q_sci1_blt.fits\n",
      "Writing out image to disk: ib1f19l7q_sci1_blt.fits\n",
      "    Blot: creating blotted image:  ib1f19l9q_flt.fits[sci,1]\n",
      "Using default C-based coordinate transformation...\n"
     ]
    },
    {
     "name": "stdout",
     "output_type": "stream",
     "text": [
      "-Generating simple FITS output: ib1f19l9q_sci1_blt.fits\n",
      "Writing out image to disk: ib1f19l9q_sci1_blt.fits\n",
      "    Blot: creating blotted image:  ib1f19laq_flt.fits[sci,1]\n",
      "Using default C-based coordinate transformation...\n"
     ]
    },
    {
     "name": "stdout",
     "output_type": "stream",
     "text": [
      "-Generating simple FITS output: ib1f19laq_sci1_blt.fits\n",
      "Writing out image to disk: ib1f19laq_sci1_blt.fits\n",
      "==== Processing Step  Blot  finished at  18:52:52.252 (24/05/2019)\n",
      "\n",
      "==== Processing Step  Driz_CR  started at  18:52:52.252 (24/05/2019)\n"
     ]
    },
    {
     "name": "stdout",
     "output_type": "stream",
     "text": [
      "Creating output :  ib1f19laq_sci1_crmask.fits\n"
     ]
    },
    {
     "name": "stdout",
     "output_type": "stream",
     "text": [
      "Creating output :  ib1f19l7q_sci1_crmask.fits\n"
     ]
    },
    {
     "name": "stdout",
     "output_type": "stream",
     "text": [
      "Creating output :  ib1f19l6q_sci1_crmask.fits\n"
     ]
    },
    {
     "name": "stdout",
     "output_type": "stream",
     "text": [
      "Creating output :  ib1f19l9q_sci1_crmask.fits\n"
     ]
    },
    {
     "name": "stdout",
     "output_type": "stream",
     "text": [
      "==== Processing Step  Driz_CR  finished at  18:52:53.362 (24/05/2019)\n",
      "\n",
      "==== Processing Step  Final Drizzle  started at  18:52:53.373 (24/05/2019)\n",
      "WCS Keywords\n",
      "\n",
      "Number of WCS axes: 2\n",
      "CTYPE : 'RA---TAN'  'DEC--TAN'  \n",
      "CRVAL : 161.76939966928876  17.273430525939578  \n",
      "CRPIX : 1167.3829659129597  1056.5471233907554  \n",
      "CD1_1 CD1_2  : -1.805555555555555e-05  3.6939273646322496e-22  \n",
      "CD2_1 CD2_2  : 3.702614723534622e-22  1.805555555555555e-05  \n",
      "NAXIS : 2336  2114\n"
     ]
    },
    {
     "name": "stdout",
     "output_type": "stream",
     "text": [
      "-Generating multi-extension output file:  f160w_0.8_drz.fits\n",
      "Writing out to disk: f160w_0.8_drz.fits\n",
      "==== Processing Step  Final Drizzle  finished at  18:52:56.673 (24/05/2019)\n",
      "\n",
      "\n",
      "AstroDrizzle Version 2.2.6 is finished processing at 18:52:56.674 (24/05/2019).\n",
      "\n",
      "\n",
      "   --------------------          --------------------\n",
      "                   Step          Elapsed time\n",
      "   --------------------          --------------------\n",
      "\n",
      "         Initialization          0.8890 sec.\n",
      "            Static Mask          0.1444 sec.\n",
      "           Subtract Sky          0.5996 sec.\n",
      "       Separate Drizzle          1.0917 sec.\n",
      "          Create Median          0.7786 sec.\n",
      "                   Blot          1.8227 sec.\n",
      "                Driz_CR          1.1099 sec.\n",
      "          Final Drizzle          3.3004 sec.\n",
      "   ====================          ====================\n",
      "                  Total          9.7365 sec.\n",
      "No trailer file saved...\n",
      "No trailer file created...\n",
      "AstroDrizzle Version 2.2.6 (2018-11-02 15:37:13 -0400) started at: 18:52:56.712 (24/05/2019)\n",
      "\n",
      "==== Processing Step  Initialization  started at  18:52:56.712 (24/05/2019)\n"
     ]
    },
    {
     "name": "stdout",
     "output_type": "stream",
     "text": [
      "WCS Keywords\n",
      "\n",
      "Number of WCS axes: 2\n",
      "CTYPE : 'RA---TAN'  'DEC--TAN'  \n",
      "CRVAL : 161.76939966928876  17.273430525939578  \n",
      "CRPIX : 1167.3829659129597  1056.5471233907554  \n",
      "CD1_1 CD1_2  : -1.805555555555555e-05  3.6939273646322496e-22  \n",
      "CD2_1 CD2_2  : 3.702614723534622e-22  1.805555555555555e-05  \n",
      "NAXIS : 2336  2114\n",
      "********************************************************************************\n",
      "*\n",
      "*  Estimated memory usage:  up to 257 Mb.\n",
      "*  Output image size:       2336 X 2114 pixels. \n",
      "*  Output image file:       ~ 56 Mb. \n",
      "*  Cores available:         4\n",
      "*\n",
      "********************************************************************************\n",
      "==== Processing Step  Initialization  finished at  18:52:57.504 (24/05/2019)\n",
      "\n",
      "==== Processing Step  Static Mask  started at  18:52:57.504 (24/05/2019)\n",
      "==== Processing Step  Static Mask  finished at  18:52:57.65 (24/05/2019)\n",
      "\n",
      "==== Processing Step  Subtract Sky  started at  18:52:57.657 (24/05/2019)\n"
     ]
    },
    {
     "name": "stdout",
     "output_type": "stream",
     "text": [
      "***** skymatch started on 2019-05-24 18:52:57.780025\n",
      "      Version 1.0.2 (2019-03-07 00:54:44 -0500)\n",
      "\n",
      "'skymatch' task will apply computed sky differences to input image file(s).\n",
      "\n",
      "NOTE: Computed sky values WILL NOT be subtracted from image data ('subtractsky'=False).\n",
      "'MDRIZSKY' header keyword will represent sky value *computed* from data.\n",
      "\n",
      "-----  User specified keywords:  -----\n",
      "       Sky Value Keyword:  'MDRIZSKY'\n",
      "       Data Units Keyword: 'BUNIT'\n",
      "\n",
      "\n",
      "-----  Input file list:  -----\n",
      "\n",
      "   **  Input image: 'ib1f19l6q_flt.fits'\n",
      "       EXT: 'SCI',1;\tMASK: ib1f19l6q_skymatch_mask_sci1.fits[0]\n",
      "\n",
      "   **  Input image: 'ib1f19l7q_flt.fits'\n",
      "       EXT: 'SCI',1;\tMASK: ib1f19l7q_skymatch_mask_sci1.fits[0]\n",
      "\n",
      "   **  Input image: 'ib1f19l9q_flt.fits'\n",
      "       EXT: 'SCI',1;\tMASK: ib1f19l9q_skymatch_mask_sci1.fits[0]\n",
      "\n",
      "   **  Input image: 'ib1f19laq_flt.fits'\n",
      "       EXT: 'SCI',1;\tMASK: ib1f19laq_skymatch_mask_sci1.fits[0]\n",
      "\n",
      "-----  Sky statistics parameters:  -----\n",
      "       statistics function: 'median'\n",
      "       lower = None\n",
      "       upper = None\n",
      "       nclip = 5\n",
      "       lsigma = 4.0\n",
      "       usigma = 4.0\n",
      "       binwidth = 0.1\n",
      "\n",
      "-----  Data->Brightness conversion parameters for input files:  -----\n",
      "\n",
      "   *   Image: ib1f19l6q_flt.fits\n",
      "       EXT = 'SCI',1\n",
      "             Data units type: COUNT-RATE\n",
      "             Conversion factor (data->brightness):  60.797431635711504\n",
      "\n",
      "   *   Image: ib1f19l7q_flt.fits\n",
      "       EXT = 'SCI',1\n",
      "             Data units type: COUNT-RATE\n",
      "             Conversion factor (data->brightness):  60.797431635711504\n",
      "\n",
      "   *   Image: ib1f19l9q_flt.fits\n",
      "       EXT = 'SCI',1\n",
      "             Data units type: COUNT-RATE\n",
      "             Conversion factor (data->brightness):  60.797431635711504\n",
      "\n",
      "   *   Image: ib1f19laq_flt.fits\n",
      "       EXT = 'SCI',1\n",
      "             Data units type: COUNT-RATE\n",
      "             Conversion factor (data->brightness):  60.797431635711504\n",
      "\n",
      "\n",
      "-----  Computing sky values requested image extensions (detector chips):  -----\n",
      "\n",
      "   *   Image:   'ib1f19l6q_flt.fits['SCI',1]'  --  SKY = 56.303737764954334 (brightness units)\n",
      "       Sky change (data units):\n",
      "      - EXT = 'SCI',1   delta(MDRIZSKY) = 0.926087   NEW MDRIZSKY = 0.926087\n",
      "   *   Image:   'ib1f19l7q_flt.fits['SCI',1]'  --  SKY = 52.989470617006745 (brightness units)\n",
      "       Sky change (data units):\n",
      "      - EXT = 'SCI',1   delta(MDRIZSKY) = 0.871574   NEW MDRIZSKY = 0.871574\n"
     ]
    },
    {
     "name": "stdout",
     "output_type": "stream",
     "text": [
      "   *   Image:   'ib1f19l9q_flt.fits['SCI',1]'  --  SKY = 51.71155600460956 (brightness units)\n",
      "       Sky change (data units):\n",
      "      - EXT = 'SCI',1   delta(MDRIZSKY) = 0.850555   NEW MDRIZSKY = 0.850555\n",
      "   *   Image:   'ib1f19laq_flt.fits['SCI',1]'  --  SKY = 51.42930474461253 (brightness units)\n",
      "       Sky change (data units):\n",
      "      - EXT = 'SCI',1   delta(MDRIZSKY) = 0.845912   NEW MDRIZSKY = 0.845912\n",
      "***** skymatch ended on 2019-05-24 18:52:58.076510\n",
      "TOTAL RUN TIME: 0:00:00.296485\n",
      "==== Processing Step  Subtract Sky  finished at  18:52:58.175 (24/05/2019)\n",
      "\n",
      "==== Processing Step  Separate Drizzle  started at  18:52:58.175 (24/05/2019)\n",
      "WCS Keywords\n",
      "\n",
      "Number of WCS axes: 2\n",
      "CTYPE : 'RA---TAN'  'DEC--TAN'  \n",
      "CRVAL : 161.76939966928876  17.273430525939578  \n",
      "CRPIX : 544.5  481.5  \n",
      "CD1_1 CD1_2  : -3.542984305538169e-05  3.723829036815852e-06  \n",
      "CD2_1 CD2_2  : 3.723829036815852e-06  3.542984305538169e-05  \n",
      "NAXIS : 1089  963\n"
     ]
    },
    {
     "name": "stdout",
     "output_type": "stream",
     "text": [
      "-Generating simple FITS output: ib1f19l9q_single_sci.fits\n"
     ]
    },
    {
     "name": "stdout",
     "output_type": "stream",
     "text": [
      "-Generating simple FITS output: ib1f19laq_single_sci.fits\n"
     ]
    },
    {
     "name": "stdout",
     "output_type": "stream",
     "text": [
      "-Generating simple FITS output: ib1f19l6q_single_sci.fits\n"
     ]
    },
    {
     "name": "stdout",
     "output_type": "stream",
     "text": [
      "-Generating simple FITS output: ib1f19l7q_single_sci.fits\n"
     ]
    },
    {
     "name": "stdout",
     "output_type": "stream",
     "text": [
      "Writing out image to disk: ib1f19l9q_single_sci.fits\n"
     ]
    },
    {
     "name": "stdout",
     "output_type": "stream",
     "text": [
      "Writing out image to disk: ib1f19laq_single_sci.fits\n"
     ]
    },
    {
     "name": "stdout",
     "output_type": "stream",
     "text": [
      "Writing out image to disk: ib1f19l6q_single_sci.fits\n"
     ]
    },
    {
     "name": "stdout",
     "output_type": "stream",
     "text": [
      "Writing out image to disk: ib1f19l7q_single_sci.fits\n"
     ]
    },
    {
     "name": "stdout",
     "output_type": "stream",
     "text": [
      "Writing out image to disk: ib1f19l9q_single_wht.fits\n"
     ]
    },
    {
     "name": "stdout",
     "output_type": "stream",
     "text": [
      "Writing out image to disk: ib1f19laq_single_wht.fits\n"
     ]
    },
    {
     "name": "stdout",
     "output_type": "stream",
     "text": [
      "Writing out image to disk: ib1f19l6q_single_wht.fits\n"
     ]
    },
    {
     "name": "stdout",
     "output_type": "stream",
     "text": [
      "Writing out image to disk: ib1f19l7q_single_wht.fits\n"
     ]
    },
    {
     "name": "stdout",
     "output_type": "stream",
     "text": [
      "==== Processing Step  Separate Drizzle  finished at  18:52:59.271 (24/05/2019)\n",
      "\n",
      "==== Processing Step  Create Median  started at  18:52:59.271 (24/05/2019)\n",
      "reference sky value for image 'ib1f19l6q_flt.fits' is 465.7631401035832\n",
      "reference sky value for image 'ib1f19l7q_flt.fits' is 438.34642612955906\n",
      "reference sky value for image 'ib1f19l9q_flt.fits' is 427.77509381163884\n",
      "reference sky value for image 'ib1f19laq_flt.fits' is 425.44021804010106\n"
     ]
    },
    {
     "name": "stdout",
     "output_type": "stream",
     "text": [
      "Saving output median image to: 'f160w_0.9_med.fits'\n",
      "==== Processing Step  Create Median  finished at  18:52:59.96 (24/05/2019)\n",
      "\n",
      "==== Processing Step  Blot  started at  18:52:59.964 (24/05/2019)\n",
      "    Blot: creating blotted image:  ib1f19l6q_flt.fits[sci,1]\n",
      "Using default C-based coordinate transformation...\n"
     ]
    },
    {
     "name": "stdout",
     "output_type": "stream",
     "text": [
      "-Generating simple FITS output: ib1f19l6q_sci1_blt.fits\n",
      "Writing out image to disk: ib1f19l6q_sci1_blt.fits\n",
      "    Blot: creating blotted image:  ib1f19l7q_flt.fits[sci,1]\n",
      "Using default C-based coordinate transformation...\n"
     ]
    },
    {
     "name": "stdout",
     "output_type": "stream",
     "text": [
      "-Generating simple FITS output: ib1f19l7q_sci1_blt.fits\n",
      "Writing out image to disk: ib1f19l7q_sci1_blt.fits\n",
      "    Blot: creating blotted image:  ib1f19l9q_flt.fits[sci,1]\n",
      "Using default C-based coordinate transformation...\n"
     ]
    },
    {
     "name": "stdout",
     "output_type": "stream",
     "text": [
      "-Generating simple FITS output: ib1f19l9q_sci1_blt.fits\n",
      "Writing out image to disk: ib1f19l9q_sci1_blt.fits\n",
      "    Blot: creating blotted image:  ib1f19laq_flt.fits[sci,1]\n",
      "Using default C-based coordinate transformation...\n"
     ]
    },
    {
     "name": "stdout",
     "output_type": "stream",
     "text": [
      "-Generating simple FITS output: ib1f19laq_sci1_blt.fits\n",
      "Writing out image to disk: ib1f19laq_sci1_blt.fits\n",
      "==== Processing Step  Blot  finished at  18:53:01.96 (24/05/2019)\n",
      "\n",
      "==== Processing Step  Driz_CR  started at  18:53:01.96 (24/05/2019)\n"
     ]
    },
    {
     "name": "stdout",
     "output_type": "stream",
     "text": [
      "Creating output :  ib1f19l6q_sci1_crmask.fits\n"
     ]
    },
    {
     "name": "stdout",
     "output_type": "stream",
     "text": [
      "Creating output :  ib1f19l9q_sci1_crmask.fits\n"
     ]
    },
    {
     "name": "stdout",
     "output_type": "stream",
     "text": [
      "Creating output :  ib1f19l7q_sci1_crmask.fits\n"
     ]
    },
    {
     "name": "stdout",
     "output_type": "stream",
     "text": [
      "Creating output :  ib1f19laq_sci1_crmask.fits\n"
     ]
    },
    {
     "name": "stdout",
     "output_type": "stream",
     "text": [
      "==== Processing Step  Driz_CR  finished at  18:53:03.154 (24/05/2019)\n",
      "\n",
      "==== Processing Step  Final Drizzle  started at  18:53:03.164 (24/05/2019)\n",
      "WCS Keywords\n",
      "\n",
      "Number of WCS axes: 2\n",
      "CTYPE : 'RA---TAN'  'DEC--TAN'  \n",
      "CRVAL : 161.76939966928876  17.273430525939578  \n",
      "CRPIX : 1167.3829659129597  1056.5471233907554  \n",
      "CD1_1 CD1_2  : -1.805555555555555e-05  3.6939273646322496e-22  \n",
      "CD2_1 CD2_2  : 3.702614723534622e-22  1.805555555555555e-05  \n",
      "NAXIS : 2336  2114\n"
     ]
    },
    {
     "name": "stdout",
     "output_type": "stream",
     "text": [
      "-Generating multi-extension output file:  f160w_0.9_drz.fits\n",
      "Writing out to disk: f160w_0.9_drz.fits\n",
      "==== Processing Step  Final Drizzle  finished at  18:53:06.68 (24/05/2019)\n",
      "\n",
      "\n",
      "AstroDrizzle Version 2.2.6 is finished processing at 18:53:06.681 (24/05/2019).\n",
      "\n",
      "\n",
      "   --------------------          --------------------\n",
      "                   Step          Elapsed time\n",
      "   --------------------          --------------------\n",
      "\n",
      "         Initialization          0.7918 sec.\n",
      "            Static Mask          0.1530 sec.\n",
      "           Subtract Sky          0.5176 sec.\n",
      "       Separate Drizzle          1.0957 sec.\n",
      "          Create Median          0.6921 sec.\n",
      "                   Blot          2.0028 sec.\n",
      "                Driz_CR          1.1875 sec.\n",
      "          Final Drizzle          3.5166 sec.\n",
      "   ====================          ====================\n",
      "                  Total          9.9571 sec.\n",
      "No trailer file saved...\n",
      "No trailer file created...\n",
      "AstroDrizzle Version 2.2.6 (2018-11-02 15:37:13 -0400) started at: 18:53:06.72 (24/05/2019)\n",
      "\n",
      "==== Processing Step  Initialization  started at  18:53:06.721 (24/05/2019)\n"
     ]
    },
    {
     "name": "stdout",
     "output_type": "stream",
     "text": [
      "WCS Keywords\n",
      "\n",
      "Number of WCS axes: 2\n",
      "CTYPE : 'RA---TAN'  'DEC--TAN'  \n",
      "CRVAL : 161.76939966928876  17.273430525939578  \n",
      "CRPIX : 1167.3829659129597  1056.5471233907554  \n",
      "CD1_1 CD1_2  : -1.805555555555555e-05  3.6939273646322496e-22  \n",
      "CD2_1 CD2_2  : 3.702614723534622e-22  1.805555555555555e-05  \n",
      "NAXIS : 2336  2114\n",
      "********************************************************************************\n",
      "*\n",
      "*  Estimated memory usage:  up to 257 Mb.\n",
      "*  Output image size:       2336 X 2114 pixels. \n",
      "*  Output image file:       ~ 56 Mb. \n",
      "*  Cores available:         4\n",
      "*\n",
      "********************************************************************************\n",
      "==== Processing Step  Initialization  finished at  18:53:07.581 (24/05/2019)\n",
      "\n",
      "==== Processing Step  Static Mask  started at  18:53:07.581 (24/05/2019)\n",
      "==== Processing Step  Static Mask  finished at  18:53:07.73 (24/05/2019)\n",
      "\n",
      "==== Processing Step  Subtract Sky  started at  18:53:07.739 (24/05/2019)\n"
     ]
    },
    {
     "name": "stdout",
     "output_type": "stream",
     "text": [
      "***** skymatch started on 2019-05-24 18:53:07.878673\n",
      "      Version 1.0.2 (2019-03-07 00:54:44 -0500)\n",
      "\n",
      "'skymatch' task will apply computed sky differences to input image file(s).\n",
      "\n",
      "NOTE: Computed sky values WILL NOT be subtracted from image data ('subtractsky'=False).\n",
      "'MDRIZSKY' header keyword will represent sky value *computed* from data.\n",
      "\n",
      "-----  User specified keywords:  -----\n",
      "       Sky Value Keyword:  'MDRIZSKY'\n",
      "       Data Units Keyword: 'BUNIT'\n",
      "\n",
      "\n",
      "-----  Input file list:  -----\n",
      "\n",
      "   **  Input image: 'ib1f19l6q_flt.fits'\n",
      "       EXT: 'SCI',1;\tMASK: ib1f19l6q_skymatch_mask_sci1.fits[0]\n",
      "\n",
      "   **  Input image: 'ib1f19l7q_flt.fits'\n",
      "       EXT: 'SCI',1;\tMASK: ib1f19l7q_skymatch_mask_sci1.fits[0]\n",
      "\n",
      "   **  Input image: 'ib1f19l9q_flt.fits'\n",
      "       EXT: 'SCI',1;\tMASK: ib1f19l9q_skymatch_mask_sci1.fits[0]\n",
      "\n",
      "   **  Input image: 'ib1f19laq_flt.fits'\n",
      "       EXT: 'SCI',1;\tMASK: ib1f19laq_skymatch_mask_sci1.fits[0]\n",
      "\n",
      "-----  Sky statistics parameters:  -----\n",
      "       statistics function: 'median'\n",
      "       lower = None\n",
      "       upper = None\n",
      "       nclip = 5\n",
      "       lsigma = 4.0\n",
      "       usigma = 4.0\n",
      "       binwidth = 0.1\n",
      "\n",
      "-----  Data->Brightness conversion parameters for input files:  -----\n",
      "\n",
      "   *   Image: ib1f19l6q_flt.fits\n",
      "       EXT = 'SCI',1\n",
      "             Data units type: COUNT-RATE\n",
      "             Conversion factor (data->brightness):  60.797431635711504\n",
      "\n",
      "   *   Image: ib1f19l7q_flt.fits\n",
      "       EXT = 'SCI',1\n",
      "             Data units type: COUNT-RATE\n",
      "             Conversion factor (data->brightness):  60.797431635711504\n",
      "\n",
      "   *   Image: ib1f19l9q_flt.fits\n",
      "       EXT = 'SCI',1\n",
      "             Data units type: COUNT-RATE\n",
      "             Conversion factor (data->brightness):  60.797431635711504\n",
      "\n",
      "   *   Image: ib1f19laq_flt.fits\n",
      "       EXT = 'SCI',1\n",
      "             Data units type: COUNT-RATE\n",
      "             Conversion factor (data->brightness):  60.797431635711504\n",
      "\n",
      "\n",
      "-----  Computing sky values requested image extensions (detector chips):  -----\n",
      "\n",
      "   *   Image:   'ib1f19l6q_flt.fits['SCI',1]'  --  SKY = 56.303737764954334 (brightness units)\n",
      "       Sky change (data units):\n",
      "      - EXT = 'SCI',1   delta(MDRIZSKY) = 0.926087   NEW MDRIZSKY = 0.926087\n",
      "   *   Image:   'ib1f19l7q_flt.fits['SCI',1]'  --  SKY = 52.989470617006745 (brightness units)\n",
      "       Sky change (data units):\n",
      "      - EXT = 'SCI',1   delta(MDRIZSKY) = 0.871574   NEW MDRIZSKY = 0.871574\n"
     ]
    },
    {
     "name": "stdout",
     "output_type": "stream",
     "text": [
      "   *   Image:   'ib1f19l9q_flt.fits['SCI',1]'  --  SKY = 51.71155600460956 (brightness units)\n",
      "       Sky change (data units):\n",
      "      - EXT = 'SCI',1   delta(MDRIZSKY) = 0.850555   NEW MDRIZSKY = 0.850555\n",
      "   *   Image:   'ib1f19laq_flt.fits['SCI',1]'  --  SKY = 51.42930474461253 (brightness units)\n",
      "       Sky change (data units):\n",
      "      - EXT = 'SCI',1   delta(MDRIZSKY) = 0.845912   NEW MDRIZSKY = 0.845912\n",
      "***** skymatch ended on 2019-05-24 18:53:08.246643\n",
      "TOTAL RUN TIME: 0:00:00.367970\n"
     ]
    },
    {
     "name": "stdout",
     "output_type": "stream",
     "text": [
      "==== Processing Step  Subtract Sky  finished at  18:53:08.382 (24/05/2019)\n",
      "\n",
      "==== Processing Step  Separate Drizzle  started at  18:53:08.382 (24/05/2019)\n",
      "WCS Keywords\n",
      "\n",
      "Number of WCS axes: 2\n",
      "CTYPE : 'RA---TAN'  'DEC--TAN'  \n",
      "CRVAL : 161.76939966928876  17.273430525939578  \n",
      "CRPIX : 544.5  481.5  \n",
      "CD1_1 CD1_2  : -3.542984305538169e-05  3.723829036815852e-06  \n",
      "CD2_1 CD2_2  : 3.723829036815852e-06  3.542984305538169e-05  \n",
      "NAXIS : 1089  963\n"
     ]
    },
    {
     "name": "stdout",
     "output_type": "stream",
     "text": [
      "-Generating simple FITS output: ib1f19l6q_single_sci.fits\n"
     ]
    },
    {
     "name": "stdout",
     "output_type": "stream",
     "text": [
      "-Generating simple FITS output: ib1f19l9q_single_sci.fits\n"
     ]
    },
    {
     "name": "stdout",
     "output_type": "stream",
     "text": [
      "-Generating simple FITS output: ib1f19l7q_single_sci.fits\n"
     ]
    },
    {
     "name": "stdout",
     "output_type": "stream",
     "text": [
      "Writing out image to disk: ib1f19l6q_single_sci.fits\n"
     ]
    },
    {
     "name": "stdout",
     "output_type": "stream",
     "text": [
      "Writing out image to disk: ib1f19l9q_single_sci.fits\n"
     ]
    },
    {
     "name": "stdout",
     "output_type": "stream",
     "text": [
      "-Generating simple FITS output: ib1f19laq_single_sci.fits\n"
     ]
    },
    {
     "name": "stdout",
     "output_type": "stream",
     "text": [
      "Writing out image to disk: ib1f19l7q_single_sci.fits\n"
     ]
    },
    {
     "name": "stdout",
     "output_type": "stream",
     "text": [
      "Writing out image to disk: ib1f19l6q_single_wht.fits\n"
     ]
    },
    {
     "name": "stdout",
     "output_type": "stream",
     "text": [
      "Writing out image to disk: ib1f19l9q_single_wht.fits\n"
     ]
    },
    {
     "name": "stdout",
     "output_type": "stream",
     "text": [
      "Writing out image to disk: ib1f19laq_single_sci.fits\n"
     ]
    },
    {
     "name": "stdout",
     "output_type": "stream",
     "text": [
      "Writing out image to disk: ib1f19l7q_single_wht.fits\n"
     ]
    },
    {
     "name": "stdout",
     "output_type": "stream",
     "text": [
      "Writing out image to disk: ib1f19laq_single_wht.fits\n"
     ]
    },
    {
     "name": "stdout",
     "output_type": "stream",
     "text": [
      "==== Processing Step  Separate Drizzle  finished at  18:53:09.475 (24/05/2019)\n",
      "\n",
      "==== Processing Step  Create Median  started at  18:53:09.475 (24/05/2019)\n",
      "reference sky value for image 'ib1f19l6q_flt.fits' is 465.7631401035832\n",
      "reference sky value for image 'ib1f19l7q_flt.fits' is 438.34642612955906\n",
      "reference sky value for image 'ib1f19l9q_flt.fits' is 427.77509381163884\n",
      "reference sky value for image 'ib1f19laq_flt.fits' is 425.44021804010106\n"
     ]
    },
    {
     "name": "stdout",
     "output_type": "stream",
     "text": [
      "Saving output median image to: 'f160w_1.0_med.fits'\n",
      "==== Processing Step  Create Median  finished at  18:53:10.148 (24/05/2019)\n",
      "\n",
      "==== Processing Step  Blot  started at  18:53:10.148 (24/05/2019)\n",
      "    Blot: creating blotted image:  ib1f19l6q_flt.fits[sci,1]\n",
      "Using default C-based coordinate transformation...\n"
     ]
    },
    {
     "name": "stdout",
     "output_type": "stream",
     "text": [
      "-Generating simple FITS output: ib1f19l6q_sci1_blt.fits\n",
      "Writing out image to disk: ib1f19l6q_sci1_blt.fits\n",
      "    Blot: creating blotted image:  ib1f19l7q_flt.fits[sci,1]\n",
      "Using default C-based coordinate transformation...\n"
     ]
    },
    {
     "name": "stdout",
     "output_type": "stream",
     "text": [
      "-Generating simple FITS output: ib1f19l7q_sci1_blt.fits\n",
      "Writing out image to disk: ib1f19l7q_sci1_blt.fits\n",
      "    Blot: creating blotted image:  ib1f19l9q_flt.fits[sci,1]\n",
      "Using default C-based coordinate transformation...\n"
     ]
    },
    {
     "name": "stdout",
     "output_type": "stream",
     "text": [
      "-Generating simple FITS output: ib1f19l9q_sci1_blt.fits\n",
      "Writing out image to disk: ib1f19l9q_sci1_blt.fits\n",
      "    Blot: creating blotted image:  ib1f19laq_flt.fits[sci,1]\n",
      "Using default C-based coordinate transformation...\n"
     ]
    },
    {
     "name": "stdout",
     "output_type": "stream",
     "text": [
      "-Generating simple FITS output: ib1f19laq_sci1_blt.fits\n",
      "Writing out image to disk: ib1f19laq_sci1_blt.fits\n",
      "==== Processing Step  Blot  finished at  18:53:11.962 (24/05/2019)\n",
      "\n",
      "==== Processing Step  Driz_CR  started at  18:53:11.962 (24/05/2019)\n"
     ]
    },
    {
     "name": "stdout",
     "output_type": "stream",
     "text": [
      "Creating output :  ib1f19l9q_sci1_crmask.fits\n"
     ]
    },
    {
     "name": "stdout",
     "output_type": "stream",
     "text": [
      "Creating output :  ib1f19l6q_sci1_crmask.fits\n"
     ]
    },
    {
     "name": "stdout",
     "output_type": "stream",
     "text": [
      "Creating output :  ib1f19laq_sci1_crmask.fits\n"
     ]
    },
    {
     "name": "stdout",
     "output_type": "stream",
     "text": [
      "Creating output :  ib1f19l7q_sci1_crmask.fits\n"
     ]
    },
    {
     "name": "stdout",
     "output_type": "stream",
     "text": [
      "==== Processing Step  Driz_CR  finished at  18:53:13.074 (24/05/2019)\n",
      "\n",
      "==== Processing Step  Final Drizzle  started at  18:53:13.085 (24/05/2019)\n",
      "WCS Keywords\n",
      "\n",
      "Number of WCS axes: 2\n",
      "CTYPE : 'RA---TAN'  'DEC--TAN'  \n",
      "CRVAL : 161.76939966928876  17.273430525939578  \n",
      "CRPIX : 1167.3829659129597  1056.5471233907554  \n",
      "CD1_1 CD1_2  : -1.805555555555555e-05  3.6939273646322496e-22  \n",
      "CD2_1 CD2_2  : 3.702614723534622e-22  1.805555555555555e-05  \n",
      "NAXIS : 2336  2114\n"
     ]
    },
    {
     "name": "stdout",
     "output_type": "stream",
     "text": [
      "-Generating multi-extension output file:  f160w_1.0_drz.fits\n",
      "Writing out to disk: f160w_1.0_drz.fits\n",
      "==== Processing Step  Final Drizzle  finished at  18:53:16.713 (24/05/2019)\n",
      "\n",
      "\n",
      "AstroDrizzle Version 2.2.6 is finished processing at 18:53:16.714 (24/05/2019).\n",
      "\n",
      "\n",
      "   --------------------          --------------------\n",
      "                   Step          Elapsed time\n",
      "   --------------------          --------------------\n",
      "\n",
      "         Initialization          0.8602 sec.\n",
      "            Static Mask          0.1572 sec.\n",
      "           Subtract Sky          0.6429 sec.\n",
      "       Separate Drizzle          1.0926 sec.\n",
      "          Create Median          0.6729 sec.\n",
      "                   Blot          1.8133 sec.\n",
      "                Driz_CR          1.1125 sec.\n",
      "          Final Drizzle          3.6285 sec.\n",
      "   ====================          ====================\n",
      "                  Total          9.9801 sec.\n",
      "No trailer file saved...\n"
     ]
    }
   ],
   "source": [
    "pixfracs = np.arange(0.1, 1.1, 0.1)\n",
    "\n",
    "for pixfrac in pixfracs:\n",
    "    outname = 'f160w_{:.1f}'.format(pixfrac)\n",
    "    drizzlepac.astrodrizzle.AstroDrizzle('*flt.fits',\n",
    "                                         output=outname,\n",
    "                                         runfile='',\n",
    "                                         context=False,\n",
    "                                         build=True,\n",
    "                                         preserve=False,\n",
    "                                         clean=True,\n",
    "                                         driz_sep_bits='64,512',\n",
    "                                         final_bits='64,512',\n",
    "                                         final_pixfrac=pixfrac,\n",
    "                                         final_wcs=True,\n",
    "                                         final_rot=0.,\n",
    "                                         final_scale=0.065)"
   ]
  },
  {
   "cell_type": "markdown",
   "metadata": {},
   "source": [
    "When evaluating what value to use for `final_pixfrac`, *THERE IS NO SINGLE METRIC THAT INDICATES WHAT VALUE TO USE*, and several factors should be taken into account. The general philosophy is that the chosen value should improve the resolution of the image as much as possible, without causing any adverse effects. \n",
    "\n",
    "The first thing to look for is an excessive number of holes in the science and weight images. The figure below shows the central region of the science and weight images produced by three different `final_pixfrac` values."
   ]
  },
  {
   "cell_type": "code",
   "execution_count": 9,
   "metadata": {},
   "outputs": [
    {
     "data": {
      "text/plain": [
       "(1835.4481178804988, 1934.1019662351364)"
      ]
     },
     "execution_count": 9,
     "metadata": {},
     "output_type": "execute_result"
    },
    {
     "data": {
      "image/png": "[encoded data removed]",
      "text/plain": [
       "<Figure size 1152x720 with 6 Axes>"
      ]
     },
     "metadata": {
      "needs_background": "light"
     },
     "output_type": "display_data"
    }
   ],
   "source": [
    "with fits.open('f160w_0.1_drz.fits') as hdu1:\n",
    "    sci1 = hdu1[1].data\n",
    "    wht1 = hdu1[2].data\n",
    "    \n",
    "with fits.open('f160w_0.8_drz.fits') as hdu2:\n",
    "    sci2 = hdu2[1].data\n",
    "    wht2 = hdu2[2].data\n",
    "    \n",
    "with fits.open('f160w_1.0_drz.fits') as hdu3:\n",
    "    sci3 = hdu3[1].data\n",
    "    wht3 = hdu3[2].data\n",
    "\n",
    "fig,ax = plt.subplots(2, 3, figsize=(16, 10), sharex=True, sharey=True)\n",
    "fig.subplots_adjust(hspace=0, wspace=0)\n",
    "\n",
    "norm3 = ImageNormalize(wht2, vmin=400, vmax=600, stretch=LinearStretch())\n",
    "ax[0, 0].imshow(sci1, norm=norm2, cmap='gray')\n",
    "ax[0, 0].text(1640, 1920, 'final_pixfrac=0.1', fontsize='20', color='gold')\n",
    "ax[0, 1].imshow(sci2, norm=norm2, cmap='gray')\n",
    "ax[0, 1].text(1640, 1920, 'final_pixfrac=0.8', fontsize='20', color='gold')\n",
    "ax[0, 2].imshow(sci3, norm=norm2, cmap='gray')\n",
    "ax[0, 2].text(1640, 1920, 'final_pixfrac=1.0', fontsize='20', color='gold')\n",
    "ax[1, 0].imshow(wht1, norm=norm3, cmap='gray')\n",
    "ax[1, 1].imshow(wht2, norm=norm3, cmap='gray')\n",
    "ax[1, 2].imshow(wht3, norm=norm3, cmap='gray')\n",
    "ax[0, 0].set_xlim(radeclims.to_pixel(im2wcs)[0])\n",
    "ax[0, 0].set_ylim(radeclims.to_pixel(im2wcs)[1])"
   ]
  },
  {
   "cell_type": "markdown",
   "metadata": {},
   "source": [
    "This figure above shows the central region of the science and weight images produced by `final_pixfrac` values (left to right) of 0.1, 0.8 and 1.0. The top row is the science frame, the bottom is the weight image. The science image with the smallest `final_pixfrac` value of 0.1 shows a noisy background and holes in the image where no input pixels fall into the output grid because pixfrac is too small. Inspection of the weight map corresponding to the smallest `final_pixfrac` value shows many places with weights of zero, indicating that a `final_pixfrac` value of 0.1 is clearly too small and was only included in this example for illustrative purposes."
   ]
  },
  {
   "cell_type": "markdown",
   "metadata": {},
   "source": [
    "Another piece of information that can be useful is the amount of noise in the weight image. As suggested in the [HST Dither Handbook](http://www.stsci.edu/hst/HST_overview/documents/dither_handbook) Chapter 5 and in the [DrizzlePac Handbook](http://documents.stsci.edu/hst/HST_overview/documents/DrizzlePac/ch64.html#586267) Section 6.3.3, statistics performed on the drizzled weight image should yield a RMS/median value less than ~0.2. This threshold controls the trade-off between improving image resolution versus increasing background noise due to pixel resampling.\n",
    " \n",
    "The figure below shows the RMS/median as a function of `final_pixfrac`. One should take care to use the same region in the weight image as the region where the object of interest is located in the science image. If one is using the entire image for scientific analysis, then one should measure the statistics of the weight image where there is more variance. "
   ]
  },
  {
   "cell_type": "code",
   "execution_count": 10,
   "metadata": {},
   "outputs": [
    {
     "data": {
      "text/plain": [
       "Text(0.1, 0.35, '4 images')"
      ]
     },
     "execution_count": 10,
     "metadata": {},
     "output_type": "execute_result"
    },
    {
     "data": {
      "image/png": "[encoded data removed]",
      "text/plain": [
       "<Figure size 432x288 with 1 Axes>"
      ]
     },
     "metadata": {
      "needs_background": "light"
     },
     "output_type": "display_data"
    }
   ],
   "source": [
    "whtlist = glob.glob('f160w_0.[0-9]*drz.fits')\n",
    "\n",
    "std_med = np.empty(len(whtlist), dtype=float)\n",
    "fraclist = np.empty(len(whtlist), dtype=float)\n",
    "xlims = radeclims.to_pixel(im1wcs)[0].astype(int)\n",
    "ylims = radeclims.to_pixel(im1wcs)[1].astype(int)\n",
    "\n",
    "#Loop that measures statistics, also some information gathering\n",
    "for i, im in enumerate(whtlist):\n",
    "    with fits.open(im) as hdu:\n",
    "        hdr = hdu[0].header\n",
    "        wht = hdu[2].data\n",
    "    if i == 0:\n",
    "        target = hdr['TARGNAME']\n",
    "        scale = str(hdr['D001SCAL'])\n",
    "        nimg = hdr['NDRIZIM']\n",
    "    wht_std = np.std(wht[ylims[0] : ylims[1], xlims[0] : xlims[1]])\n",
    "    wht_med = np.median(wht[ylims[0] : ylims[1], xlims[0] : xlims[1]])\n",
    "    std_med[i] = wht_std / wht_med\n",
    "    fraclist[i] = hdr['D001PIXF']\n",
    "\n",
    "#Plotting commands              \n",
    "plt.clf()\n",
    "plt.xlim(1.025, -0.025)\n",
    "plt.ylim(0., 0.5)\n",
    "plt.scatter(fraclist, std_med, s=50)\n",
    "plt.axhline(0.2, ls='--', lw=3, c='r')\n",
    "plt.xlabel('pixfrac', fontsize=18)\n",
    "plt.ylabel('rms/median', fontsize=18)\n",
    "plt.text(0.1, 0.45, target, fontsize=16, horizontalalignment='right')\n",
    "plt.text(0.1, 0.40, 'Scale=' + str(scale) + '\"', fontsize=16, horizontalalignment='right')\n",
    "plt.text(0.1, 0.35, str(nimg) + ' images', fontsize=16, horizontalalignment='right')"
   ]
  },
  {
   "cell_type": "markdown",
   "metadata": {},
   "source": [
    "The RMS/median increases steadily up to pixfrac of 0.6, where there is a change in the slope of the function, indicating that something odd might be happening beyond that point. Even though the RMS remains below 20% of the median all the way to `final_pixfrac` of 0.1, the higher slope in the curve combined with the information from inspection of the science images themselvse (the evidence of holes) indicates that the pixfrac should remain >0.6. "
   ]
  },
  {
   "cell_type": "markdown",
   "metadata": {
    "collapsed": true
   },
   "source": [
    "## 6. Final thoughts\n",
    "\n",
    "The `final_pixfrac` value has to be small enough to avoid degrading the combined output image, but large enough that when all images are \"dropped\" onto the final frame, coverage of the output frame is fairly uniform. In general, `final_pixfrac` should be slightly larger than the final output scale to allow some \"spillover\" to adjacent pixels. This will help avoid \"holes\" in the final product when a given pixel has been flagged as \"bad\" in several frames. As a rule of thumb, statistics performed on the drizzled weight image in the region of interest should yield an RMS value (standard deviation) that is less than 20% of the median value. This threshold is a balance between the benefits of improving the image resolution at the expense of increasing noise in the background."
   ]
  },
  {
   "cell_type": "markdown",
   "metadata": {},
   "source": [
    "## About this Notebook\n",
    "\n",
    "    Author: R. Avila, STScI ACS Team  \n",
    "    Updated: December 12, 2018"
   ]
  }
 ],
 "metadata": {
  "kernelspec": {
   "display_name": "Python 3",
   "language": "python",
   "name": "python3"
  },
  "language_info": {
   "codemirror_mode": {
    "name": "ipython",
    "version": 3
   },
   "file_extension": ".py",
   "mimetype": "text/x-python",
   "name": "python",
   "nbconvert_exporter": "python",
   "pygments_lexer": "ipython3",
   "version": "3.6.8"
  }
 },
 "nbformat": 4,
 "nbformat_minor": 2
}
