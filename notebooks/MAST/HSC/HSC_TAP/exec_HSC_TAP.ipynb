{
 "cells": [
  {
   "cell_type": "markdown",
   "metadata": {},
   "source": [
    "# MAST Table Access Protocol Hubble Source Catalog Demo"
   ]
  },
  {
   "cell_type": "markdown",
   "metadata": {},
   "source": [
    "<br> This tutorial demonstrates how to use astroquery to access the Hubble Source Catalog (HSC) via a Virtual Observatory standard Table Access Protocol (TAP) service at MAST, and work with the resultant data. \n",
    "\n",
    "***\n",
    "### Table of Contents\n",
    "\n",
    "1. [HSC TAP Service Introduction](#HSC-TAP-Service-Introduction)\n",
    "2. [Imports](#Imports)\n",
    "3. [Connecting, Finding, and Displaying Table Information](#Connecting,-Finding,-and-Displaying-Table-Information)\n",
    "    - [Connecting to a TAP Service](#Connecting-to-a-TAP-Service)\n",
    "    - [Querying for Table Schema Information](#Querying-for-Table-Schema-Information)\n",
    "    - [Querying for Data](#Querying-for-Data)\n",
    "    - [Use Case: Plotting a light curve for the most variable object in a field](#Use-Case:-Plotting-a-light-curve-for-the-most-variable-object-in-a-field)\n",
    "    - [Use Case: Create a color magnitude diagram for the Small Magellanic Cloud](#Use-Case:-Create-a-color-magnitude-diagram-for-the-Small-Magellanic-Cloud) <br><br>\n",
    "4. [Additional Resources](#Additional-Resources)\n",
    "5. [About This Notebook](#About-this-Notebook)\n",
    "***"
   ]
  },
  {
   "cell_type": "markdown",
   "metadata": {},
   "source": [
    "## HSC TAP Service Introduction"
   ]
  },
  {
   "cell_type": "markdown",
   "metadata": {},
   "source": [
    "Table Access Protocol (TAP) services allow more direct and flexible access to astronomical data than the simpler types of IVOA standard data services. Queries are built with the SQL-like Astronomical Data Query Language (ADQL), and can include geographic / spatial queries as well as filtering on other characteristics of the data. This also allows the user fine-grained control over the returned columns, unlike the fixed set of coumns retunred from cone, image, and spectral services.\n",
    "\n",
    "For this example, we'll be using the astroquery TAP/TAP+ client, which was developed by the ESAC Space Data Centre for working with the GAIA catalog, but is interoperable with other valid TAP services, including those at MAST. As an astroquery project, TAP+ documentation is available at ReadTheDocs: http://astroquery.readthedocs.io/en/latest/utils/tap.html\n",
    "\n",
    "We'll be using TAP+ to call the most recent version (3) of the Hubble Source Catalog TAP service at MAST. The schema is described within the service, and we'll show how to inspect it. The schema is also the same as the one available via the CasJobs interface, with an additional view added for the most common positional queries. CasJobs has its own copy of the schema documentation, which can be accessed through its own site: http://mastweb.stsci.edu/hcasjobs/\n",
    "\n"
   ]
  },
  {
   "cell_type": "markdown",
   "metadata": {},
   "source": [
    "***\n",
    "## Imports"
   ]
  },
  {
   "cell_type": "code",
   "execution_count": 1,
   "metadata": {
    "collapsed": true
   },
   "outputs": [],
   "source": [
    "# Use the astroquery TapPlus library as our client to the data service.\n",
    "from astroquery.utils.tap.core import TapPlus\n",
    "\n",
    "## For handling ordinary astropy Tables in responses\n",
    "from astropy.table import Table\n",
    "\n",
    "# For displaying and manipulating some types of results\n",
    "%matplotlib inline\n",
    "import requests\n",
    "import astropy\n",
    "import numpy as np\n",
    "import time\n",
    "from matplotlib import pyplot as plt\n",
    "\n",
    "# To allow display tweaks for wider response tables\n",
    "from IPython.core.display import display\n",
    "from IPython.core.display import HTML\n",
    "\n",
    "# For the second example: kernel density estimates\n",
    "from scipy.stats import gaussian_kde"
   ]
  },
  {
   "cell_type": "markdown",
   "metadata": {},
   "source": [
    "***\n",
    "## Connecting, Finding, and Displaying Table Information "
   ]
  },
  {
   "cell_type": "markdown",
   "metadata": {},
   "source": [
    "### Connecting to a TAP Service\n",
    "\n",
    "The TapPlus library is able to connect to any TAP service, given the \"base\" URL as noted in metadata registry resources describing the service. This is the URL for the newest version of the Hubble Source Catalog TAP service."
   ]
  },
  {
   "cell_type": "code",
   "execution_count": 2,
   "metadata": {},
   "outputs": [
    {
     "name": "stdout",
     "output_type": "stream",
     "text": [
      "Created TAP+ (v1.0.1) - Connection:\n",
      "\tHost: vao.stsci.edu\n",
      "\tUse HTTPS: False\n",
      "\tPort: 80\n",
      "\tSSL Port: 443\n"
     ]
    }
   ],
   "source": [
    "HSC_service = TapPlus(url=\"http://vao.stsci.edu/HSCTAP/tapservice.aspx\")"
   ]
  },
  {
   "cell_type": "markdown",
   "metadata": {},
   "source": [
    "### Querying for Table Schema Information\n",
    "    \n",
    "TAP services are self-describing, which means the service itself can be asked for its schema and documentation about it. Since the hubble Source Catalog does not follow a data model described by a standard, this is the best way to see what tables and columns we have available to then query based on geometry or other filters. \n",
    "    \n",
    "The main view for HSC, SumMagAper2CatView, is extremely wide, containing columns for all potential filters, each of which may have null data. So in showing our query results, we will cut off the display with \"...\" marks. You can change the 'if' line to show the rest of these columns."
   ]
  },
  {
   "cell_type": "code",
   "execution_count": 3,
   "metadata": {},
   "outputs": [
    {
     "name": "stdout",
     "output_type": "stream",
     "text": [
      "Retrieving tables...\n"
     ]
    },
    {
     "name": "stdout",
     "output_type": "stream",
     "text": [
      "Parsing tables...\n",
      "Done.\n",
      "\n",
      "\n",
      "TAP Table name: dbo.dbo.SumMagAper2CatView\n",
      "Description: This table provides Source Extractor magaper2 information for each match based on sources with valid Source Extractor aper2 magnitudes. The companion table SumMagAper2CatViewView  contains other summary information for the corresponding match\n",
      "Num. columns: 818\n",
      "\n",
      "\n",
      "MatchID\n",
      "MatchRA\n",
      "MatchDec\n",
      "DSigma\n",
      "AbsCorr\n",
      "NumFilters\n",
      "NumVisits\n",
      "NumImages\n",
      "StartTime\n",
      "StopTime\n",
      "StartMJD\n",
      "StopMJD\n",
      "TargetName\n",
      "CI\n",
      "CI_Sigma\n",
      "KronRadius\n",
      "KronRadius_Sigma\n",
      "Extinction\n",
      "SpectrumFlag\n",
      "MatchID\n",
      "W3_BLANK\n",
      "W3_BLANK_MAD\n",
      "W3_BLANK_N\n",
      "W2_F122M\n",
      "W2_F122M_MAD\n",
      "W2_F122M_N\n",
      "W2_F160BN15\n",
      "W2_F160BN15_MAD\n",
      "W2_F160BN15_N\n",
      "W2_F160BW\n",
      "...\n",
      "W3_F160W\n",
      "W3_F160W_MAD\n",
      "W3_F160W_N\n",
      "W3_F164N\n",
      "W3_F164N_MAD\n",
      "W3_F164N_N\n",
      "W3_F167N\n",
      "W3_F167N_MAD\n",
      "W3_F167N_N\n"
     ]
    }
   ],
   "source": [
    "HSC_tables = HSC_service.load_tables()\n",
    "print('\\n')\n",
    "for table in HSC_tables:\n",
    "    if( table.name == 'dbo.SumMagAper2CatView'):\n",
    "        print(table)\n",
    "        print('\\n')\n",
    "        for i, column in enumerate(table.columns):\n",
    "            #only show the first 30 and last 10 columns\n",
    "            if i < 30 or i > len(table.columns)-10:\n",
    "                print(column.name)\n",
    "            #skip display for the middle column names\n",
    "            elif i == 30:\n",
    "                print(\"...\")"
   ]
  },
  {
   "cell_type": "markdown",
   "metadata": {},
   "source": [
    "***\n",
    "### Querying for Data\n",
    "\n",
    "As noted above, this view contains every filter known in the HSC, and can return each even if it is NULL for the given match (this can cause warnings in astroquery). In order to narrow results, one could query on individual filters where their value is not null, or only return certain of them. \n",
    "\n",
    "Here we are searching for every row with data within a .1 degree circle of RA=129.23 and Dec=7.95, and returning a few columns to get an idea of what we have available."
   ]
  },
  {
   "cell_type": "code",
   "execution_count": 4,
   "metadata": {
    "scrolled": true
   },
   "outputs": [
    {
     "data": {
      "text/html": [
       "<i>Table masked=True length=10</i>\n",
       "<table id=\"table140079359096480\" class=\"table-striped table-bordered table-condensed\">\n",
       "<thead><tr><th>MatchRA</th><th>MatchDec</th><th>TargetName</th><th>StartTime</th><th>StopTime</th></tr></thead>\n",
       "<thead><tr><th>float64</th><th>float64</th><th>object</th><th>object</th><th>object</th></tr></thead>\n",
       "<tr><td>129.217229657802</td><td>7.94543470425575</td><td>J083655+075712</td><td>12/7/2009 4:10:34 PM</td><td>12/7/2009 4:53:36 PM</td></tr>\n",
       "<tr><td>129.217737714562</td><td>7.95414102965508</td><td>J083655+075712</td><td>12/7/2009 4:10:34 PM</td><td>12/7/2009 4:53:36 PM</td></tr>\n",
       "<tr><td>129.264743296842</td><td>7.99903230660889</td><td>SDSSJ0837+0801</td><td>3/15/2015 2:22:48 PM</td><td>3/15/2015 3:07:16 PM</td></tr>\n",
       "<tr><td>129.24708533424</td><td>8.04200793098827</td><td>SDSSJ0837+0801</td><td>3/15/2015 2:22:48 PM</td><td>3/15/2015 3:07:16 PM</td></tr>\n",
       "<tr><td>129.253627804521</td><td>8.04016747741173</td><td>SDSSJ0837+0801</td><td>3/15/2015 2:22:48 PM</td><td>3/15/2015 3:07:16 PM</td></tr>\n",
       "<tr><td>129.231776145691</td><td>7.9983386921068</td><td>SDSSJ0837+0801</td><td>3/15/2015 2:22:48 PM</td><td>3/15/2015 2:55:27 PM</td></tr>\n",
       "<tr><td>129.243886032703</td><td>8.03350365274314</td><td>SDSSJ0837+0801</td><td>3/15/2015 2:22:48 PM</td><td>3/15/2015 3:07:16 PM</td></tr>\n",
       "<tr><td>129.242971696111</td><td>7.94676389005236</td><td>J083655+075712</td><td>12/7/2009 4:10:34 PM</td><td>12/7/2009 4:53:36 PM</td></tr>\n",
       "<tr><td>129.256624878038</td><td>8.03979026963273</td><td>SDSSJ0837+0801</td><td>3/15/2015 2:22:48 PM</td><td>3/15/2015 3:07:16 PM</td></tr>\n",
       "<tr><td>129.247384132746</td><td>8.00238461007864</td><td>SDSSJ0837+0801</td><td>3/15/2015 2:22:48 PM</td><td>3/15/2015 3:07:16 PM</td></tr>\n",
       "</table>"
      ],
      "text/plain": [
       "<Table masked=True length=10>\n",
       "    MatchRA          MatchDec     ...      StartTime             StopTime      \n",
       "    float64          float64      ...        object               object       \n",
       "---------------- ---------------- ... -------------------- --------------------\n",
       "129.217229657802 7.94543470425575 ... 12/7/2009 4:10:34 PM 12/7/2009 4:53:36 PM\n",
       "129.217737714562 7.95414102965508 ... 12/7/2009 4:10:34 PM 12/7/2009 4:53:36 PM\n",
       "129.264743296842 7.99903230660889 ... 3/15/2015 2:22:48 PM 3/15/2015 3:07:16 PM\n",
       " 129.24708533424 8.04200793098827 ... 3/15/2015 2:22:48 PM 3/15/2015 3:07:16 PM\n",
       "129.253627804521 8.04016747741173 ... 3/15/2015 2:22:48 PM 3/15/2015 3:07:16 PM\n",
       "129.231776145691  7.9983386921068 ... 3/15/2015 2:22:48 PM 3/15/2015 2:55:27 PM\n",
       "129.243886032703 8.03350365274314 ... 3/15/2015 2:22:48 PM 3/15/2015 3:07:16 PM\n",
       "129.242971696111 7.94676389005236 ... 12/7/2009 4:10:34 PM 12/7/2009 4:53:36 PM\n",
       "129.256624878038 8.03979026963273 ... 3/15/2015 2:22:48 PM 3/15/2015 3:07:16 PM\n",
       "129.247384132746 8.00238461007864 ... 3/15/2015 2:22:48 PM 3/15/2015 3:07:16 PM"
      ]
     },
     "execution_count": 4,
     "metadata": {},
     "output_type": "execute_result"
    }
   ],
   "source": [
    "job = HSC_service.launch_job(\"\"\"\n",
    "SELECT TOP 10 MatchRA, MatchDec, TargetName, StartTime, StopTime\n",
    "FROM dbo.SumMagAper2CatView\n",
    "WHERE CONTAINS(POINT('ICRS', MatchRA, MatchDec),CIRCLE('ICRS',129.23,7.95,0.1))=1\n",
    "  \"\"\")\n",
    "HSC_results = job.get_results()\n",
    "HSC_results"
   ]
  },
  {
   "cell_type": "markdown",
   "metadata": {},
   "source": [
    "We can also filter by start/stop time or any other column in the view:"
   ]
  },
  {
   "cell_type": "code",
   "execution_count": 5,
   "metadata": {},
   "outputs": [
    {
     "data": {
      "text/html": [
       "<i>Table masked=True length=10</i>\n",
       "<table id=\"table140078629721648\" class=\"table-striped table-bordered table-condensed\">\n",
       "<thead><tr><th>MatchID</th><th>MatchRA</th><th>MatchDec</th><th>TargetName</th><th>StartTime</th><th>StopTime</th><th>TargetName1</th></tr></thead>\n",
       "<thead><tr><th>int64</th><th>float64</th><th>float64</th><th>object</th><th>object</th><th>object</th><th>object</th></tr></thead>\n",
       "<tr><td>25932069</td><td>129.212736081141</td><td>8.00451661211683</td><td>SDSSJ0837+0801</td><td>3/15/2015 2:22:48 PM</td><td>3/15/2015 3:07:16 PM</td><td>SDSSJ0837+0801</td></tr>\n",
       "<tr><td>76418113</td><td>129.226696203498</td><td>8.02462094441062</td><td>SDSSJ0837+0801</td><td>3/15/2015 2:22:48 PM</td><td>3/15/2015 2:55:27 PM</td><td>SDSSJ0837+0801</td></tr>\n",
       "<tr><td>34720390</td><td>129.233422690338</td><td>8.03149997812075</td><td>SDSSJ0837+0801</td><td>3/15/2015 2:22:48 PM</td><td>3/15/2015 3:07:16 PM</td><td>SDSSJ0837+0801</td></tr>\n",
       "<tr><td>56244222</td><td>129.221267748767</td><td>8.01253702068661</td><td>SDSSJ0837+0801</td><td>3/15/2015 2:22:48 PM</td><td>3/15/2015 2:55:27 PM</td><td>SDSSJ0837+0801</td></tr>\n",
       "<tr><td>105341376</td><td>129.220159843582</td><td>8.01529359750727</td><td>SDSSJ0837+0801</td><td>3/15/2015 2:22:48 PM</td><td>3/15/2015 2:55:27 PM</td><td>SDSSJ0837+0801</td></tr>\n",
       "<tr><td>91278717</td><td>129.26352367866</td><td>8.00726309120154</td><td>SDSSJ0837+0801</td><td>3/15/2015 2:22:48 PM</td><td>3/15/2015 3:07:16 PM</td><td>SDSSJ0837+0801</td></tr>\n",
       "<tr><td>13826624</td><td>129.220243560474</td><td>8.02967599177424</td><td>SDSSJ0837+0801</td><td>3/15/2015 2:22:48 PM</td><td>3/15/2015 3:07:16 PM</td><td>SDSSJ0837+0801</td></tr>\n",
       "<tr><td>83896184</td><td>129.23585123415</td><td>8.01090190965691</td><td>SDSSJ0837+0801</td><td>3/15/2015 2:22:48 PM</td><td>3/15/2015 3:07:16 PM</td><td>SDSSJ0837+0801</td></tr>\n",
       "<tr><td>44596403</td><td>129.260328018495</td><td>8.0205590128116</td><td>SDSSJ0837+0801</td><td>3/15/2015 2:22:48 PM</td><td>3/15/2015 3:07:16 PM</td><td>SDSSJ0837+0801</td></tr>\n",
       "<tr><td>86653487</td><td>129.225123210498</td><td>8.04593545356552</td><td>SDSSJ0837+0801</td><td>3/15/2015 2:22:48 PM</td><td>3/15/2015 2:55:27 PM</td><td>SDSSJ0837+0801</td></tr>\n",
       "</table>"
      ],
      "text/plain": [
       "<Table masked=True length=10>\n",
       " MatchID      MatchRA      ...       StopTime        TargetName1  \n",
       "  int64       float64      ...        object            object    \n",
       "--------- ---------------- ... -------------------- --------------\n",
       " 25932069 129.212736081141 ... 3/15/2015 3:07:16 PM SDSSJ0837+0801\n",
       " 76418113 129.226696203498 ... 3/15/2015 2:55:27 PM SDSSJ0837+0801\n",
       " 34720390 129.233422690338 ... 3/15/2015 3:07:16 PM SDSSJ0837+0801\n",
       " 56244222 129.221267748767 ... 3/15/2015 2:55:27 PM SDSSJ0837+0801\n",
       "105341376 129.220159843582 ... 3/15/2015 2:55:27 PM SDSSJ0837+0801\n",
       " 91278717  129.26352367866 ... 3/15/2015 3:07:16 PM SDSSJ0837+0801\n",
       " 13826624 129.220243560474 ... 3/15/2015 3:07:16 PM SDSSJ0837+0801\n",
       " 83896184  129.23585123415 ... 3/15/2015 3:07:16 PM SDSSJ0837+0801\n",
       " 44596403 129.260328018495 ... 3/15/2015 3:07:16 PM SDSSJ0837+0801\n",
       " 86653487 129.225123210498 ... 3/15/2015 2:55:27 PM SDSSJ0837+0801"
      ]
     },
     "execution_count": 5,
     "metadata": {},
     "output_type": "execute_result"
    }
   ],
   "source": [
    "job = HSC_service.launch_job(\"\"\"\n",
    "SELECT TOP 10 MatchID, MatchRA, MatchDec, TargetName, StartTime, StopTime, TargetName \n",
    "FROM dbo.SumMagAper2CatView\n",
    "WHERE \n",
    "CONTAINS(POINT('ICRS', MatchRA, MatchDec),CIRCLE('ICRS',129.23,7.95,0.1))=1\n",
    "AND StartTime > '2015-01-01' AND StopTime < '2015-04-01'\n",
    "\"\"\")\n",
    "HSC_results = job.get_results()\n",
    "HSC_results"
   ]
  },
  {
   "cell_type": "markdown",
   "metadata": {},
   "source": [
    "***\n",
    "### Use Case: Plotting a light curve for the most variable object in a field\n",
    "\n",
    "A use case example: search for objects with 10 or more ACS F475W magnitudes in a crowded field near IC 1613 (see <a href=\"http://archive.stsci.edu/hst/hsc/help/use_case_3_v2.html\">HSC Use Case 3</a>). Then get the individual A_F475W measurements for the most variable object in the list and plot the light curve. Note we are using asynchronous query mode for this example rather than synchronous, because it has a longer allowed timeout, which can be useful for large or complex queries."
   ]
  },
  {
   "cell_type": "code",
   "execution_count": 6,
   "metadata": {},
   "outputs": [
    {
     "ename": "ConnectionResetError",
     "evalue": "[Errno 104] Connection reset by peer",
     "output_type": "error",
     "traceback": [
      "\u001b[0;31m\u001b[0m",
      "\u001b[0;31mConnectionResetError\u001b[0mTraceback (most recent call last)",
      "\u001b[0;32m<ipython-input-6-d728b8b1a652>\u001b[0m in \u001b[0;36m<module>\u001b[0;34m\u001b[0m\n\u001b[1;32m      6\u001b[0m    \u001b[0mAND\u001b[0m\u001b[0;34m\u001b[0m\u001b[0;34m\u001b[0m\u001b[0m\n\u001b[1;32m      7\u001b[0m    \u001b[0mCONTAINS\u001b[0m\u001b[0;34m(\u001b[0m\u001b[0mPOINT\u001b[0m\u001b[0;34m(\u001b[0m\u001b[0;34m'ICRS'\u001b[0m\u001b[0;34m,\u001b[0m \u001b[0mMatchRA\u001b[0m\u001b[0;34m,\u001b[0m \u001b[0mMatchDec\u001b[0m\u001b[0;34m)\u001b[0m\u001b[0;34m,\u001b[0m\u001b[0mCIRCLE\u001b[0m\u001b[0;34m(\u001b[0m\u001b[0;34m'ICRS'\u001b[0m\u001b[0;34m,\u001b[0m\u001b[0;36m16.117562\u001b[0m\u001b[0;34m,\u001b[0m\u001b[0;36m2.162183\u001b[0m\u001b[0;34m,\u001b[0m\u001b[0;36m0.1\u001b[0m\u001b[0;34m)\u001b[0m\u001b[0;34m)\u001b[0m\u001b[0;34m=\u001b[0m\u001b[0;36m1\u001b[0m\u001b[0;34m\u001b[0m\u001b[0;34m\u001b[0m\u001b[0m\n\u001b[0;32m----> 8\u001b[0;31m    \"\"\")\n\u001b[0m\u001b[1;32m      9\u001b[0m \u001b[0mHSC_results\u001b[0m \u001b[0;34m=\u001b[0m \u001b[0mjob\u001b[0m\u001b[0;34m.\u001b[0m\u001b[0mget_results\u001b[0m\u001b[0;34m(\u001b[0m\u001b[0;34m)\u001b[0m\u001b[0;34m\u001b[0m\u001b[0;34m\u001b[0m\u001b[0m\n\u001b[1;32m     10\u001b[0m \u001b[0mHSC_results\u001b[0m\u001b[0;34m\u001b[0m\u001b[0;34m\u001b[0m\u001b[0m\n",
      "\u001b[0;32m/opt/conda/envs/notebooks_env/lib/python3.6/site-packages/astroquery/utils/tap/core.py\u001b[0m in \u001b[0;36mlaunch_job_async\u001b[0;34m(self, query, name, output_file, output_format, verbose, dump_to_file, background, upload_resource, upload_table_name)\u001b[0m\n\u001b[1;32m    336\u001b[0m                     \u001b[0mjob\u001b[0m\u001b[0;34m.\u001b[0m\u001b[0msave_results\u001b[0m\u001b[0;34m(\u001b[0m\u001b[0mverbose\u001b[0m\u001b[0;34m)\u001b[0m\u001b[0;34m\u001b[0m\u001b[0;34m\u001b[0m\u001b[0m\n\u001b[1;32m    337\u001b[0m                 \u001b[0;32melse\u001b[0m\u001b[0;34m:\u001b[0m\u001b[0;34m\u001b[0m\u001b[0;34m\u001b[0m\u001b[0m\n\u001b[0;32m--> 338\u001b[0;31m                     \u001b[0mjob\u001b[0m\u001b[0;34m.\u001b[0m\u001b[0mget_results\u001b[0m\u001b[0;34m(\u001b[0m\u001b[0;34m)\u001b[0m\u001b[0;34m\u001b[0m\u001b[0;34m\u001b[0m\u001b[0m\n\u001b[0m\u001b[1;32m    339\u001b[0m                     \u001b[0mprint\u001b[0m\u001b[0;34m(\u001b[0m\u001b[0;34m\"Query finished.\"\u001b[0m\u001b[0;34m)\u001b[0m\u001b[0;34m\u001b[0m\u001b[0;34m\u001b[0m\u001b[0m\n\u001b[1;32m    340\u001b[0m         \u001b[0;32mreturn\u001b[0m \u001b[0mjob\u001b[0m\u001b[0;34m\u001b[0m\u001b[0;34m\u001b[0m\u001b[0m\n",
      "\u001b[0;32m/opt/conda/envs/notebooks_env/lib/python3.6/site-packages/astroquery/utils/tap/model/job.py\u001b[0m in \u001b[0;36mget_results\u001b[0;34m(self)\u001b[0m\n\u001b[1;32m    145\u001b[0m         \u001b[0;32melse\u001b[0m\u001b[0;34m:\u001b[0m\u001b[0;34m\u001b[0m\u001b[0;34m\u001b[0m\u001b[0m\n\u001b[1;32m    146\u001b[0m             \u001b[0;31m# async: result is in the server once the job is finished\u001b[0m\u001b[0;34m\u001b[0m\u001b[0;34m\u001b[0m\u001b[0;34m\u001b[0m\u001b[0m\n\u001b[0;32m--> 147\u001b[0;31m             \u001b[0mself\u001b[0m\u001b[0;34m.\u001b[0m\u001b[0m__load_async_job_results\u001b[0m\u001b[0;34m(\u001b[0m\u001b[0;34m)\u001b[0m\u001b[0;34m\u001b[0m\u001b[0;34m\u001b[0m\u001b[0m\n\u001b[0m\u001b[1;32m    148\u001b[0m             \u001b[0;32mreturn\u001b[0m \u001b[0mself\u001b[0m\u001b[0;34m.\u001b[0m\u001b[0mresults\u001b[0m\u001b[0;34m\u001b[0m\u001b[0;34m\u001b[0m\u001b[0m\n\u001b[1;32m    149\u001b[0m \u001b[0;34m\u001b[0m\u001b[0m\n",
      "\u001b[0;32m/opt/conda/envs/notebooks_env/lib/python3.6/site-packages/astroquery/utils/tap/model/job.py\u001b[0m in \u001b[0;36m__load_async_job_results\u001b[0;34m(self, debug)\u001b[0m\n\u001b[1;32m    217\u001b[0m \u001b[0;34m\u001b[0m\u001b[0m\n\u001b[1;32m    218\u001b[0m     \u001b[0;32mdef\u001b[0m \u001b[0m__load_async_job_results\u001b[0m\u001b[0;34m(\u001b[0m\u001b[0mself\u001b[0m\u001b[0;34m,\u001b[0m \u001b[0mdebug\u001b[0m\u001b[0;34m=\u001b[0m\u001b[0;32mFalse\u001b[0m\u001b[0;34m)\u001b[0m\u001b[0;34m:\u001b[0m\u001b[0;34m\u001b[0m\u001b[0;34m\u001b[0m\u001b[0m\n\u001b[0;32m--> 219\u001b[0;31m         \u001b[0mwjResponse\u001b[0m\u001b[0;34m,\u001b[0m \u001b[0mwjData\u001b[0m \u001b[0;34m=\u001b[0m \u001b[0mself\u001b[0m\u001b[0;34m.\u001b[0m\u001b[0mwait_for_job_end\u001b[0m\u001b[0;34m(\u001b[0m\u001b[0;34m)\u001b[0m\u001b[0;34m\u001b[0m\u001b[0;34m\u001b[0m\u001b[0m\n\u001b[0m\u001b[1;32m    220\u001b[0m         \u001b[0msubContext\u001b[0m \u001b[0;34m=\u001b[0m \u001b[0;34m\"async/\"\u001b[0m \u001b[0;34m+\u001b[0m \u001b[0mstr\u001b[0m\u001b[0;34m(\u001b[0m\u001b[0mself\u001b[0m\u001b[0;34m.\u001b[0m\u001b[0mjobid\u001b[0m\u001b[0;34m)\u001b[0m \u001b[0;34m+\u001b[0m \u001b[0;34m\"/results/result\"\u001b[0m\u001b[0;34m\u001b[0m\u001b[0;34m\u001b[0m\u001b[0m\n\u001b[1;32m    221\u001b[0m         \u001b[0mresultsResponse\u001b[0m \u001b[0;34m=\u001b[0m \u001b[0mself\u001b[0m\u001b[0;34m.\u001b[0m\u001b[0mconnHandler\u001b[0m\u001b[0;34m.\u001b[0m\u001b[0mexecute_get\u001b[0m\u001b[0;34m(\u001b[0m\u001b[0msubContext\u001b[0m\u001b[0;34m)\u001b[0m\u001b[0;34m\u001b[0m\u001b[0;34m\u001b[0m\u001b[0m\n",
      "\u001b[0;32m/opt/conda/envs/notebooks_env/lib/python3.6/site-packages/astroquery/utils/tap/model/job.py\u001b[0m in \u001b[0;36mwait_for_job_end\u001b[0;34m(self, verbose)\u001b[0m\n\u001b[1;32m    203\u001b[0m         \u001b[0mresponseData\u001b[0m \u001b[0;34m=\u001b[0m \u001b[0;32mNone\u001b[0m\u001b[0;34m\u001b[0m\u001b[0;34m\u001b[0m\u001b[0m\n\u001b[1;32m    204\u001b[0m         \u001b[0;32mwhile\u001b[0m \u001b[0;32mTrue\u001b[0m\u001b[0;34m:\u001b[0m\u001b[0;34m\u001b[0m\u001b[0;34m\u001b[0m\u001b[0m\n\u001b[0;32m--> 205\u001b[0;31m             \u001b[0mresponseData\u001b[0m \u001b[0;34m=\u001b[0m \u001b[0mself\u001b[0m\u001b[0;34m.\u001b[0m\u001b[0mget_phase\u001b[0m\u001b[0;34m(\u001b[0m\u001b[0mupdate\u001b[0m\u001b[0;34m=\u001b[0m\u001b[0;32mTrue\u001b[0m\u001b[0;34m)\u001b[0m\u001b[0;34m\u001b[0m\u001b[0;34m\u001b[0m\u001b[0m\n\u001b[0m\u001b[1;32m    206\u001b[0m             \u001b[0mcurrentResponse\u001b[0m \u001b[0;34m=\u001b[0m \u001b[0mself\u001b[0m\u001b[0;34m.\u001b[0m\u001b[0m__last_phase_response_status\u001b[0m\u001b[0;34m\u001b[0m\u001b[0;34m\u001b[0m\u001b[0m\n\u001b[1;32m    207\u001b[0m \u001b[0;34m\u001b[0m\u001b[0m\n",
      "\u001b[0;32m/opt/conda/envs/notebooks_env/lib/python3.6/site-packages/astroquery/utils/tap/model/job.py\u001b[0m in \u001b[0;36mget_phase\u001b[0;34m(self, update)\u001b[0m\n\u001b[1;32m     86\u001b[0m         \u001b[0;32mif\u001b[0m \u001b[0mupdate\u001b[0m\u001b[0;34m:\u001b[0m\u001b[0;34m\u001b[0m\u001b[0;34m\u001b[0m\u001b[0m\n\u001b[1;32m     87\u001b[0m             \u001b[0mphase_request\u001b[0m \u001b[0;34m=\u001b[0m \u001b[0;34m\"async/\"\u001b[0m\u001b[0;34m+\u001b[0m\u001b[0mstr\u001b[0m\u001b[0;34m(\u001b[0m\u001b[0mself\u001b[0m\u001b[0;34m.\u001b[0m\u001b[0mjobid\u001b[0m\u001b[0;34m)\u001b[0m\u001b[0;34m+\u001b[0m\u001b[0;34m\"/phase\"\u001b[0m\u001b[0;34m\u001b[0m\u001b[0;34m\u001b[0m\u001b[0m\n\u001b[0;32m---> 88\u001b[0;31m             \u001b[0mresponse\u001b[0m \u001b[0;34m=\u001b[0m \u001b[0mself\u001b[0m\u001b[0;34m.\u001b[0m\u001b[0mconnHandler\u001b[0m\u001b[0;34m.\u001b[0m\u001b[0mexecute_get\u001b[0m\u001b[0;34m(\u001b[0m\u001b[0mphase_request\u001b[0m\u001b[0;34m)\u001b[0m\u001b[0;34m\u001b[0m\u001b[0;34m\u001b[0m\u001b[0m\n\u001b[0m\u001b[1;32m     89\u001b[0m \u001b[0;34m\u001b[0m\u001b[0m\n\u001b[1;32m     90\u001b[0m             \u001b[0mself\u001b[0m\u001b[0;34m.\u001b[0m\u001b[0m__last_phase_response_status\u001b[0m \u001b[0;34m=\u001b[0m \u001b[0mresponse\u001b[0m\u001b[0;34m.\u001b[0m\u001b[0mstatus\u001b[0m\u001b[0;34m\u001b[0m\u001b[0;34m\u001b[0m\u001b[0m\n",
      "\u001b[0;32m/opt/conda/envs/notebooks_env/lib/python3.6/site-packages/astroquery/utils/tap/conn/tapconn.py\u001b[0m in \u001b[0;36mexecute_get\u001b[0;34m(self, subcontext, verbose)\u001b[0m\n\u001b[1;32m    133\u001b[0m         \u001b[0mcontext\u001b[0m \u001b[0;34m=\u001b[0m \u001b[0mself\u001b[0m\u001b[0;34m.\u001b[0m\u001b[0m__get_tap_context\u001b[0m\u001b[0;34m(\u001b[0m\u001b[0msubcontext\u001b[0m\u001b[0;34m)\u001b[0m\u001b[0;34m\u001b[0m\u001b[0;34m\u001b[0m\u001b[0m\n\u001b[1;32m    134\u001b[0m         \u001b[0mconn\u001b[0m\u001b[0;34m.\u001b[0m\u001b[0mrequest\u001b[0m\u001b[0;34m(\u001b[0m\u001b[0;34m\"GET\"\u001b[0m\u001b[0;34m,\u001b[0m \u001b[0mcontext\u001b[0m\u001b[0;34m,\u001b[0m \u001b[0;32mNone\u001b[0m\u001b[0;34m,\u001b[0m \u001b[0mself\u001b[0m\u001b[0;34m.\u001b[0m\u001b[0m__getHeaders\u001b[0m\u001b[0;34m)\u001b[0m\u001b[0;34m\u001b[0m\u001b[0;34m\u001b[0m\u001b[0m\n\u001b[0;32m--> 135\u001b[0;31m         \u001b[0mresponse\u001b[0m \u001b[0;34m=\u001b[0m \u001b[0mconn\u001b[0m\u001b[0;34m.\u001b[0m\u001b[0mgetresponse\u001b[0m\u001b[0;34m(\u001b[0m\u001b[0;34m)\u001b[0m\u001b[0;34m\u001b[0m\u001b[0;34m\u001b[0m\u001b[0m\n\u001b[0m\u001b[1;32m    136\u001b[0m         \u001b[0mself\u001b[0m\u001b[0;34m.\u001b[0m\u001b[0m__currentReason\u001b[0m \u001b[0;34m=\u001b[0m \u001b[0mresponse\u001b[0m\u001b[0;34m.\u001b[0m\u001b[0mreason\u001b[0m\u001b[0;34m\u001b[0m\u001b[0;34m\u001b[0m\u001b[0m\n\u001b[1;32m    137\u001b[0m         \u001b[0mself\u001b[0m\u001b[0;34m.\u001b[0m\u001b[0m__currentStatus\u001b[0m \u001b[0;34m=\u001b[0m \u001b[0mresponse\u001b[0m\u001b[0;34m.\u001b[0m\u001b[0mstatus\u001b[0m\u001b[0;34m\u001b[0m\u001b[0;34m\u001b[0m\u001b[0m\n",
      "\u001b[0;32m/opt/conda/envs/notebooks_env/lib/python3.6/http/client.py\u001b[0m in \u001b[0;36mgetresponse\u001b[0;34m(self)\u001b[0m\n\u001b[1;32m   1329\u001b[0m         \u001b[0;32mtry\u001b[0m\u001b[0;34m:\u001b[0m\u001b[0;34m\u001b[0m\u001b[0;34m\u001b[0m\u001b[0m\n\u001b[1;32m   1330\u001b[0m             \u001b[0;32mtry\u001b[0m\u001b[0;34m:\u001b[0m\u001b[0;34m\u001b[0m\u001b[0;34m\u001b[0m\u001b[0m\n\u001b[0;32m-> 1331\u001b[0;31m                 \u001b[0mresponse\u001b[0m\u001b[0;34m.\u001b[0m\u001b[0mbegin\u001b[0m\u001b[0;34m(\u001b[0m\u001b[0;34m)\u001b[0m\u001b[0;34m\u001b[0m\u001b[0;34m\u001b[0m\u001b[0m\n\u001b[0m\u001b[1;32m   1332\u001b[0m             \u001b[0;32mexcept\u001b[0m \u001b[0mConnectionError\u001b[0m\u001b[0;34m:\u001b[0m\u001b[0;34m\u001b[0m\u001b[0;34m\u001b[0m\u001b[0m\n\u001b[1;32m   1333\u001b[0m                 \u001b[0mself\u001b[0m\u001b[0;34m.\u001b[0m\u001b[0mclose\u001b[0m\u001b[0;34m(\u001b[0m\u001b[0;34m)\u001b[0m\u001b[0;34m\u001b[0m\u001b[0;34m\u001b[0m\u001b[0m\n",
      "\u001b[0;32m/opt/conda/envs/notebooks_env/lib/python3.6/http/client.py\u001b[0m in \u001b[0;36mbegin\u001b[0;34m(self)\u001b[0m\n\u001b[1;32m    295\u001b[0m         \u001b[0;31m# read until we get a non-100 response\u001b[0m\u001b[0;34m\u001b[0m\u001b[0;34m\u001b[0m\u001b[0;34m\u001b[0m\u001b[0m\n\u001b[1;32m    296\u001b[0m         \u001b[0;32mwhile\u001b[0m \u001b[0;32mTrue\u001b[0m\u001b[0;34m:\u001b[0m\u001b[0;34m\u001b[0m\u001b[0;34m\u001b[0m\u001b[0m\n\u001b[0;32m--> 297\u001b[0;31m             \u001b[0mversion\u001b[0m\u001b[0;34m,\u001b[0m \u001b[0mstatus\u001b[0m\u001b[0;34m,\u001b[0m \u001b[0mreason\u001b[0m \u001b[0;34m=\u001b[0m \u001b[0mself\u001b[0m\u001b[0;34m.\u001b[0m\u001b[0m_read_status\u001b[0m\u001b[0;34m(\u001b[0m\u001b[0;34m)\u001b[0m\u001b[0;34m\u001b[0m\u001b[0;34m\u001b[0m\u001b[0m\n\u001b[0m\u001b[1;32m    298\u001b[0m             \u001b[0;32mif\u001b[0m \u001b[0mstatus\u001b[0m \u001b[0;34m!=\u001b[0m \u001b[0mCONTINUE\u001b[0m\u001b[0;34m:\u001b[0m\u001b[0;34m\u001b[0m\u001b[0;34m\u001b[0m\u001b[0m\n\u001b[1;32m    299\u001b[0m                 \u001b[0;32mbreak\u001b[0m\u001b[0;34m\u001b[0m\u001b[0;34m\u001b[0m\u001b[0m\n",
      "\u001b[0;32m/opt/conda/envs/notebooks_env/lib/python3.6/http/client.py\u001b[0m in \u001b[0;36m_read_status\u001b[0;34m(self)\u001b[0m\n\u001b[1;32m    256\u001b[0m \u001b[0;34m\u001b[0m\u001b[0m\n\u001b[1;32m    257\u001b[0m     \u001b[0;32mdef\u001b[0m \u001b[0m_read_status\u001b[0m\u001b[0;34m(\u001b[0m\u001b[0mself\u001b[0m\u001b[0;34m)\u001b[0m\u001b[0;34m:\u001b[0m\u001b[0;34m\u001b[0m\u001b[0;34m\u001b[0m\u001b[0m\n\u001b[0;32m--> 258\u001b[0;31m         \u001b[0mline\u001b[0m \u001b[0;34m=\u001b[0m \u001b[0mstr\u001b[0m\u001b[0;34m(\u001b[0m\u001b[0mself\u001b[0m\u001b[0;34m.\u001b[0m\u001b[0mfp\u001b[0m\u001b[0;34m.\u001b[0m\u001b[0mreadline\u001b[0m\u001b[0;34m(\u001b[0m\u001b[0m_MAXLINE\u001b[0m \u001b[0;34m+\u001b[0m \u001b[0;36m1\u001b[0m\u001b[0;34m)\u001b[0m\u001b[0;34m,\u001b[0m \u001b[0;34m\"iso-8859-1\"\u001b[0m\u001b[0;34m)\u001b[0m\u001b[0;34m\u001b[0m\u001b[0;34m\u001b[0m\u001b[0m\n\u001b[0m\u001b[1;32m    259\u001b[0m         \u001b[0;32mif\u001b[0m \u001b[0mlen\u001b[0m\u001b[0;34m(\u001b[0m\u001b[0mline\u001b[0m\u001b[0;34m)\u001b[0m \u001b[0;34m>\u001b[0m \u001b[0m_MAXLINE\u001b[0m\u001b[0;34m:\u001b[0m\u001b[0;34m\u001b[0m\u001b[0;34m\u001b[0m\u001b[0m\n\u001b[1;32m    260\u001b[0m             \u001b[0;32mraise\u001b[0m \u001b[0mLineTooLong\u001b[0m\u001b[0;34m(\u001b[0m\u001b[0;34m\"status line\"\u001b[0m\u001b[0;34m)\u001b[0m\u001b[0;34m\u001b[0m\u001b[0;34m\u001b[0m\u001b[0m\n",
      "\u001b[0;32m/opt/conda/envs/notebooks_env/lib/python3.6/socket.py\u001b[0m in \u001b[0;36mreadinto\u001b[0;34m(self, b)\u001b[0m\n\u001b[1;32m    584\u001b[0m         \u001b[0;32mwhile\u001b[0m \u001b[0;32mTrue\u001b[0m\u001b[0;34m:\u001b[0m\u001b[0;34m\u001b[0m\u001b[0;34m\u001b[0m\u001b[0m\n\u001b[1;32m    585\u001b[0m             \u001b[0;32mtry\u001b[0m\u001b[0;34m:\u001b[0m\u001b[0;34m\u001b[0m\u001b[0;34m\u001b[0m\u001b[0m\n\u001b[0;32m--> 586\u001b[0;31m                 \u001b[0;32mreturn\u001b[0m \u001b[0mself\u001b[0m\u001b[0;34m.\u001b[0m\u001b[0m_sock\u001b[0m\u001b[0;34m.\u001b[0m\u001b[0mrecv_into\u001b[0m\u001b[0;34m(\u001b[0m\u001b[0mb\u001b[0m\u001b[0;34m)\u001b[0m\u001b[0;34m\u001b[0m\u001b[0;34m\u001b[0m\u001b[0m\n\u001b[0m\u001b[1;32m    587\u001b[0m             \u001b[0;32mexcept\u001b[0m \u001b[0mtimeout\u001b[0m\u001b[0;34m:\u001b[0m\u001b[0;34m\u001b[0m\u001b[0;34m\u001b[0m\u001b[0m\n\u001b[1;32m    588\u001b[0m                 \u001b[0mself\u001b[0m\u001b[0;34m.\u001b[0m\u001b[0m_timeout_occurred\u001b[0m \u001b[0;34m=\u001b[0m \u001b[0;32mTrue\u001b[0m\u001b[0;34m\u001b[0m\u001b[0;34m\u001b[0m\u001b[0m\n",
      "\u001b[0;31mConnectionResetError\u001b[0m: [Errno 104] Connection reset by peer"
     ]
    }
   ],
   "source": [
    "job = HSC_service.launch_job_async(\"\"\"\n",
    "SELECT MatchID, MatchRA, MatchDec, TargetName, NumImages, NumVisits, A_F475W, A_F475W_MAD, A_F475W_N\n",
    "FROM dbo.SumMagAper2CatView\n",
    "WHERE \n",
    "   A_F475W_N >= 10\n",
    "   AND\n",
    "   CONTAINS(POINT('ICRS', MatchRA, MatchDec),CIRCLE('ICRS',16.117562,2.162183,0.1))=1\n",
    "   \"\"\")\n",
    "HSC_results = job.get_results()\n",
    "HSC_results\n",
    "\n",
    "plt.rcParams.update({'font.size': 16})\n",
    "plt.figure(1,(10,6))\n",
    "plt.scatter(HSC_results['A_F475W'], HSC_results['A_F475W_MAD'])\n",
    "plt.xlabel('A_F475W')\n",
    "plt.ylabel('A_F475W_MAD')"
   ]
  },
  {
   "cell_type": "code",
   "execution_count": null,
   "metadata": {},
   "outputs": [],
   "source": [
    "madvalues = HSC_results['A_F475W_MAD']\n",
    "i = np.argmax(madvalues)\n",
    "print()\n",
    "print(HSC_results[i])\n",
    "\n",
    "matchid = HSC_results['MatchID'][i]\n",
    "job = HSC_service.launch_job_async(\"\"\"\n",
    "SELECT SourceID, ImageID, SourceRA, SourceDec, D, Filter, Detector, MagAper2, StartMJD\n",
    "FROM dbo.DetailedCatalog\n",
    "WHERE \n",
    "   MatchID={}\n",
    "   AND Detector='ACS/WFC' AND Filter='F475W' AND Det='Y'\n",
    "ORDER BY StartMJD\n",
    "\"\"\".format(matchid))\n",
    "HSC_details = job.get_results()\n",
    "HSC_details\n",
    "\n",
    "plt.rcParams.update({'font.size': 16})\n",
    "plt.figure(1,(10,6))\n",
    "plt.scatter(HSC_details['StartMJD'], HSC_details['MagAper2'])\n",
    "plt.xlabel('MJD')\n",
    "plt.ylabel('A_F475W')"
   ]
  },
  {
   "cell_type": "markdown",
   "metadata": {},
   "source": [
    "***\n",
    "### Use Case: Create a color magnitude diagram for the Small Magellanic Cloud\n",
    "\n",
    "For another example of using data from a TAP service, we start by doing a search around the SMC with a .25 degree radius for objects with ACS F555W and F814W measurements. HSC TAP will limit us to 100k responses by default. Note this is a large query that can take over a minute to run. See <a href=\"http://archive.stsci.edu/hst/hsc/help/use_case_2_v3.html\" target=\"_blank\">HSC Use Case 2</a> for more details."
   ]
  },
  {
   "cell_type": "code",
   "execution_count": null,
   "metadata": {},
   "outputs": [],
   "source": [
    "t0 = time.time()\n",
    "\n",
    "job = HSC_service.launch_job_async(\"\"\"\n",
    "SELECT MatchID, MatchRA, MatchDec, CI, A_F555W, A_F814W\n",
    "FROM dbo.SumMagAper2CatView\n",
    "WHERE A_F555W_N > 0 and A_F814W_N > 0\n",
    "    AND CONTAINS(POINT('ICRS', MatchRA, MatchDec),CIRCLE('ICRS',13.1866,-72.8286,0.25))=1\n",
    "   \"\"\")\n",
    "HSC_results = job.get_results()\n",
    "print(\"Query completed in {:.1f} sec\".format(time.time()-t0))\n",
    "HSC_results"
   ]
  },
  {
   "cell_type": "markdown",
   "metadata": {},
   "source": [
    "Next, plot the color-magnitude diagram for the ~100k points retrieved from the database. This uses kernel density estimate for the crowded plot. As a preview for the demo, we are only working with 1/25th of the data so that the notebook executes quickly. You can switch the commented-out lines to call gaussian_kde for the full plot, which can take a few minutes to complete."
   ]
  },
  {
   "cell_type": "code",
   "execution_count": null,
   "metadata": {},
   "outputs": [],
   "source": [
    "f555w = HSC_results['A_F555W']\n",
    "f814w = HSC_results['A_F814W']\n",
    "VminusI = f555w-f814w\n",
    "CI = HSC_results['CI']\n",
    "w = np.where((CI>0.9) & (CI<1.6) & (VminusI > -1.5) & (VminusI < 1.5))\n",
    "print(len(w[0]),\"points remaining after CI and V-I filtering\")\n",
    "\n",
    "# Calculate the point density\n",
    "x = np.array(VminusI[w])\n",
    "y = np.array(f555w[w])\n",
    "xy = np.vstack([x,y])\n",
    "\n",
    "t0 = time.time()\n",
    "\n",
    "z = gaussian_kde(xy[:, ::25])(xy) #to do the KDE on only the full dataset, comment out this and uncomment below:\n",
    "#z = gaussian_kde(xy)(xy) #uncomment this line to do the KDE on the full dataset\n",
    "\n",
    "print(\"kde took {:.1f} sec\".format(time.time()-t0))"
   ]
  },
  {
   "cell_type": "code",
   "execution_count": null,
   "metadata": {
    "collapsed": true
   },
   "outputs": [],
   "source": [
    "# Sort the points by density, so that the densest points are plotted last\n",
    "idx = z.argsort()\n",
    "x, y, z = x[idx], y[idx], z[idx]\n",
    "\n",
    "plt.rcParams.update({'font.size': 16})\n",
    "plt.figure(1,(12,10))\n",
    "plt.scatter(x, y, c=z, s=2, edgecolor='', cmap='plasma')\n",
    "plt.autoscale(tight=True)\n",
    "plt.xlabel('V-I')\n",
    "plt.ylabel('V')\n",
    "plt.gca().invert_yaxis()\n",
    "plt.colorbar()\n",
    "plt.text(.17,.93,'{:d} stars in SMC'.format(len(x)),\n",
    "       horizontalalignment='center',\n",
    "       transform=plt.gca().transAxes)\n",
    "#plt.savefig(\"smc_colormag.png\")"
   ]
  },
  {
   "cell_type": "markdown",
   "metadata": {
    "collapsed": true
   },
   "source": [
    "***\n",
    "# Additional Resources\n",
    "\n",
    "\n",
    "## Table Access Protocol \n",
    "* IVOA standard for RESTful web service access to tabular data\n",
    "* http://www.ivoa.net/documents/TAP/\n",
    "\n",
    "## Hubble Source Catalog v3\n",
    "* Catalog created at MAST by combining the tens of thousands of visit-based source lists in the Hubble Legacy Archive (HLA) into a single master catalog. \n",
    "* https://archive.stsci.edu/hst/hsc/\n",
    "\n",
    "## Astronomical Query Data Language (2.0)\n",
    "* IVOA standard for querying astronomical data in tabular format, with geometric search support\n",
    "* http://www.ivoa.net/documents/latest/ADQL.html\n",
    "\n",
    "## TapPlus \n",
    "* Module created by ESAC Space Data Centre\n",
    "* http://astroquery.readthedocs.io/en/latest/utils/tap.html"
   ]
  },
  {
   "cell_type": "markdown",
   "metadata": {},
   "source": [
    "***"
   ]
  },
  {
   "cell_type": "markdown",
   "metadata": {},
   "source": [
    "## About this Notebook\n",
    "**Authors:** Rick White & Theresa Dower, STScI Archive Scientist & Software Engineer\n",
    "**Updated On:** 11/23/2018"
   ]
  },
  {
   "cell_type": "markdown",
   "metadata": {},
   "source": [
    "***"
   ]
  },
  {
   "cell_type": "markdown",
   "metadata": {},
   "source": [
    "<img style=\"float: right;\" src=\"https://raw.githubusercontent.com/spacetelescope/notebooks/master/assets/stsci_pri_combo_mark_horizonal_white_bkgd.png\" alt=\"STScI logo\" width=\"200px\"/> "
   ]
  }
 ],
 "metadata": {
  "kernelspec": {
   "display_name": "Python 3",
   "language": "python",
   "name": "python3"
  },
  "language_info": {
   "codemirror_mode": {
    "name": "ipython",
    "version": 3
   },
   "file_extension": ".py",
   "mimetype": "text/x-python",
   "name": "python",
   "nbconvert_exporter": "python",
   "pygments_lexer": "ipython3",
   "version": "3.6.1"
  },
  "widgets": {
   "state": {},
   "version": "1.1.2"
  }
 },
 "nbformat": 4,
 "nbformat_minor": 1
}
