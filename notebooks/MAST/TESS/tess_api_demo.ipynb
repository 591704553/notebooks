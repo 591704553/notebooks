{
 "cells": [
  {
   "cell_type": "code",
   "execution_count": null,
   "metadata": {},
   "outputs": [],
   "source": [
    "# Do some imports.\n",
    "from astroquery.mast import Observations\n",
    "import numpy"
   ]
  },
  {
   "cell_type": "code",
   "execution_count": null,
   "metadata": {},
   "outputs": [],
   "source": [
    "# Let's get every time series observation available at MAST within 0.2 degrees of M67.\n",
    "search_result = Observations.query_criteria(objectname=\"M67\", dataproduct_type=[\"timeseries\"], radius=\"0.2 deg\")\n",
    "# The return result is a Table containing the metadata you see when doing a MAST Portal search: coordinates, timestamps,\n",
    "# filters, target name, mission/project, etc.\n",
    "print(search_result.columns)"
   ]
  },
  {
   "cell_type": "code",
   "execution_count": null,
   "metadata": {},
   "outputs": [],
   "source": [
    "# How many observations did we get?\n",
    "print(len(search_result))"
   ]
  },
  {
   "cell_type": "code",
   "execution_count": null,
   "metadata": {},
   "outputs": [],
   "source": [
    "# Did these all come from the K2 mission?  Answer: no!  High Level Science Products too!\n",
    "print(set(search_result['project']))"
   ]
  },
  {
   "cell_type": "code",
   "execution_count": null,
   "metadata": {},
   "outputs": [],
   "source": [
    "# Let's get a list of all the K2 IDs.  NOTE:  K2 mission-produced products always have \"project\" = \"K2\".\n",
    "where_k2_mission = numpy.where(search_result['project'] == 'K2')[0]\n",
    "print(search_result['target_name'][where_k2_mission][0:5])"
   ]
  },
  {
   "cell_type": "code",
   "execution_count": null,
   "metadata": {},
   "outputs": [],
   "source": [
    "# I just want the actual ID numbers, so make a numpy array stripping away the \"ktwo\" prefix.\n",
    "k2_ids = numpy.asarray(\n",
    "        [x.strip('ktwo') for x in search_result['target_name'][where_k2_mission]]\n",
    "    )\n",
    "print(k2_ids)"
   ]
  },
  {
   "cell_type": "code",
   "execution_count": null,
   "metadata": {},
   "outputs": [],
   "source": [
    "# Now we will loop over each K2 ID and download the light curves if and only if there is a LC from the mission\n",
    "# AND all four of the HLSP teams.\n",
    "for k2id in k2_ids:\n",
    "        where_k2id = numpy.where(search_result['target_name'] == 'ktwo' + k2id)[0]\n",
    "        # Does this have a POLAR light curve?\n",
    "        where_polar = numpy.where(search_result['target_name'] == 'polar' + k2id)[0]\n",
    "        n_polar = len(where_polar)\n",
    "        # Does this have a K2SFF light curve?\n",
    "        where_k2sff = numpy.where(search_result['target_name'] == 'k2sff' + k2id)[0]\n",
    "        n_k2sff = len(where_k2sff)\n",
    "        # Does this have an EVEREST light curve?\n",
    "        where_everest = numpy.where(search_result['target_name'] == 'everest' + k2id)[0]\n",
    "        n_everest = len(where_everest)\n",
    "        # Does this have a K2SC light curve?\n",
    "        where_k2sc = numpy.where(search_result['target_name'] == 'k2sc' + k2id)[0]\n",
    "        n_k2sc = len(where_k2sc)\n",
    "        if n_polar == 1 and n_k2sff == 1 and n_everest == 1 and n_k2sc == 1:\n",
    "                print(\"K2 ID \" + k2id + \" - All five light curves found!\")\n",
    "                Observations.download_products(search_result['obsid'][where_k2id])\n",
    "                Observations.download_products(search_result['obsid'][where_polar])\n",
    "                Observations.download_products(search_result['obsid'][where_k2sff])\n",
    "                Observations.download_products(search_result['obsid'][where_everest])\n",
    "                Observations.download_products(search_result['obsid'][where_k2sc])\n",
    "\n",
    "# Note: here I am downloading one observation at a time using the \"obsid\", but download_products can also accept\n",
    "# a list of obsid's, or even an entire Table of data products, so I could do the download step in a single line\n",
    "# if I wanted.  Note also that if you add a \"curl_flag = True\" to the download_products() call, it will create a\n",
    "# curl shell script you can execute later, if you don't want to actually download the files right away.\n",
    "                "
   ]
  },
  {
   "cell_type": "code",
   "execution_count": null,
   "metadata": {},
   "outputs": [],
   "source": []
  }
 ],
 "metadata": {
  "kernelspec": {
   "display_name": "Python 3",
   "language": "python",
   "name": "python3"
  },
  "language_info": {
   "codemirror_mode": {
    "name": "ipython",
    "version": 3
   },
   "file_extension": ".py",
   "mimetype": "text/x-python",
   "name": "python",
   "nbconvert_exporter": "python",
   "pygments_lexer": "ipython3",
   "version": "3.6.4"
  }
 },
 "nbformat": 4,
 "nbformat_minor": 2
}
