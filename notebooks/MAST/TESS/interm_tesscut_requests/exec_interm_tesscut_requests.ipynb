{
 "cells": [
  {
   "cell_type": "markdown",
   "metadata": {},
   "source": [
    "<a id=\"title_ID\"></a>\n",
    "# Intermediate: Create TESS FFI Cutout using Python Requests\n",
    "\n",
    "This notebook shows the user how to use the MAST programmatic interface to create a cutout of a small section of the TESS FFIs. For this example we will determine the RA and Dec for TIC ID = 261136679, Pi Mensae. We then perform a query to determine which sectors contain this RA and Dec, peform a cutout of the FFI timeseries, open the resulting target pixel files, and plot the first image. \n",
    "\n",
    "This tutorial shows the users how to do the following: use astroquery.catalogs to query the TIC, use the python requests module to query the available sectors, and use python requests to obtain an FFI cutout with astrocut.\n",
    "\n",
    "The online version of Tesscut, as well as links to the documentation can be found here, https://mast.stsci.edu/tesscut/.\n",
    "\n",
    "\n",
    "### Table of Contents \n",
    "  [Astroquery Search of the TIC](#catalog_ID) <br> \n",
    "  [Request a FFI Cutout](#tesscut_ID) <br>\n",
    "  [Additional Resources](#resources_ID) <br> \n",
    "  [About this Notebook](#about_ID) "
   ]
  },
  {
   "cell_type": "markdown",
   "metadata": {},
   "source": [
    "***"
   ]
  },
  {
   "cell_type": "markdown",
   "metadata": {},
   "source": [
    "## Import Statements\n",
    "<a id=\"imports_ID\"></a>\n",
    "\n",
    "We start with a few import statements.\n",
    "- *numpy* to handle array functions\n",
    "- *astropy.io.fits* for accessing FITS files\n",
    "- *astropy.wcs.WCS* to interpret the World Coordinate Systems\n",
    "- *matplotlib.pyplot* for plotting the data\n",
    "- *astroquery.mast* to do the catalog search. \n",
    "- *zipfile* to unzip the downloaded file\n",
    "\n",
    "For ease of use later on, we also set a the root url for our requests. "
   ]
  },
  {
   "cell_type": "code",
   "execution_count": 1,
   "metadata": {},
   "outputs": [],
   "source": [
    "import numpy as np\n",
    "from astropy.io import fits\n",
    "import requests\n",
    "from astroquery.mast import Catalogs\n",
    "import zipfile\n",
    "from astropy.wcs import WCS\n",
    "import matplotlib.pyplot as plt\n",
    "\n",
    "%matplotlib inline\n",
    "\n",
    "urlroot = \"https://mast.stsci.edu/tesscut/api/v0.1\""
   ]
  },
  {
   "cell_type": "markdown",
   "metadata": {},
   "source": [
    "<a id=\"catalog_ID\"></a>\n",
    "## Get RA and Dec of your Target Using Astroquery Catalogs\n",
    "\n",
    "Here we do a cone search using `Catalogs.query_object` on the TIC catalog around our desired TIC ID. The advantage of doing this is that it gives us the nearby stars as well as the star we are looking for. The resulting table is sorted by distance from the requested object. We print out the ID and a few other TIC quantities to ensure we found the star we were looking for. "
   ]
  },
  {
   "cell_type": "code",
   "execution_count": 2,
   "metadata": {},
   "outputs": [
    {
     "name": "stdout",
     "output_type": "stream",
     "text": [
      "    ID      Tmag   Jmag         ra               dec        objType\n",
      "--------- ------- ------ ---------------- ----------------- -------\n",
      "261136679  5.1054  4.869 84.2911879979852 -80.4691197969941    STAR\n",
      "261139071  13.995 13.495        84.257651         -80.46656    STAR\n",
      "724137557  20.476    nan 84.2520122339161   -80.47060236557    STAR\n",
      "724137554 19.2521    nan 84.3377837896451 -80.4686446189646    STAR\n",
      "724137558 17.8818    nan 84.2799547508233 -80.4566970989506    STAR\n"
     ]
    }
   ],
   "source": [
    "ticid = 261136679\n",
    "\n",
    "starName = \"TIC \" + str(ticid)\n",
    "radSearch = 5 / 60 # radius in degrees\n",
    "\n",
    "catalogData = Catalogs.query_object(starName, radius = radSearch, catalog = \"TIC\")\n",
    "Ra = catalogData[0]['ra']\n",
    "Dec = catalogData[0]['dec']\n",
    "\n",
    "# Print out the first five rows in the table\n",
    "print( catalogData[:5]['ID', 'Tmag', 'Jmag', 'ra', 'dec', 'objType'] )"
   ]
  },
  {
   "cell_type": "code",
   "execution_count": 3,
   "metadata": {},
   "outputs": [
    {
     "data": {
      "text/plain": [
       "10"
      ]
     },
     "execution_count": 3,
     "metadata": {},
     "output_type": "execute_result"
    }
   ],
   "source": [
    "# Create a list of nearby bright stars (tess magnitude less than 14) from the rest of the data for later.\n",
    "bright = catalogData['Tmag'] < 14\n",
    "\n",
    "# Make it a list of Ra, Dec pairs of the bright ones. So this is now a list of nearby bright stars.\n",
    "nearbyStars = list( map( lambda x,y:[x,y], catalogData[bright]['ra'], catalogData[bright]['dec'] ) )\n",
    "len(nearbyStars)"
   ]
  },
  {
   "cell_type": "markdown",
   "metadata": {},
   "source": [
    "***"
   ]
  },
  {
   "cell_type": "markdown",
   "metadata": {},
   "source": [
    "## Perform a Sector Query \n",
    "<a id=\"catalog_ID\"></a>\n",
    "Using the TESS sector information service, we make a request to determine which sectors/cameras/CCDs contain data for this target. Remember that there is a set of FFIs for each TESS sector and those are broken up into 4 cameras which each have 4 CCDs.  We will do this with a radius=0 cone search to find only those FFI sets that contain the star of interest. You can also make the query using a larger radius, which may be important if the star is near the edge of one of the CCDs.\n",
    "<p>\n",
    "Note, the request is returned in a json format. The 'results' key contains an array of dictionaries with the information we are looking for.  "
   ]
  },
  {
   "cell_type": "code",
   "execution_count": 4,
   "metadata": {},
   "outputs": [
    {
     "name": "stdout",
     "output_type": "stream",
     "text": [
      "application/json; charset=UTF-8\n"
     ]
    }
   ],
   "source": [
    "url = urlroot + \"/sector\"\n",
    "\n",
    "myparams = {\"ra\":Ra, \"dec\":Dec, \"radius\":\"0m\"}\n",
    "\n",
    "requestData = requests.get(url = url, params = myparams)\n",
    "\n",
    "print(requestData.headers.get('content-type'))"
   ]
  },
  {
   "cell_type": "markdown",
   "metadata": {},
   "source": [
    "The resulting dictionary of information is stored in results. This target is only in sector 1."
   ]
  },
  {
   "cell_type": "code",
   "execution_count": 5,
   "metadata": {},
   "outputs": [
    {
     "name": "stdout",
     "output_type": "stream",
     "text": [
      "[{'sectorName': 'tess-s0001-4-2', 'sector': '0001', 'camera': '4', 'ccd': '2'}, {'sectorName': 'tess-s0004-4-3', 'sector': '0004', 'camera': '4', 'ccd': '3'}, {'sectorName': 'tess-s0008-4-4', 'sector': '0008', 'camera': '4', 'ccd': '4'}, {'sectorName': 'tess-s0011-4-1', 'sector': '0011', 'camera': '4', 'ccd': '1'}, {'sectorName': 'tess-s0012-3-4', 'sector': '0012', 'camera': '3', 'ccd': '4'}, {'sectorName': 'tess-s0013-3-3', 'sector': '0013', 'camera': '3', 'ccd': '3'}]\n"
     ]
    }
   ],
   "source": [
    "sectors = requestData.json()['results']\n",
    "print(sectors)"
   ]
  },
  {
   "cell_type": "markdown",
   "metadata": {},
   "source": [
    "***"
   ]
  },
  {
   "cell_type": "markdown",
   "metadata": {},
   "source": [
    "<a id=\"tesscut_ID\"></a>\n",
    "## Request a FFI Cutout with Astrocut\n",
    "Astrocut is the tool that runs the cutout service around the RA and Dec that were requested. It delivers a zipped file containing a cutout for each set of FFIs as listed above. It is also possible to request only one sector using the \"sector\" parameter,which we will do here.  For tesscut x refers to the CCD columns and y refers to the CCD rows. Distance can be input in a variety of units, I picked pixels (\"px\").\n",
    "\n",
    "< Response [200] > means that your request succeeded."
   ]
  },
  {
   "cell_type": "code",
   "execution_count": 6,
   "metadata": {},
   "outputs": [
    {
     "name": "stdout",
     "output_type": "stream",
     "text": [
      "<Response [200]>\n",
      "application/zip\n"
     ]
    }
   ],
   "source": [
    "myparams = {\"ra\":Ra, \"dec\":Dec, \"x\":35, \"y\":45, \n",
    "           \"units\":\"px\", \"sector\":1}\n",
    "\n",
    "url = urlroot + \"/astrocut\"\n",
    "\n",
    "r = requests.get(url = url, params = myparams)\n",
    "\n",
    "print(r)\n",
    "print(r.headers.get('content-type'))"
   ]
  },
  {
   "cell_type": "markdown",
   "metadata": {},
   "source": [
    "Create a zip file with the name astrocut.zip containing the content returned from the request."
   ]
  },
  {
   "cell_type": "code",
   "execution_count": 7,
   "metadata": {},
   "outputs": [
    {
     "data": {
      "text/plain": [
       "40516116"
      ]
     },
     "execution_count": 7,
     "metadata": {},
     "output_type": "execute_result"
    }
   ],
   "source": [
    "open('astrocut.zip', 'wb').write(r.content)"
   ]
  },
  {
   "cell_type": "markdown",
   "metadata": {},
   "source": [
    "### Open the zip file so we can get at the file.\n",
    "We use python's zipfile to unzip the file, but this could also be done using unzip from the command line. In many cases you will get more than one file, one for each sector that observed the star.  If you ask for a large cutout, you might also get more than one because the pixels are on more than one CCD.  In this case, we got back one file. The name contains the RA and Dec as well as the sector number, camera and chip. "
   ]
  },
  {
   "cell_type": "code",
   "execution_count": 8,
   "metadata": {},
   "outputs": [
    {
     "name": "stdout",
     "output_type": "stream",
     "text": [
      "['tess-s0001-4-2_84.291188_-80.469120_35x45_astrocut.fits']\n"
     ]
    }
   ],
   "source": [
    "zipRef = zipfile.ZipFile('astrocut.zip','r')\n",
    "zipRef.extractall('.')\n",
    "zipRef.close()\n",
    "\n",
    "# Get list of cuotut names\n",
    "cutoutnames = zipRef.namelist()\n",
    "print(cutoutnames)"
   ]
  },
  {
   "cell_type": "markdown",
   "metadata": {},
   "source": [
    "### Inspect the contents of the file.\n",
    "Use the fits.info function to see the contents of the file. It has three extensions just like a normal target pixel file. Most of the interesting information is in the PIXELS extension."
   ]
  },
  {
   "cell_type": "code",
   "execution_count": 9,
   "metadata": {},
   "outputs": [
    {
     "name": "stdout",
     "output_type": "stream",
     "text": [
      "Filename: tess-s0001-4-2_84.291188_-80.469120_35x45_astrocut.fits\n",
      "No.    Name      Ver    Type      Cards   Dimensions   Format\n",
      "  0  PRIMARY       1 PrimaryHDU      55   ()      \n",
      "  1  PIXELS        1 BinTableHDU    279   1282R x 12C   [D, E, J, 1575J, 1575E, 1575E, 1575E, 1575E, J, E, E, 38A]   \n",
      "  2  APERTURE      1 ImageHDU        79   (35, 45)   int32   \n"
     ]
    }
   ],
   "source": [
    "file1 = cutoutnames[0]\n",
    "fits.info(file1)"
   ]
  },
  {
   "cell_type": "code",
   "execution_count": 10,
   "metadata": {},
   "outputs": [
    {
     "data": {
      "text/plain": [
       "ColDefs(\n",
       "    name = 'TIME'; format = 'D'; unit = 'BJD - 2457000, days'; disp = 'D14.7'\n",
       "    name = 'TIMECORR'; format = 'E'; unit = 'd'; disp = 'E14.7'\n",
       "    name = 'CADENCENO'; format = 'J'; disp = 'I10'\n",
       "    name = 'RAW_CNTS'; format = '1575J'; unit = 'count'; null = -1; disp = 'I8'; dim = '(35, 45)'\n",
       "    name = 'FLUX'; format = '1575E'; unit = 'e-/s'; disp = 'E14.7'; dim = '(35, 45)'\n",
       "    name = 'FLUX_ERR'; format = '1575E'; unit = 'e-/s'; disp = 'E14.7'; dim = '(35, 45)'\n",
       "    name = 'FLUX_BKG'; format = '1575E'; unit = 'e-/s'; disp = 'E14.7'; dim = '(35, 45)'\n",
       "    name = 'FLUX_BKG_ERR'; format = '1575E'; unit = 'e-/s'; disp = 'E14.7'; dim = '(35, 45)'\n",
       "    name = 'QUALITY'; format = 'J'; disp = 'B16.16'\n",
       "    name = 'POS_CORR1'; format = 'E'; unit = 'pixel'; disp = 'E14.7'\n",
       "    name = 'POS_CORR2'; format = 'E'; unit = 'pixel'; disp = 'E14.7'\n",
       "    name = 'FFI_FILE'; format = '38A'; unit = 'pixel'\n",
       ")"
      ]
     },
     "execution_count": 10,
     "metadata": {},
     "output_type": "execute_result"
    }
   ],
   "source": [
    "hdu1 = fits.open(file1)\n",
    "hdu1[1].columns"
   ]
  },
  {
   "cell_type": "markdown",
   "metadata": {},
   "source": [
    "[Top of Page](#title_ID)"
   ]
  },
  {
   "cell_type": "markdown",
   "metadata": {},
   "source": [
    "<a id=\"plot_image\"></a>\n",
    "## Plot the First Image of the Time Series\n"
   ]
  },
  {
   "cell_type": "code",
   "execution_count": 11,
   "metadata": {},
   "outputs": [
    {
     "data": {
      "image/png": "[encoded data removed]",
      "text/plain": [
       "<Figure size 576x576 with 1 Axes>"
      ]
     },
     "metadata": {
      "needs_background": "light"
     },
     "output_type": "display_data"
    }
   ],
   "source": [
    "firstImage = hdu1[1].data['FLUX'][0]\n",
    "fig = plt.figure(figsize=(8,8))\n",
    "plt.imshow(firstImage, origin = 'lower', cmap = plt.cm.viridis, \\\n",
    "           vmax = np.percentile(firstImage,92), vmin = np.percentile(firstImage,5))\n",
    "plt.xlabel('CCD Column', fontsize = 14)\n",
    "plt.ylabel('CCD Row', fontsize = 14)\n",
    "plt.grid(axis = 'both', color = 'white', ls = 'solid')"
   ]
  },
  {
   "cell_type": "markdown",
   "metadata": {},
   "source": [
    "### Add a WCS to the image and mark the requested star as well as nearby stars.\n",
    "We use the WCS in the header to place a red dot on the image for the catalog position of the star on the figure as a demonstration of the WCS. The orange dots are the nearby stars found in the cone search done above. \n",
    "\n",
    "**Note. The WCS is based on the WCS stored in the FFI file for the central part of the time series and there can be some motion during the sector that is not captured.**"
   ]
  },
  {
   "cell_type": "code",
   "execution_count": 12,
   "metadata": {},
   "outputs": [
    {
     "data": {
      "text/plain": [
       "<matplotlib.collections.PathCollection at 0x7f9f0b298d90>"
      ]
     },
     "execution_count": 12,
     "metadata": {},
     "output_type": "execute_result"
    },
    {
     "data": {
      "image/png": "[encoded data removed]",
      "text/plain": [
       "<Figure size 720x720 with 1 Axes>"
      ]
     },
     "metadata": {
      "needs_background": "light"
     },
     "output_type": "display_data"
    }
   ],
   "source": [
    "wcs = WCS(hdu1[2].header)\n",
    "\n",
    "fig = plt.figure(figsize = (10,10))\n",
    "fig.add_subplot(111, projection = wcs)\n",
    "plt.imshow(firstImage, origin = 'lower', cmap = plt.cm.viridis, vmax = np.percentile(firstImage,92),\\\n",
    "           vmin = np.percentile(firstImage,5))\n",
    "\n",
    "plt.xlabel('CCD Column', fontsize = 14)\n",
    "plt.ylabel('CCD Row', fontsize = 14)\n",
    "plt.grid(axis = 'both', color = 'white', ls = 'solid')\n",
    "\n",
    "starLoc = wcs.all_world2pix([[Ra,Dec]],0)  #Second is origin\n",
    "plt.scatter(starLoc[0,0], starLoc[0,1], s = 45, color = 'red')\n",
    "\n",
    "# Plot nearby stars as well, which we created using our Catalog call above.\n",
    "nearbyLoc = wcs.all_world2pix(nearbyStars[1:], 0)\n",
    "plt.scatter(nearbyLoc[1:,0], nearbyLoc[1:,1], s = 25, color = 'orange')"
   ]
  },
  {
   "cell_type": "markdown",
   "metadata": {},
   "source": [
    "<a id=\"resources_ID\"></a>\n",
    "## Additional Resources\n",
    "[TESScut API Documentation](https://mast.stsci.edu/tesscut/)<br>\n",
    "[Astrocut Documentation](https://astrocut.readthedocs.io/en/latest/)<br>\n",
    "[TESS Homepage](https://archive.stsci.edu/tess)<br>\n",
    "[Astroquery](https://astroquery.readthedocs.io/en/latest/#installation)<br>\n"
   ]
  },
  {
   "cell_type": "markdown",
   "metadata": {},
   "source": [
    "<a id=\"about_ID\"></a>\n",
    "## About this Notebook\n",
    "**Author:** Susan E. Mullally, STScI Archive Scientist\n",
    "<br>**Updated On:** 2019-12-6"
   ]
  },
  {
   "cell_type": "markdown",
   "metadata": {},
   "source": [
    "[Top of Page](#title_ID)\n",
    "<img style=\"float: right;\" src=\"https://raw.githubusercontent.com/spacetelescope/notebooks/master/assets/stsci_pri_combo_mark_horizonal_white_bkgd.png\" alt=\"STScI logo\" width=\"200px\"/> "
   ]
  }
 ],
 "metadata": {
  "kernelspec": {
   "display_name": "Python 3",
   "language": "python",
   "name": "python3"
  },
  "language_info": {
   "codemirror_mode": {
    "name": "ipython",
    "version": 3
   },
   "file_extension": ".py",
   "mimetype": "text/x-python",
   "name": "python",
   "nbconvert_exporter": "python",
   "pygments_lexer": "ipython3",
   "version": "3.7.5"
  }
 },
 "nbformat": 4,
 "nbformat_minor": 2
}
