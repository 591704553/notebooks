{
 "cells": [
  {
   "cell_type": "markdown",
   "metadata": {},
   "source": [
    "<a id=\"title_ID\"></a>\n",
    "# Beginner: Read and Plot A TESS Data Validation Timeseries File\n",
    "\n",
    "This notebook tutorial demonstrates how to load and plot the contents of a TESS data validation timeseries (dvt) file.  We will plot the flux timeseries contained within the file."
   ]
  },
  {
   "cell_type": "code",
   "execution_count": 1,
   "metadata": {},
   "outputs": [],
   "source": [
    "%matplotlib inline\n",
    "from astropy.io import fits\n",
    "import matplotlib.pyplot as plt\n",
    "import numpy as np"
   ]
  },
  {
   "cell_type": "markdown",
   "metadata": {},
   "source": [
    "## Introduction\n",
    "\n",
    "TESS does a search of the postage-stamp, two-minute cadence data. For every signal it identifies with its Transit Planet Search (TPS) module, it creates something called a Threshold Crossing Event (TCE).  TCEs are periodic signals that exceed a nominal signal-to-noise requirement. Some are consistent with transiting planets, others are eclipsing binaries, and others are more consistent with variable stars or noise in the data. \n",
    "\n",
    "The Data Validation (DV) module of the pipeline produces a set of products that can help validate the quality of a TCE. The DV products include a time series file of the flattened light curve that was searched and relevant statistics for each signal (dvt.fits), DV reports that consists of a few diagnostic plots and relevant statistics (dvs.pdf for individual signals, dvr.pdf for all signals found in the TIC object), and an xml file (dvr.xml) that contains the results of the planet transit fit.  We will be exploring a dvt.fits file in this tutorial.\n",
    "\n",
    "This tutorial will refer to a couple TESS-related terms that we define here.\n",
    "* Sector = TESS observed the sky in regions of 24x96 degrees along the southern, then northern, ecliptic hemispheres.  Each of these regions is referred to as a \"sector\", starting with Sector 1.\n",
    "* HDU = Header Data Unit.  A FITS file is made up of HDUs that contain data and metadata relating to the file. The first HDU is called the primary HDU, and anything that follows is considered an \"extension\", e.g., \"the first FITS extension\", \"the second FITS extension\", etc.\n",
    "* BJD = Barycentric Julian Date, the Julian Date that has been corrected for differences in the Earth's position with respect to the Solar System center of mass.\n",
    "* TBJD = TESS Barycentric Julian Date, the timestamp measured in BJD, but offset by 2457000.0.  I.e., TBJD = BJD - 2457000.0\n",
    "* Cadence = The interval between flux measurements, nominally ~2 minutes for the target pixel files, and ~30 minutes for the full frame images.\n",
    "* TCE = Threshold Crossing Event, periodic signals found by the TESS pipeline that exceed a nominal signal-to-noise ratio."
   ]
  },
  {
   "cell_type": "markdown",
   "metadata": {},
   "source": [
    "## Obtaining The DVT Series File\n",
    "\n",
    "We will read the data validation file of TIC 100100827 (known to have at least one planet, WASP-18 b) from Sector 2 using the MAST URL location.  So that we can get started with understanding the file contents without reviewing how to automatically search for and retrieve TESS files, we won't show how to search and retrieve TESS DVT files in this tutorial. Consult other TESS tutorials [in the TESS Archive Handbook](https://outerspace.stsci.edu/display/TESS/6.0+-+Data+Search+Tutorials) for much more information on how to search for TESS data using MAST services."
   ]
  },
  {
   "cell_type": "code",
   "execution_count": 2,
   "metadata": {},
   "outputs": [],
   "source": [
    "# For the purposes of this tutorial, we just know the MAST URL location of the file we want to examine.\n",
    "dvt_file = \"https://archive.stsci.edu/missions/tess/tid/s0002/0000/0001/0010/0827/tess2018235142541-s0002-s0002-0000000100100827-00109_dvt.fits\""
   ]
  },
  {
   "cell_type": "markdown",
   "metadata": {},
   "source": [
    "## Understanding The DVT File Structure\n",
    "\n",
    "The DVT FITS file consits of a primary HDU with metadata stored in the header, and one FITS extension HDU per TCE found in the lightcurve of the specified TIC ID.  These extensions contain the detrended flux time series phased to the orbital period of the signal, stored as a binary FITS table.  The last extension HDU always contains some additional statistics about the search, also stored in a binary FITS table.  Let's examine the structure of the FITS file using the astropy.fits `info` function, which shows the FITS file format in more detail."
   ]
  },
  {
   "cell_type": "code",
   "execution_count": 3,
   "metadata": {},
   "outputs": [
    {
     "name": "stdout",
     "output_type": "stream",
     "text": [
      "Filename: /root/.astropy/cache/download/py3/124ac35a2c99549df3bba96cd314a11a\n",
      "No.    Name      Ver    Type      Cards   Dimensions   Format\n",
      "  0  PRIMARY       1 PrimaryHDU      43   ()      \n",
      "  1  TCE_1         1 BinTableHDU     92   19737R x 10C   [D, E, J, E, E, E, E, E, E, E]   \n",
      "  2  TCE_2         1 BinTableHDU     92   19737R x 10C   [D, E, J, E, E, E, E, E, E, E]   \n",
      "  3  Statistics    1 BinTableHDU    157   19737R x 38C   [D, E, J, E, E, E, E, J, E, E, E, E, E, E, E, E, E, E, E, E, E, E, E, E, E, E, E, E, E, E, E, E, E, E, E, E, E, E]   \n"
     ]
    }
   ],
   "source": [
    "fits.info(dvt_file)"
   ]
  },
  {
   "cell_type": "markdown",
   "metadata": {},
   "source": [
    "In this case, TIC 100100827 has two TCE's identified, and the \"statistics\" extension in the last HDU, as expected.  Let's examine one of the TCE extensions in more detail using the astropy.fits `getdata` function and see what columns are available."
   ]
  },
  {
   "cell_type": "code",
   "execution_count": 4,
   "metadata": {},
   "outputs": [
    {
     "data": {
      "text/plain": [
       "ColDefs(\n",
       "    name = 'TIME'; format = 'D'; unit = 'BJD - 2457000, days'; disp = 'D14.7'\n",
       "    name = 'TIMECORR'; format = 'E'; unit = 'd'; disp = 'E14.7'\n",
       "    name = 'CADENCENO'; format = 'J'; disp = 'I10'\n",
       "    name = 'PHASE'; format = 'E'; unit = 'days'; disp = 'E14.7'\n",
       "    name = 'LC_INIT'; format = 'E'; unit = 'dimensionless'; disp = 'E14.7'\n",
       "    name = 'LC_INIT_ERR'; format = 'E'; unit = 'dimensionless'; disp = 'E14.7'\n",
       "    name = 'LC_WHITE'; format = 'E'; unit = 'dimensionless'; disp = 'E14.7'\n",
       "    name = 'LC_DETREND'; format = 'E'; unit = 'dimensionless'; disp = 'E14.7'\n",
       "    name = 'MODEL_INIT'; format = 'E'; unit = 'dimensionless'; disp = 'E14.7'\n",
       "    name = 'MODEL_WHITE'; format = 'E'; unit = 'dimensionless'; disp = 'E14.7'\n",
       ")"
      ]
     },
     "execution_count": 4,
     "metadata": {},
     "output_type": "execute_result"
    }
   ],
   "source": [
    "fits.getdata(dvt_file, ext=1).columns"
   ]
  },
  {
   "cell_type": "markdown",
   "metadata": {},
   "source": [
    "In addition to the timestamps in TBJD format, there is a column containing the times phased to the orbital period of the signal, and there are several columns of fluxes.  LC_INIT is the \"unwhitened\" fluxes, LC_WHITE are the \"whitened\" fluxes.  The MODEL_INIT and MODEL_WHITE fluxes are the corresponding model fluxes based on the best fit to the signal."
   ]
  },
  {
   "cell_type": "markdown",
   "metadata": {},
   "source": [
    "## Plotting The Timeseries Fluxes.\n",
    "\n",
    "Let's open the FITS file and extract some metadata from the headers, and also store some of the columns from the first TCE signal for use later when we plot the results."
   ]
  },
  {
   "cell_type": "code",
   "execution_count": 5,
   "metadata": {},
   "outputs": [],
   "source": [
    "with fits.open(dvt_file, mode=\"readonly\") as hdulist:\n",
    "    \n",
    "    # Extract stellar parameters from the primary header.  We'll get the effective temperature, surface gravity,\n",
    "    # and TESS magnitude.\n",
    "    star_teff = hdulist[0].header['TEFF']\n",
    "    star_logg = hdulist[0].header['LOGG']\n",
    "    star_tmag = hdulist[0].header['TESSMAG']\n",
    "    \n",
    "    # Extract some of the fit parameters for the first TCE.  These are stored in the FITS header of the first\n",
    "    # extension.\n",
    "    period = hdulist[1].header['TPERIOD']\n",
    "    duration = hdulist[1].header['TDUR']\n",
    "    epoch = hdulist[1].header['TEPOCH']\n",
    "    depth = hdulist[1].header['TDEPTH']\n",
    "    \n",
    "    # Extract some of the columns of interest for the first TCE signal.  These are stored in the binary FITS table\n",
    "    # in the first extension.  We'll extract the timestamps in TBJD, phase, initial fluxes, and corresponding\n",
    "    # model fluxes.\n",
    "    times = hdulist[1].data['TIME']\n",
    "    phases = hdulist[1].data['PHASE']\n",
    "    fluxes_init = hdulist[1].data['LC_INIT']\n",
    "    model_fluxes_init = hdulist[1].data['MODEL_INIT']"
   ]
  },
  {
   "cell_type": "markdown",
   "metadata": {},
   "source": [
    "Let's make a plot of the detrended fluxes and model fluxes vs. orbital phase."
   ]
  },
  {
   "cell_type": "code",
   "execution_count": 6,
   "metadata": {},
   "outputs": [
    {
     "data": {
      "image/png": "[encoded data removed]",
      "text/plain": [
       "<Figure size 864x288 with 1 Axes>"
      ]
     },
     "metadata": {
      "needs_background": "light"
     },
     "output_type": "display_data"
    }
   ],
   "source": [
    "# First sort the phase and flux arrays by phase so we can draw the connecting lines between points.\n",
    "sort_indexes = np.argsort(phases)\n",
    "\n",
    "# Start figure and axis.\n",
    "fig, ax = plt.subplots(figsize=(12,4))\n",
    "\n",
    "# Plot the detrended fluxes as black circles.  We will plot them in sorted order.\n",
    "ax.plot(phases[sort_indexes], fluxes_init[sort_indexes], 'ko',\n",
    "       markersize=2)\n",
    "\n",
    "# Plot the model fluxes as a red line.  We will plot them in sorted order so the line connects between points cleanly.\n",
    "ax.plot(phases[sort_indexes], model_fluxes_init[sort_indexes], '-r')\n",
    "\n",
    "# Let's label the axes and define a title for the figure.\n",
    "fig.suptitle('TIC 100100827 - Folded Lightcurve And Transit Model.')\n",
    "ax.set_ylabel(\"Flux (relative)\")\n",
    "ax.set_xlabel(\"Orbital Phase\")\n",
    "\n",
    "# Let's add some text in the top-right containing some of the fit parameters.\n",
    "plt.text(0.2, 0.012, \"Period = {0:10.6f} days\".format(period))\n",
    "plt.text(0.2, 0.010, \"Duration = {0:10.6f} hours\".format(duration))\n",
    "plt.text(0.2, 0.008, \"Depth = {0:10.6f} ppm\".format(depth))\n",
    "plt.text(0.45, 0.012, \"Star Teff = {0:10.6f} K\".format(star_teff))\n",
    "plt.text(0.45, 0.010, \"Star log(g) = {0:10.6f}\".format(star_logg))\n",
    "\n",
    "plt.show()"
   ]
  },
  {
   "cell_type": "markdown",
   "metadata": {},
   "source": [
    "## Examining The Statistics Extension\n",
    "\n",
    "The statistics extension HDU contains the Single Event Statistics (\"SES\") correlation time series and the SES normalization time series for each of the pipeline's search durations. For more information, see [Tenebaum et al. 2012, ApJS, 199, 24](http://adsabs.harvard.edu/abs/2012ApJS..199...24T) and [Twicken et al. 2018, PASP, 130, 6](http://adsabs.harvard.edu/abs/2018PASP..130f4502T) for a description of the DV statistics for Kepler - the TESS DV statistics are very similar. These statistics are used to calculate the Combined Differential Photometric Precision (\"CDPP\") time series ([Gilliland et al. 2011, ApJS, 197, 6](http://adsabs.harvard.edu/abs/2011ApJS..197....6G))."
   ]
  },
  {
   "cell_type": "code",
   "execution_count": 7,
   "metadata": {},
   "outputs": [
    {
     "data": {
      "text/plain": [
       "ColDefs(\n",
       "    name = 'TIME'; format = 'D'; unit = 'BJD - 2457000, days'; disp = 'D14.7'\n",
       "    name = 'TIMECORR'; format = 'E'; unit = 'd'; disp = 'E14.7'\n",
       "    name = 'CADENCENO'; format = 'J'; disp = 'I10'\n",
       "    name = 'PDCSAP_FLUX'; format = 'E'; unit = 'e-/s'; disp = 'E14.7'\n",
       "    name = 'PDCSAP_FLUX_ERR'; format = 'E'; unit = 'sigma'; disp = 'E14.7'\n",
       "    name = 'RESIDUAL_LC'; format = 'E'; unit = 'dimensionless'; disp = 'E14.7'\n",
       "    name = 'DEWEIGHTS'; format = 'E'; unit = 'proportion'; disp = 'E14.7'\n",
       "    name = 'QUALITY'; format = 'J'; disp = 'B16.16'\n",
       "    name = 'SES_CORR_0_5'; format = 'E'; disp = 'E14.7'\n",
       "    name = 'SES_CORR_1_0'; format = 'E'; disp = 'E14.7'\n",
       "    name = 'SES_CORR_1_5'; format = 'E'; disp = 'E14.7'\n",
       "    name = 'SES_CORR_2_0'; format = 'E'; disp = 'E14.7'\n",
       "    name = 'SES_CORR_2_5'; format = 'E'; disp = 'E14.7'\n",
       "    name = 'SES_CORR_3_0'; format = 'E'; disp = 'E14.7'\n",
       "    name = 'SES_CORR_3_5'; format = 'E'; disp = 'E14.7'\n",
       "    name = 'SES_CORR_4_5'; format = 'E'; disp = 'E14.7'\n",
       "    name = 'SES_CORR_5_0'; format = 'E'; disp = 'E14.7'\n",
       "    name = 'SES_CORR_6_0'; format = 'E'; disp = 'E14.7'\n",
       "    name = 'SES_CORR_7_5'; format = 'E'; disp = 'E14.7'\n",
       "    name = 'SES_CORR_9_0'; format = 'E'; disp = 'E14.7'\n",
       "    name = 'SES_CORR_10_5'; format = 'E'; disp = 'E14.7'\n",
       "    name = 'SES_CORR_12_5'; format = 'E'; disp = 'E14.7'\n",
       "    name = 'SES_CORR_15_0'; format = 'E'; disp = 'E14.7'\n",
       "    name = 'SES_NORM_0_5'; format = 'E'; disp = 'E14.7'\n",
       "    name = 'SES_NORM_1_0'; format = 'E'; disp = 'E14.7'\n",
       "    name = 'SES_NORM_1_5'; format = 'E'; disp = 'E14.7'\n",
       "    name = 'SES_NORM_2_0'; format = 'E'; disp = 'E14.7'\n",
       "    name = 'SES_NORM_2_5'; format = 'E'; disp = 'E14.7'\n",
       "    name = 'SES_NORM_3_0'; format = 'E'; disp = 'E14.7'\n",
       "    name = 'SES_NORM_3_5'; format = 'E'; disp = 'E14.7'\n",
       "    name = 'SES_NORM_4_5'; format = 'E'; disp = 'E14.7'\n",
       "    name = 'SES_NORM_5_0'; format = 'E'; disp = 'E14.7'\n",
       "    name = 'SES_NORM_6_0'; format = 'E'; disp = 'E14.7'\n",
       "    name = 'SES_NORM_7_5'; format = 'E'; disp = 'E14.7'\n",
       "    name = 'SES_NORM_9_0'; format = 'E'; disp = 'E14.7'\n",
       "    name = 'SES_NORM_10_5'; format = 'E'; disp = 'E14.7'\n",
       "    name = 'SES_NORM_12_5'; format = 'E'; disp = 'E14.7'\n",
       "    name = 'SES_NORM_15_0'; format = 'E'; disp = 'E14.7'\n",
       ")"
      ]
     },
     "execution_count": 7,
     "metadata": {},
     "output_type": "execute_result"
    }
   ],
   "source": [
    "fits.getdata(dvt_file, ext=3).columns"
   ]
  },
  {
   "cell_type": "markdown",
   "metadata": {},
   "source": [
    "## About this Notebook\n",
    "\n",
    "**Authors:** Susan E. Mullally, Scott W. Fleming\n",
    "\n",
    "**Updated On:** 2018-11-29"
   ]
  },
  {
   "cell_type": "markdown",
   "metadata": {},
   "source": [
    "[Top of Page](#title_ID)\n",
    "<img style=\"float: right;\" src=\"https://raw.githubusercontent.com/spacetelescope/notebooks/master/assets/stsci_pri_combo_mark_horizonal_white_bkgd.png\" alt=\"STScI logo\" width=\"200px\"/> "
   ]
  }
 ],
 "metadata": {
  "kernelspec": {
   "display_name": "Python 3",
   "language": "python",
   "name": "python3"
  },
  "language_info": {
   "codemirror_mode": {
    "name": "ipython",
    "version": 3
   },
   "file_extension": ".py",
   "mimetype": "text/x-python",
   "name": "python",
   "nbconvert_exporter": "python",
   "pygments_lexer": "ipython3",
   "version": "3.6.9"
  }
 },
 "nbformat": 4,
 "nbformat_minor": 2
}
