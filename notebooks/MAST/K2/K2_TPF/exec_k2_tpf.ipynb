{
 "cells": [
  {
   "cell_type": "markdown",
   "metadata": {},
   "source": [
    "<a id=\"title_ID\"></a>\n",
    "# Beginner: Read and Display A K2 Target Pixel File\n",
    "\n",
    "This notebook tutorial demonstrates how to load and display the contents of a K2 target pixel (tp) file.  We will display the flux values from a given cadence, and identify the pixels used in the photometric aperture."
   ]
  },
  {
   "cell_type": "code",
   "execution_count": 1,
   "metadata": {},
   "outputs": [],
   "source": [
    "%matplotlib inline\n",
    "from astropy.io import fits\n",
    "import matplotlib.pyplot as plt\n",
    "import numpy as np"
   ]
  },
  {
   "cell_type": "markdown",
   "metadata": {},
   "source": [
    "## Introduction\n",
    "\n",
    "A target pixel file contains the raw and calibrated fluxes for the pixels downloaded at either 1-minute (short) or 30-minute (long) cadence.  It also contains information about the aperture, including which pixels were used to calculate the total flux, which pixels were used to estimate the background flux, and which pixels were used to calculate the flux weighted or pixel response function centroids.  The data shown here will be for the star TRAPPIST-1 (the standard readout is EPIC 246199087, a larger readout for this star was also obtained with a K2 ID of EPIC 200164267), which is known to host a system of seven Earth-sized planets.\n",
    "\n",
    "This tutorial will refer to a couple TESS-related terms that we define here.\n",
    "* Campaign = During the K2 mission, the Kepler telescope observed the sky in a given pointing along the ecliptic plane for approximately 80 days at a time. Each of these regions is referred to as a \"Campaign\", starting with Campaign 0 and ending with Campaign 19. There was also a special \"Engineering\" Campaign before Campaign 0 that lasted ~10 days.\n",
    "* HDU = Header Data Unit.  A FITS file is made up of HDUs that contain data and metadata relating to the file. The first HDU is called the primary HDU, and anything that follows is considered an \"extension\", e.g., \"the first FITS extension\", \"the second FITS extension\", etc.\n",
    "* BJD = Barycentric Julian Date, the Julian Date that has been corrected for differences in the Earth's position with respect to the Solar System center of mass.\n",
    "* BKJD = Barycentric Kepler Julian Date, the timestamp measured in BJD, but offset by 2454833.0. I.e., BKJD = BJD - 2454833.0\n",
    "* Cadence = The interval between flux measurements, either one minute for short cadence or 30 minutes for long cadence."
   ]
  },
  {
   "cell_type": "markdown",
   "metadata": {},
   "source": [
    "## Obtaining The Target Pixel File\n",
    "\n",
    "We will read the target pixel file from Campaign 12 using the MAST URL location.  So that we can get started with understanding the file contents without reviewing how to automatically search for and retrieve K2 files, we won't show how to search and retrieve K2 target pixel files in this tutorial."
   ]
  },
  {
   "cell_type": "code",
   "execution_count": 2,
   "metadata": {},
   "outputs": [],
   "source": [
    "# For the purposes of this tutorial, we just know the MAST URL location of the file we want to examine.\n",
    "fits_file = \"https://archive.stsci.edu/missions/k2/target_pixel_files/c12/246100000/99000/ktwo246199087-c12_lpd-targ.fits.gz\""
   ]
  },
  {
   "cell_type": "markdown",
   "metadata": {},
   "source": [
    "## Understanding The Target Pixel File Structure\n",
    "\n",
    "The K2 target pixel files contain a primary HDU with metadata stored in the header.  The first extension HDU contains more metadata in the header and stores arrays of data in a binary FITS table, which include the timestamps, fluxes, and background fluxes for each cadence of the pixels read out and downloaded by the spacecraft.  The second extension HDU contains an image that stores the pixels that were read out, and records information such as which pixels were used in the optimal photometric aperture to create the SAP fluxes.  Let's examine the structure of the FITS file using the astropy.fits `info` function, which shows the FITS file format in more detail."
   ]
  },
  {
   "cell_type": "code",
   "execution_count": 3,
   "metadata": {},
   "outputs": [
    {
     "name": "stdout",
     "output_type": "stream",
     "text": [
      "Filename: /Users/etollerud/.astropy/cache/download/py3/2a1d76d4a7a97686769fb2523dbe4763\n",
      "No.    Name      Ver    Type      Cards   Dimensions   Format\n",
      "  0  PRIMARY       1 PrimaryHDU      54   ()      \n",
      "  1  TARGETTABLES    1 BinTableHDU    282   3862R x 13C   [D, E, J, 90J, 90E, 90E, 90E, 90E, 90E, J, E, E, 0E]   \n",
      "  2  APERTURE      1 ImageHDU        48   (10, 9)   int32   \n"
     ]
    }
   ],
   "source": [
    "fits.info(fits_file)"
   ]
  },
  {
   "cell_type": "markdown",
   "metadata": {},
   "source": [
    "Let's examine the binary table in the first FITS extension, since that contains the arrays of timestamps and fluxes for each cadence.  We will use the astropy.fits `getdata` function to access the table from the first extension HDU, and then show the columns of the table.  We can see included in the table are columns for the timestamps in K2 BJD format (**TIME**), raw counts (**RAW_CNTS**), and calibrated fluxes (**FLUX**)."
   ]
  },
  {
   "cell_type": "code",
   "execution_count": 4,
   "metadata": {
    "scrolled": true
   },
   "outputs": [
    {
     "data": {
      "text/plain": [
       "ColDefs(\n",
       "    name = 'TIME'; format = 'D'; unit = 'BJD - 2454833'; disp = 'D14.7'\n",
       "    name = 'TIMECORR'; format = 'E'; unit = 'd'; disp = 'E14.7'\n",
       "    name = 'CADENCENO'; format = 'J'; disp = 'I10'\n",
       "    name = 'RAW_CNTS'; format = '90J'; unit = 'count'; null = -1; disp = 'I8'; dim = '(10,9)'\n",
       "    name = 'FLUX'; format = '90E'; unit = 'e-/s'; disp = 'E14.7'; dim = '(10,9)'\n",
       "    name = 'FLUX_ERR'; format = '90E'; unit = 'e-/s'; disp = 'E14.7'; dim = '(10,9)'\n",
       "    name = 'FLUX_BKG'; format = '90E'; unit = 'e-/s'; disp = 'E14.7'; dim = '(10,9)'\n",
       "    name = 'FLUX_BKG_ERR'; format = '90E'; unit = 'e-/s'; disp = 'E14.7'; dim = '(10,9)'\n",
       "    name = 'COSMIC_RAYS'; format = '90E'; unit = 'e-/s'; disp = 'E14.7'; dim = '(10,9)'\n",
       "    name = 'QUALITY'; format = 'J'; disp = 'B24.24'\n",
       "    name = 'POS_CORR1'; format = 'E'; unit = 'pixel'; disp = 'E14.7'\n",
       "    name = 'POS_CORR2'; format = 'E'; unit = 'pixel'; disp = 'E14.7'\n",
       "    name = 'RB_LEVEL'; format = '0E'; unit = 'sigma'; disp = 'E14.7'; dim = '(0,9)'\n",
       ")"
      ]
     },
     "execution_count": 4,
     "metadata": {},
     "output_type": "execute_result"
    }
   ],
   "source": [
    "fits.getdata(fits_file, ext=1).columns"
   ]
  },
  {
   "cell_type": "markdown",
   "metadata": {},
   "source": [
    "If you examine the structure of the data, the table is more complicated than just rows and columns of values.  You can see the dimensions of the raw counts, flux, flux errors, flux backgrounds, and flux background errors are 9x10 (the size of the pixel stamp read out for this particular target).  We'll show how to examine the fluxes from a particular cadence below."
   ]
  },
  {
   "cell_type": "markdown",
   "metadata": {},
   "source": [
    "## Reading the timestamps and fluxes.\n",
    "\n",
    "Now that we have the target pixel file, let's store the timestamps and fluxes for use later."
   ]
  },
  {
   "cell_type": "code",
   "execution_count": 5,
   "metadata": {},
   "outputs": [],
   "source": [
    "with fits.open(fits_file, mode=\"readonly\") as hdulist:\n",
    "    k2_bjds = hdulist[1].data['TIME']\n",
    "    raw_counts = hdulist[1].data['RAW_CNTS']\n",
    "    calibrated_fluxes = hdulist[1].data['FLUX']"
   ]
  },
  {
   "cell_type": "markdown",
   "metadata": {},
   "source": [
    "Let's examine one of these to see how Python stores the data."
   ]
  },
  {
   "cell_type": "code",
   "execution_count": 6,
   "metadata": {},
   "outputs": [
    {
     "name": "stdout",
     "output_type": "stream",
     "text": [
      "<class 'numpy.ndarray'>\n",
      "(3862, 9, 10)\n"
     ]
    }
   ],
   "source": [
    "print(type(calibrated_fluxes))\n",
    "print(calibrated_fluxes.shape)"
   ]
  },
  {
   "cell_type": "markdown",
   "metadata": {},
   "source": [
    "So these data are stored as a numpy array.  The first dimension is the number of cadences, followed by the size of the readout.  Thus, accessing `calibrated_fluxes[4,:,:]` should return to us the 9x10 grid of pixels from the **fifth** cadence (remember Python is zero-indexed, so the first cadence is stored in the zeroth index, the second in the first index, etc.)"
   ]
  },
  {
   "cell_type": "code",
   "execution_count": 7,
   "metadata": {},
   "outputs": [
    {
     "data": {
      "text/plain": [
       "(9, 10)"
      ]
     },
     "execution_count": 7,
     "metadata": {},
     "output_type": "execute_result"
    }
   ],
   "source": [
    "calibrated_fluxes[4,:,:].shape"
   ]
  },
  {
   "cell_type": "markdown",
   "metadata": {},
   "source": [
    "## Show the calibrated pixel values.\n",
    "\n",
    "Let's display the calibrated fluxes for one of the cadences in our target pixel file.  For now, we'll pick the fifth cadence (index number 4).  You could of course decide to look at multiple cadences by looping over each index in the first dimension of the structure (e.g., loop over `calibrated_fluxes[i,:,:]`).  You could even make an animated .gif of the fluxes and see how they change from cadence to cadence.  To get you started though, let's just display one of the cadence's flux values."
   ]
  },
  {
   "cell_type": "code",
   "execution_count": 8,
   "metadata": {},
   "outputs": [
    {
     "data": {
      "image/png": "[encoded data removed]",
      "text/plain": [
       "<Figure size 864x576 with 2 Axes>"
      ]
     },
     "metadata": {
      "needs_background": "light"
     },
     "output_type": "display_data"
    }
   ],
   "source": [
    "# Start figure and axis.\n",
    "fig, ax = plt.subplots()\n",
    "fig.set_size_inches(12., 8.)\n",
    "\n",
    "# Display the calibrated fluxes as an image for the fifth cadence.\n",
    "cax = ax.imshow(calibrated_fluxes[4,:,:], cmap=plt.cm.YlGnBu_r, origin=\"lower\")\n",
    "\n",
    "# Let's define a title for the figure.\n",
    "fig.suptitle(\"TRAPPIST-1 Calibrated Fluxes - Campaign 12, Fifth Cadence\")\n",
    "\n",
    "# Add a color bar.\n",
    "cbar = fig.colorbar(cax)\n",
    "plt.show()"
   ]
  },
  {
   "cell_type": "markdown",
   "metadata": {},
   "source": [
    "## Displaying The Aperture Pixel Information\n",
    "\n",
    "Let's read in the second FITS extension HDU to display the aperture information.  First, let's read in the aperture pixels from the HDU."
   ]
  },
  {
   "cell_type": "code",
   "execution_count": 9,
   "metadata": {},
   "outputs": [],
   "source": [
    "with fits.open(fits_file, mode=\"readonly\") as hdulist:\n",
    "    aperture = hdulist[2].data"
   ]
  },
  {
   "cell_type": "markdown",
   "metadata": {},
   "source": [
    "Let's plot the pixels as an image."
   ]
  },
  {
   "cell_type": "code",
   "execution_count": 10,
   "metadata": {},
   "outputs": [
    {
     "data": {
      "image/png": "[encoded data removed]",
      "text/plain": [
       "<Figure size 864x576 with 2 Axes>"
      ]
     },
     "metadata": {
      "needs_background": "light"
     },
     "output_type": "display_data"
    }
   ],
   "source": [
    "# Start figure and axis.\n",
    "fig, ax = plt.subplots()\n",
    "fig.set_size_inches(12., 8.)\n",
    "\n",
    "# Display the pixels as an image.\n",
    "cax = ax.imshow(aperture, cmap=plt.cm.YlGnBu_r, origin=\"lower\")\n",
    "\n",
    "# Add a color bar.\n",
    "cbar = fig.colorbar(cax)\n",
    "\n",
    "# Add a title to the plot.\n",
    "fig.suptitle(\"TRAPPIST-1 Aperture - Campaign 12\")\n",
    "plt.show()"
   ]
  },
  {
   "cell_type": "markdown",
   "metadata": {},
   "source": [
    "## Understanding The Aperture Pixel Values\n",
    "\n",
    "We see the pixel values are integers, but what do they mean?  The pixels are bitmasks that encode information about each pixel.  You can find a summary of what the different values mean [here](https://archive.stsci.edu/kepler/manuals/archive_manual.pdf#page=20).  For example, a pixel in the aperture that might have a value of 15 can be broken down into power of 2 like: 8+4+2+1 = 15.  Referencing the table of values, this means this particular pixel was in was used to calculate the Pixel Response Function (PRF) centroid, was used to calculate the flux weighted centroid, was part of the optimal photometric aperture, and was collected by the spacecraft.  Numpy has a bulit-in function that can convert an integer into a binary bit mask.  Let's use that now one one of the common values we see in our displayed image above."
   ]
  },
  {
   "cell_type": "code",
   "execution_count": 11,
   "metadata": {},
   "outputs": [
    {
     "name": "stdout",
     "output_type": "stream",
     "text": [
      "11\n"
     ]
    }
   ],
   "source": [
    "# Break down a pixel value of 3 (yellow pixels displayed above) into its constituent bits.\n",
    "bits = np.binary_repr(3)\n",
    "print(bits)"
   ]
  },
  {
   "cell_type": "markdown",
   "metadata": {},
   "source": [
    "Binary bits start from the right and end at the left, so the bit farthest on the right is the Least Significant Bit (LSB, equal to 2^0 = 1), the second from the right is 2^1=2, the third from the right is 2^2=4, etc. This bit mask has bit values of 1 (2^0) and 2 (2^1) set. From our look-up table, these values mean the pixels have been: collected by the spacecraft (value = 1) and used in the optimal photometric aperture (value = 2), so these pixels were used from this cadence to create the flux measurement in the mission-produced light curve files."
   ]
  },
  {
   "cell_type": "markdown",
   "metadata": {},
   "source": [
    "## Marking All Pixels Used In The Photometric Aperture\n",
    "\n",
    "Let's display the pixels in the aperture FITS extension again, but this time, let's only mark those that are used in the optimal photometric aperture (bit mask value of 2 set).  While it is possible to do this in fewer lines, we'll show more of the steps involved for clarity."
   ]
  },
  {
   "cell_type": "code",
   "execution_count": 12,
   "metadata": {},
   "outputs": [],
   "source": [
    "# Create an array that will keep track of which pixels have a bitmask\n",
    "# value of 2 set. To start, everything is set to 0 = not set.  We make it\n",
    "# the same dimension as the aperture pixel table, for clarity.\n",
    "bitmask2_set = np.zeros(aperture.shape)\n",
    "\n",
    "# Identify which pixels have the bit mask value of 2 set.  We'll first\n",
    "# loop over each row (i) in the 9x10 table, and then each column (j).\n",
    "for i, row in enumerate(aperture):\n",
    "    for j, pix in enumerate(row):\n",
    "\n",
    "        # Get the bitmask as a string of zeros and ones.\n",
    "        this_bitmask = np.binary_repr(pix)\n",
    "\n",
    "        # Is the bitmask value of 2 set?  If so, the 2nd integer from the\n",
    "        # right should be set to 1.  We'll use Python negative indexes to\n",
    "        # access the second integer from the right. But, we also need to\n",
    "        # check that the length of the returned string is at least two!\n",
    "        # If the pixel mask is 0 or 1 then it won't even have two digits\n",
    "        # to check, and would result in an error.\n",
    "        if len(this_bitmask) > 1:\n",
    "            if this_bitmask[-2] == '1':\n",
    "                # Then record this pixel as having a bitmask value of 2 set.\n",
    "                bitmask2_set[i,j] = 1"
   ]
  },
  {
   "cell_type": "markdown",
   "metadata": {},
   "source": [
    "Now we can display the aperture, but this time we will only display the bitmask2_set table we've created, where a zero means the bitmask value of 2 is NOT set (thus these pixels aren't used in the optimal photometric aperture) and a one means the bitmask value of 2 is set (and thus these pixels were used in the optimal photometric aperture)."
   ]
  },
  {
   "cell_type": "code",
   "execution_count": 13,
   "metadata": {},
   "outputs": [
    {
     "data": {
      "image/png": "[encoded data removed]",
      "text/plain": [
       "<Figure size 864x576 with 2 Axes>"
      ]
     },
     "metadata": {
      "needs_background": "light"
     },
     "output_type": "display_data"
    }
   ],
   "source": [
    "# Start figure and axis.\n",
    "fig, ax = plt.subplots()\n",
    "fig.set_size_inches(12., 8.)\n",
    "\n",
    "# Display, as an image, the 11x11 table that records the bitmask value of 2 being set.\n",
    "cax = ax.imshow(bitmask2_set, cmap=plt.cm.YlGnBu_r, origin=\"lower\")\n",
    "\n",
    "# Add a color bar.\n",
    "cbar = fig.colorbar(cax)\n",
    "\n",
    "# Add a title to the plot.\n",
    "fig.suptitle(\"TRAPPIST-1 Aperture - Campaign 12 - Pixels Used In Phot. Ap.\")\n",
    "plt.show()"
   ]
  },
  {
   "cell_type": "markdown",
   "metadata": {},
   "source": [
    "## About this Notebook\n",
    "\n",
    "**Author:** Scott W. Fleming, STScI Archive Scientist\n",
    "\n",
    "**Updated On:** 2019-02-01"
   ]
  },
  {
   "cell_type": "markdown",
   "metadata": {},
   "source": [
    "[Top of Page](#title_ID)\n",
    "<img style=\"float: right;\" src=\"https://raw.githubusercontent.com/spacetelescope/notebooks/master/assets/stsci_pri_combo_mark_horizonal_white_bkgd.png\" alt=\"STScI logo\" width=\"200px\"/> "
   ]
  }
 ],
 "metadata": {
  "kernelspec": {
   "display_name": "Python 3",
   "language": "python",
   "name": "python3"
  },
  "language_info": {
   "codemirror_mode": {
    "name": "ipython",
    "version": 3
   },
   "file_extension": ".py",
   "mimetype": "text/x-python",
   "name": "python",
   "nbconvert_exporter": "python",
   "pygments_lexer": "ipython3",
   "version": "3.7.5"
  }
 },
 "nbformat": 4,
 "nbformat_minor": 2
}
