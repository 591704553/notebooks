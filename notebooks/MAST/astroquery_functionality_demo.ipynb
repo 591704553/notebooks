{
 "cells": [
  {
   "cell_type": "markdown",
   "metadata": {},
   "source": [
    "# MAST Astroquery API"
   ]
  },
  {
   "cell_type": "markdown",
   "metadata": {},
   "source": [
    "## Table of Contents\n",
    "\n",
    "1. [Module Design](#MAST-Astroquery-Module-Design)\n",
    "2. [Imports](#Imports)\n",
    "3. [Observations Class](#Observations-Class)\n",
    "    - [Searching for MAST observations](#Searching-for-MAST-observations)\n",
    "    - [Getting observation counts](#Getting-observation-counts)\n",
    "    - [Listing available missions](#Listing-available-missions)\n",
    "    - [Getting a list of data products](#Getting-a-list-of-data-products)\n",
    "    - [Downloading products](#Downloading-products) <br><br>\n",
    "4. [Catalogs Class](#Catalogs-Class)\n",
    "    - [Query by position/object](#Query-by-position/object)\n",
    "    - [Query by criteria](#Query-by-criteria)\n",
    "    - [HSC Specific queries](#HSC-Specific-queries)<br><br>\n",
    "5. [Proprietary Data Access](#Proprietary-Data-Access)\n",
    "6. [Mast Class](#Mast-Class)"
   ]
  },
  {
   "cell_type": "markdown",
   "metadata": {},
   "source": [
    "## MAST Astroquery Module Design"
   ]
  },
  {
   "cell_type": "markdown",
   "metadata": {},
   "source": [
    "### MastClass:\n",
    "* <font color='#009402'>**service_request**</font>(<font color='#7800b9'>service, params, </font>\\*\\*kwargs): Astropy Table of mashup results\n",
    "* <font color='#009402'>**login**</font>(username, password, session_token, store_password, reenter_password)\n",
    "* <font color='#009402'>**logout**</font>()\n",
    "* <font color='#009402'>**get_token**</font>(): Session token cookie\n",
    "* <font color='#009402'>**session_info**</font>(silent): Dictionary of session info\n",
    "\n",
    "### ObservationsClass(MastClass):\n",
    "* <font color='#009402'>**query_object**</font>(<font color='#7800b9'>objectname, </font>radius, pagesize, page): Astropy Table of observations\n",
    "* <font color='#009402'>**query_region**</font>({<font color='#7800b9'>coordinates,</font> radius, pagesize, page): Astropy Table of observations\n",
    "* <font color='#009402'>**query_criteria**</font>(pagesize, page, <font color='#7800b9'>**criteria</font>): Astropy Table of observations\n",
    "\n",
    "* <font color='#009402'>**query_object_count**</font>(<font color='#7800b9'>objectname,</font> radius): Number of observations\n",
    "* <font color='#009402'>**query_region_count**</font>(<font color='#7800b9'>coordinates,</font> radius): Number of observations\n",
    "* <font color='#009402'>**query_criteria_count**</font>(<font color='#7800b9'>**criteria</font>): Number of observations\n",
    "\n",
    "* <font color='#009402'>**get_product_list**</font>(<font color='#7800b9'>obsidOrRow</font>): Astropy Table of data products\n",
    "* <font color='#009402'>**filter_products**</font>(<font color='#7800b9'>products, **filters</font>): Astropy Table of data products\n",
    "* <font color='#009402'>**download_products**</font>(<font color='#7800b9'>obsidsOrProductRows,</font> downloadDir, mrpOnly, curlFlag, **filters): Astropy Table manifest of downloaded files\n",
    "\n",
    "* <font color='#009402'>**list_missions**</font>(): List of Available Missions\n",
    "\n",
    "### CatalogClass(MastClass)\n",
    "* <font color='#009402'>**query_object**</font>(<font color='#7800b9'>objectname,</font> radius, catalog, pagesize, page): Astropy Table of catalog entries\n",
    "* <font color='#009402'>**query_region**</font>(<font color='#7800b9'>coordinates,</font> radius, catalog, pagesize, page): Astropy Table of catalog entries\n",
    "* <font color='#009402'>**query_criteria**</font>(<font color='#7800b9'>catalog</font>, pagesize, page, <font color='#7800b9'>**criteria</font>): Astropy Table of catalog entries\n",
    "* <font color='#009402'>**query_hsc_matchid**</font>(<font color='#7800b9'>matchid,</font> pagesize, page): Astropy Table of catalog entries\n",
    "* <font color='#009402'>**get_hsc_spectra**</font>(pagesize, page): Astropy Table of hsc spectra\n",
    "* <font color='#009402'>**download_hsc_spectra**</font>(<font color='#7800b9'>spectra</font>)Astropy Table manifest of downloaded files\n",
    "* <font color='#c52700'>**list_catalogs**</font>(): List of Available Catalogs"
   ]
  },
  {
   "cell_type": "markdown",
   "metadata": {},
   "source": [
    "## Imports\n",
    "<div style=\"text-align: right\">[(top)](#MAST-Astroquery-API)</div>"
   ]
  },
  {
   "cell_type": "code",
   "execution_count": null,
   "metadata": {},
   "outputs": [],
   "source": [
    "from astroquery.mast import Mast\n",
    "from astroquery.mast import Observations\n",
    "from astroquery.mast import Catalogs"
   ]
  },
  {
   "cell_type": "markdown",
   "metadata": {},
   "source": [
    "## Observations Class\n",
    "<div style=\"text-align: right\">[(top)](#MAST-Astroquery-API)</div>"
   ]
  },
  {
   "cell_type": "markdown",
   "metadata": {},
   "source": [
    "### Searching for MAST observations\n",
    "<div style=\"text-align: right\">[(top)](#MAST-Astroquery-API)</div>"
   ]
  },
  {
   "cell_type": "code",
   "execution_count": null,
   "metadata": {},
   "outputs": [],
   "source": [
    "caomObservations = Observations.query_region(\"322.49324 12.16683\", radius=\"0.4 deg\")\n",
    "print(\"Number of results:\",len(caomObservations))\n",
    "print(caomObservations[:10])"
   ]
  },
  {
   "cell_type": "code",
   "execution_count": null,
   "metadata": {},
   "outputs": [],
   "source": [
    "m8Observations = Observations.query_object(\"M8\",radius=\".02 deg\")\n",
    "print(\"Number of results:\",len(m8Observations))\n",
    "print(m8Observations[:10])"
   ]
  },
  {
   "cell_type": "code",
   "execution_count": null,
   "metadata": {},
   "outputs": [],
   "source": [
    "ostenObservations = Observations.query_criteria(dataproduct_type=[\"image\"], proposal_pi=\"Osten\", s_dec=[43.5,45.5])\n",
    "print(ostenObservations)"
   ]
  },
  {
   "cell_type": "code",
   "execution_count": null,
   "metadata": {},
   "outputs": [],
   "source": [
    "m101uv = Observations.query_criteria(filters=[\"NUV\",\"FUV\"],objectname=\"M101\")\n",
    "print(m101uv)"
   ]
  },
  {
   "cell_type": "markdown",
   "metadata": {},
   "source": [
    "### Getting observation counts\n",
    "<div style=\"text-align: right\">[(top)](#MAST-Astroquery-API)</div>"
   ]
  },
  {
   "cell_type": "code",
   "execution_count": null,
   "metadata": {},
   "outputs": [],
   "source": [
    "Observations.query_region_count(\"322.49324 12.16683\")"
   ]
  },
  {
   "cell_type": "code",
   "execution_count": null,
   "metadata": {},
   "outputs": [],
   "source": [
    "Observations.query_object_count(\"M8\",radius=\".02 deg\")"
   ]
  },
  {
   "cell_type": "code",
   "execution_count": null,
   "metadata": {},
   "outputs": [],
   "source": [
    "Observations.query_criteria_count(target_classification=[\"*solar*planet*\",\"disk\"])"
   ]
  },
  {
   "cell_type": "markdown",
   "metadata": {},
   "source": [
    "### Listing available missions\n",
    "<div style=\"text-align: right\">[(top)](#MAST-Astroquery-API)</div>"
   ]
  },
  {
   "cell_type": "code",
   "execution_count": null,
   "metadata": {},
   "outputs": [],
   "source": [
    "print(Observations.list_missions())"
   ]
  },
  {
   "cell_type": "markdown",
   "metadata": {},
   "source": [
    "### Getting a list of data products\n",
    "<div style=\"text-align: right\">[(top)](#MAST-Astroquery-API)</div>"
   ]
  },
  {
   "cell_type": "code",
   "execution_count": null,
   "metadata": {
    "scrolled": false
   },
   "outputs": [],
   "source": [
    "dataProducts = Observations.get_product_list(m8Observations[0:4])\n",
    "print(\"Number of results:\",len(dataProducts))\n",
    "print(dataProducts[:10])"
   ]
  },
  {
   "cell_type": "code",
   "execution_count": null,
   "metadata": {
    "scrolled": true
   },
   "outputs": [],
   "source": [
    "dataProductsByID = Observations.get_product_list('2003738726')\n",
    "print(\"Number of results:\",len(dataProductsByID))\n",
    "print(dataProductsByID[:6])"
   ]
  },
  {
   "cell_type": "code",
   "execution_count": null,
   "metadata": {},
   "outputs": [],
   "source": [
    "Observations.filter_products(dataProductsByID,productType=[\"SCIENCE\"],mrp_only=False)"
   ]
  },
  {
   "cell_type": "markdown",
   "metadata": {},
   "source": [
    "### Downloading products\n",
    "<div style=\"text-align: right\">[(top)](#MAST-Astroquery-API)</div>"
   ]
  },
  {
   "cell_type": "code",
   "execution_count": null,
   "metadata": {
    "scrolled": false
   },
   "outputs": [],
   "source": [
    "Observations.download_products('2003738726',productType=[\"SCIENCE\"],mrp_only=False,cache=False)"
   ]
  },
  {
   "cell_type": "code",
   "execution_count": null,
   "metadata": {},
   "outputs": [],
   "source": [
    "Observations.download_products(dataProductsByID,curl_flag=True)"
   ]
  },
  {
   "cell_type": "markdown",
   "metadata": {},
   "source": [
    "## Catalogs Class\n",
    "<div style=\"text-align: right\">[(top)](#MAST-Astroquery-API)</div>"
   ]
  },
  {
   "cell_type": "markdown",
   "metadata": {},
   "source": [
    "### Query by position/object\n",
    "<div style=\"text-align: right\">[(top)](#MAST-Astroquery-API)</div>"
   ]
  },
  {
   "cell_type": "code",
   "execution_count": null,
   "metadata": {
    "scrolled": false
   },
   "outputs": [],
   "source": [
    "catalogData = Catalogs.query_region(\"158.47924 -7.30962\", radius=0.1, catalog=\"Gaia\")\n",
    "print(\"Number of results:\",len(catalogData))\n",
    "print(catalogData[:4])"
   ]
  },
  {
   "cell_type": "code",
   "execution_count": null,
   "metadata": {},
   "outputs": [],
   "source": [
    "catalogData = Catalogs.query_region(\"322.49324 12.16683\", catalog=\"HSC\", magtype=2)\n",
    "print(\"Number of results:\",len(catalogData))\n",
    "print(catalogData[:4])"
   ]
  },
  {
   "cell_type": "code",
   "execution_count": null,
   "metadata": {},
   "outputs": [],
   "source": [
    "catalogData = Catalogs.query_criteria(catalog=\"Tic\",Bmag=[30,50],objType=\"STAR\")\n",
    "print(\"Number of results:\",len(catalogData))\n",
    "print(catalogData)"
   ]
  },
  {
   "cell_type": "code",
   "execution_count": null,
   "metadata": {
    "scrolled": false
   },
   "outputs": [],
   "source": [
    "catalogData = Catalogs.query_object(\"M10\", radius=.02, catalog=\"TIC\")\n",
    "print(\"Number of results:\",len(catalogData))\n",
    "print(catalogData[:10])"
   ]
  },
  {
   "cell_type": "code",
   "execution_count": null,
   "metadata": {},
   "outputs": [],
   "source": [
    "catalogData = Catalogs.query_object(\"M10\", radius=.001, catalog=\"HSC\",magtype=1)\n",
    "print(\"Number of results:\",len(catalogData))\n",
    "print(catalogData[:10])"
   ]
  },
  {
   "cell_type": "markdown",
   "metadata": {},
   "source": [
    "### Query by criteria\n",
    "<div style=\"text-align: right\">[(top)](#MAST-Astroquery-API)</div>\n",
    "**\\* Only available for TIC and Disk Detective catalogs**"
   ]
  },
  {
   "cell_type": "code",
   "execution_count": null,
   "metadata": {
    "scrolled": false
   },
   "outputs": [],
   "source": [
    "catalogData = Catalogs.query_criteria(catalog=\"Tic\",objectname=\"M10\",objType=\"EXTENDED\")\n",
    "print(\"Number of results:\",len(catalogData))\n",
    "print(catalogData)"
   ]
  },
  {
   "cell_type": "code",
   "execution_count": null,
   "metadata": {
    "scrolled": true
   },
   "outputs": [],
   "source": [
    "catalogData = Catalogs.query_criteria(catalog=\"DiskDetective\",objectname=\"M10\",radius=2,state=\"complete\")\n",
    "print(\"Number of results:\",len(catalogData))\n",
    "print(catalogData)"
   ]
  },
  {
   "cell_type": "code",
   "execution_count": null,
   "metadata": {
    "scrolled": false
   },
   "outputs": [],
   "source": [
    "catalogData = Catalogs.query_criteria(catalog=\"DiskDetective\",state=[\"inactive\",\"disabled\"],oval=[8,10],multi=[3,7])\n",
    "print(\"Number of results:\",len(catalogData))\n",
    "print(catalogData[:10])"
   ]
  },
  {
   "cell_type": "markdown",
   "metadata": {},
   "source": [
    "### HSC Specific queries\n",
    "<div style=\"text-align: right\">[(top)](#MAST-Astroquery-API)</div>"
   ]
  },
  {
   "cell_type": "code",
   "execution_count": null,
   "metadata": {},
   "outputs": [],
   "source": [
    "catalogData = Catalogs.query_object(\"M10\", radius=.001, catalog=\"HSC\",magtype=1)\n",
    "matches = Catalogs.query_hsc_matchid(catalogData[0][\"MatchID\"])\n",
    "print(\"Number of results:\",len(matches))\n",
    "print(matches)"
   ]
  },
  {
   "cell_type": "code",
   "execution_count": null,
   "metadata": {},
   "outputs": [],
   "source": [
    "allSpectra = Catalogs.get_hsc_spectra() \n",
    "print(\"Number of results:\",len(allSpectra))\n",
    "print(allSpectra[:10])"
   ]
  },
  {
   "cell_type": "code",
   "execution_count": null,
   "metadata": {},
   "outputs": [],
   "source": [
    "manifest = Catalogs.download_hsc_spectra(allSpectra[100:104], cache=False)\n",
    "print(manifest)"
   ]
  },
  {
   "cell_type": "markdown",
   "metadata": {
    "collapsed": true
   },
   "source": [
    "## Proprietary Data Access\n",
    "<div style=\"text-align: right\">[(top)](#MAST-Astroquery-API)</div>"
   ]
  },
  {
   "cell_type": "code",
   "execution_count": null,
   "metadata": {},
   "outputs": [],
   "source": [
    "# This will prompt for valid MyST account credentials\n",
    "# not all accounts will have access to the particular proprietary data used in the below example\n",
    "Observations.login()"
   ]
  },
  {
   "cell_type": "code",
   "execution_count": null,
   "metadata": {},
   "outputs": [],
   "source": [
    "propDat = Observations.query_criteria(dataRights=\"Proprietary\",objectname=\"M101\",radius=2)\n",
    "propProds = Observations.get_product_list(propDat[0:2])"
   ]
  },
  {
   "cell_type": "code",
   "execution_count": null,
   "metadata": {},
   "outputs": [],
   "source": [
    "propProds"
   ]
  },
  {
   "cell_type": "code",
   "execution_count": null,
   "metadata": {
    "scrolled": false
   },
   "outputs": [],
   "source": [
    "Observations.download_products(propProds,cache=False)"
   ]
  },
  {
   "cell_type": "code",
   "execution_count": null,
   "metadata": {},
   "outputs": [],
   "source": [
    "my_token = Observations.get_token()"
   ]
  },
  {
   "cell_type": "code",
   "execution_count": null,
   "metadata": {},
   "outputs": [],
   "source": [
    "myObs = Observations(session_token=my_token)"
   ]
  },
  {
   "cell_type": "code",
   "execution_count": null,
   "metadata": {},
   "outputs": [],
   "source": [
    "_ = myObs.session_info()"
   ]
  },
  {
   "cell_type": "code",
   "execution_count": null,
   "metadata": {},
   "outputs": [],
   "source": [
    "myObs.download_products(propProds,cache=False)"
   ]
  },
  {
   "cell_type": "code",
   "execution_count": null,
   "metadata": {},
   "outputs": [],
   "source": [
    "myObs.logout()"
   ]
  },
  {
   "cell_type": "code",
   "execution_count": null,
   "metadata": {},
   "outputs": [],
   "source": [
    "myObs.session_info(True)"
   ]
  },
  {
   "cell_type": "markdown",
   "metadata": {},
   "source": [
    "## Mast Class\n",
    "<div style=\"text-align: right\">[(top)](#MAST-Astroquery-API)</div>"
   ]
  },
  {
   "cell_type": "code",
   "execution_count": null,
   "metadata": {
    "scrolled": true
   },
   "outputs": [],
   "source": [
    "service = 'Mast.Caom.Cone'\n",
    "params = {'ra':184.3,\n",
    "          'dec':54.5,\n",
    "          'radius':0.2}\n",
    "        \n",
    "observations = Mast.service_request(service, params, clearchache=True)\n",
    "print(observations[:10])"
   ]
  },
  {
   "cell_type": "code",
   "execution_count": null,
   "metadata": {},
   "outputs": [],
   "source": [
    "service = 'Mast.Name.Lookup'\n",
    "params ={'input':\"M8\",\n",
    "         'format':'json'}\n",
    "        \n",
    "response = Mast.service_request_async(service,params)        \n",
    "result = response[0].json()\n",
    "result"
   ]
  },
  {
   "cell_type": "code",
   "execution_count": null,
   "metadata": {},
   "outputs": [],
   "source": [
    "service = \"Mast.Jwst.Filtered.Miri\"\n",
    "params = {\"columns\":\"*\",\n",
    "                    \"filters\":[],\n",
    "                    \"position\":\"undefined, undefined, undefined\"}"
   ]
  },
  {
   "cell_type": "code",
   "execution_count": null,
   "metadata": {},
   "outputs": [],
   "source": [
    "response = Mast.service_request_async(service,params)   "
   ]
  },
  {
   "cell_type": "code",
   "execution_count": null,
   "metadata": {},
   "outputs": [],
   "source": [
    "result = response[0].json()\n",
    "result"
   ]
  }
 ],
 "metadata": {
  "kernelspec": {
   "display_name": "Python 3",
   "language": "python",
   "name": "python3"
  },
  "language_info": {
   "codemirror_mode": {
    "name": "ipython",
    "version": 3
   },
   "file_extension": ".py",
   "mimetype": "text/x-python",
   "name": "python",
   "nbconvert_exporter": "python",
   "pygments_lexer": "ipython3",
   "version": "3.6.4"
  },
  "widgets": {
   "state": {},
   "version": "1.1.2"
  }
 },
 "nbformat": 4,
 "nbformat_minor": 1
}
