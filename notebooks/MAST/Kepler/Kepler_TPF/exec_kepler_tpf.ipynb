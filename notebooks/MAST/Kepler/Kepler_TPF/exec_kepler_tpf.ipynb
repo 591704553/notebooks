{
 "cells": [
  {
   "cell_type": "markdown",
   "metadata": {
    "slideshow": {
     "slide_type": "slide"
    }
   },
   "source": [
    "<a id=\"title_ID\"></a>\n",
    "# Plotting Images from Kepler Target Pixel Files\n",
    "<br>\n",
    "This notebook tutorial demonstrates the loading and extracting of information from Kepler Target Pixel Files to plot images that show the pixels used to create data found in Kepler light curve files. \n",
    "<br>\n",
    "<img style=\"float: right;\" src=\"./tpf_fluxplot_28-29.png\" alt=\"tpf_fluxplot_28-29\" width=\"350\"/>\n",
    "<img style=\"float: right;\" src=\"./tpf_fluxplot0.png\" alt=\"tpf_fluxplot0\" width=\"350\"/>\n",
    "### Table of Contents\n",
    "<div style=\"text-align: left\"> <br> [Introduction](#intro_ID) <br> [Imports](#imports_ID) <br> [Getting the Data](#data_ID) <br> [Reading FITS Extensions](#extension_ID) <br> [Plotting the Images](#images_ID) <br> [The Aperture Extension](#aperture_ID) <br> [Additional Resources](#resources_ID) <br> [About this Notebook](#about_ID) </div>"
   ]
  },
  {
   "cell_type": "markdown",
   "metadata": {
    "slideshow": {
     "slide_type": "skip"
    }
   },
   "source": [
    "***"
   ]
  },
  {
   "cell_type": "markdown",
   "metadata": {
    "slideshow": {
     "slide_type": "slide"
    }
   },
   "source": [
    "<a id=\"intro_ID\"></a>\n",
    "## Introduction\n",
    "**Target Pixel File background:**\n",
    "The pixels used to create data in the light curve files are contained within a predefined mask. Each target pixel file packages these pixels as a time series of images in a binary FITS table. These files can then be used to perform photometry on. The binary table in a Target Pixel File (TPF) holds columns of data that contain an array in each cell. \n",
    "\n",
    "**Some notes about the file:** kplr008957091-2012277125453_lpd-targ.fits.gz\n",
    "<br>The filename contains phrases for identification, where\n",
    " - kplr = Kepler \n",
    " - 008957091 = Kepler ID number\n",
    " - 2012277125453 = year 2012, day 277, time 12:54:53\n",
    " - lpd-targ = long cadence target pixel file\n",
    "\n",
    "**Defining some terms:**\n",
    " - **Cadence:** the frequency with which summed data are read out. Files are either short cadence (a 1 minute sum) or long cadence (a 30 minute sum). The data we are using here is a long cadence file. \n",
    " - **HDU:** Header Data Unit; a FITS file is made up of Header or Data units that contain information, data, and metadata relating to the file. The first HDU is called the primary, and anything that follows is considered an extension.  \n",
    "\n",
    "For more information about the Kepler mission and collected data, visit the [Kepler archive page](https://archive.stsci.edu/kepler/). To read more details about Target Pixel Files and relevant data terms, look in the [Kepler archive manual](https://archive.stsci.edu/kepler/manuals/archive_manual.pdf#page=22)."
   ]
  },
  {
   "cell_type": "markdown",
   "metadata": {
    "slideshow": {
     "slide_type": "skip"
    }
   },
   "source": [
    "[Top of Page](#title_ID)"
   ]
  },
  {
   "cell_type": "markdown",
   "metadata": {
    "slideshow": {
     "slide_type": "skip"
    }
   },
   "source": [
    "***"
   ]
  },
  {
   "cell_type": "markdown",
   "metadata": {
    "slideshow": {
     "slide_type": "slide"
    }
   },
   "source": [
    "<a id=\"imports_ID\"></a>\n",
    "## Imports\n",
    "Let's start by importing some libraries to the environment: \n",
    "- *numpy* to handle array functions\n",
    "- *astropy.io fits* for accessing FITS files\n",
    "- *astropy.table Table* for creating tidy tables of the data\n",
    "- *matplotlib.pyplot* for plotting data"
   ]
  },
  {
   "cell_type": "code",
   "execution_count": 1,
   "metadata": {
    "slideshow": {
     "slide_type": "fragment"
    }
   },
   "outputs": [],
   "source": [
    "%matplotlib inline\n",
    "import numpy as np\n",
    "from astropy.io import fits\n",
    "from astropy.table import Table\n",
    "import matplotlib.pyplot as plt"
   ]
  },
  {
   "cell_type": "markdown",
   "metadata": {
    "slideshow": {
     "slide_type": "skip"
    }
   },
   "source": [
    "[Top of Page](#title_ID)"
   ]
  },
  {
   "cell_type": "markdown",
   "metadata": {
    "slideshow": {
     "slide_type": "skip"
    }
   },
   "source": [
    "***"
   ]
  },
  {
   "cell_type": "markdown",
   "metadata": {
    "slideshow": {
     "slide_type": "slide"
    }
   },
   "source": [
    "<a id=\"data_ID\"></a>\n",
    "## Getting the Data\n",
    "Start by importing libraries from Astroquery. For a longer, more detailed description using of Astroquery, please visit this [tutorial](https://github.com/spacetelescope/MAST-API-Notebooks/blob/master/MUG2018_APITutorial_Astroquery.ipynb) or read the Astroquery [documentation](https://astroquery.readthedocs.io/en/latest/#). "
   ]
  },
  {
   "cell_type": "code",
   "execution_count": 2,
   "metadata": {
    "slideshow": {
     "slide_type": "fragment"
    }
   },
   "outputs": [],
   "source": [
    "from astroquery.mast import Mast\n",
    "from astroquery.mast import Observations"
   ]
  },
  {
   "cell_type": "markdown",
   "metadata": {
    "slideshow": {
     "slide_type": "slide"
    }
   },
   "source": [
    "<br>Next, we need to find the data file. This is similar to searching for the data using the [MAST Portal](https://mast.stsci.edu/portal/Mashup/Clients/Mast/Portal.html) in that we will be using certain keywords to find the file. The object we are looking for is kplr008957091, collected by the Kepler spacecraft. We are also looking for a long cadence timeseries file."
   ]
  },
  {
   "cell_type": "code",
   "execution_count": 3,
   "metadata": {
    "slideshow": {
     "slide_type": "fragment"
    }
   },
   "outputs": [
    {
     "data": {
      "text/html": [
       "<i>Table masked=True length=1</i>\n",
       "<table id=\"table140105662575224\" class=\"table-striped table-bordered table-condensed\">\n",
       "<thead><tr><th>obsID</th><th>obs_collection</th><th>dataproduct_type</th><th>obs_id</th><th>description</th><th>type</th><th>dataURI</th><th>productType</th><th>productGroupDescription</th><th>productSubGroupDescription</th><th>productDocumentationURL</th><th>project</th><th>prvversion</th><th>proposal_id</th><th>productFilename</th><th>size</th><th>parent_obsid</th><th>dataRights</th></tr></thead>\n",
       "<thead><tr><th>str10</th><th>str6</th><th>str10</th><th>str36</th><th>str59</th><th>str1</th><th>str110</th><th>str7</th><th>str28</th><th>str1</th><th>str1</th><th>str6</th><th>str1</th><th>str7</th><th>str44</th><th>int64</th><th>str10</th><th>str6</th></tr></thead>\n",
       "<tr><td>9000159893</td><td>Kepler</td><td>timeseries</td><td>kplr008957091_lc_Q000000000011111111</td><td>Target Pixel Long Cadence (TPL) - Q14</td><td>C</td><td>mast:Kepler/url/missions/kepler/target_pixel_files/0089/008957091/kplr008957091-2012277125453_lpd-targ.fits.gz</td><td>SCIENCE</td><td>--</td><td>--</td><td>--</td><td>Kepler</td><td>--</td><td>GO30032</td><td>kplr008957091-2012277125453_lpd-targ.fits.gz</td><td>4365449</td><td>9000159893</td><td>PUBLIC</td></tr>\n",
       "</table>"
      ],
      "text/plain": [
       "<Table masked=True length=1>\n",
       "  obsID    obs_collection dataproduct_type ...   size  parent_obsid dataRights\n",
       "  str10         str6           str10       ...  int64     str10        str6   \n",
       "---------- -------------- ---------------- ... ------- ------------ ----------\n",
       "9000159893         Kepler       timeseries ... 4365449   9000159893     PUBLIC"
      ]
     },
     "execution_count": 3,
     "metadata": {},
     "output_type": "execute_result"
    }
   ],
   "source": [
    "keplerObs = Observations.query_criteria(target_name='kplr008957091', obs_collection='Kepler')\n",
    "keplerProds = Observations.get_product_list(keplerObs[0])\n",
    "yourProd = Observations.filter_products(keplerProds,extension='kplr008957091-2012277125453_lpd-targ.fits.gz',\n",
    "                                        mrp_only=False)\n",
    "yourProd"
   ]
  },
  {
   "cell_type": "markdown",
   "metadata": {
    "slideshow": {
     "slide_type": "slide"
    }
   },
   "source": [
    "<br>Now that we've found the data file, we can download it using the reults shown in the table above:"
   ]
  },
  {
   "cell_type": "code",
   "execution_count": 4,
   "metadata": {
    "scrolled": true,
    "slideshow": {
     "slide_type": "fragment"
    }
   },
   "outputs": [
    {
     "name": "stdout",
     "output_type": "stream",
     "text": [
      "Downloading URL https://mast.stsci.edu/api/v0.1/Download/file?uri=mast:Kepler/url/missions/kepler/target_pixel_files/0089/008957091/kplr008957091-2012277125453_lpd-targ.fits.gz to ./mastDownload/Kepler/kplr008957091_lc_Q000000000011111111/kplr008957091-2012277125453_lpd-targ.fits.gz ..."
     ]
    },
    {
     "name": "stdout",
     "output_type": "stream",
     "text": [
      " [Done]\n"
     ]
    },
    {
     "data": {
      "text/html": [
       "<i>Table length=1</i>\n",
       "<table id=\"table140105653216928\" class=\"table-striped table-bordered table-condensed\">\n",
       "<thead><tr><th>Local Path</th><th>Status</th><th>Message</th><th>URL</th></tr></thead>\n",
       "<thead><tr><th>str103</th><th>str8</th><th>object</th><th>object</th></tr></thead>\n",
       "<tr><td>./mastDownload/Kepler/kplr008957091_lc_Q000000000011111111/kplr008957091-2012277125453_lpd-targ.fits.gz</td><td>COMPLETE</td><td>None</td><td>None</td></tr>\n",
       "</table>"
      ],
      "text/plain": [
       "<Table length=1>\n",
       "                                               Local Path                                               ...\n",
       "                                                 str103                                                 ...\n",
       "------------------------------------------------------------------------------------------------------- ...\n",
       "./mastDownload/Kepler/kplr008957091_lc_Q000000000011111111/kplr008957091-2012277125453_lpd-targ.fits.gz ..."
      ]
     },
     "execution_count": 4,
     "metadata": {},
     "output_type": "execute_result"
    }
   ],
   "source": [
    "Observations.download_products(yourProd, mrp_only=False, cache=False)"
   ]
  },
  {
   "cell_type": "markdown",
   "metadata": {
    "slideshow": {
     "slide_type": "skip"
    }
   },
   "source": [
    "[Top of Page](#title_ID)"
   ]
  },
  {
   "cell_type": "markdown",
   "metadata": {
    "slideshow": {
     "slide_type": "skip"
    }
   },
   "source": [
    "***"
   ]
  },
  {
   "cell_type": "markdown",
   "metadata": {
    "slideshow": {
     "slide_type": "slide"
    }
   },
   "source": [
    "<a id=\"extension_ID\"></a>\n",
    "## Reading FITS Extensions\n",
    "<br>Now that we have the file, we can start working with the data. We will begin by assigning a shorter name to the file to make it easier to use. Then, using the info function from astropy.io.fits, we can see some information about the FITS Header Data Units:"
   ]
  },
  {
   "cell_type": "code",
   "execution_count": 5,
   "metadata": {
    "scrolled": true,
    "slideshow": {
     "slide_type": "fragment"
    }
   },
   "outputs": [
    {
     "name": "stdout",
     "output_type": "stream",
     "text": [
      "Filename: ./mastDownload/Kepler/kplr008957091_lc_Q000000000011111111/kplr008957091-2012277125453_lpd-targ.fits.gz\n",
      "No.    Name      Ver    Type      Cards   Dimensions   Format\n",
      "  0  PRIMARY       1 PrimaryHDU      58   ()      \n",
      "  1  TARGETTABLES    1 BinTableHDU    287   4757R x 13C   [D, E, J, 64J, 64E, 64E, 64E, 64E, 64E, J, E, E, 40E]   \n",
      "  2  APERTURE      1 ImageHDU        48   (8, 8)   int32   \n"
     ]
    }
   ],
   "source": [
    "filename = \"./mastDownload/Kepler/kplr008957091_lc_Q000000000011111111/kplr008957091-2012277125453_lpd-targ.fits.gz\"\n",
    "fits.info(filename)"
   ]
  },
  {
   "cell_type": "markdown",
   "metadata": {
    "slideshow": {
     "slide_type": "fragment"
    }
   },
   "source": [
    "- **No. 0 (Primary): **\n",
    "<br>This HDU contains meta-data related to the entire file.\n",
    "- **No. 1 (Targettables): **\n",
    "<br>This HDU contains a binary table that has 13 columns containing a series of either scalar values or images. We will be taking some of the images from the table and plotting them in this tutorial.\n",
    "- **No. 2 (Aperture): **\n",
    "<br>This HDU contains the image extension with data collected from the aperture. We will also use this to display a bitmask plot that visually represents the optimal aperture used to create the SAP_FLUX column in the light curve data.\n",
    "\n",
    "For more detailed information about header extensions, look [here](https://archive.stsci.edu/kepler/manuals/archive_manual.pdf#page=22)."
   ]
  },
  {
   "cell_type": "markdown",
   "metadata": {
    "slideshow": {
     "slide_type": "slide"
    }
   },
   "source": [
    "<br>Let's say we wanted to see more information about the extensions than what the fits.info command gave us. For example, we can access information stored in the header of the Binary Table extension (No.1, TARGETTABLES). The following line opens the FITS file, writes the first HDU extension into header1, and then closes the file. Only 24 columns are displayed here but you can view them all by adjusting the range:"
   ]
  },
  {
   "cell_type": "code",
   "execution_count": 6,
   "metadata": {
    "scrolled": false,
    "slideshow": {
     "slide_type": "fragment"
    }
   },
   "outputs": [
    {
     "name": "stdout",
     "output_type": "stream",
     "text": [
      "BITPIX  =                    8 / array data type                                \n",
      "NAXIS   =                    2 / number of array dimensions                     \n",
      "NAXIS1  =                 1724 / length of first array dimension                \n",
      "NAXIS2  =                 4757 / length of second array dimension               \n",
      "PCOUNT  =                    0 / group parameter count (not used)               \n",
      "GCOUNT  =                    1 / group count (not used)                         \n",
      "TFIELDS =                   13 / number of table fields                         \n",
      "TTYPE1  = 'TIME    '           / column title: data time stamps                 \n",
      "TFORM1  = 'D       '           / column format: 64-bit floating point           \n",
      "TUNIT1  = 'BJD - 2454833'      / column units: barycenter corrected JD          \n",
      "TDISP1  = 'D14.7   '           / column display format                          \n",
      "TTYPE2  = 'TIMECORR'           / column title: barycenter - timeslice correction\n",
      "TFORM2  = 'E       '           / column format: 32-bit floating point           \n",
      "TUNIT2  = 'd       '           / column units: day                              \n",
      "TDISP2  = 'E14.7   '           / column display format                          \n",
      "TTYPE3  = 'CADENCENO'          / column title: unique cadence number            \n",
      "TFORM3  = 'J       '           / column format: signed 32-bit integer           \n",
      "TDISP3  = 'I10     '           / column display format                          \n",
      "TTYPE4  = 'RAW_CNTS'           / column title: raw pixel counts                 \n",
      "TFORM4  = '64J     '           / column format: image of signed 32-bit integers \n",
      "TUNIT4  = 'count   '           / column units: count                            \n",
      "TDISP4  = 'I8      '           / column display format                          \n",
      "TDIM4   = '(8,8)   '           / column dimensions: pixel aperture array        \n",
      "TNULL4  =                   -1 / column null value indicator                    \n"
     ]
    }
   ],
   "source": [
    "with fits.open(filename) as hdulist: \n",
    "    header1 = hdulist[1].header\n",
    "  \n",
    "print(repr(header1[1:25])) #repr() prints the info into neat columns"
   ]
  },
  {
   "cell_type": "markdown",
   "metadata": {},
   "source": [
    "<br> We can also view a table of the data from the Binary Table extension. This is where we can find the flux and time columns to be plotted later. Here only the first four rows of the table are displayed:"
   ]
  },
  {
   "cell_type": "code",
   "execution_count": 7,
   "metadata": {
    "scrolled": true
   },
   "outputs": [
    {
     "data": {
      "text/html": [
       "<i>Table length=4</i>\n",
       "<table id=\"table140105652477736\" class=\"table-striped table-bordered table-condensed\">\n",
       "<thead><tr><th>TIME</th><th>TIMECORR</th><th>CADENCENO</th><th>RAW_CNTS [8,8]</th><th>FLUX [8,8]</th><th>FLUX_ERR [8,8]</th><th>FLUX_BKG [8,8]</th><th>FLUX_BKG_ERR [8,8]</th><th>COSMIC_RAYS [8,8]</th><th>QUALITY</th><th>POS_CORR1</th><th>POS_CORR2</th><th>RB_LEVEL [8,5]</th></tr></thead>\n",
       "<thead><tr><th>float64</th><th>float32</th><th>int32</th><th>int32</th><th>float32</th><th>float32</th><th>float32</th><th>float32</th><th>float32</th><th>int32</th><th>float32</th><th>float32</th><th>float32</th></tr></thead>\n",
       "<tr><td>1274.1395732864694</td><td>0.0022160665</td><td>57024</td><td>422568 .. 421938</td><td>41.62306 .. 0.49973154</td><td>1.0728891 .. 1.077012</td><td>166.55408 .. 166.43286</td><td>0.05004611 .. 0.05002594</td><td>nan .. nan</td><td>0</td><td>0.018315108</td><td>-0.052525554</td><td>0.16289888 .. 0.22096205</td></tr>\n",
       "<tr><td>1274.1600076621398</td><td>0.0022167421</td><td>57025</td><td>422568 .. 421938</td><td>41.12269 .. 0.40782627</td><td>1.0728829 .. 1.0770054</td><td>166.5374 .. 166.41513</td><td>0.05014606 .. 0.050128847</td><td>nan .. nan</td><td>0</td><td>0.018484294</td><td>-0.052207224</td><td>0.19264737 .. 0.28943384</td></tr>\n",
       "<tr><td>1274.1804419378168</td><td>0.0022174178</td><td>57026</td><td>422598 .. 421938</td><td>43.76557 .. 0.18402159</td><td>1.0735049 .. 1.0770029</td><td>166.44955 .. 166.32483</td><td>0.05003051 .. 0.05001035</td><td>nan .. nan</td><td>0</td><td>0.019123403</td><td>-0.052663438</td><td>0.27529782 .. 0.28463778</td></tr>\n",
       "<tr><td>1274.2008761132602</td><td>0.0022180933</td><td>57027</td><td>422588 .. 421938</td><td>42.315395 .. 0.26509726</td><td>1.073293 .. 1.076999</td><td>166.54523 .. 166.4112</td><td>0.05008907 .. 0.05007079</td><td>nan .. nan</td><td>0</td><td>0.018382369</td><td>-0.052379206</td><td>0.2684216 .. 0.297417</td></tr>\n",
       "</table>"
      ],
      "text/plain": [
       "<Table length=4>\n",
       "       TIME          TIMECORR   ...  POS_CORR2        RB_LEVEL [8,5]     \n",
       "     float64         float32    ...   float32            float32         \n",
       "------------------ ------------ ... ------------ ------------------------\n",
       "1274.1395732864694 0.0022160665 ... -0.052525554 0.16289888 .. 0.22096205\n",
       "1274.1600076621398 0.0022167421 ... -0.052207224 0.19264737 .. 0.28943384\n",
       "1274.1804419378168 0.0022174178 ... -0.052663438 0.27529782 .. 0.28463778\n",
       "1274.2008761132602 0.0022180933 ... -0.052379206    0.2684216 .. 0.297417"
      ]
     },
     "execution_count": 7,
     "metadata": {},
     "output_type": "execute_result"
    }
   ],
   "source": [
    "with fits.open(filename) as hdulist:\n",
    "    binaryext = hdulist[1].data\n",
    "\n",
    "binarytab = Table(binaryext)\n",
    "binarytab[0:4]"
   ]
  },
  {
   "cell_type": "markdown",
   "metadata": {},
   "source": [
    "<br>Some of the columns (RAW_CNTS through COSMIC_RAYS) are 8x8 arrays. These are the pixels used for light curve data packaged as images into the Binary Table. Each of these arrays is an image taken at a certain time as seen in the TIME column. To find out how many times there are, we can run the following code to get the vertical length of the entire table:"
   ]
  },
  {
   "cell_type": "code",
   "execution_count": 8,
   "metadata": {},
   "outputs": [
    {
     "name": "stdout",
     "output_type": "stream",
     "text": [
      "4757\n"
     ]
    }
   ],
   "source": [
    "print(len(binarytab['TIME']))"
   ]
  },
  {
   "cell_type": "markdown",
   "metadata": {},
   "source": [
    "[Top of Page](#title_ID)"
   ]
  },
  {
   "cell_type": "markdown",
   "metadata": {},
   "source": [
    "***"
   ]
  },
  {
   "cell_type": "markdown",
   "metadata": {},
   "source": [
    "<a id=\"images_ID\"></a>\n",
    "## Plotting the Images\n",
    "To better understand the arrays in the table, we can single out one cell and display its data. For example, let's read the cell in Row 0, column FLUX. This is the flux data collected at time 1274.1395732864694."
   ]
  },
  {
   "cell_type": "code",
   "execution_count": 9,
   "metadata": {
    "scrolled": true
   },
   "outputs": [
    {
     "data": {
      "text/plain": [
       "array([[ 4.1623058e+01,  1.7780533e+01,  3.1153817e+00, -3.0876877e+00,\n",
       "         8.3767604e-03, -1.0850269e+00, -8.1516063e-01, -2.5957384e+00],\n",
       "       [ 3.0861683e+01,  1.0227163e+01,  5.5491271e+00,  7.6004462e+00,\n",
       "         3.4271725e+01,  6.9740272e+00,  1.0782831e+00,  7.1954594e+00],\n",
       "       [-1.4854238e+00,  5.4094785e-01,  3.5754349e+00,  1.8321907e+01,\n",
       "         5.8315243e+01,  1.7005610e+01,  1.4785897e+00,  2.1474166e-01],\n",
       "       [-2.9369431e+00, -3.0120549e-01,  1.9583700e+01,  1.2907016e+02,\n",
       "         2.6917322e+02,  7.8723610e+01,  1.8297552e+01,  6.7504066e+01],\n",
       "       [-5.1648269e+00,  6.6967867e-02,  2.4730293e+01,  1.8597522e+02,\n",
       "         3.9219736e+02,  9.2981400e+01,  1.8644941e+01,  1.4952176e+02],\n",
       "       [ 2.4195774e-01, -2.2746756e+00, -7.2001988e-01,  6.1791143e+00,\n",
       "         1.6116604e+01,  1.0269024e+01,  3.5868566e+00,  1.2844697e+00],\n",
       "       [ 2.1793385e+00, -2.0849459e+00, -2.2841897e+00, -2.2008568e-01,\n",
       "         5.5619407e+00,  1.3116534e+01,  1.8261925e+00, -2.2240562e+00],\n",
       "       [-2.1672373e+00, -4.2338033e+00, -2.9555788e+00, -9.1262859e-01,\n",
       "         8.5611248e+00,  2.2380089e+01,  2.7300879e+01,  4.9973154e-01]],\n",
       "      dtype=float32)"
      ]
     },
     "execution_count": 9,
     "metadata": {},
     "output_type": "execute_result"
    }
   ],
   "source": [
    "binarytab['FLUX'][0]"
   ]
  },
  {
   "cell_type": "markdown",
   "metadata": {},
   "source": [
    "<br>\n",
    "<br>We can then plot this array as an image, where each pixel is shown as a color value from the above array:"
   ]
  },
  {
   "cell_type": "code",
   "execution_count": 10,
   "metadata": {
    "scrolled": true
   },
   "outputs": [
    {
     "data": {
      "image/png": "[encoded data removed]",
      "text/plain": [
       "<Figure size 432x288 with 2 Axes>"
      ]
     },
     "metadata": {
      "needs_background": "light"
     },
     "output_type": "display_data"
    }
   ],
   "source": [
    "plt.title('Flux Row 0')\n",
    "plt.xlabel('Column')\n",
    "plt.ylabel('Row')\n",
    "\n",
    "plt.imshow(binarytab['FLUX'][0], cmap=plt.cm.YlGnBu_r)\n",
    "plt.colorbar()\n",
    "plt.clim(0,300)"
   ]
  },
  {
   "cell_type": "markdown",
   "metadata": {},
   "source": [
    "<br>This plot can be made for any of the arrays in the table. To read in and plot a different cell, change the row number from [0] to another number. \n",
    "\n",
    "<br>Some arrays contain no numbers, only NaN values. This results in completely blank image frames:"
   ]
  },
  {
   "cell_type": "code",
   "execution_count": 11,
   "metadata": {},
   "outputs": [
    {
     "data": {
      "text/plain": [
       "array([[nan, nan, nan, nan, nan, nan, nan, nan],\n",
       "       [nan, nan, nan, nan, nan, nan, nan, nan],\n",
       "       [nan, nan, nan, nan, nan, nan, nan, nan],\n",
       "       [nan, nan, nan, nan, nan, nan, nan, nan],\n",
       "       [nan, nan, nan, nan, nan, nan, nan, nan],\n",
       "       [nan, nan, nan, nan, nan, nan, nan, nan],\n",
       "       [nan, nan, nan, nan, nan, nan, nan, nan],\n",
       "       [nan, nan, nan, nan, nan, nan, nan, nan]], dtype=float32)"
      ]
     },
     "execution_count": 11,
     "metadata": {},
     "output_type": "execute_result"
    }
   ],
   "source": [
    "binarytab['FLUX'][34]"
   ]
  },
  {
   "cell_type": "code",
   "execution_count": 12,
   "metadata": {},
   "outputs": [
    {
     "data": {
      "image/png": "[encoded data removed]",
      "text/plain": [
       "<Figure size 432x288 with 2 Axes>"
      ]
     },
     "metadata": {
      "needs_background": "light"
     },
     "output_type": "display_data"
    }
   ],
   "source": [
    "plt.title('Flux Row 34')\n",
    "plt.xlabel('column')\n",
    "plt.ylabel('row')\n",
    "\n",
    "plt.imshow(binarytab['FLUX'][34], cmap=plt.cm.YlGnBu_r)\n",
    "plt.colorbar()\n",
    "plt.clim(0,300)"
   ]
  },
  {
   "cell_type": "markdown",
   "metadata": {},
   "source": [
    "<br>We can also view the difference between one frame and another. For example, if we want to see the change from the flux at time in row 20 subtracted from the flux at time in row 19, we can write the following:"
   ]
  },
  {
   "cell_type": "code",
   "execution_count": 13,
   "metadata": {
    "scrolled": true
   },
   "outputs": [
    {
     "name": "stdout",
     "output_type": "stream",
     "text": [
      "[[-0.10368347  1.2084408   0.7001476  -0.04124689 -1.0750767  -0.13303757\n",
      "   1.1955365  -0.308725  ]\n",
      " [-0.8178196   3.288806   -0.01144838  4.190505    1.0418396  -0.12780714\n",
      "  -1.6264764   0.39404774]\n",
      " [-0.80597305  1.1767769  -2.1247475   2.0623436   1.0380287  -2.25745\n",
      "  -0.9374518  -1.7162728 ]\n",
      " [-0.8251231  -0.22384816 -0.72644997 -0.04460144  3.20755     0.5736923\n",
      "   1.1855717   1.1150208 ]\n",
      " [-0.10608602  1.8990426  -0.7197819   1.3527222  -1.2155457  -0.84685516\n",
      "  -0.22213173 -2.4338684 ]\n",
      " [ 1.3052053   0.488378   -1.4316924   1.3895159   1.0554571   2.7365294\n",
      "  -0.21660066  1.1082048 ]\n",
      " [-2.248003   -2.3650186  -2.852107    4.1624756   1.0340705  -0.8345432\n",
      "   0.48870218 -1.7171237 ]\n",
      " [-0.10844719 -1.6385655  -0.7226268  -1.4699272   1.7503319  -1.532999\n",
      "   1.8900471   1.1174535 ]]\n"
     ]
    }
   ],
   "source": [
    "arr = np.subtract(binarytab['FLUX'][28], binarytab['FLUX'][29])\n",
    "print(arr)"
   ]
  },
  {
   "cell_type": "markdown",
   "metadata": {},
   "source": [
    "We can then plot this array as well:"
   ]
  },
  {
   "cell_type": "code",
   "execution_count": 14,
   "metadata": {
    "scrolled": true
   },
   "outputs": [
    {
     "data": {
      "image/png": "[encoded data removed]",
      "text/plain": [
       "<Figure size 432x288 with 2 Axes>"
      ]
     },
     "metadata": {
      "needs_background": "light"
     },
     "output_type": "display_data"
    }
   ],
   "source": [
    "plt.title('Flux Row 28 minus 29')\n",
    "plt.xlabel('Column')\n",
    "plt.ylabel('Row')\n",
    "\n",
    "plt.imshow(arr, cmap=plt.cm.YlGnBu_r)\n",
    "plt.colorbar()\n",
    "plt.clim(-4, 12)"
   ]
  },
  {
   "cell_type": "markdown",
   "metadata": {},
   "source": [
    "[Top of Page](#title_ID)"
   ]
  },
  {
   "cell_type": "markdown",
   "metadata": {},
   "source": [
    "***"
   ]
  },
  {
   "cell_type": "markdown",
   "metadata": {},
   "source": [
    "<a id=\"aperture_ID\"></a>\n",
    "## The Aperture Extension\n",
    "We can also make a plot of the third header extension; the image extension. This data is stored as an array of integers that encodes which pixels were collected from the spacecraft and which were used in the optimal aperture (look here for more information on the [aperture extension](https://archive.stsci.edu/kepler/manuals/archive_manual.pdf#page=24)). \n",
    "<br> \n",
    "<br>First, we need to re-open the FITS file and access the header. Next, we read the the image extension (No. 2, APERTURE) and print it as an array:"
   ]
  },
  {
   "cell_type": "code",
   "execution_count": 15,
   "metadata": {
    "scrolled": false
   },
   "outputs": [
    {
     "name": "stdout",
     "output_type": "stream",
     "text": [
      "[[1 1 1 1 1 1 1 1]\n",
      " [1 1 1 1 1 1 1 1]\n",
      " [1 1 1 1 1 1 1 1]\n",
      " [1 1 1 1 3 1 1 1]\n",
      " [1 1 1 1 3 1 1 1]\n",
      " [1 1 1 1 1 1 1 1]\n",
      " [1 1 1 1 1 1 1 1]\n",
      " [1 1 1 1 1 1 1 1]]\n"
     ]
    }
   ],
   "source": [
    "with fits.open(filename) as hdulist: \n",
    "    imgdata = hdulist[2].data\n",
    "    \n",
    "print(imgdata)"
   ]
  },
  {
   "cell_type": "markdown",
   "metadata": {},
   "source": [
    "<br>We can then plot the above array, which will show the pixels used in the optimal aperture for photometry:"
   ]
  },
  {
   "cell_type": "code",
   "execution_count": 16,
   "metadata": {},
   "outputs": [
    {
     "data": {
      "text/plain": [
       "<matplotlib.image.AxesImage at 0x7f6ce3adcd68>"
      ]
     },
     "execution_count": 16,
     "metadata": {},
     "output_type": "execute_result"
    },
    {
     "data": {
      "image/png": "[encoded data removed]",
      "text/plain": [
       "<Figure size 432x288 with 1 Axes>"
      ]
     },
     "metadata": {
      "needs_background": "light"
     },
     "output_type": "display_data"
    }
   ],
   "source": [
    "plt.figure()\n",
    "plt.title('TPF APERTURE')\n",
    "plt.xlabel('Column')\n",
    "plt.ylabel('Row')\n",
    "plt.imshow(imgdata, cmap=plt.cm.YlGnBu_r)"
   ]
  },
  {
   "cell_type": "markdown",
   "metadata": {},
   "source": [
    "[Top of Page](#title_ID)"
   ]
  },
  {
   "cell_type": "markdown",
   "metadata": {},
   "source": [
    "***"
   ]
  },
  {
   "cell_type": "markdown",
   "metadata": {},
   "source": [
    "<a id=\"resources_ID\"></a>\n",
    "## Aditional Resources\n",
    "For more information about the MAST archive and details about mission data:\n",
    "<br>\n",
    "<br>[MAST API](https://mast.stsci.edu/api/v0/index.html)\n",
    "<br>[Kepler Archive Page (MAST)](https://archive.stsci.edu/kepler/)\n",
    "<br>[Kepler Archive Manual](https://archive.stsci.edu/kepler/manuals/archive_manual.pdf)\n",
    "<br>[Exo.MAST website](https://exo.mast.stsci.edu/exo/ExoMast/html/exomast.html)"
   ]
  },
  {
   "cell_type": "markdown",
   "metadata": {},
   "source": [
    "***"
   ]
  },
  {
   "cell_type": "markdown",
   "metadata": {},
   "source": [
    "<a id=\"about_ID\"></a>\n",
    "## About this Notebook\n",
    "**Author:** Josie Bunnell, STScI SASP Intern\n",
    "<br>**Updated On:** 08/10/2018"
   ]
  },
  {
   "cell_type": "markdown",
   "metadata": {},
   "source": [
    "***"
   ]
  },
  {
   "cell_type": "markdown",
   "metadata": {},
   "source": [
    "[Top of Page](#title_ID)\n",
    "<img style=\"float: right;\" src=\"https://raw.githubusercontent.com/spacetelescope/notebooks/master/assets/stsci_pri_combo_mark_horizonal_white_bkgd.png\" alt=\"STScI logo\" width=\"200px\"/> "
   ]
  }
 ],
 "metadata": {
  "kernelspec": {
   "display_name": "Python 3",
   "language": "python",
   "name": "python3"
  },
  "language_info": {
   "codemirror_mode": {
    "name": "ipython",
    "version": 3
   },
   "file_extension": ".py",
   "mimetype": "text/x-python",
   "name": "python",
   "nbconvert_exporter": "python",
   "pygments_lexer": "ipython3",
   "version": "3.6.9"
  }
 },
 "nbformat": 4,
 "nbformat_minor": 2
}
