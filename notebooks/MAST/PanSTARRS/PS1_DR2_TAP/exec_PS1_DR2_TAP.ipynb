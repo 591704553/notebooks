{
 "cells": [
  {
   "cell_type": "markdown",
   "metadata": {},
   "source": [
    "# MAST Table Access Protocol PanSTARRS 1 DR2 Demo"
   ]
  },
  {
   "cell_type": "markdown",
   "metadata": {},
   "source": [
    "<br> This tutorial demonstrates how to use astroquery to access PanSTARRS 1 Data Release 2 via a Virtual Observatory standard Table Access Protocol (TAP) service at MAST, and work with the resultant data. It relies on Python 3 and astroquery, as well as some other common scientific packages.\n",
    "\n",
    "***\n",
    "### Table of Contents\n",
    "\n",
    "1. [TAP Service Introduction](#TAP-Service-Introduction)\n",
    "2. [Imports](#Imports)\n",
    "3. [Connecting to a TAP Service](#Connecting-to-a-TAP-Service)\n",
    "4. [Use Cases](#Use-Cases)\n",
    "5. [Additional Resources](#Additional-Resources)\n",
    "6. [About This Notebook](#About-this-Notebook)\n",
    "***"
   ]
  },
  {
   "cell_type": "markdown",
   "metadata": {},
   "source": [
    "## TAP Service Introduction"
   ]
  },
  {
   "cell_type": "markdown",
   "metadata": {},
   "source": [
    "Table Access Protocol (TAP) services allow more direct and flexible access to astronomical data than the simpler types of IVOA standard data services. Queries are built with the SQL-like Astronomical Data Query Language (ADQL), and can include geographic / spatial queries as well as filtering on other characteristics of the data. This also allows the user fine-grained control over the returned columns, unlike the fixed set of coumns returned from cone, image, and spectral services.\n",
    "\n",
    "For this example, we'll be using the astroquery TAP/TAP+ client, which was developed by the ESAC Space Data Centre for working with the GAIA catalog, but is interoperable with other valid TAP services, including those at MAST. As an astroquery project, TAP+ documentation is available at ReadTheDocs: http://astroquery.readthedocs.io/en/latest/utils/tap.html\n",
    "\n",
    "We'll be using TAP+ to call the TAP service at MAST serving PanSTARRS 1 Data Release 2, now with individual detection information. The schema is described within the service, and we'll show how to inspect it. The schema is also the same as the one available via the CasJobs interface, with an additional view added for the most common positional queries. CasJobs has its own copy of the schema documentation, which can be accessed through its own site: http://mastweb.stsci.edu/ps1casjobs/\n",
    "\n"
   ]
  },
  {
   "cell_type": "markdown",
   "metadata": {},
   "source": [
    "***\n",
    "## Imports"
   ]
  },
  {
   "cell_type": "code",
   "execution_count": 1,
   "metadata": {},
   "outputs": [],
   "source": [
    "# Use the astroquery TapPlus library as our client to the data service.\n",
    "from astroquery.utils.tap.core import TapPlus\n",
    "\n",
    "# For resolving objects with tools from MAST\n",
    "from astroquery.mast import Mast\n",
    "\n",
    "# For handling ordinary astropy Tables in responses\n",
    "from astropy.table import Table\n",
    "\n",
    "# For resolving coordinates and rendering units\n",
    "from astropy import units as u\n",
    "from astropy.coordinates import SkyCoord\n",
    "\n",
    "# For displaying and manipulating some types of results\n",
    "%matplotlib inline\n",
    "import requests\n",
    "import astropy\n",
    "import numpy as np\n",
    "import pylab\n",
    "import time\n",
    "import json\n",
    "from matplotlib import pyplot as plt\n",
    "\n",
    "# For calling the object name resolver. Note these are Python 3 dependencies\n",
    "#import sys\n",
    "#import http.client as httplib \n",
    "#from urllib.parse import quote as urlencode\n",
    "#from urllib.request import urlretrieve\n",
    "\n",
    "# To allow display tweaks for wider response tables\n",
    "from IPython.core.display import display\n",
    "from IPython.core.display import HTML"
   ]
  },
  {
   "cell_type": "markdown",
   "metadata": {},
   "source": [
    "***\n",
    "## Connecting to a TAP Service"
   ]
  },
  {
   "cell_type": "markdown",
   "metadata": {},
   "source": [
    "The TapPlus library is able to connect to any TAP service, given the \"base\" URL as noted in metadata registry resources describing the service. This is the URL for the PanSTARRS 1 DR2 TAP service."
   ]
  },
  {
   "cell_type": "code",
   "execution_count": 2,
   "metadata": {},
   "outputs": [
    {
     "name": "stdout",
     "output_type": "stream",
     "text": [
      "Created TAP+ (v1.2.1) - Connection:\n",
      "\tHost: vao.stsci.edu\n",
      "\tUse HTTPS: False\n",
      "\tPort: 80\n",
      "\tSSL Port: 443\n"
     ]
    }
   ],
   "source": [
    "TAP_service = TapPlus(url=\"http://vao.stsci.edu/PS1DR2/tapservice.aspx\")"
   ]
  },
  {
   "cell_type": "markdown",
   "metadata": {},
   "source": [
    "### List available tables"
   ]
  },
  {
   "cell_type": "code",
   "execution_count": 3,
   "metadata": {},
   "outputs": [
    {
     "name": "stdout",
     "output_type": "stream",
     "text": [
      "INFO: Retrieving tables... [astroquery.utils.tap.core]\n"
     ]
    },
    {
     "name": "stdout",
     "output_type": "stream",
     "text": [
      "INFO: Parsing tables... [astroquery.utils.tap.core]\n",
      "INFO: Done. [astroquery.utils.tap.core]\n",
      "dbo.ForcedMeanLensing\n",
      "dbo.ForcedMeanObject\n",
      "dbo.ForcedMeanObjectView\n",
      "dbo.Detection\n",
      "dbo.DetectionFlags\n",
      "dbo.DetectionFlags2\n",
      "dbo.DetectionFlags3\n",
      "dbo.DetectionObjectView\n",
      "dbo.DiffDetection\n",
      "dbo.DiffDetEffMeta\n",
      "dbo.DiffDetObject\n",
      "dbo.DiffDetObjectView\n",
      "dbo.DiffMeta\n",
      "dbo.DiffToImage\n",
      "dbo.DiffType\n",
      "dbo.Filter\n",
      "dbo.FitModel\n",
      "dbo.ForcedGalaxyModelView\n",
      "dbo.ForcedGalaxyShape\n",
      "dbo.ForcedGalaxyShapeFlags\n",
      "dbo.FrameMeta\n",
      "dbo.ImageDetEffMeta\n",
      "dbo.ImageFlags\n",
      "dbo.ImageMeta\n",
      "dbo.MeanObject\n",
      "dbo.MeanObjectView\n",
      "dbo.ObjectFilterFlags\n",
      "dbo.ObjectInfoFlags\n",
      "dbo.ObjectQualityFlags\n",
      "dbo.ObjectThin\n",
      "dbo.PhotoCal\n",
      "dbo.StackApFlx\n",
      "dbo.StackApFlxExGalCon6\n",
      "dbo.StackApFlxExGalCon6ObjectView\n",
      "dbo.StackApFlxExGalCon8\n",
      "dbo.StackApFlxExGalCon8ObjectView\n",
      "dbo.StackApFlxExGalUnc\n",
      "dbo.StackApFlxExGalUncObjectView\n",
      "dbo.StackApFlxObjectView\n",
      "dbo.StackDetEffMeta\n",
      "dbo.StackMeta\n",
      "dbo.StackModelFitDeV\n",
      "dbo.StackModelFitDeVObjectView\n",
      "dbo.StackModelFitExp\n",
      "dbo.StackModelFitExpObjectView\n",
      "dbo.StackModelFitExtra\n",
      "dbo.StackModelFitPetObjectView\n",
      "dbo.StackModelFitSer\n",
      "dbo.StackModelFitSerObjectView\n",
      "dbo.StackModelObjectView\n",
      "dbo.StackObjectAttributes\n",
      "dbo.StackObjectThin\n",
      "dbo.StackObjectView\n",
      "dbo.StackPetrosian\n",
      "dbo.StackToFrame\n",
      "dbo.StackToImage\n",
      "dbo.StackType\n",
      "dbo.Survey\n",
      "dbo.TessellationType\n",
      "tap_schema.schemas\n",
      "tap_schema.tables\n",
      "tap_schema.columns\n",
      "tap_schema.keys\n",
      "tap_schema.key_columns\n"
     ]
    }
   ],
   "source": [
    "tables = TAP_service.load_tables(only_names=True)\n",
    "for table in tables:\n",
    "    print(table.name)"
   ]
  },
  {
   "cell_type": "markdown",
   "metadata": {},
   "source": [
    "# Use Cases"
   ]
  },
  {
   "cell_type": "markdown",
   "metadata": {},
   "source": [
    "## Simple Positional Query\n",
    "\n",
    "This searches the mean object catalog for objects within .2 degrees of M87 (RA=187.706, Dec=12.391 in degrees). The view used contains information from the [ObjectThin](https://outerspace.stsci.edu/x/W4Oc) table (which has information on object positions and the number of available measurements) and the [MeanObject](https://outerspace.stsci.edu/x/WYOc) table (which has information on photometry averaged over the multiple epochs of observation).\n",
    "\n",
    "Note that the results are restricted to objects with `nDetections>1`, where `nDetections` is the total number of times the object was detected on the single-epoch images in any filter at any time.  Objects with `nDetections=1` tend to be  artifacts, so this is a quick way to eliminate most spurious objects from the catalog.\n",
    "\n",
    "This query runs in TAP's asynchronous mode, which is a queued batch mode with some overhead and longer timeouts, useful for big catalogs like PanSTARRS. It may not be necessary for all queries to PS1 DR2, but the TAP+ client can automatically handle the additional processing required over synchronous mode."
   ]
  },
  {
   "cell_type": "code",
   "execution_count": 4,
   "metadata": {
    "scrolled": false
   },
   "outputs": [
    {
     "name": "stdout",
     "output_type": "stream",
     "text": [
      "INFO: Query finished. [astroquery.utils.tap.core]\n"
     ]
    },
    {
     "data": {
      "text/html": [
       "<i>Table masked=True length=6927</i>\n",
       "<table id=\"table140645982818640\" class=\"table-striped table-bordered table-condensed\">\n",
       "<thead><tr><th>objID</th><th>RAMean</th><th>DecMean</th><th>nDetections</th><th>ng</th><th>nr</th><th>ni</th><th>nz</th><th>ny</th><th>gMeanPSFMag</th><th>rMeanPSFMag</th><th>iMeanPSFMag</th><th>zMeanPSFMag</th><th>yMeanPSFMag</th></tr></thead>\n",
       "<thead><tr><th></th><th>deg</th><th>deg</th><th></th><th></th><th></th><th></th><th></th><th></th><th>mag</th><th>mag</th><th>mag</th><th>mag</th><th>mag</th></tr></thead>\n",
       "<thead><tr><th>int64</th><th>float64</th><th>float64</th><th>int16</th><th>int16</th><th>int16</th><th>int16</th><th>int16</th><th>int16</th><th>float32</th><th>float32</th><th>float32</th><th>float32</th><th>float32</th></tr></thead>\n",
       "<tr><td>122861877059169881</td><td>187.70591961</td><td>12.39112604</td><td>54</td><td>10</td><td>10</td><td>14</td><td>8</td><td>12</td><td>10.295</td><td>10.732</td><td>11.076</td><td>11.342</td><td>11.557</td></tr>\n",
       "<tr><td>122861877056308967</td><td>187.70559948</td><td>12.39030211</td><td>2</td><td>0</td><td>0</td><td>0</td><td>0</td><td>2</td><td>-999.0</td><td>-999.0</td><td>-999.0</td><td>-999.0</td><td>14.9985</td></tr>\n",
       "<tr><td>122871877063310741</td><td>187.70630472</td><td>12.39182315</td><td>3</td><td>0</td><td>2</td><td>0</td><td>1</td><td>0</td><td>-999.0</td><td>14.4229</td><td>-999.0</td><td>14.4249</td><td>-999.0</td></tr>\n",
       "<tr><td>122861877058698594</td><td>187.70580919</td><td>12.39013311</td><td>2</td><td>0</td><td>0</td><td>0</td><td>0</td><td>2</td><td>-999.0</td><td>-999.0</td><td>-999.0</td><td>-999.0</td><td>14.7305</td></tr>\n",
       "<tr><td>122861877050678994</td><td>187.70512805</td><td>12.39043743</td><td>5</td><td>2</td><td>2</td><td>1</td><td>0</td><td>0</td><td>17.0287</td><td>15.0843</td><td>16.169</td><td>-999.0</td><td>-999.0</td></tr>\n",
       "<tr><td>122871877062551436</td><td>187.70622365</td><td>12.39236505</td><td>2</td><td>0</td><td>0</td><td>0</td><td>0</td><td>2</td><td>-999.0</td><td>-999.0</td><td>-999.0</td><td>-999.0</td><td>15.1102</td></tr>\n",
       "<tr><td>122861877044629638</td><td>187.70451598</td><td>12.39086724</td><td>2</td><td>0</td><td>0</td><td>0</td><td>2</td><td>0</td><td>-999.0</td><td>-999.0</td><td>-999.0</td><td>15.5294</td><td>-999.0</td></tr>\n",
       "<tr><td>122861877056688054</td><td>187.70558996</td><td>12.38960002</td><td>2</td><td>0</td><td>0</td><td>0</td><td>2</td><td>0</td><td>-999.0</td><td>-999.0</td><td>-999.0</td><td>14.4064</td><td>-999.0</td></tr>\n",
       "<tr><td>122871877075050430</td><td>187.70747912</td><td>12.3915839</td><td>2</td><td>0</td><td>0</td><td>0</td><td>2</td><td>0</td><td>-999.0</td><td>-999.0</td><td>-999.0</td><td>15.5752</td><td>-999.0</td></tr>\n",
       "<tr><td>...</td><td>...</td><td>...</td><td>...</td><td>...</td><td>...</td><td>...</td><td>...</td><td>...</td><td>...</td><td>...</td><td>...</td><td>...</td><td>...</td></tr>\n",
       "<tr><td>123101877313707983</td><td>187.73121143</td><td>12.58941058</td><td>2</td><td>0</td><td>0</td><td>0</td><td>2</td><td>0</td><td>-999.0</td><td>-999.0</td><td>-999.0</td><td>19.9209</td><td>-999.0</td></tr>\n",
       "<tr><td>122901875031002013</td><td>187.50314403</td><td>12.41791089</td><td>37</td><td>7</td><td>10</td><td>11</td><td>7</td><td>2</td><td>21.2326</td><td>20.7473</td><td>20.5742</td><td>20.6803</td><td>20.2113</td></tr>\n",
       "<tr><td>122661878055210091</td><td>187.80550514</td><td>12.21628402</td><td>57</td><td>13</td><td>14</td><td>12</td><td>6</td><td>12</td><td>20.9059</td><td>20.3516</td><td>20.0699</td><td>19.9956</td><td>19.8391</td></tr>\n",
       "<tr><td>122631877536376320</td><td>187.75369336</td><td>12.19655761</td><td>2</td><td>0</td><td>0</td><td>0</td><td>2</td><td>0</td><td>-999.0</td><td>-999.0</td><td>-999.0</td><td>21.0599</td><td>-999.0</td></tr>\n",
       "<tr><td>123031875562633406</td><td>187.55622129</td><td>12.52734999</td><td>3</td><td>0</td><td>0</td><td>3</td><td>0</td><td>0</td><td>-999.0</td><td>-999.0</td><td>20.5518</td><td>-999.0</td><td>-999.0</td></tr>\n",
       "<tr><td>122681878343382931</td><td>187.834381</td><td>12.23524835</td><td>24</td><td>5</td><td>9</td><td>6</td><td>4</td><td>0</td><td>22.0912</td><td>21.7042</td><td>21.3068</td><td>21.0164</td><td>-999.0</td></tr>\n",
       "<tr><td>123061878259604285</td><td>187.82588872</td><td>12.55313763</td><td>2</td><td>1</td><td>0</td><td>1</td><td>0</td><td>0</td><td>21.9049</td><td>-999.0</td><td>21.4564</td><td>-999.0</td><td>-999.0</td></tr>\n",
       "<tr><td>123001875376856622</td><td>187.53784864</td><td>12.5051674</td><td>4</td><td>0</td><td>3</td><td>1</td><td>0</td><td>0</td><td>-999.0</td><td>21.1887</td><td>21.1419</td><td>-999.0</td><td>-999.0</td></tr>\n",
       "<tr><td>122751878844752179</td><td>187.88446998</td><td>12.29301648</td><td>77</td><td>16</td><td>24</td><td>14</td><td>11</td><td>12</td><td>21.4623</td><td>20.3555</td><td>20.1394</td><td>20.0368</td><td>19.8008</td></tr>\n",
       "<tr><td>123101876640214622</td><td>187.66398441</td><td>12.58674517</td><td>3</td><td>0</td><td>0</td><td>2</td><td>1</td><td>0</td><td>-999.0</td><td>-999.0</td><td>21.8531</td><td>21.6726</td><td>-999.0</td></tr>\n",
       "</table>"
      ],
      "text/plain": [
       "<Table masked=True length=6927>\n",
       "      objID           RAMean      DecMean   ... zMeanPSFMag yMeanPSFMag\n",
       "                       deg          deg     ...     mag         mag    \n",
       "      int64          float64      float64   ...   float32     float32  \n",
       "------------------ ------------ ----------- ... ----------- -----------\n",
       "122861877059169881 187.70591961 12.39112604 ...      11.342      11.557\n",
       "122861877056308967 187.70559948 12.39030211 ...      -999.0     14.9985\n",
       "122871877063310741 187.70630472 12.39182315 ...     14.4249      -999.0\n",
       "122861877058698594 187.70580919 12.39013311 ...      -999.0     14.7305\n",
       "122861877050678994 187.70512805 12.39043743 ...      -999.0      -999.0\n",
       "122871877062551436 187.70622365 12.39236505 ...      -999.0     15.1102\n",
       "122861877044629638 187.70451598 12.39086724 ...     15.5294      -999.0\n",
       "122861877056688054 187.70558996 12.38960002 ...     14.4064      -999.0\n",
       "122871877075050430 187.70747912  12.3915839 ...     15.5752      -999.0\n",
       "               ...          ...         ... ...         ...         ...\n",
       "123101877313707983 187.73121143 12.58941058 ...     19.9209      -999.0\n",
       "122901875031002013 187.50314403 12.41791089 ...     20.6803     20.2113\n",
       "122661878055210091 187.80550514 12.21628402 ...     19.9956     19.8391\n",
       "122631877536376320 187.75369336 12.19655761 ...     21.0599      -999.0\n",
       "123031875562633406 187.55622129 12.52734999 ...      -999.0      -999.0\n",
       "122681878343382931   187.834381 12.23524835 ...     21.0164      -999.0\n",
       "123061878259604285 187.82588872 12.55313763 ...      -999.0      -999.0\n",
       "123001875376856622 187.53784864  12.5051674 ...      -999.0      -999.0\n",
       "122751878844752179 187.88446998 12.29301648 ...     20.0368     19.8008\n",
       "123101876640214622 187.66398441 12.58674517 ...     21.6726      -999.0"
      ]
     },
     "execution_count": 4,
     "metadata": {},
     "output_type": "execute_result"
    }
   ],
   "source": [
    "job = TAP_service.launch_job_async(\"\"\"\n",
    "SELECT objID, RAMean, DecMean, nDetections, ng, nr, ni, nz, ny, gMeanPSFMag, rMeanPSFMag, iMeanPSFMag, zMeanPSFMag, yMeanPSFMag\n",
    "FROM dbo.MeanObjectView\n",
    "WHERE\n",
    "CONTAINS(POINT('ICRS', RAMean, DecMean),CIRCLE('ICRS',187.706,12.391,.2))=1\n",
    "AND nDetections > 1\n",
    "  \"\"\")\n",
    "TAP_results = job.get_results()\n",
    "TAP_results"
   ]
  },
  {
   "cell_type": "markdown",
   "metadata": {},
   "source": [
    "## Get DR2 light curve for RR Lyrae star KQ UMa\n",
    "\n",
    "This time we start with the object name, use the MAST name resolver (which relies on Simbad and NED) to convert the name to RA and Dec, and then query the PS1 DR2 mean object catalog at that position.  Then we run a spatial query to TAP using those coordinates."
   ]
  },
  {
   "cell_type": "code",
   "execution_count": 5,
   "metadata": {},
   "outputs": [
    {
     "ename": "NameError",
     "evalue": "name 'coord' is not defined",
     "output_type": "error",
     "traceback": [
      "\u001b[0;31m---------------------------------------------------------------------------\u001b[0m",
      "\u001b[0;31mNameError\u001b[0m                                 Traceback (most recent call last)",
      "\u001b[0;32m<ipython-input-5-91e514a36090>\u001b[0m in \u001b[0;36m<module>\u001b[0;34m\u001b[0m\n\u001b[1;32m     10\u001b[0m \u001b[0mCONTAINS\u001b[0m\u001b[0;34m(\u001b[0m\u001b[0mPOINT\u001b[0m\u001b[0;34m(\u001b[0m\u001b[0;34m'ICRS'\u001b[0m\u001b[0;34m,\u001b[0m \u001b[0mRAMean\u001b[0m\u001b[0;34m,\u001b[0m \u001b[0mDecMean\u001b[0m\u001b[0;34m)\u001b[0m\u001b[0;34m,\u001b[0m\u001b[0mCIRCLE\u001b[0m\u001b[0;34m(\u001b[0m\u001b[0;34m'ICRS'\u001b[0m\u001b[0;34m,\u001b[0m\u001b[0;34m{\u001b[0m\u001b[0;34m:\u001b[0m\u001b[0;34m.\u001b[0m\u001b[0mvalue\u001b[0m\u001b[0;34m}\u001b[0m\u001b[0;34m,\u001b[0m\u001b[0;34m{\u001b[0m\u001b[0;34m:\u001b[0m\u001b[0;34m.\u001b[0m\u001b[0mvalue\u001b[0m\u001b[0;34m}\u001b[0m\u001b[0;34m,\u001b[0m\u001b[0;34m{\u001b[0m\u001b[0;34m:\u001b[0m\u001b[0;34m.\u001b[0m\u001b[0mvalue\u001b[0m\u001b[0;34m}\u001b[0m\u001b[0;34m)\u001b[0m\u001b[0;34m)\u001b[0m\u001b[0;34m=\u001b[0m\u001b[0;36m1\u001b[0m\u001b[0;34m\u001b[0m\u001b[0;34m\u001b[0m\u001b[0m\n\u001b[1;32m     11\u001b[0m \u001b[0mAND\u001b[0m \u001b[0mnDetections\u001b[0m \u001b[0;34m>\u001b[0m \u001b[0;36m1\u001b[0m\u001b[0;34m\u001b[0m\u001b[0;34m\u001b[0m\u001b[0m\n\u001b[0;32m---> 12\u001b[0;31m \"\"\".format(coord.ra.deg, coord.dec.deg, radius.to(u.degree))\n\u001b[0m\u001b[1;32m     13\u001b[0m \u001b[0mprint\u001b[0m\u001b[0;34m(\u001b[0m\u001b[0mquery\u001b[0m\u001b[0;34m)\u001b[0m\u001b[0;34m\u001b[0m\u001b[0;34m\u001b[0m\u001b[0m\n\u001b[1;32m     14\u001b[0m \u001b[0;34m\u001b[0m\u001b[0m\n",
      "\u001b[0;31mNameError\u001b[0m: name 'coord' is not defined"
     ]
    }
   ],
   "source": [
    "objname = 'KQ UMa'\n",
    "coords = SkyCoord.from_name(objname)\n",
    "radius = 1.0 * u.arcsec\n",
    "\n",
    "query = \"\"\"\n",
    "SELECT objID, RAMean, DecMean, nDetections, ng, nr, ni, nz, ny, gMeanPSFMag, \n",
    "    rMeanPSFMag, iMeanPSFMag, zMeanPSFMag, yMeanPSFMag\n",
    "FROM dbo.MeanObjectView\n",
    "WHERE\n",
    "CONTAINS(POINT('ICRS', RAMean, DecMean),CIRCLE('ICRS',{:.value},{:.value},{:.value}))=1\n",
    "AND nDetections > 1\n",
    "\"\"\".format(coord.ra.deg, coord.dec.deg, radius.to(u.degree))\n",
    "print(query)\n",
    "\n",
    "job = TAP_service.launch_job_async(query)\n",
    "TAP_results = job.get_results()\n",
    "TAP_results"
   ]
  },
  {
   "cell_type": "markdown",
   "metadata": {},
   "source": [
    "### Get Repeated Detection Information\n",
    "\n",
    "Extract all the objects with the same object ID from the [Detection](https://outerspace.stsci.edu/x/b4Oc) table, which contains all the individual measurements for this source. The results are joined to the [Filter](https://outerspace.stsci.edu/x/nIOc) table to convert the filter numbers to names."
   ]
  },
  {
   "cell_type": "code",
   "execution_count": null,
   "metadata": {
    "scrolled": false
   },
   "outputs": [],
   "source": [
    "objid = TAP_results['objID'][0]\n",
    "query = \"\"\"\n",
    "SELECT\n",
    "    objID, detectID, Detection.filterID as filterID, Filter.filterType, obsTime, ra, dec,\n",
    "    psfFlux, psfFluxErr, psfMajorFWHM, psfMinorFWHM, psfQfPerfect, \n",
    "    apFlux, apFluxErr, infoFlag, infoFlag2, infoFlag3\n",
    "FROM Detection\n",
    "NATURAL JOIN Filter\n",
    "WHERE objID={}\n",
    "ORDER BY filterID, obsTime\n",
    "\"\"\".format(objid)\n",
    "print(query)\n",
    "\n",
    "job = TAP_service.launch_job_async(query)\n",
    "detection_TAP_results = job.get_results()\n",
    "detection_TAP_results"
   ]
  },
  {
   "cell_type": "markdown",
   "metadata": {},
   "source": [
    "### Plot the light curves\n",
    "\n",
    "The `psfFlux` values from the Detection table are converted from Janskys to AB magnitudes.  Measurements in the 5 different filters are plotted separately."
   ]
  },
  {
   "cell_type": "code",
   "execution_count": null,
   "metadata": {},
   "outputs": [],
   "source": [
    "# convert flux in Jy to magnitudes\n",
    "t = detection_TAP_results['obsTime']\n",
    "mag = -2.5*np.log10(detection_TAP_results['psfFlux']) + 8.90\n",
    "xlim = np.array([t.min(),t.max()])\n",
    "xlim = xlim + np.array([-1,1])*0.02*(xlim[1]-xlim[0])\n",
    "\n",
    "pylab.rcParams.update({'font.size': 14})\n",
    "pylab.figure(1,(10,10))\n",
    "\n",
    "#detection_TAP_results['filterType'] is a byte string, compare accordingly:\n",
    "for i, filter in enumerate([b'g',b'r',b'i',b'z',b'y']):\n",
    "    pylab.subplot(511+i)\n",
    "    w = np.where(detection_TAP_results['filterType']==filter)    \n",
    "    pylab.plot(t[w],mag[w],'-o')\n",
    "    pylab.ylabel(filter.decode('ascii')+' [mag]')\n",
    "    pylab.xlim(xlim)\n",
    "    pylab.gca().invert_yaxis()\n",
    "    if i==0:\n",
    "        pylab.title(objname)\n",
    "        \n",
    "pylab.xlabel('Time [MJD]')\n",
    "pylab.tight_layout()"
   ]
  },
  {
   "cell_type": "markdown",
   "metadata": {},
   "source": [
    "Plot differences from the mean magnitudes in the initial search."
   ]
  },
  {
   "cell_type": "code",
   "execution_count": null,
   "metadata": {
    "scrolled": false
   },
   "outputs": [],
   "source": [
    "# convert flux in Jy to magnitudes\n",
    "t = detection_TAP_results['obsTime']\n",
    "mag = -2.5*np.log10(detection_TAP_results['psfFlux']) + 8.90\n",
    "xlim = np.array([t.min(),t.max()])\n",
    "xlim = xlim + np.array([-1,1])*0.02*(xlim[1]-xlim[0])\n",
    "\n",
    "pylab.rcParams.update({'font.size': 14})\n",
    "pylab.figure(1,(10,10))\n",
    "\n",
    "#detection_TAP_results['filterType'] is a byte string, compare accordingly:\n",
    "for i, filter in enumerate([b'g',b'r',b'i',b'z',b'y']):\n",
    "    pylab.subplot(511+i)\n",
    "    w = np.where(detection_TAP_results['filterType']==filter)\n",
    "    magmean = TAP_results[filter.decode('ascii')+'MeanPSFMag'][0]\n",
    "    pylab.plot(t[w],mag[w] - magmean,'-o')\n",
    "    pylab.ylabel('{} [mag - {:.2f}]'.format(filter,magmean))\n",
    "    pylab.xlim(xlim)\n",
    "    pylab.gca().invert_yaxis()\n",
    "    if i==0:\n",
    "        pylab.title(objname)\n",
    "        \n",
    "pylab.xlabel('Time [MJD]')\n",
    "pylab.tight_layout()"
   ]
  },
  {
   "cell_type": "markdown",
   "metadata": {},
   "source": [
    "### Identify bad data\n",
    "\n",
    "There is one clearly bad $z$ magnitude with a very large difference.  Select the bad point and look at it in more detail.\n",
    "\n",
    "Note that indexing a table (or numpy array) with a logical expression selects just the rows where that expression is true."
   ]
  },
  {
   "cell_type": "code",
   "execution_count": null,
   "metadata": {
    "scrolled": false
   },
   "outputs": [],
   "source": [
    "detection_TAP_results[ (detection_TAP_results['filterType']=='z') & (np.abs(mag-TAP_results['zMeanPSFMag'][0]) > 2) ]"
   ]
  },
  {
   "cell_type": "markdown",
   "metadata": {},
   "source": [
    "From examining this table, it looks like `psfQfPerfect` is bad.  This flag is the PSF-weighted fraction of unmasked pixels in the image (see the [documentation](https://outerspace.stsci.edu/x/IoOc) for more details). Values near unity indicate good data that is not significantly affected by bad pixels.\n",
    "\n",
    "Check all the `psfQfPerfect` values for the $z$ filter to see if this value really is unusual.  The list of values below are sorted by magnitude.  The bad point is the only value with `psfQfPerfect` < 0.95."
   ]
  },
  {
   "cell_type": "code",
   "execution_count": null,
   "metadata": {},
   "outputs": [],
   "source": [
    "w = np.where(detection_TAP_results['filterType']=='z')\n",
    "zdtab = detection_TAP_results[w]\n",
    "zdtab['mag'] = mag[w]\n",
    "zdtab['dmag'] = zdtab['mag'] - TAP_results['zMeanPSFMag'][0]\n",
    "ii = np.argsort(-np.abs(zdtab['dmag']))\n",
    "zdtab = zdtab[ii]\n",
    "zdtab['objID','obsTime','mag','dmag','psfQfPerfect']"
   ]
  },
  {
   "cell_type": "markdown",
   "metadata": {},
   "source": [
    "### Repeat the plot with bad psfQfPerfect values excluded\n",
    "\n",
    "Do the plot again but exclude low psfQfPerfect values."
   ]
  },
  {
   "cell_type": "code",
   "execution_count": null,
   "metadata": {},
   "outputs": [],
   "source": [
    "# convert flux in Jy to magnitudes\n",
    "t = detection_TAP_results['obsTime']\n",
    "mag = -2.5*np.log10(detection_TAP_results['psfFlux']) + 8.90\n",
    "magmean = 0.0*mag\n",
    "for i, filter in enumerate([b'g',b'r',b'i',b'z',b'y']):\n",
    "    magmean[detection_TAP_results['filterType']==filter] = TAP_results[filter.decode('ascii')+'MeanPSFMag'][0]\n",
    "\n",
    "dmag = mag - magmean\n",
    "dmag1 = dmag[detection_TAP_results['psfQfPerfect']>0.9]\n",
    "# fix the x and y axis ranges\n",
    "xlim = np.array([t.min(),t.max()])\n",
    "xlim = xlim + np.array([-1,1])*0.02*(xlim[1]-xlim[0])\n",
    "# flip axis direction for magnitude\n",
    "ylim = np.array([dmag1.max(),dmag1.min()])\n",
    "ylim = ylim + np.array([-1,1])*0.02*(ylim[1]-ylim[0])\n",
    "\n",
    "pylab.rcParams.update({'font.size': 14})\n",
    "pylab.figure(1,(10,10))\n",
    "\n",
    "for i, filter in enumerate([b'g',b'r',b'i',b'z',b'y']):\n",
    "    pylab.subplot(511+i)\n",
    "    w = np.where((detection_TAP_results['filterType']==filter) & (detection_TAP_results['psfQfPerfect']>0.9))[0]\n",
    "    pylab.plot(t[w],dmag[w],'-o')\n",
    "    pylab.ylabel('{} [mag - {:.2f}]'.format(filter,magmean[w[0]]))\n",
    "    pylab.xlim(xlim)\n",
    "    pylab.ylim(ylim)\n",
    "    if i==0:\n",
    "        pylab.title(objname)\n",
    "        \n",
    "pylab.xlabel('Time [MJD]')\n",
    "pylab.tight_layout()"
   ]
  },
  {
   "cell_type": "markdown",
   "metadata": {},
   "source": [
    "### Plot versus the periodic phase instead of epoch\n",
    "\n",
    "Plot versus phase using known RR Lyr period from Simbad (table [J/AJ/132/1202/table4](http://vizier.u-strasbg.fr/viz-bin/VizieR-3?-source=J/AJ/132/1202/table4&-c=KQ%20UMa&-c.u=arcmin&-c.r=2&-c.eq=J2000&-c.geom=r&-out.max=50&-out.form=HTML%20Table&-oc.form=sexa))."
   ]
  },
  {
   "cell_type": "code",
   "execution_count": null,
   "metadata": {},
   "outputs": [],
   "source": [
    "period = 0.48636 #days, from Simbad\n",
    "# convert flux in Jy to magnitudes\n",
    "t = (detection_TAP_results['obsTime'] % period) / period\n",
    "mag = -2.5*np.log10(detection_TAP_results['psfFlux']) + 8.90\n",
    "magmean = 0.0*mag\n",
    "for i, filter in enumerate([b'g',b'r',b'i',b'z',b'y']):\n",
    "    magmean[detection_TAP_results['filterType']==filter] = TAP_results[filter.decode('ascii')+'MeanPSFMag'][0]\n",
    "    \n",
    "dmag = mag - magmean\n",
    "dmag1 = dmag[detection_TAP_results['psfQfPerfect']>0.9]\n",
    "# fix the x and y axis ranges\n",
    "xlim = np.array([t.min(),t.max()])\n",
    "xlim = xlim + np.array([-1,1])*0.02*(xlim[1]-xlim[0])\n",
    "# flip axis direction for magnitude\n",
    "ylim = np.array([dmag1.max(),dmag1.min()])\n",
    "ylim = ylim + np.array([-1,1])*0.02*(ylim[1]-ylim[0])\n",
    "\n",
    "pylab.rcParams.update({'font.size': 14})\n",
    "pylab.figure(1,(10,10))\n",
    "\n",
    "for i, filter in enumerate([b'g',b'r',b'i',b'z',b'y']):\n",
    "    pylab.subplot(511+i)\n",
    "    w = np.where((detection_TAP_results['filterType']==filter) & (detection_TAP_results['psfQfPerfect']>0.9))[0]\n",
    "    w = w[np.argsort(t[w])]\n",
    "    pylab.plot(t[w],dmag[w],'-o')\n",
    "    pylab.ylabel('{} [mag - {:.2f}]'.format(filter,magmean[w[0]]))\n",
    "    pylab.xlim(xlim)\n",
    "    pylab.ylim(ylim)\n",
    "    if i==0:\n",
    "        pylab.title(objname)\n",
    "        \n",
    "pylab.xlabel('Phase')\n",
    "pylab.tight_layout()"
   ]
  },
  {
   "cell_type": "markdown",
   "metadata": {},
   "source": [
    "## Repeat search using eclipsing binary KIC 2161623\n",
    "\n",
    "From [Villanova Kepler Eclipsing Binaries](http://keplerebs.villanova.edu)"
   ]
  },
  {
   "cell_type": "code",
   "execution_count": null,
   "metadata": {},
   "outputs": [],
   "source": [
    "objname = 'KIC 2161623'\n",
    "coords = Mast._resolve_object(objname)\n",
    "ra,dec = coords.ra.value,coords.dec.value\n",
    "radius = 1.0/3600.0 # radius = 1 arcsec\n",
    "\n",
    "query = \"\"\"\n",
    "SELECT objID, RAMean, DecMean, nDetections, ng, nr, ni, nz, ny, gMeanPSFMag, rMeanPSFMag, iMeanPSFMag, zMeanPSFMag, yMeanPSFMag\n",
    "FROM dbo.MeanObjectView\n",
    "WHERE\n",
    "CONTAINS(POINT('ICRS', RAMean, DecMean),CIRCLE('ICRS',{},{},{}))=1\n",
    "AND nDetections > 1\n",
    "\"\"\".format(ra,dec,radius)\n",
    "print(query)\n",
    "\n",
    "job = TAP_service.launch_job_async(query)\n",
    "TAP_results = job.get_results()\n",
    "TAP_results"
   ]
  },
  {
   "cell_type": "markdown",
   "metadata": {},
   "source": [
    "### Get Repeated Detection Information\n",
    "\n",
    "This time include the `psfQfPerfect` limit directly in the database query."
   ]
  },
  {
   "cell_type": "code",
   "execution_count": null,
   "metadata": {},
   "outputs": [],
   "source": [
    "objid = TAP_results['objID'][0]\n",
    "\n",
    "query = \"\"\"\n",
    "SELECT\n",
    "    objID, detectID, Detection.filterID as filterID, Filter.filterType, obsTime, ra, dec,\n",
    "    psfFlux, psfFluxErr, psfMajorFWHM, psfMinorFWHM, psfQfPerfect, \n",
    "    apFlux, apFluxErr, infoFlag, infoFlag2, infoFlag3\n",
    "FROM Detection\n",
    "NATURAL JOIN Filter\n",
    "WHERE objID={}\n",
    "AND psfQfPerfect >= 0.9\n",
    "ORDER BY filterID, obsTime\n",
    "\"\"\".format(objid)\n",
    "print(query)\n",
    "\n",
    "job = TAP_service.launch_job_async(query)\n",
    "detection_TAP_results = job.get_results()\n",
    "\n",
    "# add magnitude and difference from mean\n",
    "detection_TAP_results['magmean'] = 0.0\n",
    "for i, filter in enumerate([b'g',b'r',b'i',b'z',b'y']):\n",
    "    detection_TAP_results['magmean'][detection_TAP_results['filterType']==filter] = TAP_results[filter.decode('ascii')+'MeanPSFMag'][0]\n",
    "detection_TAP_results['mag'] = -2.5*np.log10(detection_TAP_results['psfFlux']) + 8.90\n",
    "detection_TAP_results['dmag'] = detection_TAP_results['mag']-detection_TAP_results['magmean']\n",
    "\n",
    "detection_TAP_results"
   ]
  },
  {
   "cell_type": "code",
   "execution_count": null,
   "metadata": {},
   "outputs": [],
   "source": [
    "t = detection_TAP_results['obsTime']\n",
    "dmag = detection_TAP_results['dmag']\n",
    "xlim = np.array([t.min(),t.max()])\n",
    "xlim = xlim + np.array([-1,1])*0.02*(xlim[1]-xlim[0])\n",
    "ylim = np.array([dmag.max(),dmag.min()])\n",
    "ylim = ylim + np.array([-1,1])*0.02*(ylim[1]-ylim[0])\n",
    "\n",
    "pylab.rcParams.update({'font.size': 14})\n",
    "pylab.figure(1,(10,10))\n",
    "\n",
    "for i, filter in enumerate([b'g',b'r',b'i',b'z',b'y']):\n",
    "    pylab.subplot(511+i)\n",
    "    w = np.where(detection_TAP_results['filterType']==filter)[0]\n",
    "    pylab.plot(t[w],dmag[w],'-o')\n",
    "    magmean = detection_TAP_results['magmean'][w[0]]\n",
    "    pylab.ylabel('{} [mag - {:.2f}]'.format(filter,magmean))\n",
    "    pylab.xlim(xlim)\n",
    "    pylab.ylim(ylim)\n",
    "    if i==0:\n",
    "        pylab.title(objname)\n",
    "        \n",
    "pylab.xlabel('Time [MJD]')\n",
    "pylab.tight_layout()"
   ]
  },
  {
   "cell_type": "markdown",
   "metadata": {},
   "source": [
    "### Plot versus phase using known period\n",
    "\n",
    "Eclipsing binaries basically vary by same amount in all filters since it is a geometrical effect, so combine the data into a single light curve.  Wrap using known period and plot versus phase."
   ]
  },
  {
   "cell_type": "code",
   "execution_count": null,
   "metadata": {},
   "outputs": [],
   "source": [
    "period = 2.2834698\n",
    "bjd0 = 54999.599837\n",
    "t = ((detection_TAP_results['obsTime']-bjd0) % period) / period\n",
    "dmag = detection_TAP_results['dmag']\n",
    "w = np.argsort(t)\n",
    "t = t[w]\n",
    "dmag = dmag[w]\n",
    "xlim = np.array([t.min(),t.max()])\n",
    "xlim = xlim + np.array([-1,1])*0.02*(xlim[1]-xlim[0])\n",
    "ylim = np.array([dmag.max(),dmag.min()])\n",
    "ylim = ylim + np.array([-1,1])*0.02*(ylim[1]-ylim[0])\n",
    "\n",
    "pylab.rcParams.update({'font.size': 14})\n",
    "pylab.figure(1,(10,6))\n",
    "pylab.plot(t,dmag,'-o')\n",
    "pylab.xlim(xlim)\n",
    "pylab.ylim(ylim)\n",
    "pylab.xlabel('Phase')\n",
    "pylab.ylabel('Delta magnitude from mean [mag]')\n",
    "pylab.title(objname)\n",
    "pylab.tight_layout()"
   ]
  },
  {
   "cell_type": "markdown",
   "metadata": {},
   "source": [
    "## Repeat search for another eclipsing binary KIC 8153568"
   ]
  },
  {
   "cell_type": "code",
   "execution_count": null,
   "metadata": {},
   "outputs": [],
   "source": [
    "objname = 'KIC 8153568'\n",
    "coords = Mast._resolve_object(objname)\n",
    "ra,dec = coords.ra.value,coords.dec.value\n",
    "radius = 1.0/3600.0 # radius = 1 arcsec\n",
    "\n",
    "query = \"\"\"\n",
    "SELECT objID, RAMean, DecMean, nDetections, ng, nr, ni, nz, ny, gMeanPSFMag, rMeanPSFMag, iMeanPSFMag, zMeanPSFMag, yMeanPSFMag\n",
    "FROM dbo.MeanObjectView\n",
    "WHERE\n",
    "CONTAINS(POINT('ICRS', RAMean, DecMean),CIRCLE('ICRS',{},{},{}))=1\n",
    "AND nDetections > 1\n",
    "\"\"\".format(ra,dec,radius)\n",
    "print(query)\n",
    "\n",
    "job = TAP_service.launch_job_async(query)\n",
    "TAP_results = job.get_results()\n",
    "TAP_results"
   ]
  },
  {
   "cell_type": "code",
   "execution_count": null,
   "metadata": {
    "scrolled": true
   },
   "outputs": [],
   "source": [
    "objid = TAP_results['objID'][0]\n",
    "query = \"\"\"\n",
    "SELECT\n",
    "    objID, detectID, Detection.filterID as filterID, Filter.filterType, obsTime, ra, dec,\n",
    "    psfFlux, psfFluxErr, psfMajorFWHM, psfMinorFWHM, psfQfPerfect, \n",
    "    apFlux, apFluxErr, infoFlag, infoFlag2, infoFlag3\n",
    "FROM Detection\n",
    "NATURAL JOIN Filter\n",
    "WHERE objID={}\n",
    "AND psfQfPerfect >= 0.9\n",
    "ORDER BY filterID, obsTime\n",
    "\"\"\".format(objid)\n",
    "print(query)\n",
    "\n",
    "job = TAP_service.launch_job_async(query)\n",
    "detection_TAP_results = job.get_results()\n",
    "\n",
    "# add magnitude and difference from mean\n",
    "detection_TAP_results['magmean'] = 0.0\n",
    "for i, filter in enumerate([b'g',b'r',b'i',b'z',b'y']):\n",
    "    detection_TAP_results['magmean'][detection_TAP_results['filterType']==filter] = TAP_results[filter.decode('ascii')+'MeanPSFMag'][0]\n",
    "detection_TAP_results['mag'] = -2.5*np.log10(detection_TAP_results['psfFlux']) + 8.90\n",
    "detection_TAP_results['dmag'] = detection_TAP_results['mag']-detection_TAP_results['magmean']\n",
    "\n",
    "detection_TAP_results"
   ]
  },
  {
   "cell_type": "code",
   "execution_count": null,
   "metadata": {},
   "outputs": [],
   "source": [
    "t = detection_TAP_results['obsTime']\n",
    "dmag = detection_TAP_results['dmag']\n",
    "xlim = np.array([t.min(),t.max()])\n",
    "xlim = xlim + np.array([-1,1])*0.02*(xlim[1]-xlim[0])\n",
    "ylim = np.array([dmag.max(),dmag.min()])\n",
    "ylim = ylim + np.array([-1,1])*0.02*(ylim[1]-ylim[0])\n",
    "\n",
    "pylab.rcParams.update({'font.size': 14})\n",
    "pylab.figure(1,(10,10))\n",
    "\n",
    "for i, filter in enumerate([b'g',b'r',b'i',b'z',b'y']):\n",
    "    pylab.subplot(511+i)\n",
    "    w = np.where(detection_TAP_results['filterType']==filter)[0]\n",
    "    pylab.plot(t[w],dmag[w],'-o')\n",
    "    magmean = detection_TAP_results['magmean'][w[0]]\n",
    "    pylab.ylabel('{} [mag - {:.2f}]'.format(filter,magmean))\n",
    "    pylab.xlim(xlim)\n",
    "    pylab.ylim(ylim)\n",
    "    if i==0:\n",
    "        pylab.title(objname)\n",
    "        \n",
    "pylab.xlabel('Time [MJD]')\n",
    "pylab.tight_layout()"
   ]
  },
  {
   "cell_type": "markdown",
   "metadata": {},
   "source": [
    "Eclipsing binaries basically vary by same amount in all filters since it is a geometrical effect, so combine the data into a single light curve.\n",
    "\n",
    "Wrap using known period and plot versus phase.  Plot two periods of the light curve this time.\n",
    "\n",
    "This nice light curve appears to show a secondary eclipse."
   ]
  },
  {
   "cell_type": "code",
   "execution_count": null,
   "metadata": {},
   "outputs": [],
   "source": [
    "period = 3.6071431\n",
    "bjd0 = 54999.289794\n",
    "t = ((detection_TAP_results['obsTime']-bjd0) % period) / period\n",
    "dmag = detection_TAP_results['dmag']\n",
    "w = np.argsort(t)\n",
    "# extend to two periods\n",
    "nw = len(w)\n",
    "w = np.append(w,w)\n",
    "t = t[w]\n",
    "# add one to second period\n",
    "t[-nw:] += 1\n",
    "dmag = dmag[w]\n",
    "xlim = [0,2.0]\n",
    "ylim = np.array([dmag.max(),dmag.min()])\n",
    "ylim = ylim + np.array([-1,1])*0.02*(ylim[1]-ylim[0])\n",
    "\n",
    "pylab.rcParams.update({'font.size': 14})\n",
    "pylab.figure(1,(12,6))\n",
    "pylab.plot(t,dmag,'-o')\n",
    "pylab.xlim(xlim)\n",
    "pylab.ylim(ylim)\n",
    "pylab.xlabel('Phase')\n",
    "pylab.ylabel('Delta magnitude from mean [mag]')\n",
    "pylab.title(objname)\n",
    "pylab.tight_layout()"
   ]
  },
  {
   "cell_type": "markdown",
   "metadata": {
    "collapsed": true
   },
   "source": [
    "***\n",
    "# Additional Resources\n",
    "\n",
    "\n",
    "## Table Access Protocol \n",
    "* IVOA standard for RESTful web service access to tabular data\n",
    "* http://www.ivoa.net/documents/TAP/\n",
    "\n",
    "## PanSTARRS 1 DR 2\n",
    "* Catalog for PanSTARRS with additional Detection information\n",
    "* https://outerspace.stsci.edu/display/PANSTARRS/\n",
    "\n",
    "## Astronomical Query Data Language (2.0)\n",
    "* IVOA standard for querying astronomical data in tabular format, with geometric search support\n",
    "* http://www.ivoa.net/documents/latest/ADQL.html\n",
    "\n",
    "## TapPlus \n",
    "* Module created by ESAC Space Data Centre\n",
    "* http://astroquery.readthedocs.io/en/latest/utils/tap.html"
   ]
  },
  {
   "cell_type": "markdown",
   "metadata": {},
   "source": [
    "***"
   ]
  },
  {
   "cell_type": "markdown",
   "metadata": {},
   "source": [
    "## About this Notebook\n",
    "**Authors:** Rick White & Theresa Dower, STScI Archive Scientist & Software Engineer\n",
    "**Updated On:** 02/27/2019"
   ]
  },
  {
   "cell_type": "markdown",
   "metadata": {},
   "source": [
    "***"
   ]
  },
  {
   "cell_type": "markdown",
   "metadata": {},
   "source": [
    "<img style=\"float: right;\" src=\"./stsci_pri_combo_mark_horizonal_white_bkgd.png\" alt=\"stsci_pri_combo_mark_horizonal_white_bkgd\" width=\"200px\"/> "
   ]
  }
 ],
 "metadata": {
  "kernelspec": {
   "display_name": "Python 3",
   "language": "python",
   "name": "python3"
  },
  "language_info": {
   "codemirror_mode": {
    "name": "ipython",
    "version": 3
   },
   "file_extension": ".py",
   "mimetype": "text/x-python",
   "name": "python",
   "nbconvert_exporter": "python",
   "pygments_lexer": "ipython3",
   "version": "3.7.1"
  },
  "widgets": {
   "state": {},
   "version": "1.1.2"
  }
 },
 "nbformat": 4,
 "nbformat_minor": 1
}
